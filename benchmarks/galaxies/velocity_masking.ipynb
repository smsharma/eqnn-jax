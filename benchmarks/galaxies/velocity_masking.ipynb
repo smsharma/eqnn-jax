{
 "cells": [
  {
   "cell_type": "code",
   "execution_count": 1,
   "metadata": {},
   "outputs": [],
   "source": [
    "import sys\n",
    "sys.path.append('../../')"
   ]
  },
  {
   "cell_type": "code",
   "execution_count": 2,
   "metadata": {},
   "outputs": [],
   "source": [
    "from functools import partial\n",
    "from tqdm import trange\n",
    "from typing import Dict\n",
    "\n",
    "import numpy as np\n",
    "import jax\n",
    "\n",
    "import matplotlib.pyplot as plt\n",
    "import jax.numpy as jnp"
   ]
  },
  {
   "cell_type": "code",
   "execution_count": 3,
   "metadata": {},
   "outputs": [],
   "source": [
    "import flax\n",
    "import flax.linen as nn\n",
    "from flax.training.train_state import TrainState\n",
    "import optax\n",
    "import e3nn_jax as e3nn\n",
    "\n",
    "from models.gnn import GNN\n",
    "from models.segnn import SEGNN\n",
    "from models.utils.graph_utils import build_graph"
   ]
  },
  {
   "cell_type": "code",
   "execution_count": null,
   "metadata": {},
   "outputs": [
    {
     "name": "stderr",
     "output_type": "stream",
     "text": [
      "2024-05-23 07:09:42.574583: W tensorflow/compiler/tf2tensorrt/utils/py_utils.cc:38] TF-TRT Warning: Could not find TensorRT\n"
     ]
    }
   ],
   "source": [
    "\n",
    "from dataset_large import get_halo_dataset"
   ]
  },
  {
   "cell_type": "code",
   "execution_count": null,
   "metadata": {},
   "outputs": [],
   "source": [
    "\n",
    "replicate = flax.jax_utils.replicate\n",
    "unreplicate = flax.jax_utils.unreplicate    "
   ]
  },
  {
   "cell_type": "code",
   "execution_count": null,
   "metadata": {},
   "outputs": [],
   "source": [
    "from models.utils.graph_utils import get_apply_pbc\n",
    "from models.gnn import GNN\n",
    "from models.segnn import SEGNN\n",
    "\n",
    "\n",
    "from models.utils.graph_utils import build_graph\n",
    "from models.utils.equivariant_graph_utils import get_equivariant_graph\n"
   ]
  },
  {
   "cell_type": "code",
   "execution_count": null,
   "metadata": {},
   "outputs": [],
   "source": [
    "import scienceplots\n",
    "plt.style.use('science')\n",
    "\n",
    "import matplotlib as mpl\n",
    "mpl.rcParams['figure.dpi'] = 300"
   ]
  },
  {
   "cell_type": "code",
   "execution_count": null,
   "metadata": {},
   "outputs": [],
   "source": [
    "\n",
    "training_set_size = 15_000  "
   ]
  },
  {
   "cell_type": "code",
   "execution_count": null,
   "metadata": {},
   "outputs": [
    {
     "name": "stderr",
     "output_type": "stream",
     "text": [
      "2024-05-23 07:10:46.495515: W external/local_xla/xla/service/gpu/llvm_gpu_backend/gpu_backend_lib.cc:510] Can't find libdevice directory ${CUDA_DIR}/nvvm/libdevice. This may result in compilation or runtime failures, if the program we try to run uses routines from libdevice.\n",
      "Searched for CUDA in the following directories:\n",
      "  ./cuda_sdk_lib\n",
      "  /usr/local/cuda-12.3\n",
      "  /usr/local/cuda\n",
      "  /global/homes/c/cuesta/.conda/envs/jax_env/lib/python3.9/site-packages/tensorflow/python/platform/../../../nvidia/cuda_nvcc\n",
      "  /global/homes/c/cuesta/.conda/envs/jax_env/lib/python3.9/site-packages/tensorflow/python/platform/../../../../nvidia/cuda_nvcc\n",
      "  .\n",
      "You can choose the search directory by setting xla_gpu_cuda_data_dir in HloModule's DebugOptions.  For most apps, setting the environment variable XLA_FLAGS=--xla_gpu_cuda_data_dir=/path/to/cuda will work.\n"
     ]
    }
   ],
   "source": [
    "features = ['x', 'y', 'z', 'vx', 'vy', 'vz']  # ['x', 'y', 'z', 'Jx', 'Jy', 'Jz', 'vx', 'vy', 'vz', 'M200c']\n",
    "batch_size = 64\n",
    "\n",
    "tfrecords_path = '/pscratch/sd/c/cuesta/equivariance/bsq'\n",
    "\n",
    "dataset, num_total, mean, std, mean_params, std_params = get_halo_dataset(\n",
    "    tfrecords_path=tfrecords_path,\n",
    "    batch_size=batch_size,  \n",
    "    num_samples=training_set_size,  \n",
    "    split='train',  \n",
    "    return_mean_std=True,  \n",
    "    features=features,\n",
    ")\n",
    "std = np.array(std)\n",
    "train_iterator = iter(dataset)\n",
    "x_train, _ = next(train_iterator)\n",
    "\n",
    "\n",
    "# predict some velocities\n",
    "val_dataset, _ = get_halo_dataset(\n",
    "    batch_size=batch_size,\n",
    "    tfrecords_path=tfrecords_path,\n",
    "    num_samples=250, \n",
    "    split='val',\n",
    "    features=features,  \n",
    "    )\n",
    "val_iterator = iter(val_dataset)"
   ]
  },
  {
   "cell_type": "code",
   "execution_count": null,
   "metadata": {},
   "outputs": [
    {
     "name": "stdout",
     "output_type": "stream",
     "text": [
      "(64, 5000, 6)\n"
     ]
    }
   ],
   "source": [
    "x_val, _ = next(val_iterator)\n",
    "print(x_val.shape)"
   ]
  },
  {
   "cell_type": "code",
   "execution_count": null,
   "metadata": {},
   "outputs": [],
   "source": [
    "boxsize = 1000.\n",
    "use_pbcs = True\n",
    "apply_pbc = get_apply_pbc(std=std / boxsize,) if use_pbcs else None\n",
    "k = 10\n",
    "n_radial = 0 \n",
    "position_features = True\n",
    "use_3d_distances = False \n",
    "r_max = 0.6\n",
    "l_max = 1\n",
    "infill_value = -2."
   ]
  },
  {
   "cell_type": "code",
   "execution_count": null,
   "metadata": {},
   "outputs": [],
   "source": [
    "d_hidden = 128\n",
    "n_layers = 3\n",
    "message_passing_steps = 3\n",
    "message_passing_agg = 'sum'\n",
    "activation = 'gelu'\n",
    "readout_agg = 'mean'\n",
    "mlp_readout_widths = (4, 2, 2)\n",
    "residual = True\n",
    "GNN_PARAMS = {\n",
    "    \"d_hidden\": d_hidden,\n",
    "    \"n_layers\": n_layers,\n",
    "    \"message_passing_steps\": message_passing_steps,\n",
    "    \"message_passing_agg\": message_passing_agg,\n",
    "    \"activation\": activation,\n",
    "    \"norm\": \"none\",\n",
    "    \"task\": \"node\",\n",
    "    \"n_outputs\": 3,\n",
    "    \"readout_agg\": \"mean\",\n",
    "    \"mlp_readout_widths\": mlp_readout_widths,\n",
    "    \"position_features\": True,\n",
    "    \"residual\": residual,\n",
    "}\n",
    "SEGNN_PARAMS = {\n",
    "    \"d_hidden\": d_hidden,\n",
    "    \"n_layers\": n_layers,\n",
    "    \"message_passing_steps\": message_passing_steps,\n",
    "    \"message_passing_agg\": message_passing_agg,\n",
    "    \"scalar_activation\": activation,\n",
    "    \"gate_activation\": \"sigmoid\",\n",
    "    \"task\": \"node\",\n",
    "    \"output_irreps\": e3nn.Irreps(\"1x1o\"),\n",
    "    \"readout_agg\": \"mean\",\n",
    "    \"mlp_readout_widths\": mlp_readout_widths,\n",
    "    \"l_max_hidden\": 1,\n",
    "    \"hidden_irreps\": None,\n",
    "    \"residual\": residual,\n",
    "}\n",
    "    \n",
    "class GraphWrapperGNN(nn.Module):\n",
    "    param_dict: Dict\n",
    "    @nn.compact\n",
    "    def __call__(self, x):\n",
    "        return jax.vmap(GNN(**self.param_dict))(x)\n",
    "    \n",
    "\n",
    "gnn = GraphWrapperGNN(GNN_PARAMS, )"
   ]
  },
  {
   "cell_type": "code",
   "execution_count": null,
   "metadata": {},
   "outputs": [],
   "source": [
    "\n",
    "class GraphWrapper(nn.Module):\n",
    "    param_dict: Dict\n",
    "\n",
    "    @nn.compact\n",
    "    def __call__(self, x):\n",
    "\n",
    "        positions = e3nn.IrrepsArray(\"1o\", x.nodes[..., :3])\n",
    "        \n",
    "        if x.nodes.shape[-1] == 3:\n",
    "            nodes = e3nn.IrrepsArray(\"1o\", x.nodes[..., :])\n",
    "        else:\n",
    "            nodes = e3nn.IrrepsArray(\"1o + 1o\", x.nodes[..., :])\n",
    "        st_graph = get_equivariant_graph(\n",
    "            node_features=nodes,\n",
    "            positions=positions,\n",
    "            velocities=None,\n",
    "            steerable_velocities=False,\n",
    "            senders=x.senders,\n",
    "            receivers=x.receivers,\n",
    "            n_node=x.n_node,\n",
    "            n_edge=x.n_edge,\n",
    "            globals=x.globals,\n",
    "            edges=None,\n",
    "            lmax_attributes=l_max,\n",
    "            apply_pbc=apply_pbc,\n",
    "            n_radial_basis=n_radial,\n",
    "            r_max=r_max,\n",
    "        )\n",
    "        \n",
    "        return jax.vmap(SEGNN(**self.param_dict))(st_graph)\n",
    "segnn_model = GraphWrapper(SEGNN_PARAMS, )\n",
    "\n"
   ]
  },
  {
   "cell_type": "code",
   "execution_count": null,
   "metadata": {},
   "outputs": [],
   "source": [
    "SEGNN_PARAMS_l2 = SEGNN_PARAMS.copy()\n",
    "SEGNN_PARAMS_l2['l_max_hidden'] = 2\n",
    "segnn_model_lmax2 = GraphWrapper(SEGNN_PARAMS_l2, )\n"
   ]
  },
  {
   "cell_type": "code",
   "execution_count": null,
   "metadata": {},
   "outputs": [],
   "source": [
    "fixed_build_graph = lambda x: build_graph(\n",
    "    x,\n",
    "    None, \n",
    "    k=k, \n",
    "    apply_pbc=apply_pbc,\n",
    "    use_edges=True, \n",
    "    n_radial_basis=n_radial,\n",
    "    r_max=r_max,\n",
    "    use_3d_distances=use_3d_distances,\n",
    ")"
   ]
  },
  {
   "cell_type": "code",
   "execution_count": null,
   "metadata": {},
   "outputs": [],
   "source": [
    "def loss_mse(pred_batch, halo_batch, mask):\n",
    "    # Only compute MSE based on mask (values which are 1)\n",
    "    if isinstance(pred_batch, e3nn.IrrepsArray):\n",
    "        pred_batch = pred_batch.array  # Euclidean distance is preserved by MSE, so we are safe doing this\n",
    "    return jnp.sum(\n",
    "        jnp.where(\n",
    "            mask, \n",
    "            (pred_batch - halo_batch[..., 3:6]) ** 2, \n",
    "            0.)\n",
    "        ) / jnp.sum(mask)\n",
    "\n",
    "@partial(jax.pmap, axis_name=\"batch\",)\n",
    "def train_step(state, halo_batch_masked, halo_batch, mask):\n",
    "\n",
    "    # Set those velocities in x_batch (only indices 3:6 of last dimension of x_batch) to 0\n",
    "    halo_graph = fixed_build_graph(\n",
    "        halo_batch_masked,\n",
    "    )\n",
    "\n",
    "    def loss_fn(params):\n",
    "        outputs = state.apply_fn(params, halo_graph)\n",
    "        loss = loss_mse(outputs.nodes, halo_batch, mask)\n",
    "        return loss\n",
    "\n",
    "    # Get loss, grads, and update state\n",
    "    loss, grads = jax.value_and_grad(loss_fn)(state.params)\n",
    "    grads = jax.lax.pmean(grads, \"batch\")\n",
    "    new_state = state.apply_gradients(grads=grads)\n",
    "    metrics = {\"loss\": jax.lax.pmean(loss, \"batch\")}\n",
    "    \n",
    "    return new_state, metrics"
   ]
  },
  {
   "cell_type": "code",
   "execution_count": null,
   "metadata": {},
   "outputs": [],
   "source": [
    "from flax.training import checkpoints\n",
    "from pathlib import Path\n",
    "\n",
    "def train_model(train_iterator, model, n_steps=2000, fraction_masked=0.1,num_local_devices=1,save_model=False,ckpt_dir=Path('velocity_task')):    \n",
    "    lr = optax.cosine_decay_schedule(3e-4, n_steps)\n",
    "    tx = optax.adamw(learning_rate=lr, weight_decay=1e-5)\n",
    "\n",
    "    x_train, _ = next(train_iterator)\n",
    "    graph = fixed_build_graph(\n",
    "        jnp.array(x_train[:2]), \n",
    "    )\n",
    "    _, params = model.init_with_output(jax.random.PRNGKey(0), graph)\n",
    "    state = TrainState.create(apply_fn=model.apply, params=params, tx=tx)\n",
    "    pstate = replicate(state)\n",
    "    # Number of parameters\n",
    "    print(f\"Number of parameters: {sum([p.size for p in jax.tree.leaves(params)])}\")\n",
    "    key = jax.random.PRNGKey(0)\n",
    "    train_loss = []\n",
    "    with trange(n_steps) as steps:\n",
    "        for step in steps:\n",
    "            key, subkey = jax.random.split(key)\n",
    "            x_batch, _ = next(train_iterator)\n",
    "            x_batch = jnp.array(x_batch)\n",
    "            mask = jax.random.bernoulli(\n",
    "                key,\n",
    "                fraction_masked, \n",
    "                shape=(len(x_batch), x_batch.shape[1], 1),\n",
    "            )\n",
    "            # Set those velocities in x_batch (indices 3:6 of last dimension) to 0\n",
    "            x_batch_masked = x_batch.at[:, :, 3:6].set(\n",
    "                jnp.where(mask, infill_value, x_batch[:, :, 3:6])\n",
    "            )\n",
    "            # Split batches across devices\n",
    "            x_batch_masked = jax.tree.map(lambda x: np.split(x, num_local_devices, axis=0), x_batch_masked)\n",
    "            x_batch_masked = jnp.array(x_batch_masked)\n",
    "\n",
    "            x_batch = jax.tree.map(lambda x: np.split(x, num_local_devices, axis=0), x_batch)\n",
    "            x_batch = jnp.array(x_batch)\n",
    "\n",
    "            mask = jax.tree.map(lambda x: np.split(x, num_local_devices, axis=0), mask)\n",
    "            mask = jnp.array(mask)\n",
    "\n",
    "            pstate, metrics = train_step(pstate, x_batch_masked, x_batch, mask)\n",
    "\n",
    "            loss = unreplicate(metrics[\"loss\"])\n",
    "            train_loss.append(loss)\n",
    "            \n",
    "            steps.set_postfix(loss=loss)\n",
    "    pstate = unreplicate(pstate)\n",
    "    if save_model:\n",
    "        ckpt_dir.mkdir(parents=True, exist_ok=True)\n",
    "        checkpoints.save_checkpoint(ckpt_dir=str(ckpt_dir), target=pstate, step=step, overwrite=True,)\n",
    "        np.save(f'{ckpt_dir}/train_loss.npy', train_loss)\n",
    "    return train_loss, pstate.params "
   ]
  },
  {
   "cell_type": "code",
   "execution_count": null,
   "metadata": {},
   "outputs": [],
   "source": [
    "n_steps = 2000\n",
    "fraction_masked = 0.1\n",
    "num_local_devices = jax.local_device_count()"
   ]
  },
  {
   "cell_type": "code",
   "execution_count": null,
   "metadata": {},
   "outputs": [
    {
     "name": "stdout",
     "output_type": "stream",
     "text": [
      "Number of parameters: 400672\n"
     ]
    },
    {
     "name": "stderr",
     "output_type": "stream",
     "text": [
      "100%|██████████| 2000/2000 [16:06<00:00,  2.07it/s, loss=1.6862243] \n",
      "WARNING:absl:SaveArgs.aggregate is deprecated, please use custom TypeHandler (https://orbax.readthedocs.io/en/latest/custom_handlers.html#typehandler) or contact Orbax team to migrate before August 1st, 2024.\n"
     ]
    }
   ],
   "source": [
    "\n",
    "\n",
    "# train_loss_segnn, params_segnn = train_model(\n",
    "#     train_iterator, \n",
    "#     segnn_model, \n",
    "#     n_steps=n_steps, \n",
    "#     fraction_masked=fraction_masked, \n",
    "#     num_local_devices=num_local_devices,\n",
    "#     save_model=True,\n",
    "#     ckpt_dir=Path(f'/global/u1/c/cuesta/eqnn-jax/benchmarks/galaxies/velocity_task/segnn_{training_set_size}'),\n",
    "# )"
   ]
  },
  {
   "cell_type": "code",
   "execution_count": null,
   "metadata": {},
   "outputs": [
    {
     "name": "stdout",
     "output_type": "stream",
     "text": [
      "Number of parameters: 462723\n"
     ]
    },
    {
     "name": "stderr",
     "output_type": "stream",
     "text": [
      "100%|██████████| 2000/2000 [08:06<00:00,  4.11it/s, loss=2.322431] \n"
     ]
    }
   ],
   "source": [
    "\n",
    "\n",
    "# train_loss_gnn, params_gnn = train_model(\n",
    "#     train_iterator, \n",
    "#     gnn, \n",
    "#     n_steps=n_steps, \n",
    "#     fraction_masked=fraction_masked, \n",
    "#     num_local_devices=num_local_devices,\n",
    "#     save_model=True,\n",
    "#     ckpt_dir=Path(f'/global/u1/c/cuesta/eqnn-jax/benchmarks/galaxies/velocity_task/gnn_{training_set_size}'),\n",
    "# )"
   ]
  },
  {
   "cell_type": "code",
   "execution_count": null,
   "metadata": {},
   "outputs": [],
   "source": [
    "import numpy as np\n",
    "import matplotlib.pyplot as plt\n",
    "train_loss_segnn = np.load(f'/global/u1/c/cuesta/eqnn-jax/benchmarks/galaxies/velocity_task/segnn_{training_set_size}/train_loss.npy')\n",
    "train_loss_gnn = np.load(f'/global/u1/c/cuesta/eqnn-jax/benchmarks/galaxies/velocity_task/gnn_{training_set_size}/train_loss.npy')"
   ]
  },
  {
   "cell_type": "code",
   "execution_count": null,
   "metadata": {},
   "outputs": [
    {
     "data": {
      "text/plain": [
       "<matplotlib.legend.Legend at 0x7f2fa0138a90>"
      ]
     },
     "execution_count": 24,
     "metadata": {},
     "output_type": "execute_result"
    },
    {
     "data": {
      "image/png": "[encoded data removed]",
      "text/plain": [
       "<Figure size 640x480 with 1 Axes>"
      ]
     },
     "metadata": {},
     "output_type": "display_data"
    }
   ],
   "source": [
    "ds = 10\n",
    "plt.plot(np.convolve(train_loss_gnn, np.ones(ds)/ds, mode='valid'), label=\"GNN\")\n",
    "plt.plot(np.convolve(train_loss_segnn, np.ones(ds)/ds, mode='valid'), label=\"SEGNN (lmax=1)\")\n",
    "plt.ylabel('MSE masked velocities')\n",
    "plt.xlabel('Step')\n",
    "plt.ylim(0,5)\n",
    "plt.legend()"
   ]
  },
  {
   "cell_type": "code",
   "execution_count": null,
   "metadata": {},
   "outputs": [
    {
     "name": "stdout",
     "output_type": "stream",
     "text": [
      "Number of parameters: 400672\n"
     ]
    },
    {
     "name": "stderr",
     "output_type": "stream",
     "text": [
      "100%|██████████| 2000/2000 [15:43<00:00,  2.12it/s, loss=1.6040158]\n"
     ]
    }
   ],
   "source": [
    "train_loss_segnn_lmax2, params_segnn_lmax2 = train_model(\n",
    "    train_iterator, \n",
    "    segnn_model_lmax2, \n",
    "    n_steps=n_steps, \n",
    "    fraction_masked=fraction_masked, \n",
    "    num_local_devices=num_local_devices,\n",
    "    save_model=True,\n",
    "    ckpt_dir=Path(f'/global/u1/c/cuesta/eqnn-jax/benchmarks/galaxies/velocity_task/segnn_lmax2_{training_set_size}'),\n",
    ")"
   ]
  },
  {
   "cell_type": "code",
   "execution_count": null,
   "metadata": {},
   "outputs": [
    {
     "data": {
      "text/plain": [
       "<matplotlib.legend.Legend at 0x7f2f801861f0>"
      ]
     },
     "execution_count": 26,
     "metadata": {},
     "output_type": "execute_result"
    },
    {
     "data": {
      "image/png": "[encoded data removed]",
      "text/plain": [
       "<Figure size 640x480 with 1 Axes>"
      ]
     },
     "metadata": {},
     "output_type": "display_data"
    }
   ],
   "source": [
    "ds = 10\n",
    "plt.plot(np.convolve(train_loss_gnn, np.ones(ds)/ds, mode='valid'), label=\"GNN\")\n",
    "plt.plot(np.convolve(train_loss_segnn, np.ones(ds)/ds, mode='valid'), label=\"SEGNN (lmax=1)\")\n",
    "plt.plot(np.convolve(train_loss_segnn_lmax2, np.ones(ds)/ds, mode='valid'), label=\"SEGNN (lmax=2)\")\n",
    "plt.ylabel('MSE masked velocities')\n",
    "plt.xlabel('Step')\n",
    "plt.ylim(0,5)\n",
    "plt.legend()"
   ]
  },
  {
   "cell_type": "code",
   "execution_count": 31,
   "metadata": {},
   "outputs": [],
   "source": [
    "def evaluate(model, params, val_iterator):\n",
    "    #n_steps = len(val_dataset) // batch_size\n",
    "    n_steps = 2\n",
    "    val_loss = 0.\n",
    "    key = jax.random.PRNGKey(0)\n",
    "    for _ in range(n_steps):\n",
    "        key, subkey = jax.random.split(key)\n",
    "        x_batch, _ = next(val_iterator)\n",
    "        x_batch = jnp.array(x_batch)\n",
    "        mask = jax.random.bernoulli(\n",
    "            key,\n",
    "            fraction_masked, \n",
    "            shape=(len(x_batch), x_batch.shape[1], 1)\n",
    "        )\n",
    "        x_batch_masked= x_batch.at[:, :, 3:6].set(\n",
    "            jnp.where(mask, infill_value, x_batch[:, :, 3:6])\n",
    "        )\n",
    "        graph = fixed_build_graph(\n",
    "            x_batch_masked,\n",
    "        )\n",
    "        pred = jax.jit(model.apply)(params, graph)\n",
    "        pred = pred.nodes\n",
    "        if isinstance(pred, e3nn.IrrepsArray):\n",
    "            pred = pred.array\n",
    "        val_loss += loss_mse(pred, x_batch, mask)\n",
    "        plt.scatter(\n",
    "            x_batch[mask[...,0], -1], \n",
    "            pred[mask[...,0], -1], \n",
    "            s=2, \n",
    "            color='firebrick', \n",
    "            alpha=0.1)\n",
    "    plt.show()\n",
    "    return val_loss / n_steps"
   ]
  },
  {
   "cell_type": "code",
   "execution_count": 32,
   "metadata": {},
   "outputs": [
    {
     "ename": "UnboundLocalError",
     "evalue": "local variable 'key' referenced before assignment",
     "output_type": "error",
     "traceback": [
      "\u001b[0;31m---------------------------------------------------------------------------\u001b[0m",
      "\u001b[0;31mUnboundLocalError\u001b[0m                         Traceback (most recent call last)",
      "Cell \u001b[0;32mIn[32], line 1\u001b[0m\n\u001b[0;32m----> 1\u001b[0m loss_gnn \u001b[38;5;241m=\u001b[39m \u001b[43mevaluate\u001b[49m\u001b[43m(\u001b[49m\u001b[43mgnn\u001b[49m\u001b[43m,\u001b[49m\u001b[43m \u001b[49m\u001b[43mparams_gnn\u001b[49m\u001b[43m,\u001b[49m\u001b[43m \u001b[49m\u001b[43mval_iterator\u001b[49m\u001b[43m)\u001b[49m\n",
      "Cell \u001b[0;32mIn[31], line 6\u001b[0m, in \u001b[0;36mevaluate\u001b[0;34m(model, params, val_iterator)\u001b[0m\n\u001b[1;32m      4\u001b[0m val_loss \u001b[38;5;241m=\u001b[39m \u001b[38;5;241m0.\u001b[39m\n\u001b[1;32m      5\u001b[0m \u001b[38;5;28;01mfor\u001b[39;00m _ \u001b[38;5;129;01min\u001b[39;00m \u001b[38;5;28mrange\u001b[39m(n_steps):\n\u001b[0;32m----> 6\u001b[0m     key, subkey \u001b[38;5;241m=\u001b[39m jax\u001b[38;5;241m.\u001b[39mrandom\u001b[38;5;241m.\u001b[39msplit(\u001b[43mkey\u001b[49m)\n\u001b[1;32m      7\u001b[0m     x_batch, _ \u001b[38;5;241m=\u001b[39m \u001b[38;5;28mnext\u001b[39m(val_iterator)\n\u001b[1;32m      8\u001b[0m     x_batch \u001b[38;5;241m=\u001b[39m jnp\u001b[38;5;241m.\u001b[39marray(x_batch)\n",
      "\u001b[0;31mUnboundLocalError\u001b[0m: local variable 'key' referenced before assignment"
     ]
    }
   ],
   "source": [
    "loss_gnn = evaluate(gnn, params_gnn, val_iterator)"
   ]
  },
  {
   "cell_type": "code",
   "execution_count": null,
   "metadata": {},
   "outputs": [],
   "source": [
    "loss_segnn = evaluate(segnn_model, params_segnn, val_iterator)"
   ]
  },
  {
   "cell_type": "code",
   "execution_count": null,
   "metadata": {},
   "outputs": [],
   "source": [
    "\n",
    "loss_segnn_lmax2 = evaluate(segnn_model_lmax2, params_segnn_lmax2, val_iterator)"
   ]
  },
  {
   "cell_type": "code",
   "execution_count": null,
   "metadata": {},
   "outputs": [],
   "source": [
    "# Visualize\n",
    "x_batch, _ = next(val_iterator)\n",
    "x_batch = jnp.array(x_batch)\n",
    "mask = jax.random.bernoulli(\n",
    "    key,\n",
    "    fraction_masked, \n",
    "    shape=(len(x_batch), x_batch.shape[1], 1)\n",
    ")\n",
    "x_batch_masked= x_batch.at[:, :, 3:6].set(\n",
    "    jnp.where(mask, infill_value, x_batch[:, :, 3:6])\n",
    ")\n",
    "graph = fixed_build_graph(\n",
    "    x_batch_masked,\n",
    ")\n",
    "gnn_pred = jax.jit(gnn.apply)(params_gnn, graph)\n",
    "segnn_pred = jax.jit(segnn_model.apply)(params_segnn, graph)"
   ]
  },
  {
   "cell_type": "code",
   "execution_count": null,
   "metadata": {},
   "outputs": [],
   "source": [
    "mask"
   ]
  },
  {
   "cell_type": "code",
   "execution_count": null,
   "metadata": {},
   "outputs": [],
   "source": []
  }
 ],
 "metadata": {
  "kernelspec": {
   "display_name": "jax_env",
   "language": "python",
   "name": "python3"
  },
  "language_info": {
   "codemirror_mode": {
    "name": "ipython",
    "version": 3
   },
   "file_extension": ".py",
   "mimetype": "text/x-python",
   "name": "python",
   "nbconvert_exporter": "python",
   "pygments_lexer": "ipython3",
   "version": "3.9.19"
  }
 },
 "nbformat": 4,
 "nbformat_minor": 2
}
