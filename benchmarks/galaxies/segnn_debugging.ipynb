{
    "cells": [
        {
            "cell_type": "code",
            "execution_count": 1,
            "metadata": {},
            "outputs": [],
            "source": [
                "import sys\n",
                "sys.path.append(\"../\")"
            ]
        },
        {
            "cell_type": "code",
            "execution_count": 2,
            "metadata": {},
            "outputs": [
                {
                    "name": "stderr",
                    "output_type": "stream",
                    "text": [
                        "/tmp/ipykernel_167524/4084619450.py:4: DeprecationWarning: \n",
                        "Pyarrow will become a required dependency of pandas in the next major release of pandas (pandas 3.0),\n",
                        "(to allow more performant data types, such as the Arrow string type, and better interoperability with other libraries)\n",
                        "but was not found to be installed on your system.\n",
                        "If this would cause problems for you,\n",
                        "please provide us feedback at https://github.com/pandas-dev/pandas/issues/54466\n",
                        "        \n",
                        "  import pandas as pd\n"
                    ]
                }
            ],
            "source": [
                "from pathlib import Path\n",
                "# import numpy as np\n",
                "import jax.numpy as np\n",
                "import pandas as pd\n",
                "import jax\n",
                "import jraph\n",
                "import matplotlib.pyplot as plt\n",
                "\n",
                "%load_ext autoreload\n",
                "%autoreload 2"
            ]
        },
        {
            "cell_type": "code",
            "execution_count": 3,
            "metadata": {},
            "outputs": [],
            "source": [
                "data_dir = Path('/n/holystore01/LABS/iaifi_lab/Lab/set-diffuser-data/val_split/')\n",
                "halos = np.load(data_dir / 'train_halos.npy')\n",
                "\n",
                "n_nodes = 5000\n",
                "halos =  halos[:, :n_nodes, :]\n",
                "\n",
                "halos_test = np.load(data_dir / 'test_halos.npy')\n",
                "halos_test =  halos_test[:, :n_nodes, :]"
            ]
        },
        {
            "cell_type": "markdown",
            "metadata": {},
            "source": [
                "## Prepare data"
            ]
        },
        {
            "cell_type": "code",
            "execution_count": 4,
            "metadata": {},
            "outputs": [
                {
                    "name": "stdout",
                    "output_type": "stream",
                    "text": [
                        "1600\n"
                    ]
                }
            ],
            "source": [
                "cosmology = pd.read_csv(data_dir / f'train_cosmology.csv')\n",
                "cosmology_test = pd.read_csv(data_dir / f'test_cosmology.csv')\n",
                "print(len(cosmology))"
            ]
        },
        {
            "cell_type": "code",
            "execution_count": 5,
            "metadata": {},
            "outputs": [
                {
                    "data": {
                        "text/html": [
                            "<div>\n",
                            "<style scoped>\n",
                            "    .dataframe tbody tr th:only-of-type {\n",
                            "        vertical-align: middle;\n",
                            "    }\n",
                            "\n",
                            "    .dataframe tbody tr th {\n",
                            "        vertical-align: top;\n",
                            "    }\n",
                            "\n",
                            "    .dataframe thead th {\n",
                            "        text-align: right;\n",
                            "    }\n",
                            "</style>\n",
                            "<table border=\"1\" class=\"dataframe\">\n",
                            "  <thead>\n",
                            "    <tr style=\"text-align: right;\">\n",
                            "      <th></th>\n",
                            "      <th>Omega_m</th>\n",
                            "      <th>Omega_b</th>\n",
                            "      <th>h</th>\n",
                            "      <th>n_s</th>\n",
                            "      <th>sigma_8</th>\n",
                            "    </tr>\n",
                            "  </thead>\n",
                            "  <tbody>\n",
                            "    <tr>\n",
                            "      <th>0</th>\n",
                            "      <td>0.1755</td>\n",
                            "      <td>0.06681</td>\n",
                            "      <td>0.7737</td>\n",
                            "      <td>0.8849</td>\n",
                            "      <td>0.6641</td>\n",
                            "    </tr>\n",
                            "    <tr>\n",
                            "      <th>1</th>\n",
                            "      <td>0.2139</td>\n",
                            "      <td>0.05557</td>\n",
                            "      <td>0.8599</td>\n",
                            "      <td>0.9785</td>\n",
                            "      <td>0.8619</td>\n",
                            "    </tr>\n",
                            "    <tr>\n",
                            "      <th>2</th>\n",
                            "      <td>0.1867</td>\n",
                            "      <td>0.04503</td>\n",
                            "      <td>0.6189</td>\n",
                            "      <td>0.8307</td>\n",
                            "      <td>0.7187</td>\n",
                            "    </tr>\n",
                            "  </tbody>\n",
                            "</table>\n",
                            "</div>"
                        ],
                        "text/plain": [
                            "   Omega_m  Omega_b       h     n_s  sigma_8\n",
                            "0   0.1755  0.06681  0.7737  0.8849   0.6641\n",
                            "1   0.2139  0.05557  0.8599  0.9785   0.8619\n",
                            "2   0.1867  0.04503  0.6189  0.8307   0.7187"
                        ]
                    },
                    "execution_count": 5,
                    "metadata": {},
                    "output_type": "execute_result"
                }
            ],
            "source": [
                "cosmology.head(3)"
            ]
        },
        {
            "cell_type": "code",
            "execution_count": 6,
            "metadata": {},
            "outputs": [],
            "source": [
                "omega_m = np.array(cosmology['Omega_m'].values)[:,None]\n",
                "omega_m_test = np.array(cosmology_test['Omega_m'].values)[:,None]"
            ]
        },
        {
            "cell_type": "markdown",
            "metadata": {},
            "source": [
                "## Train EGNN"
            ]
        },
        {
            "cell_type": "code",
            "execution_count": 7,
            "metadata": {},
            "outputs": [],
            "source": [
                "import flax\n",
                "from flax.training.train_state import TrainState\n",
                "from functools import partial\n",
                "import flax.linen as nn\n",
                "import optax\n",
                "from tqdm import trange\n",
                "\n",
                "replicate = flax.jax_utils.replicate\n",
                "unreplicate = flax.jax_utils.unreplicate"
            ]
        },
        {
            "cell_type": "code",
            "execution_count": 8,
            "metadata": {},
            "outputs": [],
            "source": [
                "import sys\n",
                "sys.path.append(\"../../\")\n",
                "from models.utils.equivariant_graph_utils import get_equivariant_graph\n",
                "from models.utils.graph_utils import build_graph\n",
                "from models.utils.irreps_utils import weight_balanced_irreps\n",
                "from models.segnn import SEGNN"
            ]
        },
        {
            "cell_type": "code",
            "execution_count": 9,
            "metadata": {},
            "outputs": [],
            "source": [
                "n_feat = 3\n",
                "\n",
                "halo_pos_mean = halos[..., :n_feat].mean((0,1))\n",
                "halo_pos_std = halos[..., :n_feat].std((0,1))"
            ]
        },
        {
            "cell_type": "code",
            "execution_count": 10,
            "metadata": {},
            "outputs": [],
            "source": [
                "halo_pos = (halos[..., :n_feat] - halo_pos_mean)  / halo_pos_std\n",
                "halo_pos_test = (halos_test[..., :n_feat] - halo_pos_mean)  / halo_pos_std"
            ]
        },
        {
            "cell_type": "code",
            "execution_count": 24,
            "metadata": {},
            "outputs": [],
            "source": [
                "import e3nn_jax as e3nn\n",
                "from typing import Dict\n",
                "\n",
                "SEGNN_PARAMS = {\n",
                "    \"d_hidden\": 64,\n",
                "    \"l_max_hidden\": 1,\n",
                "    \"num_blocks\": 2,\n",
                "    \"num_message_passing_steps\": 3,\n",
                "    \"intermediate_hidden_irreps\": True,\n",
                "    \"task\": \"graph\",\n",
                "    \"output_irreps\": e3nn.Irreps(\"1x0e\"),\n",
                "    \"hidden_irreps\": weight_balanced_irreps(lmax=1,\n",
                "                                            scalar_units=64,\n",
                "                                            irreps_right=e3nn.Irreps.spherical_harmonics(1),\n",
                "                                            ),\n",
                "    \"normalize_messages\": True,\n",
                "    \"message_passing_agg\": \"mean\",\n",
                "    \"readout_agg\": \"mean\",\n",
                "}\n",
                "\n",
                "class GraphWrapper(nn.Module):\n",
                "    param_dict: Dict\n",
                "    norm_dict: Dict\n",
                "    \n",
                "    @nn.compact\n",
                "    def __call__(self, x):\n",
                "\n",
                "        positions = e3nn.IrrepsArray(\"1o\", x.nodes[..., :3])\n",
                "        \n",
                "        if x.nodes.shape[-1] == 3:\n",
                "            nodes = e3nn.IrrepsArray(\"1o\", x.nodes[..., :])\n",
                "            velocities = None\n",
                "        else:\n",
                "            nodes = e3nn.IrrepsArray(\"1o + 1o\", x.nodes[..., :])\n",
                "            velocities = e3nn.IrrepsArray(\"1o\", x.nodes[..., 3:6])\n",
                "\n",
                "        # print(nodes)\n",
                "        \n",
                "        st_graph = get_equivariant_graph(\n",
                "            node_features=nodes,\n",
                "            positions=positions,\n",
                "            velocities=None,\n",
                "            senders=x.senders,\n",
                "            receivers=x.receivers,\n",
                "            n_node=x.n_node,\n",
                "            n_edge=x.n_edge,\n",
                "            globals=x.globals,\n",
                "            edges=None,\n",
                "            lmax_attributes=1,\n",
                "            periodic_boundaries=False,\n",
                "            norm_dict = self.norm_dict,\n",
                "            unit_cell = np.array([[1.,0.,0.,],[0.,1.,0.], [0.,0.,1.]])\n",
                "        )\n",
                "\n",
                "        print(st_graph.additional_messages.shape)\n",
                "        \n",
                "        return jax.vmap(SEGNN(**self.param_dict))(st_graph)"
            ]
        },
        {
            "cell_type": "code",
            "execution_count": 25,
            "metadata": {},
            "outputs": [
                {
                    "name": "stdout",
                    "output_type": "stream",
                    "text": [
                        "(8, 100000, 1)\n"
                    ]
                },
                {
                    "data": {
                        "text/plain": [
                            "121985"
                        ]
                    },
                    "execution_count": 25,
                    "metadata": {},
                    "output_type": "execute_result"
                }
            ],
            "source": [
                "graph = build_graph(halo_pos[:8], \n",
                "                None, \n",
                "                k=20, \n",
                "                use_pbc=False, \n",
                "                use_edges=True, \n",
                "                use_rbf=False, \n",
                "                mean=halo_pos_mean, \n",
                "                std=halo_pos_std)\n",
                "\n",
                "norm_dict = {'mean': halo_pos_mean, 'std': halo_pos_std}\n",
                "model = GraphWrapper(SEGNN_PARAMS, norm_dict)\n",
                "\n",
                "out, params = model.init_with_output(jax.random.PRNGKey(0), graph)\n",
                "sum(x.size for x in jax.tree_util.tree_leaves(params))"
            ]
        },
        {
            "cell_type": "code",
            "execution_count": 26,
            "metadata": {},
            "outputs": [
                {
                    "data": {
                        "text/plain": [
                            "Array([[0.00320326],\n",
                            "       [0.00349559],\n",
                            "       [0.00331401],\n",
                            "       [0.00320738],\n",
                            "       [0.00336374],\n",
                            "       [0.00374245],\n",
                            "       [0.00372816],\n",
                            "       [0.00326262]], dtype=float32)"
                        ]
                    },
                    "execution_count": 26,
                    "metadata": {},
                    "output_type": "execute_result"
                }
            ],
            "source": [
                "out"
            ]
        },
        {
            "cell_type": "code",
            "execution_count": 27,
            "metadata": {},
            "outputs": [
                {
                    "name": "stdout",
                    "output_type": "stream",
                    "text": [
                        "4 GPUs available\n"
                    ]
                }
            ],
            "source": [
                "# Devices\n",
                "num_local_devices = jax.local_device_count()\n",
                "print(f\"{num_local_devices} GPUs available\")"
            ]
        },
        {
            "cell_type": "code",
            "execution_count": 28,
            "metadata": {},
            "outputs": [],
            "source": [
                "# Define train state and replicate across devices\n",
                "tx = optax.adamw(learning_rate=6e-4, weight_decay=1e-5)\n",
                "state = TrainState.create(apply_fn=model.apply, params=params, tx=tx)\n",
                "pstate = replicate(state)"
            ]
        },
        {
            "cell_type": "code",
            "execution_count": 29,
            "metadata": {},
            "outputs": [
                {
                    "name": "stdout",
                    "output_type": "stream",
                    "text": [
                        "4 GPUs available\n"
                    ]
                }
            ],
            "source": [
                "# Devices\n",
                "num_local_devices = jax.local_device_count()\n",
                "print(f\"{num_local_devices} GPUs available\")"
            ]
        },
        {
            "cell_type": "code",
            "execution_count": 30,
            "metadata": {},
            "outputs": [],
            "source": [
                "def loss_mse(pred_batch, cosmo_batch,):\n",
                "    return np.mean((pred_batch - cosmo_batch) ** 2)\n",
                "\n",
                "@partial(jax.pmap, axis_name=\"batch\",)\n",
                "def train_step(state, halo_batch, cosmo_batch,):\n",
                "\n",
                "    # # Build graph\n",
                "    # halo_graph = build_graph(halo_batch, k=k, use_pbc=use_pbc, use_edges=use_edges)\n",
                "\n",
                "    halo_graph = build_graph(halo_batch, \n",
                "                None, \n",
                "                k=20, \n",
                "                use_pbc=False, \n",
                "                use_edges=True, \n",
                "                use_rbf=False, \n",
                "                mean=halo_pos_mean, \n",
                "                std=halo_pos_std)\n",
                "    \n",
                "    def loss_fn(params):\n",
                "        outputs = state.apply_fn(params, halo_graph)\n",
                "        loss = loss_mse(outputs, cosmo_batch)\n",
                "        return loss\n",
                "\n",
                "    # Get loss, grads, and update state\n",
                "    loss, grads = jax.value_and_grad(loss_fn)(state.params)\n",
                "    grads = jax.lax.pmean(grads, \"batch\")\n",
                "    new_state = state.apply_gradients(grads=grads)\n",
                "    metrics = {\"loss\": jax.lax.pmean(loss, \"batch\")}\n",
                "    \n",
                "    return new_state, metrics"
            ]
        },
        {
            "cell_type": "code",
            "execution_count": 31,
            "metadata": {},
            "outputs": [
                {
                    "name": "stderr",
                    "output_type": "stream",
                    "text": [
                        "  0%|          | 0/2000 [00:00<?, ?it/s]"
                    ]
                },
                {
                    "name": "stdout",
                    "output_type": "stream",
                    "text": [
                        "(8, 100000, 1)\n"
                    ]
                },
                {
                    "name": "stderr",
                    "output_type": "stream",
                    "text": [
                        "100%|██████████| 2000/2000 [05:49<00:00,  5.73it/s, loss=0.003372203] \n"
                    ]
                }
            ],
            "source": [
                "n_steps = 2000\n",
                "n_batch = 32\n",
                "n_train = 1800 \n",
                "\n",
                "key = jax.random.PRNGKey(0)\n",
                "\n",
                "with trange(n_steps) as steps:\n",
                "    for step in steps:\n",
                "        key, subkey = jax.random.split(key)\n",
                "        idx = jax.random.choice(key, halo_pos.shape[0], shape=(n_batch,))\n",
                "        \n",
                "        halo_batch, cosmo_batch = halo_pos[:n_train][idx], omega_m[:n_train][idx]\n",
                "        # halo_batch, cosmo_batch = halo_pos[:n_batch], omega_m[:n_batch]  # Overfit on a small sample\n",
                "\n",
                "        # Split batches across devices\n",
                "        halo_batch = jax.tree_map(lambda x: np.split(x, num_local_devices, axis=0), halo_batch)\n",
                "        cosmo_batch = jax.tree_map(lambda x: np.split(x, num_local_devices, axis=0), cosmo_batch)\n",
                "        halo_batch, cosmo_batch = np.array(halo_batch), np.array(cosmo_batch)\n",
                "\n",
                "        pstate, metrics = train_step(pstate, halo_batch, cosmo_batch)\n",
                "        \n",
                "        steps.set_postfix(loss=unreplicate(metrics[\"loss\"]))"
            ]
        },
        {
            "cell_type": "code",
            "execution_count": 32,
            "metadata": {},
            "outputs": [
                {
                    "name": "stderr",
                    "output_type": "stream",
                    "text": [
                        "  0%|          | 0/1 [00:00<?, ?it/s]"
                    ]
                },
                {
                    "name": "stdout",
                    "output_type": "stream",
                    "text": [
                        "(8, 100000, 1)\n"
                    ]
                },
                {
                    "name": "stderr",
                    "output_type": "stream",
                    "text": [
                        "100%|██████████| 1/1 [00:02<00:00,  2.12s/it]\n"
                    ]
                },
                {
                    "data": {
                        "text/plain": [
                            "Text(0, 0.5, 'Predicted')"
                        ]
                    },
                    "execution_count": 32,
                    "metadata": {},
                    "output_type": "execute_result"
                },
                {
                    "data": {
                        "image/png": "[encoded data removed]",
                        "text/plain": [
                            "<Figure size 640x480 with 1 Axes>"
                        ]
                    },
                    "metadata": {},
                    "output_type": "display_data"
                }
            ],
            "source": [
                "from tqdm import tqdm\n",
                "\n",
                "n_test_batch = 8\n",
                "\n",
                "for i in tqdm(range(1)):\n",
                "\n",
                "    # TODO: jit/pmap\n",
                "    graph = build_graph(halo_pos[i * n_test_batch:(i + 1) * n_test_batch], \n",
                "                        None, \n",
                "                        k=20, \n",
                "                        use_pbc=False, \n",
                "                        use_edges=True, \n",
                "                        use_rbf=False, \n",
                "                        mean=halo_pos_mean, \n",
                "                        std=halo_pos_std\n",
                "                        )\n",
                "    \n",
                "    omega_m_pred = jax.jit(model.apply)(unreplicate(pstate).params, graph)\n",
                "\n",
                "    plt.scatter(omega_m[i * n_test_batch:(i + 1) * n_test_batch], omega_m_pred[:, 0], s=10, color='firebrick')\n",
                "    \n",
                "# Plot a diagonal (y=x) line\n",
                "plt.plot([0, 1], [0, 1], color = 'black', linewidth = 1)\n",
                "\n",
                "plt.xlabel(\"True\")\n",
                "plt.ylabel(\"Predicted\")"
            ]
        },
        {
            "cell_type": "code",
            "execution_count": 33,
            "metadata": {},
            "outputs": [
                {
                    "name": "stderr",
                    "output_type": "stream",
                    "text": [
                        "  0%|          | 0/20 [00:00<?, ?it/s]"
                    ]
                },
                {
                    "name": "stdout",
                    "output_type": "stream",
                    "text": [
                        "(10, 100000, 1)\n"
                    ]
                },
                {
                    "name": "stderr",
                    "output_type": "stream",
                    "text": [
                        "  5%|▌         | 1/20 [00:04<01:32,  4.87s/it]"
                    ]
                },
                {
                    "name": "stdout",
                    "output_type": "stream",
                    "text": [
                        "(10, 100000, 1)\n"
                    ]
                },
                {
                    "name": "stderr",
                    "output_type": "stream",
                    "text": [
                        " 10%|█         | 2/20 [00:06<00:57,  3.17s/it]"
                    ]
                },
                {
                    "name": "stdout",
                    "output_type": "stream",
                    "text": [
                        "(10, 100000, 1)\n"
                    ]
                },
                {
                    "name": "stderr",
                    "output_type": "stream",
                    "text": [
                        " 15%|█▌        | 3/20 [00:08<00:43,  2.55s/it]"
                    ]
                },
                {
                    "name": "stdout",
                    "output_type": "stream",
                    "text": [
                        "(10, 100000, 1)\n"
                    ]
                },
                {
                    "name": "stderr",
                    "output_type": "stream",
                    "text": [
                        " 20%|██        | 4/20 [00:10<00:37,  2.32s/it]"
                    ]
                },
                {
                    "name": "stdout",
                    "output_type": "stream",
                    "text": [
                        "(10, 100000, 1)\n"
                    ]
                },
                {
                    "name": "stderr",
                    "output_type": "stream",
                    "text": [
                        " 25%|██▌       | 5/20 [00:12<00:31,  2.13s/it]"
                    ]
                },
                {
                    "name": "stdout",
                    "output_type": "stream",
                    "text": [
                        "(10, 100000, 1)\n"
                    ]
                },
                {
                    "name": "stderr",
                    "output_type": "stream",
                    "text": [
                        " 30%|███       | 6/20 [00:14<00:28,  2.01s/it]"
                    ]
                },
                {
                    "name": "stdout",
                    "output_type": "stream",
                    "text": [
                        "(10, 100000, 1)\n"
                    ]
                },
                {
                    "name": "stderr",
                    "output_type": "stream",
                    "text": [
                        " 35%|███▌      | 7/20 [00:16<00:26,  2.00s/it]"
                    ]
                },
                {
                    "name": "stdout",
                    "output_type": "stream",
                    "text": [
                        "(10, 100000, 1)\n"
                    ]
                },
                {
                    "name": "stderr",
                    "output_type": "stream",
                    "text": [
                        " 40%|████      | 8/20 [00:17<00:23,  1.94s/it]"
                    ]
                },
                {
                    "name": "stdout",
                    "output_type": "stream",
                    "text": [
                        "(10, 100000, 1)\n"
                    ]
                },
                {
                    "name": "stderr",
                    "output_type": "stream",
                    "text": [
                        " 45%|████▌     | 9/20 [00:19<00:20,  1.89s/it]"
                    ]
                },
                {
                    "name": "stdout",
                    "output_type": "stream",
                    "text": [
                        "(10, 100000, 1)\n"
                    ]
                },
                {
                    "name": "stderr",
                    "output_type": "stream",
                    "text": [
                        " 50%|█████     | 10/20 [00:21<00:19,  1.94s/it]"
                    ]
                },
                {
                    "name": "stdout",
                    "output_type": "stream",
                    "text": [
                        "(10, 100000, 1)\n"
                    ]
                },
                {
                    "name": "stderr",
                    "output_type": "stream",
                    "text": [
                        " 55%|█████▌    | 11/20 [00:23<00:17,  1.91s/it]"
                    ]
                },
                {
                    "name": "stdout",
                    "output_type": "stream",
                    "text": [
                        "(10, 100000, 1)\n"
                    ]
                },
                {
                    "name": "stderr",
                    "output_type": "stream",
                    "text": [
                        " 60%|██████    | 12/20 [00:25<00:15,  1.89s/it]"
                    ]
                },
                {
                    "name": "stdout",
                    "output_type": "stream",
                    "text": [
                        "(10, 100000, 1)\n"
                    ]
                },
                {
                    "name": "stderr",
                    "output_type": "stream",
                    "text": [
                        " 65%|██████▌   | 13/20 [00:27<00:13,  1.90s/it]"
                    ]
                },
                {
                    "name": "stdout",
                    "output_type": "stream",
                    "text": [
                        "(10, 100000, 1)\n"
                    ]
                },
                {
                    "name": "stderr",
                    "output_type": "stream",
                    "text": [
                        " 70%|███████   | 14/20 [00:29<00:11,  1.88s/it]"
                    ]
                },
                {
                    "name": "stdout",
                    "output_type": "stream",
                    "text": [
                        "(10, 100000, 1)\n"
                    ]
                },
                {
                    "name": "stderr",
                    "output_type": "stream",
                    "text": [
                        " 75%|███████▌  | 15/20 [00:31<00:09,  1.90s/it]"
                    ]
                },
                {
                    "name": "stdout",
                    "output_type": "stream",
                    "text": [
                        "(10, 100000, 1)\n"
                    ]
                },
                {
                    "name": "stderr",
                    "output_type": "stream",
                    "text": [
                        " 80%|████████  | 16/20 [00:32<00:07,  1.86s/it]"
                    ]
                },
                {
                    "name": "stdout",
                    "output_type": "stream",
                    "text": [
                        "(10, 100000, 1)\n"
                    ]
                },
                {
                    "name": "stderr",
                    "output_type": "stream",
                    "text": [
                        " 85%|████████▌ | 17/20 [00:34<00:05,  1.84s/it]"
                    ]
                },
                {
                    "name": "stdout",
                    "output_type": "stream",
                    "text": [
                        "(10, 100000, 1)\n"
                    ]
                },
                {
                    "name": "stderr",
                    "output_type": "stream",
                    "text": [
                        " 90%|█████████ | 18/20 [00:36<00:03,  1.88s/it]"
                    ]
                },
                {
                    "name": "stdout",
                    "output_type": "stream",
                    "text": [
                        "(10, 100000, 1)\n"
                    ]
                },
                {
                    "name": "stderr",
                    "output_type": "stream",
                    "text": [
                        " 95%|█████████▌| 19/20 [00:38<00:01,  1.86s/it]"
                    ]
                },
                {
                    "name": "stdout",
                    "output_type": "stream",
                    "text": [
                        "(10, 100000, 1)\n"
                    ]
                },
                {
                    "name": "stderr",
                    "output_type": "stream",
                    "text": [
                        "100%|██████████| 20/20 [00:40<00:00,  2.03s/it]\n"
                    ]
                },
                {
                    "data": {
                        "text/plain": [
                            "Text(0, 0.5, 'Predicted')"
                        ]
                    },
                    "execution_count": 33,
                    "metadata": {},
                    "output_type": "execute_result"
                },
                {
                    "data": {
                        "image/png": "[encoded data removed]",
                        "text/plain": [
                            "<Figure size 640x480 with 1 Axes>"
                        ]
                    },
                    "metadata": {},
                    "output_type": "display_data"
                }
            ],
            "source": [
                "from tqdm import tqdm\n",
                "\n",
                "n_test_batch = 10\n",
                "n_test_batches = len(halo_pos_test) // n_test_batch\n",
                "\n",
                "for i in tqdm(range(n_test_batches)):\n",
                "\n",
                "    # TODO: jit/pmap\n",
                "    graph = build_graph(halo_pos_test[i * n_test_batch:(i + 1) * n_test_batch], \n",
                "                        None, \n",
                "                        k=20, \n",
                "                        use_pbc=False, \n",
                "                        use_edges=True, \n",
                "                        use_rbf=False, \n",
                "                        mean=halo_pos_mean, \n",
                "                        std=halo_pos_std\n",
                "                        )\n",
                "    \n",
                "    omega_m_pred = jax.jit(model.apply)(unreplicate(pstate).params, graph)\n",
                "\n",
                "    plt.scatter(omega_m_test[i * n_test_batch:(i + 1) * n_test_batch], omega_m_pred[:, 0], s=10, color='firebrick')\n",
                "    \n",
                "plt.plot(omega_m_test[:n_test_batch], omega_m_test[:n_test_batch], color='gray')\n",
                "\n",
                "plt.xlabel(\"True\")\n",
                "plt.ylabel(\"Predicted\")"
            ]
        },
        {
            "cell_type": "markdown",
            "metadata": {},
            "source": []
        },
        {
            "cell_type": "markdown",
            "metadata": {},
            "source": []
        }
    ],
    "metadata": {
        "kernelspec": {
            "display_name": "Python 3 (ipykernel)",
            "language": "python",
            "name": "python3"
        },
        "language_info": {
            "codemirror_mode": {
                "name": "ipython",
                "version": 3
            },
            "file_extension": ".py",
            "mimetype": "text/x-python",
            "name": "python",
            "nbconvert_exporter": "python",
            "pygments_lexer": "ipython3",
            "version": "3.10.13"
        }
    },
    "nbformat": 4,
    "nbformat_minor": 4
}
