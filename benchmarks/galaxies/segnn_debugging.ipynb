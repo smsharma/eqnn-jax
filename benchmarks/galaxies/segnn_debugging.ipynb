{
 "cells": [
  {
   "cell_type": "code",
   "execution_count": 1,
   "metadata": {},
   "outputs": [],
   "source": [
    "import sys\n",
    "sys.path.append(\"../\")"
   ]
  },
  {
   "cell_type": "code",
   "execution_count": 2,
   "metadata": {},
   "outputs": [],
   "source": [
    "from pathlib import Path\n",
    "# import numpy as np\n",
    "import jax.numpy as np\n",
    "import pandas as pd\n",
    "import jax\n",
    "import jraph\n",
    "import matplotlib.pyplot as plt\n",
    "\n",
    "%load_ext autoreload\n",
    "%autoreload 2"
   ]
  },
  {
   "cell_type": "code",
   "execution_count": 3,
   "metadata": {},
   "outputs": [
    {
     "name": "stderr",
     "output_type": "stream",
     "text": [
      "2024-04-09 10:37:11.533482: W external/xla/xla/service/gpu/nvptx_compiler.cc:679] The NVIDIA driver's CUDA version is 12.2 which is older than the ptxas CUDA version (12.3.52). Because the driver is older than the ptxas version, XLA is disabling parallel compilation, which may slow down compilation. You should update your NVIDIA driver or use the NVIDIA-provided CUDA forward compatibility packages.\n"
     ]
    }
   ],
   "source": [
    "data_dir = Path('/n/holystore01/LABS/iaifi_lab/Lab/set-diffuser-data/val_split/')\n",
    "halos = np.load(data_dir / 'train_halos.npy')\n",
    "\n",
    "n_nodes = 5000\n",
    "halos =  halos[:, :n_nodes, :] / 1000.\n",
    "\n",
    "halos_test = np.load(data_dir / 'test_halos.npy')\n",
    "halos_test =  halos_test[:, :n_nodes, :]/ 1000."
   ]
  },
  {
   "cell_type": "markdown",
   "metadata": {},
   "source": [
    "## Prepare data"
   ]
  },
  {
   "cell_type": "code",
   "execution_count": 4,
   "metadata": {},
   "outputs": [
    {
     "name": "stdout",
     "output_type": "stream",
     "text": [
      "1600\n"
     ]
    }
   ],
   "source": [
    "cosmology = pd.read_csv(data_dir / f'train_cosmology.csv')\n",
    "cosmology_test = pd.read_csv(data_dir / f'test_cosmology.csv')\n",
    "print(len(cosmology))"
   ]
  },
  {
   "cell_type": "code",
   "execution_count": 5,
   "metadata": {},
   "outputs": [
    {
     "data": {
      "text/html": [
       "<div>\n",
       "<style scoped>\n",
       "    .dataframe tbody tr th:only-of-type {\n",
       "        vertical-align: middle;\n",
       "    }\n",
       "\n",
       "    .dataframe tbody tr th {\n",
       "        vertical-align: top;\n",
       "    }\n",
       "\n",
       "    .dataframe thead th {\n",
       "        text-align: right;\n",
       "    }\n",
       "</style>\n",
       "<table border=\"1\" class=\"dataframe\">\n",
       "  <thead>\n",
       "    <tr style=\"text-align: right;\">\n",
       "      <th></th>\n",
       "      <th>Omega_m</th>\n",
       "      <th>Omega_b</th>\n",
       "      <th>h</th>\n",
       "      <th>n_s</th>\n",
       "      <th>sigma_8</th>\n",
       "    </tr>\n",
       "  </thead>\n",
       "  <tbody>\n",
       "    <tr>\n",
       "      <th>0</th>\n",
       "      <td>0.1755</td>\n",
       "      <td>0.06681</td>\n",
       "      <td>0.7737</td>\n",
       "      <td>0.8849</td>\n",
       "      <td>0.6641</td>\n",
       "    </tr>\n",
       "    <tr>\n",
       "      <th>1</th>\n",
       "      <td>0.2139</td>\n",
       "      <td>0.05557</td>\n",
       "      <td>0.8599</td>\n",
       "      <td>0.9785</td>\n",
       "      <td>0.8619</td>\n",
       "    </tr>\n",
       "    <tr>\n",
       "      <th>2</th>\n",
       "      <td>0.1867</td>\n",
       "      <td>0.04503</td>\n",
       "      <td>0.6189</td>\n",
       "      <td>0.8307</td>\n",
       "      <td>0.7187</td>\n",
       "    </tr>\n",
       "  </tbody>\n",
       "</table>\n",
       "</div>"
      ],
      "text/plain": [
       "   Omega_m  Omega_b       h     n_s  sigma_8\n",
       "0   0.1755  0.06681  0.7737  0.8849   0.6641\n",
       "1   0.2139  0.05557  0.8599  0.9785   0.8619\n",
       "2   0.1867  0.04503  0.6189  0.8307   0.7187"
      ]
     },
     "execution_count": 5,
     "metadata": {},
     "output_type": "execute_result"
    }
   ],
   "source": [
    "cosmology.head(3)"
   ]
  },
  {
   "cell_type": "code",
   "execution_count": 6,
   "metadata": {},
   "outputs": [],
   "source": [
    "omega_m = np.array(cosmology['Omega_m'].values)[:,None]\n",
    "omega_m_test = np.array(cosmology_test['Omega_m'].values)[:,None]"
   ]
  },
  {
   "cell_type": "markdown",
   "metadata": {},
   "source": [
    "## Train EGNN"
   ]
  },
  {
   "cell_type": "code",
   "execution_count": 7,
   "metadata": {},
   "outputs": [],
   "source": [
    "import flax\n",
    "from flax.training.train_state import TrainState\n",
    "from functools import partial\n",
    "import flax.linen as nn\n",
    "import optax\n",
    "from tqdm import trange\n",
    "\n",
    "replicate = flax.jax_utils.replicate\n",
    "unreplicate = flax.jax_utils.unreplicate"
   ]
  },
  {
   "cell_type": "code",
   "execution_count": 8,
   "metadata": {},
   "outputs": [],
   "source": [
    "import sys\n",
    "sys.path.append(\"../../\")\n",
    "from models.utils.equivariant_graph_utils import get_equivariant_graph\n",
    "from models.utils.graph_utils import build_graph\n",
    "from models.utils.irreps_utils import weight_balanced_irreps\n",
    "from models.segnn import SEGNN\n",
    "from models.utils.graph_utils import get_apply_pbc"
   ]
  },
  {
   "cell_type": "code",
   "execution_count": 9,
   "metadata": {},
   "outputs": [
    {
     "name": "stdout",
     "output_type": "stream",
     "text": [
      "cell:\n",
      "[[ 1.7311106 -1.7321664 -1.7304591]\n",
      " [-1.7311106  1.7321664 -1.7304591]\n",
      " [-1.7311106 -1.7321664  1.7304591]]\n",
      "\n"
     ]
    }
   ],
   "source": [
    "n_feat = 3\n",
    "\n",
    "halo_pos_mean = halos[..., :n_feat].mean((0,1))\n",
    "halo_pos_std = halos[..., :n_feat].std((0,1))\n",
    "\n",
    "use_pbcs = True\n",
    "apply_pbc = get_apply_pbc(std=halo_pos_std,) if use_pbcs else None"
   ]
  },
  {
   "cell_type": "code",
   "execution_count": 10,
   "metadata": {},
   "outputs": [],
   "source": [
    "halo_pos = (halos[..., :n_feat] - halo_pos_mean)  / halo_pos_std\n",
    "halo_pos_test = (halos_test[..., :n_feat] - halo_pos_mean)  / halo_pos_std"
   ]
  },
  {
   "cell_type": "code",
   "execution_count": 11,
   "metadata": {},
   "outputs": [],
   "source": [
    "import e3nn_jax as e3nn\n",
    "from typing import Dict\n",
    "\n",
    "SEGNN_PARAMS = {\n",
    "    \"d_hidden\": 64,\n",
    "    \"l_max_hidden\": 1,\n",
    "    \"num_blocks\": 2,\n",
    "    \"num_message_passing_steps\": 3,\n",
    "    \"intermediate_hidden_irreps\": True,\n",
    "    \"task\": \"graph\",\n",
    "    \"output_irreps\": e3nn.Irreps(\"1x0e\"),\n",
    "    \"hidden_irreps\": weight_balanced_irreps(lmax=1,\n",
    "                                            scalar_units=64,\n",
    "                                            irreps_right=e3nn.Irreps.spherical_harmonics(1),\n",
    "                                            ),\n",
    "    \"normalize_messages\": True,\n",
    "    \"message_passing_agg\": \"mean\",\n",
    "    \"readout_agg\": \"mean\",\n",
    "}\n",
    "\n",
    "class GraphWrapper(nn.Module):\n",
    "    param_dict: Dict\n",
    "\n",
    "    @nn.compact\n",
    "    def __call__(self, x):\n",
    "\n",
    "        positions = e3nn.IrrepsArray(\"1o\", x.nodes[..., :3])\n",
    "        \n",
    "        if x.nodes.shape[-1] == 3:\n",
    "            nodes = e3nn.IrrepsArray(\"1o\", x.nodes[..., :])\n",
    "            velocities = None\n",
    "        else:\n",
    "            nodes = e3nn.IrrepsArray(\"1o + 1o\", x.nodes[..., :])\n",
    "            velocities = e3nn.IrrepsArray(\"1o\", x.nodes[..., 3:6])\n",
    "\n",
    "        # print(nodes)\n",
    "        \n",
    "        st_graph = get_equivariant_graph(\n",
    "            node_features=nodes,\n",
    "            positions=positions,\n",
    "            velocities=None,\n",
    "            steerable_velocities=False,\n",
    "            senders=x.senders,\n",
    "            receivers=x.receivers,\n",
    "            n_node=x.n_node,\n",
    "            n_edge=x.n_edge,\n",
    "            globals=x.globals,\n",
    "            edges=None,\n",
    "            lmax_attributes=1,\n",
    "            apply_pbc=apply_pbc\n",
    "        )\n",
    "\n",
    "        print(st_graph.additional_messages.shape)\n",
    "        \n",
    "        return jax.vmap(SEGNN(**self.param_dict))(st_graph)"
   ]
  },
  {
   "cell_type": "code",
   "execution_count": 12,
   "metadata": {},
   "outputs": [
    {
     "name": "stdout",
     "output_type": "stream",
     "text": [
      "[[[-1.491283   -1.4030712   1.3533763 ]\n",
      "  [-0.4481547   1.0214067  -1.0602913 ]\n",
      "  [ 0.0900492  -0.26586807 -1.3759227 ]\n",
      "  ...\n",
      "  [ 0.18467267  1.2348855  -0.68346786]\n",
      "  [-0.94678676  0.6115723   0.8889472 ]\n",
      "  [ 0.6138253  -1.5027117  -0.8169943 ]]\n",
      "\n",
      " [[-1.1788335  -0.09380226  0.25299197]\n",
      "  [ 1.6684078  -1.5874363   0.07615469]\n",
      "  [ 0.38549396 -1.6113889  -1.1038722 ]\n",
      "  ...\n",
      "  [ 0.18306427  1.2357682  -0.67559546]\n",
      "  [-0.95020354  0.61490405  0.8900071 ]\n",
      "  [ 0.60879433 -1.5037086  -0.8157273 ]]\n",
      "\n",
      " [[ 0.50716215  0.20108296  0.26518437]\n",
      "  [ 0.32212007 -1.638577   -0.12335889]\n",
      "  [-0.23541386 -1.3727064   0.5165399 ]\n",
      "  ...\n",
      "  [-1.4194124   1.586744   -0.32679686]\n",
      "  [ 0.61250997 -1.0988469   0.63125104]\n",
      "  [-0.88482964 -1.315285   -1.081695  ]]\n",
      "\n",
      " ...\n",
      "\n",
      " [[ 1.2146022  -1.2387208   0.30438587]\n",
      "  [-0.41744828  0.3113455  -1.267016  ]\n",
      "  [-1.6358345   0.08852612  0.2902094 ]\n",
      "  ...\n",
      "  [-0.30442855 -0.38709894  1.2921233 ]\n",
      "  [ 0.17331147  1.3117721   1.0808634 ]\n",
      "  [-1.092509    0.9687155   0.95120513]]\n",
      "\n",
      " [[-0.91180766  1.4149159  -0.23372903]\n",
      "  [ 0.480485   -1.575171    0.28082153]\n",
      "  [ 1.5289196   0.36354047 -0.72274685]\n",
      "  ...\n",
      "  [ 0.6598446   1.4245194  -1.6624392 ]\n",
      "  [ 0.12993449 -1.6229584  -1.1366367 ]\n",
      "  [ 0.79187244  1.668308    0.3557063 ]]\n",
      "\n",
      " [[-0.7750756  -1.3372743   0.8478109 ]\n",
      "  [ 1.7203519  -0.9894736  -1.5330925 ]\n",
      "  [ 0.04694255 -1.6164299   1.5560129 ]\n",
      "  ...\n",
      "  [ 0.9296657   1.0610524   1.2063062 ]\n",
      "  [ 1.6384339   0.4342099  -1.6647142 ]\n",
      "  [ 0.13067617  1.3472925   0.5056137 ]]]\n",
      "[[[1.7320508e-07]\n",
      "  [1.4203507e-01]\n",
      "  [1.4897923e-01]\n",
      "  ...\n",
      "  [1.7524348e-01]\n",
      "  [1.8539707e-01]\n",
      "  [1.9600260e-01]]\n",
      "\n",
      " [[1.7320508e-07]\n",
      "  [5.3134322e-02]\n",
      "  [1.1144747e-01]\n",
      "  ...\n",
      "  [2.1488699e-01]\n",
      "  [2.1735543e-01]\n",
      "  [2.2154722e-01]]\n",
      "\n",
      " [[1.7320508e-07]\n",
      "  [2.2541145e-02]\n",
      "  [6.2401991e-02]\n",
      "  ...\n",
      "  [2.0289990e-01]\n",
      "  [2.0997070e-01]\n",
      "  [2.1113555e-01]]\n",
      "\n",
      " ...\n",
      "\n",
      " [[1.7320508e-07]\n",
      "  [6.4707600e-02]\n",
      "  [1.5919115e-01]\n",
      "  ...\n",
      "  [2.1866263e-01]\n",
      "  [2.2252156e-01]\n",
      "  [2.3287639e-01]]\n",
      "\n",
      " [[1.7320508e-07]\n",
      "  [6.5385081e-02]\n",
      "  [9.8009765e-02]\n",
      "  ...\n",
      "  [2.5408545e-01]\n",
      "  [2.7262819e-01]\n",
      "  [2.7846825e-01]]\n",
      "\n",
      " [[1.7320508e-07]\n",
      "  [1.4624454e-01]\n",
      "  [1.6203266e-01]\n",
      "  ...\n",
      "  [1.7586449e-01]\n",
      "  [1.7885725e-01]\n",
      "  [1.9269361e-01]]]\n",
      "(8, 100000, 1)\n"
     ]
    },
    {
     "data": {
      "text/plain": [
       "169537"
      ]
     },
     "execution_count": 12,
     "metadata": {},
     "output_type": "execute_result"
    }
   ],
   "source": [
    "graph = build_graph(halo_pos[:8], \n",
    "                None, \n",
    "                k=20, \n",
    "                apply_pbc=apply_pbc,\n",
    "                use_edges=True, \n",
    "                use_rbf=False, \n",
    ")\n",
    "\n",
    "model = GraphWrapper(SEGNN_PARAMS, )\n",
    "\n",
    "out, params = model.init_with_output(jax.random.PRNGKey(0), graph)\n",
    "sum(x.size for x in jax.tree_util.tree_leaves(params))"
   ]
  },
  {
   "cell_type": "code",
   "execution_count": 13,
   "metadata": {},
   "outputs": [
    {
     "data": {
      "text/plain": [
       "Array([[ 4.5409113e-05],\n",
       "       [ 8.0596612e-05],\n",
       "       [-7.8846278e-06],\n",
       "       [ 2.2992001e-05],\n",
       "       [ 1.4310288e-04],\n",
       "       [-2.1337757e-05],\n",
       "       [-6.6804620e-05],\n",
       "       [-2.0324760e-04]], dtype=float32)"
      ]
     },
     "execution_count": 13,
     "metadata": {},
     "output_type": "execute_result"
    }
   ],
   "source": [
    "out"
   ]
  },
  {
   "cell_type": "code",
   "execution_count": 14,
   "metadata": {},
   "outputs": [
    {
     "name": "stdout",
     "output_type": "stream",
     "text": [
      "4 GPUs available\n"
     ]
    }
   ],
   "source": [
    "# Devices\n",
    "num_local_devices = jax.local_device_count()\n",
    "print(f\"{num_local_devices} GPUs available\")"
   ]
  },
  {
   "cell_type": "code",
   "execution_count": 15,
   "metadata": {},
   "outputs": [],
   "source": [
    "# Define train state and replicate across devices\n",
    "tx = optax.adamw(learning_rate=2e-4, weight_decay=1e-5)\n",
    "state = TrainState.create(apply_fn=model.apply, params=params, tx=tx)\n",
    "pstate = replicate(state)"
   ]
  },
  {
   "cell_type": "code",
   "execution_count": 16,
   "metadata": {},
   "outputs": [
    {
     "name": "stdout",
     "output_type": "stream",
     "text": [
      "4 GPUs available\n"
     ]
    }
   ],
   "source": [
    "# Devices\n",
    "num_local_devices = jax.local_device_count()\n",
    "print(f\"{num_local_devices} GPUs available\")"
   ]
  },
  {
   "cell_type": "code",
   "execution_count": 17,
   "metadata": {},
   "outputs": [],
   "source": [
    "def loss_mse(pred_batch, cosmo_batch,):\n",
    "    return np.mean((pred_batch - cosmo_batch) ** 2)\n",
    "\n",
    "@partial(jax.pmap, axis_name=\"batch\",)\n",
    "def train_step(state, halo_batch, cosmo_batch,):\n",
    "\n",
    "    halo_graph = build_graph(halo_batch, \n",
    "                None, \n",
    "                k=20, \n",
    "                use_edges=True, \n",
    "                use_rbf=False, \n",
    "                apply_pbc=apply_pbc,\n",
    "    )\n",
    "\n",
    "    \n",
    "    def loss_fn(params):\n",
    "        outputs = state.apply_fn(params, halo_graph)\n",
    "        loss = loss_mse(outputs, cosmo_batch)\n",
    "        return loss\n",
    "\n",
    "    # Get loss, grads, and update state\n",
    "    loss, grads = jax.value_and_grad(loss_fn)(state.params)\n",
    "    grads = jax.lax.pmean(grads, \"batch\")\n",
    "    new_state = state.apply_gradients(grads=grads)\n",
    "    metrics = {\"loss\": jax.lax.pmean(loss, \"batch\")}\n",
    "    \n",
    "    return new_state, metrics"
   ]
  },
  {
   "cell_type": "code",
   "execution_count": 18,
   "metadata": {},
   "outputs": [
    {
     "name": "stderr",
     "output_type": "stream",
     "text": [
      "  0%|          | 0/2000 [00:00<?, ?it/s]"
     ]
    },
    {
     "name": "stdout",
     "output_type": "stream",
     "text": [
      "Traced<ShapedArray(float32[8,5000,3])>with<DynamicJaxprTrace(level=0/1)>\n",
      "Traced<ShapedArray(float32[8,100000,1])>with<DynamicJaxprTrace(level=0/1)>\n",
      "(8, 100000, 1)\n"
     ]
    },
    {
     "name": "stderr",
     "output_type": "stream",
     "text": [
      " 58%|█████▊    | 1157/2000 [08:09<05:56,  2.36it/s, loss=0.0038630525]\n",
      "\n",
      "KeyboardInterrupt\n",
      "\n"
     ]
    }
   ],
   "source": [
    "n_steps = 2000\n",
    "n_batch = 32\n",
    "n_train = 1800 \n",
    "\n",
    "key = jax.random.PRNGKey(0)\n",
    "\n",
    "with trange(n_steps) as steps:\n",
    "    for step in steps:\n",
    "        key, subkey = jax.random.split(key)\n",
    "        idx = jax.random.choice(key, halo_pos.shape[0], shape=(n_batch,))\n",
    "        \n",
    "        halo_batch, cosmo_batch = halo_pos[:n_train][idx], omega_m[:n_train][idx]\n",
    "        # halo_batch, cosmo_batch = halo_pos[:n_batch], omega_m[:n_batch]  # Overfit on a small sample\n",
    "\n",
    "        # Split batches across devices\n",
    "        halo_batch = jax.tree_map(lambda x: np.split(x, num_local_devices, axis=0), halo_batch)\n",
    "        cosmo_batch = jax.tree_map(lambda x: np.split(x, num_local_devices, axis=0), cosmo_batch)\n",
    "        halo_batch, cosmo_batch = np.array(halo_batch), np.array(cosmo_batch)\n",
    "\n",
    "        pstate, metrics = train_step(pstate, halo_batch, cosmo_batch)\n",
    "        \n",
    "        steps.set_postfix(loss=unreplicate(metrics[\"loss\"]))"
   ]
  },
  {
   "cell_type": "code",
   "execution_count": 19,
   "metadata": {},
   "outputs": [
    {
     "name": "stderr",
     "output_type": "stream",
     "text": [
      "  0%|          | 0/1 [00:00<?, ?it/s]"
     ]
    },
    {
     "name": "stdout",
     "output_type": "stream",
     "text": [
      "[[[-1.491283   -1.4030712   1.3533763 ]\n",
      "  [-0.4481547   1.0214067  -1.0602913 ]\n",
      "  [ 0.0900492  -0.26586807 -1.3759227 ]\n",
      "  ...\n",
      "  [ 0.18467267  1.2348855  -0.68346786]\n",
      "  [-0.94678676  0.6115723   0.8889472 ]\n",
      "  [ 0.6138253  -1.5027117  -0.8169943 ]]\n",
      "\n",
      " [[-1.1788335  -0.09380226  0.25299197]\n",
      "  [ 1.6684078  -1.5874363   0.07615469]\n",
      "  [ 0.38549396 -1.6113889  -1.1038722 ]\n",
      "  ...\n",
      "  [ 0.18306427  1.2357682  -0.67559546]\n",
      "  [-0.95020354  0.61490405  0.8900071 ]\n",
      "  [ 0.60879433 -1.5037086  -0.8157273 ]]\n",
      "\n",
      " [[ 0.50716215  0.20108296  0.26518437]\n",
      "  [ 0.32212007 -1.638577   -0.12335889]\n",
      "  [-0.23541386 -1.3727064   0.5165399 ]\n",
      "  ...\n",
      "  [-1.4194124   1.586744   -0.32679686]\n",
      "  [ 0.61250997 -1.0988469   0.63125104]\n",
      "  [-0.88482964 -1.315285   -1.081695  ]]\n",
      "\n",
      " ...\n",
      "\n",
      " [[ 1.2146022  -1.2387208   0.30438587]\n",
      "  [-0.41744828  0.3113455  -1.267016  ]\n",
      "  [-1.6358345   0.08852612  0.2902094 ]\n",
      "  ...\n",
      "  [-0.30442855 -0.38709894  1.2921233 ]\n",
      "  [ 0.17331147  1.3117721   1.0808634 ]\n",
      "  [-1.092509    0.9687155   0.95120513]]\n",
      "\n",
      " [[-0.91180766  1.4149159  -0.23372903]\n",
      "  [ 0.480485   -1.575171    0.28082153]\n",
      "  [ 1.5289196   0.36354047 -0.72274685]\n",
      "  ...\n",
      "  [ 0.6598446   1.4245194  -1.6624392 ]\n",
      "  [ 0.12993449 -1.6229584  -1.1366367 ]\n",
      "  [ 0.79187244  1.668308    0.3557063 ]]\n",
      "\n",
      " [[-0.7750756  -1.3372743   0.8478109 ]\n",
      "  [ 1.7203519  -0.9894736  -1.5330925 ]\n",
      "  [ 0.04694255 -1.6164299   1.5560129 ]\n",
      "  ...\n",
      "  [ 0.9296657   1.0610524   1.2063062 ]\n",
      "  [ 1.6384339   0.4342099  -1.6647142 ]\n",
      "  [ 0.13067617  1.3472925   0.5056137 ]]]\n",
      "[[[1.7320508e-07]\n",
      "  [1.4203507e-01]\n",
      "  [1.4897923e-01]\n",
      "  ...\n",
      "  [1.7524348e-01]\n",
      "  [1.8539707e-01]\n",
      "  [1.9600260e-01]]\n",
      "\n",
      " [[1.7320508e-07]\n",
      "  [5.3134322e-02]\n",
      "  [1.1144747e-01]\n",
      "  ...\n",
      "  [2.1488699e-01]\n",
      "  [2.1735543e-01]\n",
      "  [2.2154722e-01]]\n",
      "\n",
      " [[1.7320508e-07]\n",
      "  [2.2541145e-02]\n",
      "  [6.2401991e-02]\n",
      "  ...\n",
      "  [2.0289990e-01]\n",
      "  [2.0997070e-01]\n",
      "  [2.1113555e-01]]\n",
      "\n",
      " ...\n",
      "\n",
      " [[1.7320508e-07]\n",
      "  [6.4707600e-02]\n",
      "  [1.5919115e-01]\n",
      "  ...\n",
      "  [2.1866263e-01]\n",
      "  [2.2252156e-01]\n",
      "  [2.3287639e-01]]\n",
      "\n",
      " [[1.7320508e-07]\n",
      "  [6.5385081e-02]\n",
      "  [9.8009765e-02]\n",
      "  ...\n",
      "  [2.5408545e-01]\n",
      "  [2.7262819e-01]\n",
      "  [2.7846825e-01]]\n",
      "\n",
      " [[1.7320508e-07]\n",
      "  [1.4624454e-01]\n",
      "  [1.6203266e-01]\n",
      "  ...\n",
      "  [1.7586449e-01]\n",
      "  [1.7885725e-01]\n",
      "  [1.9269361e-01]]]\n",
      "(8, 100000, 1)\n"
     ]
    },
    {
     "name": "stderr",
     "output_type": "stream",
     "text": [
      "100%|██████████| 1/1 [00:02<00:00,  2.72s/it]\n"
     ]
    },
    {
     "data": {
      "text/plain": [
       "Text(0, 0.5, 'Predicted')"
      ]
     },
     "execution_count": 19,
     "metadata": {},
     "output_type": "execute_result"
    },
    {
     "data": {
      "image/png": "[encoded data removed]",
      "text/plain": [
       "<Figure size 640x480 with 1 Axes>"
      ]
     },
     "metadata": {},
     "output_type": "display_data"
    }
   ],
   "source": [
    "from tqdm import tqdm\n",
    "\n",
    "n_test_batch = 8\n",
    "\n",
    "for i in tqdm(range(1)):\n",
    "\n",
    "    # TODO: jit/pmap\n",
    "    graph = build_graph(halo_pos[i * n_test_batch:(i + 1) * n_test_batch], \n",
    "                        None, \n",
    "                        k=20, \n",
    "                        use_edges=True, \n",
    "                        use_rbf=False, \n",
    "                        apply_pbc=apply_pbc,\n",
    "                        )\n",
    "    \n",
    "    omega_m_pred = jax.jit(model.apply)(unreplicate(pstate).params, graph)\n",
    "\n",
    "    plt.scatter(omega_m[i * n_test_batch:(i + 1) * n_test_batch], omega_m_pred[:, 0], s=10, color='firebrick')\n",
    "    \n",
    "# Plot a diagonal (y=x) line\n",
    "plt.plot([0, 1], [0, 1], color = 'black', linewidth = 1)\n",
    "\n",
    "plt.xlabel(\"True\")\n",
    "plt.ylabel(\"Predicted\")"
   ]
  },
  {
   "cell_type": "code",
   "execution_count": 25,
   "metadata": {},
   "outputs": [
    {
     "name": "stderr",
     "output_type": "stream",
     "text": [
      "  0%|          | 0/20 [00:00<?, ?it/s]2024-04-05 12:51:20.954952: W external/xla/xla/service/gpu/triton_autotuner.cc:646] Compiling 12 configs for triton_gemm_dot on a single thread.\n"
     ]
    },
    {
     "name": "stdout",
     "output_type": "stream",
     "text": [
      "(10, 100000, 1)\n"
     ]
    },
    {
     "name": "stderr",
     "output_type": "stream",
     "text": [
      "2024-04-05 12:51:26.269223: W external/xla/xla/service/gpu/triton_autotuner.cc:650] Compiling 91 configs for 6 fusions on a single thread.\n",
      "  5%|▌         | 1/20 [00:17<05:24, 17.09s/it]"
     ]
    },
    {
     "name": "stdout",
     "output_type": "stream",
     "text": [
      "(10, 100000, 1)\n"
     ]
    },
    {
     "name": "stderr",
     "output_type": "stream",
     "text": [
      " 10%|█         | 2/20 [00:18<02:24,  8.05s/it]"
     ]
    },
    {
     "name": "stdout",
     "output_type": "stream",
     "text": [
      "(10, 100000, 1)\n"
     ]
    },
    {
     "name": "stderr",
     "output_type": "stream",
     "text": [
      " 15%|█▌        | 3/20 [00:20<01:27,  5.14s/it]"
     ]
    },
    {
     "name": "stdout",
     "output_type": "stream",
     "text": [
      "(10, 100000, 1)\n"
     ]
    },
    {
     "name": "stderr",
     "output_type": "stream",
     "text": [
      " 20%|██        | 4/20 [00:22<01:01,  3.85s/it]"
     ]
    },
    {
     "name": "stdout",
     "output_type": "stream",
     "text": [
      "(10, 100000, 1)\n"
     ]
    },
    {
     "name": "stderr",
     "output_type": "stream",
     "text": [
      " 25%|██▌       | 5/20 [00:23<00:45,  3.02s/it]"
     ]
    },
    {
     "name": "stdout",
     "output_type": "stream",
     "text": [
      "(10, 100000, 1)\n"
     ]
    },
    {
     "name": "stderr",
     "output_type": "stream",
     "text": [
      " 30%|███       | 6/20 [00:25<00:36,  2.57s/it]"
     ]
    },
    {
     "name": "stdout",
     "output_type": "stream",
     "text": [
      "(10, 100000, 1)\n"
     ]
    },
    {
     "name": "stderr",
     "output_type": "stream",
     "text": [
      " 35%|███▌      | 7/20 [00:27<00:30,  2.31s/it]"
     ]
    },
    {
     "name": "stdout",
     "output_type": "stream",
     "text": [
      "(10, 100000, 1)\n"
     ]
    },
    {
     "name": "stderr",
     "output_type": "stream",
     "text": [
      " 40%|████      | 8/20 [00:29<00:26,  2.25s/it]"
     ]
    },
    {
     "name": "stdout",
     "output_type": "stream",
     "text": [
      "(10, 100000, 1)\n"
     ]
    },
    {
     "name": "stderr",
     "output_type": "stream",
     "text": [
      " 45%|████▌     | 9/20 [00:31<00:25,  2.30s/it]"
     ]
    },
    {
     "name": "stdout",
     "output_type": "stream",
     "text": [
      "(10, 100000, 1)\n"
     ]
    },
    {
     "name": "stderr",
     "output_type": "stream",
     "text": [
      " 50%|█████     | 10/20 [00:33<00:20,  2.08s/it]"
     ]
    },
    {
     "name": "stdout",
     "output_type": "stream",
     "text": [
      "(10, 100000, 1)\n"
     ]
    },
    {
     "name": "stderr",
     "output_type": "stream",
     "text": [
      " 55%|█████▌    | 11/20 [00:35<00:18,  2.01s/it]"
     ]
    },
    {
     "name": "stdout",
     "output_type": "stream",
     "text": [
      "(10, 100000, 1)\n"
     ]
    },
    {
     "name": "stderr",
     "output_type": "stream",
     "text": [
      " 60%|██████    | 12/20 [00:37<00:15,  1.92s/it]"
     ]
    },
    {
     "name": "stdout",
     "output_type": "stream",
     "text": [
      "(10, 100000, 1)\n"
     ]
    },
    {
     "name": "stderr",
     "output_type": "stream",
     "text": [
      " 65%|██████▌   | 13/20 [00:39<00:13,  1.96s/it]"
     ]
    },
    {
     "name": "stdout",
     "output_type": "stream",
     "text": [
      "(10, 100000, 1)\n"
     ]
    },
    {
     "name": "stderr",
     "output_type": "stream",
     "text": [
      " 70%|███████   | 14/20 [00:40<00:11,  1.84s/it]"
     ]
    },
    {
     "name": "stdout",
     "output_type": "stream",
     "text": [
      "(10, 100000, 1)\n"
     ]
    },
    {
     "name": "stderr",
     "output_type": "stream",
     "text": [
      " 75%|███████▌  | 15/20 [00:42<00:08,  1.76s/it]"
     ]
    },
    {
     "name": "stdout",
     "output_type": "stream",
     "text": [
      "(10, 100000, 1)\n"
     ]
    },
    {
     "name": "stderr",
     "output_type": "stream",
     "text": [
      " 80%|████████  | 16/20 [00:44<00:07,  1.77s/it]"
     ]
    },
    {
     "name": "stdout",
     "output_type": "stream",
     "text": [
      "(10, 100000, 1)\n"
     ]
    },
    {
     "name": "stderr",
     "output_type": "stream",
     "text": [
      " 85%|████████▌ | 17/20 [00:45<00:05,  1.71s/it]"
     ]
    },
    {
     "name": "stdout",
     "output_type": "stream",
     "text": [
      "(10, 100000, 1)\n"
     ]
    },
    {
     "name": "stderr",
     "output_type": "stream",
     "text": [
      " 90%|█████████ | 18/20 [00:47<00:03,  1.73s/it]"
     ]
    },
    {
     "name": "stdout",
     "output_type": "stream",
     "text": [
      "(10, 100000, 1)\n"
     ]
    },
    {
     "name": "stderr",
     "output_type": "stream",
     "text": [
      " 95%|█████████▌| 19/20 [00:48<00:01,  1.68s/it]"
     ]
    },
    {
     "name": "stdout",
     "output_type": "stream",
     "text": [
      "(10, 100000, 1)\n"
     ]
    },
    {
     "name": "stderr",
     "output_type": "stream",
     "text": [
      "100%|██████████| 20/20 [00:50<00:00,  2.53s/it]\n"
     ]
    },
    {
     "data": {
      "text/plain": [
       "Text(0, 0.5, 'Predicted')"
      ]
     },
     "execution_count": 25,
     "metadata": {},
     "output_type": "execute_result"
    },
    {
     "data": {
      "image/png": "[encoded data removed]",
      "text/plain": [
       "<Figure size 640x480 with 1 Axes>"
      ]
     },
     "metadata": {},
     "output_type": "display_data"
    }
   ],
   "source": [
    "from tqdm import tqdm\n",
    "\n",
    "n_test_batch = 10\n",
    "n_test_batches = len(halo_pos_test) // n_test_batch\n",
    "\n",
    "for i in tqdm(range(n_test_batches)):\n",
    "\n",
    "    # TODO: jit/pmap\n",
    "    graph = build_graph(halo_pos_test[i * n_test_batch:(i + 1) * n_test_batch], \n",
    "                        None, \n",
    "                        k=20, \n",
    "                        use_edges=True, \n",
    "                        use_rbf=False, \n",
    "                        apply_pbc=apply_pbc,\n",
    "                        )\n",
    "    \n",
    "    omega_m_pred = jax.jit(model.apply)(unreplicate(pstate).params, graph)\n",
    "\n",
    "    plt.scatter(omega_m_test[i * n_test_batch:(i + 1) * n_test_batch], omega_m_pred[:, 0], s=10, color='firebrick')\n",
    "    \n",
    "plt.plot(omega_m_test[:n_test_batch], omega_m_test[:n_test_batch], color='gray')\n",
    "\n",
    "plt.xlabel(\"True\")\n",
    "plt.ylabel(\"Predicted\")"
   ]
  },
  {
   "cell_type": "markdown",
   "metadata": {},
   "source": []
  },
  {
   "cell_type": "markdown",
   "metadata": {},
   "source": []
  }
 ],
 "metadata": {
  "kernelspec": {
   "display_name": "Python [conda env:.conda-jupyter_py3.11]",
   "language": "python",
   "name": "conda-env-.conda-jupyter_py3.11-py"
  },
  "language_info": {
   "codemirror_mode": {
    "name": "ipython",
    "version": 3
   },
   "file_extension": ".py",
   "mimetype": "text/x-python",
   "name": "python",
   "nbconvert_exporter": "python",
   "pygments_lexer": "ipython3",
   "version": "3.11.6"
  }
 },
 "nbformat": 4,
 "nbformat_minor": 4
}
