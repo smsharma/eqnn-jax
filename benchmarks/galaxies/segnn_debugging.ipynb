{
    "cells": [
        {
            "cell_type": "code",
            "execution_count": 1,
            "metadata": {},
            "outputs": [],
            "source": [
                "import sys\n",
                "sys.path.append(\"../\")"
            ]
        },
        {
            "cell_type": "code",
            "execution_count": 2,
            "metadata": {},
            "outputs": [
                {
                    "ename": "KeyboardInterrupt",
                    "evalue": "",
                    "output_type": "error",
                    "traceback": [
                        "\u001b[0;31m---------------------------------------------------------------------------\u001b[0m",
                        "\u001b[0;31mKeyboardInterrupt\u001b[0m                         Traceback (most recent call last)",
                        "Cell \u001b[0;32mIn[2], line 3\u001b[0m\n\u001b[1;32m      1\u001b[0m \u001b[38;5;28;01mfrom\u001b[39;00m \u001b[38;5;21;01mpathlib\u001b[39;00m \u001b[38;5;28;01mimport\u001b[39;00m Path\n\u001b[1;32m      2\u001b[0m \u001b[38;5;66;03m# import numpy as np\u001b[39;00m\n\u001b[0;32m----> 3\u001b[0m \u001b[38;5;28;01mimport\u001b[39;00m \u001b[38;5;21;01mjax\u001b[39;00m\u001b[38;5;21;01m.\u001b[39;00m\u001b[38;5;21;01mnumpy\u001b[39;00m \u001b[38;5;28;01mas\u001b[39;00m \u001b[38;5;21;01mnp\u001b[39;00m\n\u001b[1;32m      4\u001b[0m \u001b[38;5;28;01mimport\u001b[39;00m \u001b[38;5;21;01mpandas\u001b[39;00m \u001b[38;5;28;01mas\u001b[39;00m \u001b[38;5;21;01mpd\u001b[39;00m\n\u001b[1;32m      5\u001b[0m \u001b[38;5;28;01mimport\u001b[39;00m \u001b[38;5;21;01mjax\u001b[39;00m\n",
                        "File \u001b[0;32m/n/holystore01/LABS/iaifi_lab/Lab/environments/carol/envs/parity/lib/python3.10/site-packages/jax/__init__.py:37\u001b[0m\n\u001b[1;32m     34\u001b[0m \u001b[38;5;28;01mdel\u001b[39;00m _cloud_tpu_init\n\u001b[1;32m     36\u001b[0m \u001b[38;5;66;03m# Force early import, allowing use of `jax.core` after importing `jax`.\u001b[39;00m\n\u001b[0;32m---> 37\u001b[0m \u001b[38;5;28;01mimport\u001b[39;00m \u001b[38;5;21;01mjax\u001b[39;00m\u001b[38;5;21;01m.\u001b[39;00m\u001b[38;5;21;01mcore\u001b[39;00m \u001b[38;5;28;01mas\u001b[39;00m \u001b[38;5;21;01m_core\u001b[39;00m\n\u001b[1;32m     38\u001b[0m \u001b[38;5;28;01mdel\u001b[39;00m _core\n\u001b[1;32m     40\u001b[0m \u001b[38;5;66;03m# Note: import <name> as <name> is required for names to be exported.\u001b[39;00m\n\u001b[1;32m     41\u001b[0m \u001b[38;5;66;03m# See PEP 484 & https://github.com/google/jax/issues/7570\u001b[39;00m\n",
                        "File \u001b[0;32m/n/holystore01/LABS/iaifi_lab/Lab/environments/carol/envs/parity/lib/python3.10/site-packages/jax/core.py:18\u001b[0m\n\u001b[1;32m      1\u001b[0m \u001b[38;5;66;03m# Copyright 2022 The JAX Authors.\u001b[39;00m\n\u001b[1;32m      2\u001b[0m \u001b[38;5;66;03m#\u001b[39;00m\n\u001b[1;32m      3\u001b[0m \u001b[38;5;66;03m# Licensed under the Apache License, Version 2.0 (the \"License\");\u001b[39;00m\n\u001b[0;32m   (...)\u001b[0m\n\u001b[1;32m     15\u001b[0m \u001b[38;5;66;03m# Note: import <name> as <name> is required for names to be exported.\u001b[39;00m\n\u001b[1;32m     16\u001b[0m \u001b[38;5;66;03m# See PEP 484 & https://github.com/google/jax/issues/7570\u001b[39;00m\n\u001b[0;32m---> 18\u001b[0m \u001b[38;5;28;01mfrom\u001b[39;00m \u001b[38;5;21;01mjax\u001b[39;00m\u001b[38;5;21;01m.\u001b[39;00m\u001b[38;5;21;01m_src\u001b[39;00m\u001b[38;5;21;01m.\u001b[39;00m\u001b[38;5;21;01mcore\u001b[39;00m \u001b[38;5;28;01mimport\u001b[39;00m (\n\u001b[1;32m     19\u001b[0m   AbstractToken \u001b[38;5;28;01mas\u001b[39;00m AbstractToken,\n\u001b[1;32m     20\u001b[0m   AbstractValue \u001b[38;5;28;01mas\u001b[39;00m AbstractValue,\n\u001b[1;32m     21\u001b[0m   Atom \u001b[38;5;28;01mas\u001b[39;00m Atom,\n\u001b[1;32m     22\u001b[0m   AxisSize \u001b[38;5;28;01mas\u001b[39;00m AxisSize,\n\u001b[1;32m     23\u001b[0m   CallPrimitive \u001b[38;5;28;01mas\u001b[39;00m CallPrimitive,\n\u001b[1;32m     24\u001b[0m   ClosedJaxpr \u001b[38;5;28;01mas\u001b[39;00m ClosedJaxpr,\n\u001b[1;32m     25\u001b[0m   ConcreteArray \u001b[38;5;28;01mas\u001b[39;00m ConcreteArray,\n\u001b[1;32m     26\u001b[0m   ConcretizationTypeError \u001b[38;5;28;01mas\u001b[39;00m ConcretizationTypeError,\n\u001b[1;32m     27\u001b[0m   DShapedArray \u001b[38;5;28;01mas\u001b[39;00m DShapedArray,\n\u001b[1;32m     28\u001b[0m   DropVar \u001b[38;5;28;01mas\u001b[39;00m DropVar,\n\u001b[1;32m     29\u001b[0m   Effect \u001b[38;5;28;01mas\u001b[39;00m Effect,\n\u001b[1;32m     30\u001b[0m   Effects \u001b[38;5;28;01mas\u001b[39;00m Effects,\n\u001b[1;32m     31\u001b[0m   EvalTrace \u001b[38;5;28;01mas\u001b[39;00m EvalTrace,\n\u001b[1;32m     32\u001b[0m   InDBIdx \u001b[38;5;28;01mas\u001b[39;00m InDBIdx,\n\u001b[1;32m     33\u001b[0m   InconclusiveDimensionOperation \u001b[38;5;28;01mas\u001b[39;00m InconclusiveDimensionOperation,\n\u001b[1;32m     34\u001b[0m   InputType \u001b[38;5;28;01mas\u001b[39;00m InputType,\n\u001b[1;32m     35\u001b[0m   Jaxpr \u001b[38;5;28;01mas\u001b[39;00m Jaxpr,\n\u001b[1;32m     36\u001b[0m   JaxprDebugInfo \u001b[38;5;28;01mas\u001b[39;00m JaxprDebugInfo,\n\u001b[1;32m     37\u001b[0m   JaxprEqn \u001b[38;5;28;01mas\u001b[39;00m JaxprEqn,\n\u001b[1;32m     38\u001b[0m   JaxprPpContext \u001b[38;5;28;01mas\u001b[39;00m JaxprPpContext,\n\u001b[1;32m     39\u001b[0m   JaxprPpSettings \u001b[38;5;28;01mas\u001b[39;00m JaxprPpSettings,\n\u001b[1;32m     40\u001b[0m   JaxprTypeError \u001b[38;5;28;01mas\u001b[39;00m JaxprTypeError,\n\u001b[1;32m     41\u001b[0m   Literal \u001b[38;5;28;01mas\u001b[39;00m Literal,\n\u001b[1;32m     42\u001b[0m   MainTrace \u001b[38;5;28;01mas\u001b[39;00m MainTrace,\n\u001b[1;32m     43\u001b[0m   MapPrimitive \u001b[38;5;28;01mas\u001b[39;00m MapPrimitive,\n\u001b[1;32m     44\u001b[0m   NameGatheringSubst \u001b[38;5;28;01mas\u001b[39;00m NameGatheringSubst,\n\u001b[1;32m     45\u001b[0m   NamedShape \u001b[38;5;28;01mas\u001b[39;00m NamedShape,\n\u001b[1;32m     46\u001b[0m   OutDBIdx \u001b[38;5;28;01mas\u001b[39;00m OutDBIdx,\n\u001b[1;32m     47\u001b[0m   OutputType \u001b[38;5;28;01mas\u001b[39;00m OutputType,\n\u001b[1;32m     48\u001b[0m   ParamDict \u001b[38;5;28;01mas\u001b[39;00m ParamDict,\n\u001b[1;32m     49\u001b[0m   Primitive \u001b[38;5;28;01mas\u001b[39;00m Primitive,\n\u001b[1;32m     50\u001b[0m   ShapedArray \u001b[38;5;28;01mas\u001b[39;00m ShapedArray,\n\u001b[1;32m     51\u001b[0m   Sublevel \u001b[38;5;28;01mas\u001b[39;00m Sublevel,\n\u001b[1;32m     52\u001b[0m   TRACER_LEAK_DEBUGGER_WARNING \u001b[38;5;28;01mas\u001b[39;00m TRACER_LEAK_DEBUGGER_WARNING,\n\u001b[1;32m     53\u001b[0m   ThreadLocalState \u001b[38;5;28;01mas\u001b[39;00m ThreadLocalState,\n\u001b[1;32m     54\u001b[0m   Token \u001b[38;5;28;01mas\u001b[39;00m Token,\n\u001b[1;32m     55\u001b[0m   Trace \u001b[38;5;28;01mas\u001b[39;00m Trace,\n\u001b[1;32m     56\u001b[0m   TraceStack \u001b[38;5;28;01mas\u001b[39;00m TraceStack,\n\u001b[1;32m     57\u001b[0m   TraceState \u001b[38;5;28;01mas\u001b[39;00m TraceState,\n\u001b[1;32m     58\u001b[0m   Tracer \u001b[38;5;28;01mas\u001b[39;00m Tracer,\n\u001b[1;32m     59\u001b[0m   UnshapedArray \u001b[38;5;28;01mas\u001b[39;00m UnshapedArray,\n\u001b[1;32m     60\u001b[0m   Value \u001b[38;5;28;01mas\u001b[39;00m Value,\n\u001b[1;32m     61\u001b[0m   Var \u001b[38;5;28;01mas\u001b[39;00m Var,\n\u001b[1;32m     62\u001b[0m   abstract_token \u001b[38;5;28;01mas\u001b[39;00m abstract_token,\n\u001b[1;32m     63\u001b[0m   apply_todos \u001b[38;5;28;01mas\u001b[39;00m apply_todos,\n\u001b[1;32m     64\u001b[0m   as_named_shape \u001b[38;5;28;01mas\u001b[39;00m as_named_shape,\n\u001b[1;32m     65\u001b[0m   aval_mapping_handlers \u001b[38;5;28;01mas\u001b[39;00m aval_mapping_handlers,\n\u001b[1;32m     66\u001b[0m   axis_frame \u001b[38;5;28;01mas\u001b[39;00m axis_frame,\n\u001b[1;32m     67\u001b[0m   call \u001b[38;5;28;01mas\u001b[39;00m call,\n\u001b[1;32m     68\u001b[0m   call_bind_with_continuation \u001b[38;5;28;01mas\u001b[39;00m call_bind_with_continuation,\n\u001b[1;32m     69\u001b[0m   call_impl \u001b[38;5;28;01mas\u001b[39;00m call_impl,\n\u001b[1;32m     70\u001b[0m   call_p \u001b[38;5;28;01mas\u001b[39;00m call_p,\n\u001b[1;32m     71\u001b[0m   canonicalize_shape \u001b[38;5;28;01mas\u001b[39;00m _deprecated_canonicalize_shape,\n\u001b[1;32m     72\u001b[0m   check_eqn \u001b[38;5;28;01mas\u001b[39;00m check_eqn,\n\u001b[1;32m     73\u001b[0m   check_jaxpr \u001b[38;5;28;01mas\u001b[39;00m check_jaxpr,\n\u001b[1;32m     74\u001b[0m   check_type \u001b[38;5;28;01mas\u001b[39;00m check_type,\n\u001b[1;32m     75\u001b[0m   check_valid_jaxtype \u001b[38;5;28;01mas\u001b[39;00m check_valid_jaxtype,\n\u001b[1;32m     76\u001b[0m   closed_call_p \u001b[38;5;28;01mas\u001b[39;00m closed_call_p,\n\u001b[1;32m     77\u001b[0m   concrete_aval \u001b[38;5;28;01mas\u001b[39;00m concrete_aval,\n\u001b[1;32m     78\u001b[0m   concrete_or_error \u001b[38;5;28;01mas\u001b[39;00m concrete_or_error,\n\u001b[1;32m     79\u001b[0m   concretization_function_error \u001b[38;5;28;01mas\u001b[39;00m concretization_function_error,\n\u001b[1;32m     80\u001b[0m   cur_sublevel \u001b[38;5;28;01mas\u001b[39;00m cur_sublevel,\n\u001b[1;32m     81\u001b[0m   custom_typechecks \u001b[38;5;28;01mas\u001b[39;00m custom_typechecks,\n\u001b[1;32m     82\u001b[0m   dedup_referents \u001b[38;5;28;01mas\u001b[39;00m dedup_referents,\n\u001b[1;32m     83\u001b[0m   definitely_equal \u001b[38;5;28;01mas\u001b[39;00m _deprecated_definitely_equal,\n\u001b[1;32m     84\u001b[0m   dimension_as_value \u001b[38;5;28;01mas\u001b[39;00m _deprecated_dimension_as_value,\n\u001b[1;32m     85\u001b[0m   do_subst_axis_names_jaxpr \u001b[38;5;28;01mas\u001b[39;00m do_subst_axis_names_jaxpr,\n\u001b[1;32m     86\u001b[0m   ensure_compile_time_eval \u001b[38;5;28;01mas\u001b[39;00m ensure_compile_time_eval,\n\u001b[1;32m     87\u001b[0m   escaped_tracer_error \u001b[38;5;28;01mas\u001b[39;00m escaped_tracer_error,\n\u001b[1;32m     88\u001b[0m   eval_context \u001b[38;5;28;01mas\u001b[39;00m eval_context,\n\u001b[1;32m     89\u001b[0m   eval_jaxpr \u001b[38;5;28;01mas\u001b[39;00m eval_jaxpr,\n\u001b[1;32m     90\u001b[0m   extend_axis_env \u001b[38;5;28;01mas\u001b[39;00m extend_axis_env,\n\u001b[1;32m     91\u001b[0m   extend_axis_env_nd \u001b[38;5;28;01mas\u001b[39;00m extend_axis_env_nd,\n\u001b[1;32m     92\u001b[0m   find_top_trace \u001b[38;5;28;01mas\u001b[39;00m find_top_trace,\n\u001b[1;32m     93\u001b[0m   full_lower \u001b[38;5;28;01mas\u001b[39;00m full_lower,\n\u001b[1;32m     94\u001b[0m   gensym \u001b[38;5;28;01mas\u001b[39;00m gensym,\n\u001b[1;32m     95\u001b[0m   get_aval \u001b[38;5;28;01mas\u001b[39;00m get_aval,\n\u001b[1;32m     96\u001b[0m   get_referent \u001b[38;5;28;01mas\u001b[39;00m get_referent,\n\u001b[1;32m     97\u001b[0m   is_constant_dim \u001b[38;5;28;01mas\u001b[39;00m is_constant_dim,\n\u001b[1;32m     98\u001b[0m   is_constant_shape \u001b[38;5;28;01mas\u001b[39;00m is_constant_shape,\n\u001b[1;32m     99\u001b[0m   jaxpr_as_fun \u001b[38;5;28;01mas\u001b[39;00m jaxpr_as_fun,\n\u001b[1;32m    100\u001b[0m   jaxpr_uses_outfeed \u001b[38;5;28;01mas\u001b[39;00m jaxpr_uses_outfeed,\n\u001b[1;32m    101\u001b[0m   jaxprs_in_params \u001b[38;5;28;01mas\u001b[39;00m jaxprs_in_params,\n\u001b[1;32m    102\u001b[0m   join_effects \u001b[38;5;28;01mas\u001b[39;00m join_effects,\n\u001b[1;32m    103\u001b[0m   join_named_shapes \u001b[38;5;28;01mas\u001b[39;00m join_named_shapes,\n\u001b[1;32m    104\u001b[0m   lattice_join \u001b[38;5;28;01mas\u001b[39;00m lattice_join,\n\u001b[1;32m    105\u001b[0m   leaked_tracer_error \u001b[38;5;28;01mas\u001b[39;00m leaked_tracer_error,\n\u001b[1;32m    106\u001b[0m   literalable_types \u001b[38;5;28;01mas\u001b[39;00m literalable_types,\n\u001b[1;32m    107\u001b[0m   map_bind \u001b[38;5;28;01mas\u001b[39;00m map_bind,\n\u001b[1;32m    108\u001b[0m   map_bind_with_continuation \u001b[38;5;28;01mas\u001b[39;00m map_bind_with_continuation,\n\u001b[1;32m    109\u001b[0m   mapped_aval \u001b[38;5;28;01mas\u001b[39;00m mapped_aval,\n\u001b[1;32m    110\u001b[0m   maybe_find_leaked_tracers \u001b[38;5;28;01mas\u001b[39;00m maybe_find_leaked_tracers,\n\u001b[1;32m    111\u001b[0m   max_dim \u001b[38;5;28;01mas\u001b[39;00m max_dim,\n\u001b[1;32m    112\u001b[0m   min_dim \u001b[38;5;28;01mas\u001b[39;00m min_dim,\n\u001b[1;32m    113\u001b[0m   new_base_main \u001b[38;5;28;01mas\u001b[39;00m new_base_main,\n\u001b[1;32m    114\u001b[0m   new_jaxpr_eqn \u001b[38;5;28;01mas\u001b[39;00m new_jaxpr_eqn,\n\u001b[1;32m    115\u001b[0m   new_main \u001b[38;5;28;01mas\u001b[39;00m new_main,\n\u001b[1;32m    116\u001b[0m   new_sublevel \u001b[38;5;28;01mas\u001b[39;00m new_sublevel,\n\u001b[1;32m    117\u001b[0m   no_axis_name \u001b[38;5;28;01mas\u001b[39;00m no_axis_name,\n\u001b[1;32m    118\u001b[0m   no_effects \u001b[38;5;28;01mas\u001b[39;00m no_effects,\n\u001b[1;32m    119\u001b[0m   non_negative_dim \u001b[38;5;28;01mas\u001b[39;00m _deprecated_non_negative_dim,\n\u001b[1;32m    120\u001b[0m   outfeed_primitives \u001b[38;5;28;01mas\u001b[39;00m outfeed_primitives,\n\u001b[1;32m    121\u001b[0m   pp_aval \u001b[38;5;28;01mas\u001b[39;00m pp_aval,\n\u001b[1;32m    122\u001b[0m   pp_eqn \u001b[38;5;28;01mas\u001b[39;00m pp_eqn,\n\u001b[1;32m    123\u001b[0m   pp_eqn_rules \u001b[38;5;28;01mas\u001b[39;00m pp_eqn_rules,\n\u001b[1;32m    124\u001b[0m   pp_eqns \u001b[38;5;28;01mas\u001b[39;00m pp_eqns,\n\u001b[1;32m    125\u001b[0m   pp_jaxpr \u001b[38;5;28;01mas\u001b[39;00m pp_jaxpr,\n\u001b[1;32m    126\u001b[0m   pp_jaxpr_eqn_range \u001b[38;5;28;01mas\u001b[39;00m pp_jaxpr_eqn_range,\n\u001b[1;32m    127\u001b[0m   pp_jaxpr_skeleton \u001b[38;5;28;01mas\u001b[39;00m pp_jaxpr_skeleton,\n\u001b[1;32m    128\u001b[0m   pp_jaxprs \u001b[38;5;28;01mas\u001b[39;00m pp_jaxprs,\n\u001b[1;32m    129\u001b[0m   pp_kv_pair \u001b[38;5;28;01mas\u001b[39;00m pp_kv_pair,\n\u001b[1;32m    130\u001b[0m   pp_kv_pairs \u001b[38;5;28;01mas\u001b[39;00m pp_kv_pairs,\n\u001b[1;32m    131\u001b[0m   pp_var \u001b[38;5;28;01mas\u001b[39;00m pp_var,\n\u001b[1;32m    132\u001b[0m   pp_vars \u001b[38;5;28;01mas\u001b[39;00m pp_vars,\n\u001b[1;32m    133\u001b[0m   primal_dtype_to_tangent_dtype \u001b[38;5;28;01mas\u001b[39;00m primal_dtype_to_tangent_dtype,\n\u001b[1;32m    134\u001b[0m   primitive_uses_outfeed \u001b[38;5;28;01mas\u001b[39;00m primitive_uses_outfeed,\n\u001b[1;32m    135\u001b[0m   process_env_traces_call \u001b[38;5;28;01mas\u001b[39;00m process_env_traces_call,\n\u001b[1;32m    136\u001b[0m   process_env_traces_map \u001b[38;5;28;01mas\u001b[39;00m process_env_traces_map,\n\u001b[1;32m    137\u001b[0m   pytype_aval_mappings \u001b[38;5;28;01mas\u001b[39;00m pytype_aval_mappings,\n\u001b[1;32m    138\u001b[0m   raise_as_much_as_possible \u001b[38;5;28;01mas\u001b[39;00m raise_as_much_as_possible,\n\u001b[1;32m    139\u001b[0m   raise_to_shaped \u001b[38;5;28;01mas\u001b[39;00m raise_to_shaped,\n\u001b[1;32m    140\u001b[0m   raise_to_shaped_mappings \u001b[38;5;28;01mas\u001b[39;00m raise_to_shaped_mappings,\n\u001b[1;32m    141\u001b[0m   reset_trace_state \u001b[38;5;28;01mas\u001b[39;00m reset_trace_state,\n\u001b[1;32m    142\u001b[0m   stash_axis_env \u001b[38;5;28;01mas\u001b[39;00m stash_axis_env,\n\u001b[1;32m    143\u001b[0m   str_eqn_compact \u001b[38;5;28;01mas\u001b[39;00m str_eqn_compact,\n\u001b[1;32m    144\u001b[0m   subjaxprs \u001b[38;5;28;01mas\u001b[39;00m subjaxprs,\n\u001b[1;32m    145\u001b[0m   subst_axis_names \u001b[38;5;28;01mas\u001b[39;00m subst_axis_names,\n\u001b[1;32m    146\u001b[0m   subst_axis_names_eqn \u001b[38;5;28;01mas\u001b[39;00m subst_axis_names_eqn,\n\u001b[1;32m    147\u001b[0m   subst_axis_names_jaxpr \u001b[38;5;28;01mas\u001b[39;00m subst_axis_names_jaxpr,\n\u001b[1;32m    148\u001b[0m   subst_axis_names_var \u001b[38;5;28;01mas\u001b[39;00m subst_axis_names_var,\n\u001b[1;32m    149\u001b[0m   substitute_vars_in_output_ty \u001b[38;5;28;01mas\u001b[39;00m substitute_vars_in_output_ty,\n\u001b[1;32m    150\u001b[0m   thread_local_state \u001b[38;5;28;01mas\u001b[39;00m thread_local_state,\n\u001b[1;32m    151\u001b[0m   token \u001b[38;5;28;01mas\u001b[39;00m token,\n\u001b[1;32m    152\u001b[0m   trace_state_clean \u001b[38;5;28;01mas\u001b[39;00m trace_state_clean,\n\u001b[1;32m    153\u001b[0m   traverse_jaxpr_params \u001b[38;5;28;01mas\u001b[39;00m traverse_jaxpr_params,\n\u001b[1;32m    154\u001b[0m   typecheck \u001b[38;5;28;01mas\u001b[39;00m typecheck,\n\u001b[1;32m    155\u001b[0m   typecompat \u001b[38;5;28;01mas\u001b[39;00m typecompat,\n\u001b[1;32m    156\u001b[0m   typematch \u001b[38;5;28;01mas\u001b[39;00m typematch,\n\u001b[1;32m    157\u001b[0m   unmapped_aval \u001b[38;5;28;01mas\u001b[39;00m unmapped_aval,\n\u001b[1;32m    158\u001b[0m   used_axis_names \u001b[38;5;28;01mas\u001b[39;00m used_axis_names,\n\u001b[1;32m    159\u001b[0m   used_axis_names_jaxpr \u001b[38;5;28;01mas\u001b[39;00m used_axis_names_jaxpr,\n\u001b[1;32m    160\u001b[0m   valid_jaxtype \u001b[38;5;28;01mas\u001b[39;00m valid_jaxtype,\n\u001b[1;32m    161\u001b[0m )\n\u001b[1;32m    164\u001b[0m \u001b[38;5;28;01mfrom\u001b[39;00m \u001b[38;5;21;01mjax\u001b[39;00m\u001b[38;5;21;01m.\u001b[39;00m\u001b[38;5;21;01m_src\u001b[39;00m \u001b[38;5;28;01mimport\u001b[39;00m core \u001b[38;5;28;01mas\u001b[39;00m _src_core\n\u001b[1;32m    165\u001b[0m _deprecations \u001b[38;5;241m=\u001b[39m {\n\u001b[1;32m    166\u001b[0m     \u001b[38;5;66;03m# Added Oct 11, 2023:\u001b[39;00m\n\u001b[1;32m    167\u001b[0m     \u001b[38;5;124m\"\u001b[39m\u001b[38;5;124mDimSize\u001b[39m\u001b[38;5;124m\"\u001b[39m: (\n\u001b[0;32m   (...)\u001b[0m\n\u001b[1;32m    191\u001b[0m     ),\n\u001b[1;32m    192\u001b[0m }\n",
                        "File \u001b[0;32m/n/holystore01/LABS/iaifi_lab/Lab/environments/carol/envs/parity/lib/python3.10/site-packages/jax/_src/core.py:38\u001b[0m\n\u001b[1;32m     34\u001b[0m \u001b[38;5;28;01mfrom\u001b[39;00m \u001b[38;5;21;01mweakref\u001b[39;00m \u001b[38;5;28;01mimport\u001b[39;00m ref\n\u001b[1;32m     36\u001b[0m \u001b[38;5;28;01mimport\u001b[39;00m \u001b[38;5;21;01mnumpy\u001b[39;00m \u001b[38;5;28;01mas\u001b[39;00m \u001b[38;5;21;01mnp\u001b[39;00m\n\u001b[0;32m---> 38\u001b[0m \u001b[38;5;28;01mfrom\u001b[39;00m \u001b[38;5;21;01mjax\u001b[39;00m\u001b[38;5;21;01m.\u001b[39;00m\u001b[38;5;21;01m_src\u001b[39;00m \u001b[38;5;28;01mimport\u001b[39;00m dtypes\n\u001b[1;32m     39\u001b[0m \u001b[38;5;28;01mfrom\u001b[39;00m \u001b[38;5;21;01mjax\u001b[39;00m\u001b[38;5;21;01m.\u001b[39;00m\u001b[38;5;21;01m_src\u001b[39;00m \u001b[38;5;28;01mimport\u001b[39;00m config\n\u001b[1;32m     40\u001b[0m \u001b[38;5;28;01mfrom\u001b[39;00m \u001b[38;5;21;01mjax\u001b[39;00m\u001b[38;5;21;01m.\u001b[39;00m\u001b[38;5;21;01m_src\u001b[39;00m \u001b[38;5;28;01mimport\u001b[39;00m effects\n",
                        "File \u001b[0;32m/n/holystore01/LABS/iaifi_lab/Lab/environments/carol/envs/parity/lib/python3.10/site-packages/jax/_src/dtypes.py:33\u001b[0m\n\u001b[1;32m     30\u001b[0m \u001b[38;5;28;01mimport\u001b[39;00m \u001b[38;5;21;01mml_dtypes\u001b[39;00m\n\u001b[1;32m     31\u001b[0m \u001b[38;5;28;01mimport\u001b[39;00m \u001b[38;5;21;01mnumpy\u001b[39;00m \u001b[38;5;28;01mas\u001b[39;00m \u001b[38;5;21;01mnp\u001b[39;00m\n\u001b[0;32m---> 33\u001b[0m \u001b[38;5;28;01mfrom\u001b[39;00m \u001b[38;5;21;01mjax\u001b[39;00m\u001b[38;5;21;01m.\u001b[39;00m\u001b[38;5;21;01m_src\u001b[39;00m \u001b[38;5;28;01mimport\u001b[39;00m config\n\u001b[1;32m     34\u001b[0m \u001b[38;5;28;01mfrom\u001b[39;00m \u001b[38;5;21;01mjax\u001b[39;00m\u001b[38;5;21;01m.\u001b[39;00m\u001b[38;5;21;01m_src\u001b[39;00m\u001b[38;5;21;01m.\u001b[39;00m\u001b[38;5;21;01mtyping\u001b[39;00m \u001b[38;5;28;01mimport\u001b[39;00m DType, DTypeLike\n\u001b[1;32m     35\u001b[0m \u001b[38;5;28;01mfrom\u001b[39;00m \u001b[38;5;21;01mjax\u001b[39;00m\u001b[38;5;21;01m.\u001b[39;00m\u001b[38;5;21;01m_src\u001b[39;00m\u001b[38;5;21;01m.\u001b[39;00m\u001b[38;5;21;01mutil\u001b[39;00m \u001b[38;5;28;01mimport\u001b[39;00m set_module, StrictABC\n",
                        "File \u001b[0;32m/n/holystore01/LABS/iaifi_lab/Lab/environments/carol/envs/parity/lib/python3.10/site-packages/jax/_src/config.py:27\u001b[0m\n\u001b[1;32m     24\u001b[0m \u001b[38;5;28;01mimport\u001b[39;00m \u001b[38;5;21;01mthreading\u001b[39;00m\n\u001b[1;32m     25\u001b[0m \u001b[38;5;28;01mfrom\u001b[39;00m \u001b[38;5;21;01mtyping\u001b[39;00m \u001b[38;5;28;01mimport\u001b[39;00m Any, Callable, Generic, NamedTuple, NoReturn, TypeVar, cast\n\u001b[0;32m---> 27\u001b[0m \u001b[38;5;28;01mfrom\u001b[39;00m \u001b[38;5;21;01mjax\u001b[39;00m\u001b[38;5;21;01m.\u001b[39;00m\u001b[38;5;21;01m_src\u001b[39;00m \u001b[38;5;28;01mimport\u001b[39;00m lib\n\u001b[1;32m     28\u001b[0m \u001b[38;5;28;01mfrom\u001b[39;00m \u001b[38;5;21;01mjax\u001b[39;00m\u001b[38;5;21;01m.\u001b[39;00m\u001b[38;5;21;01m_src\u001b[39;00m\u001b[38;5;21;01m.\u001b[39;00m\u001b[38;5;21;01mlib\u001b[39;00m \u001b[38;5;28;01mimport\u001b[39;00m jax_jit\n\u001b[1;32m     29\u001b[0m \u001b[38;5;28;01mfrom\u001b[39;00m \u001b[38;5;21;01mjax\u001b[39;00m\u001b[38;5;21;01m.\u001b[39;00m\u001b[38;5;21;01m_src\u001b[39;00m\u001b[38;5;21;01m.\u001b[39;00m\u001b[38;5;21;01mlib\u001b[39;00m \u001b[38;5;28;01mimport\u001b[39;00m transfer_guard_lib\n",
                        "File \u001b[0;32m/n/holystore01/LABS/iaifi_lab/Lab/environments/carol/envs/parity/lib/python3.10/site-packages/jax/_src/lib/__init__.py:88\u001b[0m\n\u001b[1;32m     86\u001b[0m \u001b[38;5;28;01mimport\u001b[39;00m \u001b[38;5;21;01mjaxlib\u001b[39;00m\u001b[38;5;21;01m.\u001b[39;00m\u001b[38;5;21;01mutils\u001b[39;00m \u001b[38;5;28;01mas\u001b[39;00m \u001b[38;5;21;01mutils\u001b[39;00m\n\u001b[1;32m     87\u001b[0m \u001b[38;5;28;01mimport\u001b[39;00m \u001b[38;5;21;01mjaxlib\u001b[39;00m\u001b[38;5;21;01m.\u001b[39;00m\u001b[38;5;21;01mxla_client\u001b[39;00m \u001b[38;5;28;01mas\u001b[39;00m \u001b[38;5;21;01mxla_client\u001b[39;00m\n\u001b[0;32m---> 88\u001b[0m \u001b[38;5;28;01mimport\u001b[39;00m \u001b[38;5;21;01mjaxlib\u001b[39;00m\u001b[38;5;21;01m.\u001b[39;00m\u001b[38;5;21;01mlapack\u001b[39;00m \u001b[38;5;28;01mas\u001b[39;00m \u001b[38;5;21;01mlapack\u001b[39;00m\n\u001b[1;32m     90\u001b[0m \u001b[38;5;28;01mimport\u001b[39;00m \u001b[38;5;21;01mjaxlib\u001b[39;00m\u001b[38;5;21;01m.\u001b[39;00m\u001b[38;5;21;01mducc_fft\u001b[39;00m \u001b[38;5;28;01mas\u001b[39;00m \u001b[38;5;21;01mducc_fft\u001b[39;00m\n\u001b[1;32m     92\u001b[0m xla_extension \u001b[38;5;241m=\u001b[39m xla_client\u001b[38;5;241m.\u001b[39m_xla\n",
                        "File \u001b[0;32m/n/holystore01/LABS/iaifi_lab/Lab/environments/carol/envs/parity/lib/python3.10/site-packages/jaxlib/lapack.py:23\u001b[0m\n\u001b[1;32m     20\u001b[0m \u001b[38;5;28;01mimport\u001b[39;00m \u001b[38;5;21;01mnumpy\u001b[39;00m \u001b[38;5;28;01mas\u001b[39;00m \u001b[38;5;21;01mnp\u001b[39;00m\n\u001b[1;32m     22\u001b[0m \u001b[38;5;28;01mimport\u001b[39;00m \u001b[38;5;21;01mjaxlib\u001b[39;00m\u001b[38;5;21;01m.\u001b[39;00m\u001b[38;5;21;01mmlir\u001b[39;00m\u001b[38;5;21;01m.\u001b[39;00m\u001b[38;5;21;01mir\u001b[39;00m \u001b[38;5;28;01mas\u001b[39;00m \u001b[38;5;21;01mir\u001b[39;00m\n\u001b[0;32m---> 23\u001b[0m \u001b[38;5;28;01mimport\u001b[39;00m \u001b[38;5;21;01mjaxlib\u001b[39;00m\u001b[38;5;21;01m.\u001b[39;00m\u001b[38;5;21;01mmlir\u001b[39;00m\u001b[38;5;21;01m.\u001b[39;00m\u001b[38;5;21;01mdialects\u001b[39;00m\u001b[38;5;21;01m.\u001b[39;00m\u001b[38;5;21;01mstablehlo\u001b[39;00m \u001b[38;5;28;01mas\u001b[39;00m \u001b[38;5;21;01mhlo\u001b[39;00m\n\u001b[1;32m     25\u001b[0m \u001b[38;5;28;01mfrom\u001b[39;00m \u001b[38;5;21;01mjaxlib\u001b[39;00m \u001b[38;5;28;01mimport\u001b[39;00m xla_client\n\u001b[1;32m     27\u001b[0m \u001b[38;5;28;01mfrom\u001b[39;00m \u001b[38;5;21;01m.\u001b[39;00m\u001b[38;5;21;01mhlo_helpers\u001b[39;00m \u001b[38;5;28;01mimport\u001b[39;00m (\n\u001b[1;32m     28\u001b[0m     custom_call, hlo_u8, hlo_s32,\n\u001b[1;32m     29\u001b[0m     ensure_hlo_s32, hlo_add, hlo_min,\n\u001b[1;32m     30\u001b[0m     DimensionSize, ShapeTypePair, mk_result_types_and_shapes,\n\u001b[1;32m     31\u001b[0m )\n",
                        "File \u001b[0;32m/n/holystore01/LABS/iaifi_lab/Lab/environments/carol/envs/parity/lib/python3.10/site-packages/jaxlib/mlir/dialects/stablehlo.py:18\u001b[0m\n\u001b[1;32m      1\u001b[0m \u001b[38;5;66;03m# Copyright 2020 The TensorFlow Authors. All Rights Reserved.\u001b[39;00m\n\u001b[1;32m      2\u001b[0m \u001b[38;5;66;03m# Copyright 2022 The StableHLO Authors.\u001b[39;00m\n\u001b[1;32m      3\u001b[0m \u001b[38;5;66;03m#\u001b[39;00m\n\u001b[0;32m   (...)\u001b[0m\n\u001b[1;32m     16\u001b[0m \n\u001b[1;32m     17\u001b[0m \u001b[38;5;66;03m# pylint: disable=wildcard-import,relative-beyond-top-level,g-import-not-at-top\u001b[39;00m\n\u001b[0;32m---> 18\u001b[0m \u001b[38;5;28;01mfrom\u001b[39;00m \u001b[38;5;21;01m.\u001b[39;00m\u001b[38;5;21;01m_stablehlo_ops_gen\u001b[39;00m \u001b[38;5;28;01mimport\u001b[39;00m \u001b[38;5;241m*\u001b[39m\n\u001b[1;32m     19\u001b[0m \u001b[38;5;28;01mfrom\u001b[39;00m \u001b[38;5;21;01m.\u001b[39;00m\u001b[38;5;21;01m.\u001b[39;00m\u001b[38;5;21;01m_mlir_libs\u001b[39;00m\u001b[38;5;21;01m.\u001b[39;00m\u001b[38;5;21;01m_stablehlo\u001b[39;00m \u001b[38;5;28;01mimport\u001b[39;00m \u001b[38;5;241m*\u001b[39m\n",
                        "File \u001b[0;32m/n/holystore01/LABS/iaifi_lab/Lab/environments/carol/envs/parity/lib/python3.10/site-packages/jaxlib/mlir/dialects/_stablehlo_ops_gen.py:4\u001b[0m\n\u001b[1;32m      2\u001b[0m \u001b[38;5;66;03m# Autogenerated by mlir-tblgen; don't manually edit.\u001b[39;00m\n\u001b[0;32m----> 4\u001b[0m \u001b[38;5;28;01mfrom\u001b[39;00m \u001b[38;5;21;01m.\u001b[39;00m\u001b[38;5;21;01m_ods_common\u001b[39;00m \u001b[38;5;28;01mimport\u001b[39;00m _cext \u001b[38;5;28;01mas\u001b[39;00m _ods_cext\n\u001b[1;32m      5\u001b[0m \u001b[38;5;28;01mfrom\u001b[39;00m \u001b[38;5;21;01m.\u001b[39;00m\u001b[38;5;21;01m_ods_common\u001b[39;00m \u001b[38;5;28;01mimport\u001b[39;00m (\n\u001b[1;32m      6\u001b[0m     equally_sized_accessor \u001b[38;5;28;01mas\u001b[39;00m _ods_equally_sized_accessor,\n\u001b[1;32m      7\u001b[0m     get_default_loc_context \u001b[38;5;28;01mas\u001b[39;00m _ods_get_default_loc_context,\n\u001b[0;32m   (...)\u001b[0m\n\u001b[1;32m     11\u001b[0m     segmented_accessor \u001b[38;5;28;01mas\u001b[39;00m _ods_segmented_accessor,\n\u001b[1;32m     12\u001b[0m )\n\u001b[1;32m     13\u001b[0m _ods_ir \u001b[38;5;241m=\u001b[39m _ods_cext\u001b[38;5;241m.\u001b[39mir\n",
                        "File \u001b[0;32m/n/holystore01/LABS/iaifi_lab/Lab/environments/carol/envs/parity/lib/python3.10/site-packages/jaxlib/mlir/dialects/_ods_common.py:256\u001b[0m\n\u001b[1;32m    251\u001b[0m         \u001b[38;5;28;01mreturn\u001b[39;00m _get_value_list(value_or_attr)\n\u001b[1;32m    252\u001b[0m     \u001b[38;5;28;01mreturn\u001b[39;00m value_or_attr\n\u001b[1;32m    255\u001b[0m \u001b[38;5;28;01mdef\u001b[39;00m \u001b[38;5;21m_get_value_list\u001b[39m(\n\u001b[0;32m--> 256\u001b[0m     sequence_or_array_attr: \u001b[43m_Union\u001b[49m\u001b[43m[\u001b[49m\u001b[43m_Sequence\u001b[49m\u001b[43m[\u001b[49m\u001b[38;5;28;43many\u001b[39;49m\u001b[43m]\u001b[49m\u001b[43m,\u001b[49m\u001b[43m \u001b[49m\u001b[43mArrayAttr\u001b[49m\u001b[43m]\u001b[49m\n\u001b[1;32m    257\u001b[0m ) \u001b[38;5;241m-\u001b[39m\u001b[38;5;241m>\u001b[39m _Sequence[\u001b[38;5;28many\u001b[39m]:\n\u001b[1;32m    258\u001b[0m     \u001b[38;5;28;01mreturn\u001b[39;00m [_get_value_or_attribute_value(v) \u001b[38;5;28;01mfor\u001b[39;00m v \u001b[38;5;129;01min\u001b[39;00m sequence_or_array_attr]\n\u001b[1;32m    261\u001b[0m \u001b[38;5;28;01mdef\u001b[39;00m \u001b[38;5;21m_get_int_array_attr\u001b[39m(\n\u001b[1;32m    262\u001b[0m     values: _Optional[_Union[ArrayAttr, IntOrAttrList]]\n\u001b[1;32m    263\u001b[0m ) \u001b[38;5;241m-\u001b[39m\u001b[38;5;241m>\u001b[39m ArrayAttr:\n",
                        "File \u001b[0;32m/n/holystore01/LABS/iaifi_lab/Lab/environments/carol/envs/parity/lib/python3.10/typing.py:309\u001b[0m, in \u001b[0;36m_tp_cache.<locals>.decorator.<locals>.inner\u001b[0;34m(*args, **kwds)\u001b[0m\n\u001b[1;32m    306\u001b[0m \u001b[38;5;129m@functools\u001b[39m\u001b[38;5;241m.\u001b[39mwraps(func)\n\u001b[1;32m    307\u001b[0m \u001b[38;5;28;01mdef\u001b[39;00m \u001b[38;5;21minner\u001b[39m(\u001b[38;5;241m*\u001b[39margs, \u001b[38;5;241m*\u001b[39m\u001b[38;5;241m*\u001b[39mkwds):\n\u001b[1;32m    308\u001b[0m     \u001b[38;5;28;01mtry\u001b[39;00m:\n\u001b[0;32m--> 309\u001b[0m         \u001b[38;5;28;01mreturn\u001b[39;00m \u001b[43mcached\u001b[49m\u001b[43m(\u001b[49m\u001b[38;5;241;43m*\u001b[39;49m\u001b[43margs\u001b[49m\u001b[43m,\u001b[49m\u001b[43m \u001b[49m\u001b[38;5;241;43m*\u001b[39;49m\u001b[38;5;241;43m*\u001b[39;49m\u001b[43mkwds\u001b[49m\u001b[43m)\u001b[49m\n\u001b[1;32m    310\u001b[0m     \u001b[38;5;28;01mexcept\u001b[39;00m \u001b[38;5;167;01mTypeError\u001b[39;00m:\n\u001b[1;32m    311\u001b[0m         \u001b[38;5;28;01mpass\u001b[39;00m  \u001b[38;5;66;03m# All real errors (not unhashable args) are raised below.\u001b[39;00m\n",
                        "File \u001b[0;32m/n/holystore01/LABS/iaifi_lab/Lab/environments/carol/envs/parity/lib/python3.10/typing.py:401\u001b[0m, in \u001b[0;36m_SpecialForm.__getitem__\u001b[0;34m(self, parameters)\u001b[0m\n\u001b[1;32m    398\u001b[0m \u001b[38;5;28;01mdef\u001b[39;00m \u001b[38;5;21m__subclasscheck__\u001b[39m(\u001b[38;5;28mself\u001b[39m, \u001b[38;5;28mcls\u001b[39m):\n\u001b[1;32m    399\u001b[0m     \u001b[38;5;28;01mraise\u001b[39;00m \u001b[38;5;167;01mTypeError\u001b[39;00m(\u001b[38;5;124mf\u001b[39m\u001b[38;5;124m\"\u001b[39m\u001b[38;5;132;01m{\u001b[39;00m\u001b[38;5;28mself\u001b[39m\u001b[38;5;132;01m}\u001b[39;00m\u001b[38;5;124m cannot be used with issubclass()\u001b[39m\u001b[38;5;124m\"\u001b[39m)\n\u001b[0;32m--> 401\u001b[0m \u001b[38;5;129m@_tp_cache\u001b[39m\n\u001b[1;32m    402\u001b[0m \u001b[38;5;28;01mdef\u001b[39;00m \u001b[38;5;21m__getitem__\u001b[39m(\u001b[38;5;28mself\u001b[39m, parameters):\n\u001b[1;32m    403\u001b[0m     \u001b[38;5;28;01mreturn\u001b[39;00m \u001b[38;5;28mself\u001b[39m\u001b[38;5;241m.\u001b[39m_getitem(\u001b[38;5;28mself\u001b[39m, parameters)\n",
                        "\u001b[0;31mKeyboardInterrupt\u001b[0m: "
                    ]
                }
            ],
            "source": [
                "from pathlib import Path\n",
                "# import numpy as np\n",
                "import jax.numpy as np\n",
                "import pandas as pd\n",
                "import jax\n",
                "import jraph\n",
                "import matplotlib.pyplot as plt\n",
                "\n",
                "%load_ext autoreload\n",
                "%autoreload 2"
            ]
        },
        {
            "cell_type": "code",
            "execution_count": null,
            "metadata": {},
            "outputs": [],
            "source": [
                "data_dir = Path('/n/holystore01/LABS/iaifi_lab/Lab/set-diffuser-data/val_split/')\n",
                "halos = np.load(data_dir / 'train_halos.npy')\n",
                "\n",
                "n_nodes = 5000\n",
                "halos =  halos[:, :n_nodes, :] / 1000.\n",
                "\n",
                "halos_test = np.load(data_dir / 'test_halos.npy')\n",
                "halos_test =  halos_test[:, :n_nodes, :]"
            ]
        },
        {
            "cell_type": "markdown",
            "metadata": {},
            "source": [
                "## Prepare data"
            ]
        },
        {
            "cell_type": "code",
            "execution_count": 4,
            "metadata": {},
            "outputs": [
                {
                    "name": "stdout",
                    "output_type": "stream",
                    "text": [
                        "1600\n"
                    ]
                }
            ],
            "source": [
                "cosmology = pd.read_csv(data_dir / f'train_cosmology.csv')\n",
                "cosmology_test = pd.read_csv(data_dir / f'test_cosmology.csv')\n",
                "print(len(cosmology))"
            ]
        },
        {
            "cell_type": "code",
            "execution_count": 5,
            "metadata": {},
            "outputs": [
                {
                    "data": {
                        "text/html": [
                            "<div>\n",
                            "<style scoped>\n",
                            "    .dataframe tbody tr th:only-of-type {\n",
                            "        vertical-align: middle;\n",
                            "    }\n",
                            "\n",
                            "    .dataframe tbody tr th {\n",
                            "        vertical-align: top;\n",
                            "    }\n",
                            "\n",
                            "    .dataframe thead th {\n",
                            "        text-align: right;\n",
                            "    }\n",
                            "</style>\n",
                            "<table border=\"1\" class=\"dataframe\">\n",
                            "  <thead>\n",
                            "    <tr style=\"text-align: right;\">\n",
                            "      <th></th>\n",
                            "      <th>Omega_m</th>\n",
                            "      <th>Omega_b</th>\n",
                            "      <th>h</th>\n",
                            "      <th>n_s</th>\n",
                            "      <th>sigma_8</th>\n",
                            "    </tr>\n",
                            "  </thead>\n",
                            "  <tbody>\n",
                            "    <tr>\n",
                            "      <th>0</th>\n",
                            "      <td>0.1755</td>\n",
                            "      <td>0.06681</td>\n",
                            "      <td>0.7737</td>\n",
                            "      <td>0.8849</td>\n",
                            "      <td>0.6641</td>\n",
                            "    </tr>\n",
                            "    <tr>\n",
                            "      <th>1</th>\n",
                            "      <td>0.2139</td>\n",
                            "      <td>0.05557</td>\n",
                            "      <td>0.8599</td>\n",
                            "      <td>0.9785</td>\n",
                            "      <td>0.8619</td>\n",
                            "    </tr>\n",
                            "    <tr>\n",
                            "      <th>2</th>\n",
                            "      <td>0.1867</td>\n",
                            "      <td>0.04503</td>\n",
                            "      <td>0.6189</td>\n",
                            "      <td>0.8307</td>\n",
                            "      <td>0.7187</td>\n",
                            "    </tr>\n",
                            "  </tbody>\n",
                            "</table>\n",
                            "</div>"
                        ],
                        "text/plain": [
                            "   Omega_m  Omega_b       h     n_s  sigma_8\n",
                            "0   0.1755  0.06681  0.7737  0.8849   0.6641\n",
                            "1   0.2139  0.05557  0.8599  0.9785   0.8619\n",
                            "2   0.1867  0.04503  0.6189  0.8307   0.7187"
                        ]
                    },
                    "execution_count": 5,
                    "metadata": {},
                    "output_type": "execute_result"
                }
            ],
            "source": [
                "cosmology.head(3)"
            ]
        },
        {
            "cell_type": "code",
            "execution_count": 6,
            "metadata": {},
            "outputs": [],
            "source": [
                "omega_m = np.array(cosmology['Omega_m'].values)[:,None]\n",
                "omega_m_test = np.array(cosmology_test['Omega_m'].values)[:,None]"
            ]
        },
        {
            "cell_type": "markdown",
            "metadata": {},
            "source": [
                "## Train EGNN"
            ]
        },
        {
            "cell_type": "code",
            "execution_count": 7,
            "metadata": {},
            "outputs": [],
            "source": [
                "import flax\n",
                "from flax.training.train_state import TrainState\n",
                "from functools import partial\n",
                "import flax.linen as nn\n",
                "import optax\n",
                "from tqdm import trange\n",
                "\n",
                "replicate = flax.jax_utils.replicate\n",
                "unreplicate = flax.jax_utils.unreplicate"
            ]
        },
        {
            "cell_type": "code",
            "execution_count": 8,
            "metadata": {},
            "outputs": [],
            "source": [
                "import sys\n",
                "sys.path.append(\"../../\")\n",
                "from models.utils.equivariant_graph_utils import get_equivariant_graph\n",
                "from models.utils.graph_utils import build_graph\n",
                "from models.utils.irreps_utils import weight_balanced_irreps\n",
                "from models.segnn import SEGNN"
            ]
        },
        {
            "cell_type": "code",
            "execution_count": 9,
            "metadata": {},
            "outputs": [],
            "source": [
                "n_feat = 3\n",
                "\n",
                "halo_pos_mean = halos[..., :n_feat].mean((0,1))\n",
                "halo_pos_std = halos[..., :n_feat].std((0,1))"
            ]
        },
        {
            "cell_type": "code",
            "execution_count": 10,
            "metadata": {},
            "outputs": [],
            "source": [
                "halo_pos = (halos[..., :n_feat] - halo_pos_mean)  / halo_pos_std\n",
                "halo_pos_test = (halos_test[..., :n_feat] - halo_pos_mean)  / halo_pos_std"
            ]
        },
        {
            "cell_type": "code",
            "execution_count": 11,
            "metadata": {},
            "outputs": [],
            "source": [
                "import e3nn_jax as e3nn\n",
                "from typing import Dict\n",
                "\n",
                "SEGNN_PARAMS = {\n",
                "    \"d_hidden\": 64,\n",
                "    \"l_max_hidden\": 1,\n",
                "    \"num_blocks\": 2,\n",
                "    \"num_message_passing_steps\": 3,\n",
                "    \"intermediate_hidden_irreps\": True,\n",
                "    \"task\": \"graph\",\n",
                "    \"output_irreps\": e3nn.Irreps(\"1x0e\"),\n",
                "    \"hidden_irreps\": weight_balanced_irreps(lmax=1,\n",
                "                                            scalar_units=64,\n",
                "                                            irreps_right=e3nn.Irreps.spherical_harmonics(1),\n",
                "                                            ),\n",
                "    \"normalize_messages\": True,\n",
                "    \"message_passing_agg\": \"mean\",\n",
                "    \"readout_agg\": \"mean\",\n",
                "}\n",
                "\n",
                "class GraphWrapper(nn.Module):\n",
                "    param_dict: Dict\n",
                "    norm_dict: Dict\n",
                "    \n",
                "    @nn.compact\n",
                "    def __call__(self, x):\n",
                "\n",
                "        positions = e3nn.IrrepsArray(\"1o\", x.nodes[..., :3])\n",
                "        \n",
                "        if x.nodes.shape[-1] == 3:\n",
                "            nodes = e3nn.IrrepsArray(\"1o\", x.nodes[..., :])\n",
                "            velocities = None\n",
                "        else:\n",
                "            nodes = e3nn.IrrepsArray(\"1o + 1o\", x.nodes[..., :])\n",
                "            velocities = e3nn.IrrepsArray(\"1o\", x.nodes[..., 3:6])\n",
                "\n",
                "        # print(nodes)\n",
                "        \n",
                "        st_graph = get_equivariant_graph(\n",
                "            node_features=nodes,\n",
                "            positions=positions,\n",
                "            velocities=None,\n",
                "            steerable_velocities=False,\n",
                "            senders=x.senders,\n",
                "            receivers=x.receivers,\n",
                "            n_node=x.n_node,\n",
                "            n_edge=x.n_edge,\n",
                "            globals=x.globals,\n",
                "            edges=None,\n",
                "            lmax_attributes=1,\n",
                "            periodic_boundaries=False,\n",
                "            norm_dict = self.norm_dict,\n",
                "            boxsize=1.,\n",
                "            unit_cell = np.array([[1.,0.,0.,],[0.,1.,0.], [0.,0.,1.]])\n",
                "        )\n",
                "\n",
                "        print(st_graph.additional_messages.shape)\n",
                "        \n",
                "        return jax.vmap(SEGNN(**self.param_dict))(st_graph)"
            ]
        },
        {
            "cell_type": "code",
            "execution_count": 12,
            "metadata": {},
            "outputs": [
                {
                    "name": "stdout",
                    "output_type": "stream",
                    "text": [
                        "(8, 100000, 1)\n"
                    ]
                },
                {
                    "data": {
                        "text/plain": [
                            "169537"
                        ]
                    },
                    "execution_count": 12,
                    "metadata": {},
                    "output_type": "execute_result"
                }
            ],
            "source": [
                "graph = build_graph(halo_pos[:8], \n",
                "                None, \n",
                "                k=20, \n",
                "                use_pbc=False, \n",
                "                use_edges=True, \n",
                "                use_rbf=False, \n",
                "                mean=halo_pos_mean, \n",
                "                std=halo_pos_std)\n",
                "\n",
                "norm_dict = {'mean': halo_pos_mean, 'std': halo_pos_std}\n",
                "model = GraphWrapper(SEGNN_PARAMS, norm_dict)\n",
                "\n",
                "out, params = model.init_with_output(jax.random.PRNGKey(0), graph)\n",
                "sum(x.size for x in jax.tree_util.tree_leaves(params))"
            ]
        },
        {
            "cell_type": "code",
            "execution_count": 13,
            "metadata": {},
            "outputs": [
                {
                    "data": {
                        "text/plain": [
                            "Array([[0.00132232],\n",
                            "       [0.00145219],\n",
                            "       [0.0013656 ],\n",
                            "       [0.00132706],\n",
                            "       [0.00139061],\n",
                            "       [0.00155812],\n",
                            "       [0.00156023],\n",
                            "       [0.00135112]], dtype=float32)"
                        ]
                    },
                    "execution_count": 13,
                    "metadata": {},
                    "output_type": "execute_result"
                }
            ],
            "source": [
                "out"
            ]
        },
        {
            "cell_type": "code",
            "execution_count": 127,
            "metadata": {},
            "outputs": [
                {
                    "name": "stdout",
                    "output_type": "stream",
                    "text": [
                        "4 GPUs available\n"
                    ]
                }
            ],
            "source": [
                "# Devices\n",
                "num_local_devices = jax.local_device_count()\n",
                "print(f\"{num_local_devices} GPUs available\")"
            ]
        },
        {
            "cell_type": "code",
            "execution_count": 128,
            "metadata": {},
            "outputs": [],
            "source": [
                "# Define train state and replicate across devices\n",
                "tx = optax.adamw(learning_rate=2e-4, weight_decay=1e-5)\n",
                "state = TrainState.create(apply_fn=model.apply, params=params, tx=tx)\n",
                "pstate = replicate(state)"
            ]
        },
        {
            "cell_type": "code",
            "execution_count": 99,
            "metadata": {},
            "outputs": [
                {
                    "name": "stdout",
                    "output_type": "stream",
                    "text": [
                        "4 GPUs available\n"
                    ]
                }
            ],
            "source": [
                "# Devices\n",
                "num_local_devices = jax.local_device_count()\n",
                "print(f\"{num_local_devices} GPUs available\")"
            ]
        },
        {
            "cell_type": "code",
            "execution_count": 101,
            "metadata": {},
            "outputs": [],
            "source": [
                "def loss_mse(pred_batch, cosmo_batch,):\n",
                "    return np.mean((pred_batch - cosmo_batch) ** 2)\n",
                "\n",
                "@partial(jax.pmap, axis_name=\"batch\",)\n",
                "def train_step(state, halo_batch, cosmo_batch,):\n",
                "\n",
                "    halo_graph = build_graph(halo_batch, \n",
                "                None, \n",
                "                k=20, \n",
                "                use_pbc=False, \n",
                "                use_edges=True, \n",
                "                use_rbf=False, \n",
                "                mean=halo_pos_mean, \n",
                "                std=halo_pos_std)\n",
                "    \n",
                "    def loss_fn(params):\n",
                "        outputs = state.apply_fn(params, halo_graph)\n",
                "        loss = loss_mse(outputs, cosmo_batch)\n",
                "        return loss\n",
                "\n",
                "    # Get loss, grads, and update state\n",
                "    loss, grads = jax.value_and_grad(loss_fn)(state.params)\n",
                "    grads = jax.lax.pmean(grads, \"batch\")\n",
                "    new_state = state.apply_gradients(grads=grads)\n",
                "    metrics = {\"loss\": jax.lax.pmean(loss, \"batch\")}\n",
                "    \n",
                "    return new_state, metrics"
            ]
        },
        {
            "cell_type": "code",
            "execution_count": 102,
            "metadata": {},
            "outputs": [
                {
                    "name": "stderr",
                    "output_type": "stream",
                    "text": [
                        "  0%|          | 0/2000 [00:00<?, ?it/s]"
                    ]
                },
                {
                    "name": "stdout",
                    "output_type": "stream",
                    "text": [
                        "(8, 100000, 1)\n"
                    ]
                },
                {
                    "name": "stderr",
                    "output_type": "stream",
                    "text": [
                        " 47%|████▋     | 936/2000 [03:12<03:38,  4.87it/s, loss=0.0028959499]\n"
                    ]
                },
                {
                    "ename": "KeyboardInterrupt",
                    "evalue": "",
                    "output_type": "error",
                    "traceback": [
                        "\u001b[0;31m---------------------------------------------------------------------------\u001b[0m",
                        "\u001b[0;31mKeyboardInterrupt\u001b[0m                         Traceback (most recent call last)",
                        "Cell \u001b[0;32mIn[102], line 22\u001b[0m\n\u001b[1;32m     18\u001b[0m halo_batch, cosmo_batch \u001b[38;5;241m=\u001b[39m np\u001b[38;5;241m.\u001b[39marray(halo_batch), np\u001b[38;5;241m.\u001b[39marray(cosmo_batch)\n\u001b[1;32m     20\u001b[0m pstate, metrics \u001b[38;5;241m=\u001b[39m train_step(pstate, halo_batch, cosmo_batch)\n\u001b[0;32m---> 22\u001b[0m \u001b[43msteps\u001b[49m\u001b[38;5;241;43m.\u001b[39;49m\u001b[43mset_postfix\u001b[49m\u001b[43m(\u001b[49m\u001b[43mloss\u001b[49m\u001b[38;5;241;43m=\u001b[39;49m\u001b[43munreplicate\u001b[49m\u001b[43m(\u001b[49m\u001b[43mmetrics\u001b[49m\u001b[43m[\u001b[49m\u001b[38;5;124;43m\"\u001b[39;49m\u001b[38;5;124;43mloss\u001b[39;49m\u001b[38;5;124;43m\"\u001b[39;49m\u001b[43m]\u001b[49m\u001b[43m)\u001b[49m\u001b[43m)\u001b[49m\n",
                        "File \u001b[0;32m/n/holystore01/LABS/iaifi_lab/Users/smsharma/envs/equivariant/lib/python3.10/site-packages/tqdm/std.py:1426\u001b[0m, in \u001b[0;36mtqdm.set_postfix\u001b[0;34m(self, ordered_dict, refresh, **kwargs)\u001b[0m\n\u001b[1;32m   1424\u001b[0m     \u001b[38;5;66;03m# Else for any other type, try to get the string conversion\u001b[39;00m\n\u001b[1;32m   1425\u001b[0m     \u001b[38;5;28;01melif\u001b[39;00m \u001b[38;5;129;01mnot\u001b[39;00m \u001b[38;5;28misinstance\u001b[39m(postfix[key], \u001b[38;5;28mstr\u001b[39m):\n\u001b[0;32m-> 1426\u001b[0m         postfix[key] \u001b[38;5;241m=\u001b[39m \u001b[38;5;28;43mstr\u001b[39;49m\u001b[43m(\u001b[49m\u001b[43mpostfix\u001b[49m\u001b[43m[\u001b[49m\u001b[43mkey\u001b[49m\u001b[43m]\u001b[49m\u001b[43m)\u001b[49m\n\u001b[1;32m   1427\u001b[0m     \u001b[38;5;66;03m# Else if it's a string, don't need to preprocess anything\u001b[39;00m\n\u001b[1;32m   1428\u001b[0m \u001b[38;5;66;03m# Stitch together to get the final postfix\u001b[39;00m\n\u001b[1;32m   1429\u001b[0m \u001b[38;5;28mself\u001b[39m\u001b[38;5;241m.\u001b[39mpostfix \u001b[38;5;241m=\u001b[39m \u001b[38;5;124m'\u001b[39m\u001b[38;5;124m, \u001b[39m\u001b[38;5;124m'\u001b[39m\u001b[38;5;241m.\u001b[39mjoin(key \u001b[38;5;241m+\u001b[39m \u001b[38;5;124m'\u001b[39m\u001b[38;5;124m=\u001b[39m\u001b[38;5;124m'\u001b[39m \u001b[38;5;241m+\u001b[39m postfix[key]\u001b[38;5;241m.\u001b[39mstrip()\n\u001b[1;32m   1430\u001b[0m                          \u001b[38;5;28;01mfor\u001b[39;00m key \u001b[38;5;129;01min\u001b[39;00m postfix\u001b[38;5;241m.\u001b[39mkeys())\n",
                        "File \u001b[0;32m/n/holystore01/LABS/iaifi_lab/Users/smsharma/envs/equivariant/lib/python3.10/site-packages/jax/_src/array.py:256\u001b[0m, in \u001b[0;36mArrayImpl.__str__\u001b[0;34m(self)\u001b[0m\n\u001b[1;32m    255\u001b[0m \u001b[38;5;28;01mdef\u001b[39;00m \u001b[38;5;21m__str__\u001b[39m(\u001b[38;5;28mself\u001b[39m):\n\u001b[0;32m--> 256\u001b[0m   \u001b[38;5;28;01mreturn\u001b[39;00m \u001b[38;5;28mstr\u001b[39m(\u001b[38;5;28;43mself\u001b[39;49m\u001b[38;5;241;43m.\u001b[39;49m\u001b[43m_value\u001b[49m)\n",
                        "File \u001b[0;32m/n/holystore01/LABS/iaifi_lab/Users/smsharma/envs/equivariant/lib/python3.10/site-packages/jax/_src/profiler.py:336\u001b[0m, in \u001b[0;36mannotate_function.<locals>.wrapper\u001b[0;34m(*args, **kwargs)\u001b[0m\n\u001b[1;32m    333\u001b[0m \u001b[38;5;129m@wraps\u001b[39m(func)\n\u001b[1;32m    334\u001b[0m \u001b[38;5;28;01mdef\u001b[39;00m \u001b[38;5;21mwrapper\u001b[39m(\u001b[38;5;241m*\u001b[39margs, \u001b[38;5;241m*\u001b[39m\u001b[38;5;241m*\u001b[39mkwargs):\n\u001b[1;32m    335\u001b[0m   \u001b[38;5;28;01mwith\u001b[39;00m TraceAnnotation(name, \u001b[38;5;241m*\u001b[39m\u001b[38;5;241m*\u001b[39mdecorator_kwargs):\n\u001b[0;32m--> 336\u001b[0m     \u001b[38;5;28;01mreturn\u001b[39;00m \u001b[43mfunc\u001b[49m\u001b[43m(\u001b[49m\u001b[38;5;241;43m*\u001b[39;49m\u001b[43margs\u001b[49m\u001b[43m,\u001b[49m\u001b[43m \u001b[49m\u001b[38;5;241;43m*\u001b[39;49m\u001b[38;5;241;43m*\u001b[39;49m\u001b[43mkwargs\u001b[49m\u001b[43m)\u001b[49m\n\u001b[1;32m    337\u001b[0m   \u001b[38;5;28;01mreturn\u001b[39;00m wrapper\n",
                        "File \u001b[0;32m/n/holystore01/LABS/iaifi_lab/Users/smsharma/envs/equivariant/lib/python3.10/site-packages/jax/_src/array.py:589\u001b[0m, in \u001b[0;36mArrayImpl._value\u001b[0;34m(self)\u001b[0m\n\u001b[1;32m    587\u001b[0m \u001b[38;5;28;01mif\u001b[39;00m \u001b[38;5;28mself\u001b[39m\u001b[38;5;241m.\u001b[39m_npy_value \u001b[38;5;129;01mis\u001b[39;00m \u001b[38;5;28;01mNone\u001b[39;00m:\n\u001b[1;32m    588\u001b[0m   \u001b[38;5;28;01mif\u001b[39;00m \u001b[38;5;28mself\u001b[39m\u001b[38;5;241m.\u001b[39mis_fully_replicated:\n\u001b[0;32m--> 589\u001b[0m     \u001b[38;5;28mself\u001b[39m\u001b[38;5;241m.\u001b[39m_npy_value \u001b[38;5;241m=\u001b[39m \u001b[38;5;28;43mself\u001b[39;49m\u001b[38;5;241;43m.\u001b[39;49m\u001b[43m_single_device_array_to_np_array\u001b[49m\u001b[43m(\u001b[49m\u001b[43m)\u001b[49m  \u001b[38;5;66;03m# type: ignore\u001b[39;00m\n\u001b[1;32m    590\u001b[0m     \u001b[38;5;28mself\u001b[39m\u001b[38;5;241m.\u001b[39m_npy_value\u001b[38;5;241m.\u001b[39mflags\u001b[38;5;241m.\u001b[39mwriteable \u001b[38;5;241m=\u001b[39m \u001b[38;5;28;01mFalse\u001b[39;00m\n\u001b[1;32m    591\u001b[0m     \u001b[38;5;28;01mreturn\u001b[39;00m cast(np\u001b[38;5;241m.\u001b[39mndarray, \u001b[38;5;28mself\u001b[39m\u001b[38;5;241m.\u001b[39m_npy_value)\n",
                        "\u001b[0;31mKeyboardInterrupt\u001b[0m: "
                    ]
                }
            ],
            "source": [
                "n_steps = 2000\n",
                "n_batch = 32\n",
                "n_train = 1800 \n",
                "\n",
                "key = jax.random.PRNGKey(0)\n",
                "\n",
                "with trange(n_steps) as steps:\n",
                "    for step in steps:\n",
                "        key, subkey = jax.random.split(key)\n",
                "        idx = jax.random.choice(key, halo_pos.shape[0], shape=(n_batch,))\n",
                "        \n",
                "        halo_batch, cosmo_batch = halo_pos[:n_train][idx], omega_m[:n_train][idx]\n",
                "        # halo_batch, cosmo_batch = halo_pos[:n_batch], omega_m[:n_batch]  # Overfit on a small sample\n",
                "\n",
                "        # Split batches across devices\n",
                "        halo_batch = jax.tree_map(lambda x: np.split(x, num_local_devices, axis=0), halo_batch)\n",
                "        cosmo_batch = jax.tree_map(lambda x: np.split(x, num_local_devices, axis=0), cosmo_batch)\n",
                "        halo_batch, cosmo_batch = np.array(halo_batch), np.array(cosmo_batch)\n",
                "\n",
                "        pstate, metrics = train_step(pstate, halo_batch, cosmo_batch)\n",
                "        \n",
                "        steps.set_postfix(loss=unreplicate(metrics[\"loss\"]))"
            ]
        },
        {
            "cell_type": "code",
            "execution_count": 103,
            "metadata": {},
            "outputs": [
                {
                    "name": "stderr",
                    "output_type": "stream",
                    "text": [
                        "  0%|          | 0/1 [00:00<?, ?it/s]"
                    ]
                },
                {
                    "name": "stdout",
                    "output_type": "stream",
                    "text": [
                        "(8, 100000, 1)\n"
                    ]
                },
                {
                    "name": "stderr",
                    "output_type": "stream",
                    "text": [
                        "100%|██████████| 1/1 [00:02<00:00,  2.62s/it]\n"
                    ]
                },
                {
                    "data": {
                        "text/plain": [
                            "Text(0, 0.5, 'Predicted')"
                        ]
                    },
                    "execution_count": 103,
                    "metadata": {},
                    "output_type": "execute_result"
                },
                {
                    "data": {
                        "image/png": "[encoded data removed]",
                        "text/plain": [
                            "<Figure size 640x480 with 1 Axes>"
                        ]
                    },
                    "metadata": {},
                    "output_type": "display_data"
                }
            ],
            "source": [
                "from tqdm import tqdm\n",
                "\n",
                "n_test_batch = 8\n",
                "\n",
                "for i in tqdm(range(1)):\n",
                "\n",
                "    # TODO: jit/pmap\n",
                "    graph = build_graph(halo_pos[i * n_test_batch:(i + 1) * n_test_batch], \n",
                "                        None, \n",
                "                        k=20, \n",
                "                        use_pbc=False, \n",
                "                        use_edges=True, \n",
                "                        use_rbf=False, \n",
                "                        mean=halo_pos_mean, \n",
                "                        std=halo_pos_std\n",
                "                        )\n",
                "    \n",
                "    omega_m_pred = jax.jit(model.apply)(unreplicate(pstate).params, graph)\n",
                "\n",
                "    plt.scatter(omega_m[i * n_test_batch:(i + 1) * n_test_batch], omega_m_pred[:, 0], s=10, color='firebrick')\n",
                "    \n",
                "# Plot a diagonal (y=x) line\n",
                "plt.plot([0, 1], [0, 1], color = 'black', linewidth = 1)\n",
                "\n",
                "plt.xlabel(\"True\")\n",
                "plt.ylabel(\"Predicted\")"
            ]
        },
        {
            "cell_type": "code",
            "execution_count": 104,
            "metadata": {},
            "outputs": [
                {
                    "name": "stderr",
                    "output_type": "stream",
                    "text": [
                        "  0%|          | 0/20 [00:00<?, ?it/s]"
                    ]
                },
                {
                    "name": "stdout",
                    "output_type": "stream",
                    "text": [
                        "(10, 100000, 1)\n"
                    ]
                },
                {
                    "name": "stderr",
                    "output_type": "stream",
                    "text": [
                        "  5%|▌         | 1/20 [00:02<00:56,  2.98s/it]"
                    ]
                },
                {
                    "name": "stdout",
                    "output_type": "stream",
                    "text": [
                        "(10, 100000, 1)\n"
                    ]
                },
                {
                    "name": "stderr",
                    "output_type": "stream",
                    "text": [
                        " 10%|█         | 2/20 [00:05<00:50,  2.82s/it]"
                    ]
                },
                {
                    "name": "stdout",
                    "output_type": "stream",
                    "text": [
                        "(10, 100000, 1)\n"
                    ]
                },
                {
                    "name": "stderr",
                    "output_type": "stream",
                    "text": [
                        " 15%|█▌        | 3/20 [00:08<00:46,  2.76s/it]"
                    ]
                },
                {
                    "name": "stdout",
                    "output_type": "stream",
                    "text": [
                        "(10, 100000, 1)\n"
                    ]
                },
                {
                    "name": "stderr",
                    "output_type": "stream",
                    "text": [
                        " 20%|██        | 4/20 [00:11<00:44,  2.75s/it]"
                    ]
                },
                {
                    "name": "stdout",
                    "output_type": "stream",
                    "text": [
                        "(10, 100000, 1)\n"
                    ]
                },
                {
                    "name": "stderr",
                    "output_type": "stream",
                    "text": [
                        " 25%|██▌       | 5/20 [00:14<00:42,  2.82s/it]"
                    ]
                },
                {
                    "name": "stdout",
                    "output_type": "stream",
                    "text": [
                        "(10, 100000, 1)\n"
                    ]
                },
                {
                    "name": "stderr",
                    "output_type": "stream",
                    "text": [
                        " 30%|███       | 6/20 [00:16<00:38,  2.77s/it]"
                    ]
                },
                {
                    "name": "stdout",
                    "output_type": "stream",
                    "text": [
                        "(10, 100000, 1)\n"
                    ]
                },
                {
                    "name": "stderr",
                    "output_type": "stream",
                    "text": [
                        " 35%|███▌      | 7/20 [00:19<00:35,  2.73s/it]"
                    ]
                },
                {
                    "name": "stdout",
                    "output_type": "stream",
                    "text": [
                        "(10, 100000, 1)\n"
                    ]
                },
                {
                    "name": "stderr",
                    "output_type": "stream",
                    "text": [
                        " 40%|████      | 8/20 [00:22<00:33,  2.78s/it]"
                    ]
                },
                {
                    "name": "stdout",
                    "output_type": "stream",
                    "text": [
                        "(10, 100000, 1)\n"
                    ]
                },
                {
                    "name": "stderr",
                    "output_type": "stream",
                    "text": [
                        " 45%|████▌     | 9/20 [00:24<00:30,  2.76s/it]"
                    ]
                },
                {
                    "name": "stdout",
                    "output_type": "stream",
                    "text": [
                        "(10, 100000, 1)\n"
                    ]
                },
                {
                    "name": "stderr",
                    "output_type": "stream",
                    "text": [
                        " 50%|█████     | 10/20 [00:27<00:27,  2.73s/it]"
                    ]
                },
                {
                    "name": "stdout",
                    "output_type": "stream",
                    "text": [
                        "(10, 100000, 1)\n"
                    ]
                },
                {
                    "name": "stderr",
                    "output_type": "stream",
                    "text": [
                        " 55%|█████▌    | 11/20 [00:30<00:24,  2.72s/it]"
                    ]
                },
                {
                    "name": "stdout",
                    "output_type": "stream",
                    "text": [
                        "(10, 100000, 1)\n"
                    ]
                },
                {
                    "name": "stderr",
                    "output_type": "stream",
                    "text": [
                        " 60%|██████    | 12/20 [00:33<00:22,  2.77s/it]"
                    ]
                },
                {
                    "name": "stdout",
                    "output_type": "stream",
                    "text": [
                        "(10, 100000, 1)\n"
                    ]
                },
                {
                    "name": "stderr",
                    "output_type": "stream",
                    "text": [
                        " 65%|██████▌   | 13/20 [00:35<00:19,  2.77s/it]"
                    ]
                },
                {
                    "name": "stdout",
                    "output_type": "stream",
                    "text": [
                        "(10, 100000, 1)\n"
                    ]
                },
                {
                    "name": "stderr",
                    "output_type": "stream",
                    "text": [
                        " 70%|███████   | 14/20 [00:38<00:16,  2.73s/it]"
                    ]
                },
                {
                    "name": "stdout",
                    "output_type": "stream",
                    "text": [
                        "(10, 100000, 1)\n"
                    ]
                },
                {
                    "name": "stderr",
                    "output_type": "stream",
                    "text": [
                        " 75%|███████▌  | 15/20 [00:41<00:13,  2.77s/it]"
                    ]
                },
                {
                    "name": "stdout",
                    "output_type": "stream",
                    "text": [
                        "(10, 100000, 1)\n"
                    ]
                },
                {
                    "name": "stderr",
                    "output_type": "stream",
                    "text": [
                        " 80%|████████  | 16/20 [00:44<00:11,  2.75s/it]"
                    ]
                },
                {
                    "name": "stdout",
                    "output_type": "stream",
                    "text": [
                        "(10, 100000, 1)\n"
                    ]
                },
                {
                    "name": "stderr",
                    "output_type": "stream",
                    "text": [
                        " 85%|████████▌ | 17/20 [00:46<00:08,  2.74s/it]"
                    ]
                },
                {
                    "name": "stdout",
                    "output_type": "stream",
                    "text": [
                        "(10, 100000, 1)\n"
                    ]
                },
                {
                    "name": "stderr",
                    "output_type": "stream",
                    "text": [
                        " 90%|█████████ | 18/20 [00:49<00:05,  2.77s/it]"
                    ]
                },
                {
                    "name": "stdout",
                    "output_type": "stream",
                    "text": [
                        "(10, 100000, 1)\n"
                    ]
                },
                {
                    "name": "stderr",
                    "output_type": "stream",
                    "text": [
                        " 95%|█████████▌| 19/20 [00:52<00:02,  2.71s/it]"
                    ]
                },
                {
                    "name": "stdout",
                    "output_type": "stream",
                    "text": [
                        "(10, 100000, 1)\n"
                    ]
                },
                {
                    "name": "stderr",
                    "output_type": "stream",
                    "text": [
                        "100%|██████████| 20/20 [00:55<00:00,  2.75s/it]\n"
                    ]
                },
                {
                    "data": {
                        "text/plain": [
                            "Text(0, 0.5, 'Predicted')"
                        ]
                    },
                    "execution_count": 104,
                    "metadata": {},
                    "output_type": "execute_result"
                },
                {
                    "data": {
                        "image/png": "[encoded data removed]",
                        "text/plain": [
                            "<Figure size 640x480 with 1 Axes>"
                        ]
                    },
                    "metadata": {},
                    "output_type": "display_data"
                }
            ],
            "source": [
                "from tqdm import tqdm\n",
                "\n",
                "n_test_batch = 10\n",
                "n_test_batches = len(halo_pos_test) // n_test_batch\n",
                "\n",
                "for i in tqdm(range(n_test_batches)):\n",
                "\n",
                "    # TODO: jit/pmap\n",
                "    graph = build_graph(halo_pos_test[i * n_test_batch:(i + 1) * n_test_batch], \n",
                "                        None, \n",
                "                        k=20, \n",
                "                        use_pbc=False, \n",
                "                        use_edges=True, \n",
                "                        use_rbf=False, \n",
                "                        mean=halo_pos_mean, \n",
                "                        std=halo_pos_std\n",
                "                        )\n",
                "    \n",
                "    omega_m_pred = jax.jit(model.apply)(unreplicate(pstate).params, graph)\n",
                "\n",
                "    plt.scatter(omega_m_test[i * n_test_batch:(i + 1) * n_test_batch], omega_m_pred[:, 0], s=10, color='firebrick')\n",
                "    \n",
                "plt.plot(omega_m_test[:n_test_batch], omega_m_test[:n_test_batch], color='gray')\n",
                "\n",
                "plt.xlabel(\"True\")\n",
                "plt.ylabel(\"Predicted\")"
            ]
        },
        {
            "cell_type": "markdown",
            "metadata": {},
            "source": []
        },
        {
            "cell_type": "markdown",
            "metadata": {},
            "source": []
        }
    ],
    "metadata": {
        "kernelspec": {
            "display_name": "Python 3 (ipykernel)",
            "language": "python",
            "name": "python3"
        },
        "language_info": {
            "codemirror_mode": {
                "name": "ipython",
                "version": 3
            },
            "file_extension": ".py",
            "mimetype": "text/x-python",
            "name": "python",
            "nbconvert_exporter": "python",
            "pygments_lexer": "ipython3",
            "version": "3.10.14"
        }
    },
    "nbformat": 4,
    "nbformat_minor": 4
}
