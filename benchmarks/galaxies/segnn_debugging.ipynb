{
    "cells": [
        {
            "cell_type": "code",
            "execution_count": 1,
            "metadata": {},
            "outputs": [],
            "source": [
                "import sys\n",
                "sys.path.append(\"../\")"
            ]
        },
        {
            "cell_type": "code",
            "execution_count": 2,
            "metadata": {},
            "outputs": [],
            "source": [
                "from pathlib import Path\n",
                "# import numpy as np\n",
                "import jax.numpy as np\n",
                "import pandas as pd\n",
                "import jax\n",
                "import jraph\n",
                "import matplotlib.pyplot as plt\n",
                "\n",
                "%load_ext autoreload\n",
                "%autoreload 2"
            ]
        },
        {
            "cell_type": "code",
            "execution_count": 3,
            "metadata": {},
            "outputs": [],
            "source": [
                "data_dir = Path('/n/holystore01/LABS/iaifi_lab/Lab/set-diffuser-data/val_split/')\n",
                "halos = np.load(data_dir / 'train_halos.npy')\n",
                "\n",
                "n_nodes = 5000\n",
                "halos =  halos[:, :n_nodes, :] / 1000.\n",
                "\n",
                "halos_test = np.load(data_dir / 'test_halos.npy')\n",
                "halos_test =  halos_test[:, :n_nodes, :]/ 1000."
            ]
        },
        {
            "cell_type": "markdown",
            "metadata": {},
            "source": [
                "## Prepare data"
            ]
        },
        {
            "cell_type": "code",
            "execution_count": 4,
            "metadata": {},
            "outputs": [
                {
                    "name": "stdout",
                    "output_type": "stream",
                    "text": [
                        "1600\n"
                    ]
                }
            ],
            "source": [
                "cosmology = pd.read_csv(data_dir / f'train_cosmology.csv')\n",
                "cosmology_test = pd.read_csv(data_dir / f'test_cosmology.csv')\n",
                "print(len(cosmology))"
            ]
        },
        {
            "cell_type": "code",
            "execution_count": 5,
            "metadata": {},
            "outputs": [
                {
                    "data": {
                        "text/html": [
                            "<div>\n",
                            "<style scoped>\n",
                            "    .dataframe tbody tr th:only-of-type {\n",
                            "        vertical-align: middle;\n",
                            "    }\n",
                            "\n",
                            "    .dataframe tbody tr th {\n",
                            "        vertical-align: top;\n",
                            "    }\n",
                            "\n",
                            "    .dataframe thead th {\n",
                            "        text-align: right;\n",
                            "    }\n",
                            "</style>\n",
                            "<table border=\"1\" class=\"dataframe\">\n",
                            "  <thead>\n",
                            "    <tr style=\"text-align: right;\">\n",
                            "      <th></th>\n",
                            "      <th>Omega_m</th>\n",
                            "      <th>Omega_b</th>\n",
                            "      <th>h</th>\n",
                            "      <th>n_s</th>\n",
                            "      <th>sigma_8</th>\n",
                            "    </tr>\n",
                            "  </thead>\n",
                            "  <tbody>\n",
                            "    <tr>\n",
                            "      <th>0</th>\n",
                            "      <td>0.1755</td>\n",
                            "      <td>0.06681</td>\n",
                            "      <td>0.7737</td>\n",
                            "      <td>0.8849</td>\n",
                            "      <td>0.6641</td>\n",
                            "    </tr>\n",
                            "    <tr>\n",
                            "      <th>1</th>\n",
                            "      <td>0.2139</td>\n",
                            "      <td>0.05557</td>\n",
                            "      <td>0.8599</td>\n",
                            "      <td>0.9785</td>\n",
                            "      <td>0.8619</td>\n",
                            "    </tr>\n",
                            "    <tr>\n",
                            "      <th>2</th>\n",
                            "      <td>0.1867</td>\n",
                            "      <td>0.04503</td>\n",
                            "      <td>0.6189</td>\n",
                            "      <td>0.8307</td>\n",
                            "      <td>0.7187</td>\n",
                            "    </tr>\n",
                            "  </tbody>\n",
                            "</table>\n",
                            "</div>"
                        ],
                        "text/plain": [
                            "   Omega_m  Omega_b       h     n_s  sigma_8\n",
                            "0   0.1755  0.06681  0.7737  0.8849   0.6641\n",
                            "1   0.2139  0.05557  0.8599  0.9785   0.8619\n",
                            "2   0.1867  0.04503  0.6189  0.8307   0.7187"
                        ]
                    },
                    "execution_count": 5,
                    "metadata": {},
                    "output_type": "execute_result"
                }
            ],
            "source": [
                "cosmology.head(3)"
            ]
        },
        {
            "cell_type": "code",
            "execution_count": 6,
            "metadata": {},
            "outputs": [],
            "source": [
                "omega_m = np.array(cosmology['Omega_m'].values)[:,None]\n",
                "omega_m_test = np.array(cosmology_test['Omega_m'].values)[:,None]"
            ]
        },
        {
            "cell_type": "markdown",
            "metadata": {},
            "source": [
                "## Train EGNN"
            ]
        },
        {
            "cell_type": "code",
            "execution_count": 7,
            "metadata": {},
            "outputs": [],
            "source": [
                "import flax\n",
                "from flax.training.train_state import TrainState\n",
                "from functools import partial\n",
                "import flax.linen as nn\n",
                "import optax\n",
                "from tqdm import trange\n",
                "\n",
                "replicate = flax.jax_utils.replicate\n",
                "unreplicate = flax.jax_utils.unreplicate"
            ]
        },
        {
            "cell_type": "code",
            "execution_count": 8,
            "metadata": {},
            "outputs": [],
            "source": [
                "import sys\n",
                "sys.path.append(\"../../\")\n",
                "from models.utils.equivariant_graph_utils import get_equivariant_graph\n",
                "from models.utils.graph_utils import build_graph\n",
                "from models.utils.irreps_utils import weight_balanced_irreps\n",
                "from models.segnn import SEGNN\n",
                "from models.utils.graph_utils import get_apply_pbc"
            ]
        },
        {
            "cell_type": "code",
            "execution_count": 14,
            "metadata": {},
            "outputs": [],
            "source": [
                "n_feat = 3\n",
                "\n",
                "halo_pos_mean = halos[..., :n_feat].mean((0,1))\n",
                "halo_pos_std = halos[..., :n_feat].std((0,1))\n",
                "\n",
                "use_pbcs = True\n",
                "apply_pbc = get_apply_pbc(std=halo_pos_std,) if use_pbcs else None"
            ]
        },
        {
            "cell_type": "code",
            "execution_count": 15,
            "metadata": {},
            "outputs": [],
            "source": [
                "halo_pos = (halos[..., :n_feat] - halo_pos_mean)  / halo_pos_std\n",
                "halo_pos_test = (halos_test[..., :n_feat] - halo_pos_mean)  / halo_pos_std"
            ]
        },
        {
            "cell_type": "code",
            "execution_count": 16,
            "metadata": {},
            "outputs": [],
            "source": [
                "import e3nn_jax as e3nn\n",
                "from typing import Dict\n",
                "\n",
                "SEGNN_PARAMS = {\n",
                "    \"d_hidden\": 64,\n",
                "    \"l_max_hidden\": 1,\n",
                "    \"num_blocks\": 2,\n",
                "    \"num_message_passing_steps\": 3,\n",
                "    \"intermediate_hidden_irreps\": True,\n",
                "    \"task\": \"graph\",\n",
                "    \"output_irreps\": e3nn.Irreps(\"1x0e\"),\n",
                "    \"hidden_irreps\": weight_balanced_irreps(lmax=1,\n",
                "                                            scalar_units=64,\n",
                "                                            irreps_right=e3nn.Irreps.spherical_harmonics(1),\n",
                "                                            ),\n",
                "    \"normalize_messages\": True,\n",
                "    \"message_passing_agg\": \"mean\",\n",
                "    \"readout_agg\": \"mean\",\n",
                "}\n",
                "\n",
                "class GraphWrapper(nn.Module):\n",
                "    param_dict: Dict\n",
                "\n",
                "    @nn.compact\n",
                "    def __call__(self, x):\n",
                "\n",
                "        positions = e3nn.IrrepsArray(\"1o\", x.nodes[..., :3])\n",
                "        \n",
                "        if x.nodes.shape[-1] == 3:\n",
                "            nodes = e3nn.IrrepsArray(\"1o\", x.nodes[..., :])\n",
                "            velocities = None\n",
                "        else:\n",
                "            nodes = e3nn.IrrepsArray(\"1o + 1o\", x.nodes[..., :])\n",
                "            velocities = e3nn.IrrepsArray(\"1o\", x.nodes[..., 3:6])\n",
                "\n",
                "        # print(nodes)\n",
                "        \n",
                "        st_graph = get_equivariant_graph(\n",
                "            node_features=nodes,\n",
                "            positions=positions,\n",
                "            velocities=None,\n",
                "            steerable_velocities=False,\n",
                "            senders=x.senders,\n",
                "            receivers=x.receivers,\n",
                "            n_node=x.n_node,\n",
                "            n_edge=x.n_edge,\n",
                "            globals=x.globals,\n",
                "            edges=None,\n",
                "            lmax_attributes=1,\n",
                "            apply_pbc=apply_pbc\n",
                "        )\n",
                "\n",
                "        print(st_graph.additional_messages.shape)\n",
                "        \n",
                "        return jax.vmap(SEGNN(**self.param_dict))(st_graph)"
            ]
        },
        {
            "cell_type": "code",
            "execution_count": 17,
            "metadata": {},
            "outputs": [
                {
                    "name": "stderr",
                    "output_type": "stream",
                    "text": [
                        "2024-04-05 12:34:39.788895: W external/xla/xla/service/gpu/triton_autotuner.cc:646] Compiling 12 configs for triton_gemm_dot on a single thread.\n"
                    ]
                },
                {
                    "name": "stdout",
                    "output_type": "stream",
                    "text": [
                        "(8, 100000, 1)\n"
                    ]
                },
                {
                    "data": {
                        "text/plain": [
                            "169537"
                        ]
                    },
                    "execution_count": 17,
                    "metadata": {},
                    "output_type": "execute_result"
                }
            ],
            "source": [
                "graph = build_graph(halo_pos[:8], \n",
                "                None, \n",
                "                k=20, \n",
                "                apply_pbc=apply_pbc,\n",
                "                use_edges=True, \n",
                "                use_rbf=False, \n",
                ")\n",
                "\n",
                "model = GraphWrapper(SEGNN_PARAMS, )\n",
                "\n",
                "out, params = model.init_with_output(jax.random.PRNGKey(0), graph)\n",
                "sum(x.size for x in jax.tree_util.tree_leaves(params))"
            ]
        },
        {
            "cell_type": "code",
            "execution_count": 18,
            "metadata": {},
            "outputs": [
                {
                    "data": {
                        "text/plain": [
                            "Array([[ 1.3835017e-04],\n",
                            "       [ 1.4364827e-04],\n",
                            "       [ 5.8680298e-06],\n",
                            "       [-5.0760988e-05],\n",
                            "       [ 7.6572433e-05],\n",
                            "       [-1.1457239e-05],\n",
                            "       [-1.9979485e-05],\n",
                            "       [-1.3540914e-04]], dtype=float32)"
                        ]
                    },
                    "execution_count": 18,
                    "metadata": {},
                    "output_type": "execute_result"
                }
            ],
            "source": [
                "out"
            ]
        },
        {
            "cell_type": "code",
            "execution_count": 19,
            "metadata": {},
            "outputs": [
                {
                    "name": "stdout",
                    "output_type": "stream",
                    "text": [
                        "1 GPUs available\n"
                    ]
                }
            ],
            "source": [
                "# Devices\n",
                "num_local_devices = jax.local_device_count()\n",
                "print(f\"{num_local_devices} GPUs available\")"
            ]
        },
        {
            "cell_type": "code",
            "execution_count": 20,
            "metadata": {},
            "outputs": [],
            "source": [
                "# Define train state and replicate across devices\n",
                "tx = optax.adamw(learning_rate=2e-4, weight_decay=1e-5)\n",
                "state = TrainState.create(apply_fn=model.apply, params=params, tx=tx)\n",
                "pstate = replicate(state)"
            ]
        },
        {
            "cell_type": "code",
            "execution_count": 21,
            "metadata": {},
            "outputs": [
                {
                    "name": "stdout",
                    "output_type": "stream",
                    "text": [
                        "1 GPUs available\n"
                    ]
                }
            ],
            "source": [
                "# Devices\n",
                "num_local_devices = jax.local_device_count()\n",
                "print(f\"{num_local_devices} GPUs available\")"
            ]
        },
        {
            "cell_type": "code",
            "execution_count": 22,
            "metadata": {},
            "outputs": [],
            "source": [
                "def loss_mse(pred_batch, cosmo_batch,):\n",
                "    return np.mean((pred_batch - cosmo_batch) ** 2)\n",
                "\n",
                "@partial(jax.pmap, axis_name=\"batch\",)\n",
                "def train_step(state, halo_batch, cosmo_batch,):\n",
                "\n",
                "    halo_graph = build_graph(halo_batch, \n",
                "                None, \n",
                "                k=20, \n",
                "                use_edges=True, \n",
                "                use_rbf=False, \n",
                "                apply_pbc=apply_pbc,\n",
                "    )\n",
                "\n",
                "    \n",
                "    def loss_fn(params):\n",
                "        outputs = state.apply_fn(params, halo_graph)\n",
                "        loss = loss_mse(outputs, cosmo_batch)\n",
                "        return loss\n",
                "\n",
                "    # Get loss, grads, and update state\n",
                "    loss, grads = jax.value_and_grad(loss_fn)(state.params)\n",
                "    grads = jax.lax.pmean(grads, \"batch\")\n",
                "    new_state = state.apply_gradients(grads=grads)\n",
                "    metrics = {\"loss\": jax.lax.pmean(loss, \"batch\")}\n",
                "    \n",
                "    return new_state, metrics"
            ]
        },
        {
            "cell_type": "code",
            "execution_count": 23,
            "metadata": {},
            "outputs": [
                {
                    "name": "stderr",
                    "output_type": "stream",
                    "text": [
                        "  0%|          | 0/2000 [00:00<?, ?it/s]"
                    ]
                },
                {
                    "name": "stdout",
                    "output_type": "stream",
                    "text": [
                        "(32, 100000, 1)\n"
                    ]
                },
                {
                    "name": "stderr",
                    "output_type": "stream",
                    "text": [
                        "2024-04-05 12:41:13.060135: W external/xla/xla/service/gpu/triton_autotuner.cc:650] Compiling 262 configs for 17 fusions on a single thread.\n",
                        " 33%|███▎      | 653/2000 [09:36<19:48,  1.13it/s, loss=0.0043081134]\n"
                    ]
                },
                {
                    "ename": "KeyboardInterrupt",
                    "evalue": "",
                    "output_type": "error",
                    "traceback": [
                        "\u001b[0;31m---------------------------------------------------------------------------\u001b[0m",
                        "\u001b[0;31mKeyboardInterrupt\u001b[0m                         Traceback (most recent call last)",
                        "Cell \u001b[0;32mIn[23], line 22\u001b[0m\n\u001b[1;32m     18\u001b[0m halo_batch, cosmo_batch \u001b[38;5;241m=\u001b[39m np\u001b[38;5;241m.\u001b[39marray(halo_batch), np\u001b[38;5;241m.\u001b[39marray(cosmo_batch)\n\u001b[1;32m     20\u001b[0m pstate, metrics \u001b[38;5;241m=\u001b[39m train_step(pstate, halo_batch, cosmo_batch)\n\u001b[0;32m---> 22\u001b[0m \u001b[43msteps\u001b[49m\u001b[38;5;241;43m.\u001b[39;49m\u001b[43mset_postfix\u001b[49m\u001b[43m(\u001b[49m\u001b[43mloss\u001b[49m\u001b[38;5;241;43m=\u001b[39;49m\u001b[43munreplicate\u001b[49m\u001b[43m(\u001b[49m\u001b[43mmetrics\u001b[49m\u001b[43m[\u001b[49m\u001b[38;5;124;43m\"\u001b[39;49m\u001b[38;5;124;43mloss\u001b[39;49m\u001b[38;5;124;43m\"\u001b[39;49m\u001b[43m]\u001b[49m\u001b[43m)\u001b[49m\u001b[43m)\u001b[49m\n",
                        "File \u001b[0;32m/n/holystore01/LABS/iaifi_lab/Lab/environments/carol/envs/parity/lib/python3.10/site-packages/tqdm/std.py:1425\u001b[0m, in \u001b[0;36mtqdm.set_postfix\u001b[0;34m(self, ordered_dict, refresh, **kwargs)\u001b[0m\n\u001b[1;32m   1423\u001b[0m     \u001b[38;5;66;03m# Else for any other type, try to get the string conversion\u001b[39;00m\n\u001b[1;32m   1424\u001b[0m     \u001b[38;5;28;01melif\u001b[39;00m \u001b[38;5;129;01mnot\u001b[39;00m \u001b[38;5;28misinstance\u001b[39m(postfix[key], \u001b[38;5;28mstr\u001b[39m):\n\u001b[0;32m-> 1425\u001b[0m         postfix[key] \u001b[38;5;241m=\u001b[39m \u001b[38;5;28;43mstr\u001b[39;49m\u001b[43m(\u001b[49m\u001b[43mpostfix\u001b[49m\u001b[43m[\u001b[49m\u001b[43mkey\u001b[49m\u001b[43m]\u001b[49m\u001b[43m)\u001b[49m\n\u001b[1;32m   1426\u001b[0m     \u001b[38;5;66;03m# Else if it's a string, don't need to preprocess anything\u001b[39;00m\n\u001b[1;32m   1427\u001b[0m \u001b[38;5;66;03m# Stitch together to get the final postfix\u001b[39;00m\n\u001b[1;32m   1428\u001b[0m \u001b[38;5;28mself\u001b[39m\u001b[38;5;241m.\u001b[39mpostfix \u001b[38;5;241m=\u001b[39m \u001b[38;5;124m'\u001b[39m\u001b[38;5;124m, \u001b[39m\u001b[38;5;124m'\u001b[39m\u001b[38;5;241m.\u001b[39mjoin(key \u001b[38;5;241m+\u001b[39m \u001b[38;5;124m'\u001b[39m\u001b[38;5;124m=\u001b[39m\u001b[38;5;124m'\u001b[39m \u001b[38;5;241m+\u001b[39m postfix[key]\u001b[38;5;241m.\u001b[39mstrip()\n\u001b[1;32m   1429\u001b[0m                          \u001b[38;5;28;01mfor\u001b[39;00m key \u001b[38;5;129;01min\u001b[39;00m postfix\u001b[38;5;241m.\u001b[39mkeys())\n",
                        "File \u001b[0;32m/n/holystore01/LABS/iaifi_lab/Lab/environments/carol/envs/parity/lib/python3.10/site-packages/jax/_src/array.py:260\u001b[0m, in \u001b[0;36mArrayImpl.__str__\u001b[0;34m(self)\u001b[0m\n\u001b[1;32m    259\u001b[0m \u001b[38;5;28;01mdef\u001b[39;00m \u001b[38;5;21m__str__\u001b[39m(\u001b[38;5;28mself\u001b[39m):\n\u001b[0;32m--> 260\u001b[0m   \u001b[38;5;28;01mreturn\u001b[39;00m \u001b[38;5;28mstr\u001b[39m(\u001b[38;5;28;43mself\u001b[39;49m\u001b[38;5;241;43m.\u001b[39;49m\u001b[43m_value\u001b[49m)\n",
                        "File \u001b[0;32m/n/holystore01/LABS/iaifi_lab/Lab/environments/carol/envs/parity/lib/python3.10/site-packages/jax/_src/profiler.py:336\u001b[0m, in \u001b[0;36mannotate_function.<locals>.wrapper\u001b[0;34m(*args, **kwargs)\u001b[0m\n\u001b[1;32m    333\u001b[0m \u001b[38;5;129m@wraps\u001b[39m(func)\n\u001b[1;32m    334\u001b[0m \u001b[38;5;28;01mdef\u001b[39;00m \u001b[38;5;21mwrapper\u001b[39m(\u001b[38;5;241m*\u001b[39margs, \u001b[38;5;241m*\u001b[39m\u001b[38;5;241m*\u001b[39mkwargs):\n\u001b[1;32m    335\u001b[0m   \u001b[38;5;28;01mwith\u001b[39;00m TraceAnnotation(name, \u001b[38;5;241m*\u001b[39m\u001b[38;5;241m*\u001b[39mdecorator_kwargs):\n\u001b[0;32m--> 336\u001b[0m     \u001b[38;5;28;01mreturn\u001b[39;00m \u001b[43mfunc\u001b[49m\u001b[43m(\u001b[49m\u001b[38;5;241;43m*\u001b[39;49m\u001b[43margs\u001b[49m\u001b[43m,\u001b[49m\u001b[43m \u001b[49m\u001b[38;5;241;43m*\u001b[39;49m\u001b[38;5;241;43m*\u001b[39;49m\u001b[43mkwargs\u001b[49m\u001b[43m)\u001b[49m\n\u001b[1;32m    337\u001b[0m   \u001b[38;5;28;01mreturn\u001b[39;00m wrapper\n",
                        "File \u001b[0;32m/n/holystore01/LABS/iaifi_lab/Lab/environments/carol/envs/parity/lib/python3.10/site-packages/jax/_src/array.py:605\u001b[0m, in \u001b[0;36mArrayImpl._value\u001b[0;34m(self)\u001b[0m\n\u001b[1;32m    603\u001b[0m \u001b[38;5;28;01mif\u001b[39;00m \u001b[38;5;28mself\u001b[39m\u001b[38;5;241m.\u001b[39m_npy_value \u001b[38;5;129;01mis\u001b[39;00m \u001b[38;5;28;01mNone\u001b[39;00m:\n\u001b[1;32m    604\u001b[0m   \u001b[38;5;28;01mif\u001b[39;00m \u001b[38;5;28mself\u001b[39m\u001b[38;5;241m.\u001b[39mis_fully_replicated:\n\u001b[0;32m--> 605\u001b[0m     \u001b[38;5;28mself\u001b[39m\u001b[38;5;241m.\u001b[39m_npy_value \u001b[38;5;241m=\u001b[39m \u001b[38;5;28;43mself\u001b[39;49m\u001b[38;5;241;43m.\u001b[39;49m\u001b[43m_single_device_array_to_np_array\u001b[49m\u001b[43m(\u001b[49m\u001b[43m)\u001b[49m  \u001b[38;5;66;03m# type: ignore\u001b[39;00m\n\u001b[1;32m    606\u001b[0m     \u001b[38;5;28mself\u001b[39m\u001b[38;5;241m.\u001b[39m_npy_value\u001b[38;5;241m.\u001b[39mflags\u001b[38;5;241m.\u001b[39mwriteable \u001b[38;5;241m=\u001b[39m \u001b[38;5;28;01mFalse\u001b[39;00m\n\u001b[1;32m    607\u001b[0m     \u001b[38;5;28;01mreturn\u001b[39;00m cast(np\u001b[38;5;241m.\u001b[39mndarray, \u001b[38;5;28mself\u001b[39m\u001b[38;5;241m.\u001b[39m_npy_value)\n",
                        "\u001b[0;31mKeyboardInterrupt\u001b[0m: "
                    ]
                }
            ],
            "source": [
                "n_steps = 2000\n",
                "n_batch = 32\n",
                "n_train = 1800 \n",
                "\n",
                "key = jax.random.PRNGKey(0)\n",
                "\n",
                "with trange(n_steps) as steps:\n",
                "    for step in steps:\n",
                "        key, subkey = jax.random.split(key)\n",
                "        idx = jax.random.choice(key, halo_pos.shape[0], shape=(n_batch,))\n",
                "        \n",
                "        halo_batch, cosmo_batch = halo_pos[:n_train][idx], omega_m[:n_train][idx]\n",
                "        # halo_batch, cosmo_batch = halo_pos[:n_batch], omega_m[:n_batch]  # Overfit on a small sample\n",
                "\n",
                "        # Split batches across devices\n",
                "        halo_batch = jax.tree_map(lambda x: np.split(x, num_local_devices, axis=0), halo_batch)\n",
                "        cosmo_batch = jax.tree_map(lambda x: np.split(x, num_local_devices, axis=0), cosmo_batch)\n",
                "        halo_batch, cosmo_batch = np.array(halo_batch), np.array(cosmo_batch)\n",
                "\n",
                "        pstate, metrics = train_step(pstate, halo_batch, cosmo_batch)\n",
                "        \n",
                "        steps.set_postfix(loss=unreplicate(metrics[\"loss\"]))"
            ]
        },
        {
            "cell_type": "code",
            "execution_count": 24,
            "metadata": {},
            "outputs": [
                {
                    "name": "stderr",
                    "output_type": "stream",
                    "text": [
                        "  0%|          | 0/1 [00:00<?, ?it/s]"
                    ]
                },
                {
                    "name": "stdout",
                    "output_type": "stream",
                    "text": [
                        "(8, 100000, 1)\n"
                    ]
                },
                {
                    "name": "stderr",
                    "output_type": "stream",
                    "text": [
                        "2024-04-05 12:50:54.625275: W external/xla/xla/service/gpu/triton_autotuner.cc:650] Compiling 91 configs for 6 fusions on a single thread.\n",
                        "100%|██████████| 1/1 [00:14<00:00, 14.04s/it]\n"
                    ]
                },
                {
                    "data": {
                        "text/plain": [
                            "Text(0, 0.5, 'Predicted')"
                        ]
                    },
                    "execution_count": 24,
                    "metadata": {},
                    "output_type": "execute_result"
                },
                {
                    "data": {
                        "image/png": "[encoded data removed]",
                        "text/plain": [
                            "<Figure size 640x480 with 1 Axes>"
                        ]
                    },
                    "metadata": {},
                    "output_type": "display_data"
                }
            ],
            "source": [
                "from tqdm import tqdm\n",
                "\n",
                "n_test_batch = 8\n",
                "\n",
                "for i in tqdm(range(1)):\n",
                "\n",
                "    # TODO: jit/pmap\n",
                "    graph = build_graph(halo_pos[i * n_test_batch:(i + 1) * n_test_batch], \n",
                "                        None, \n",
                "                        k=20, \n",
                "                        use_edges=True, \n",
                "                        use_rbf=False, \n",
                "                        apply_pbc=apply_pbc,\n",
                "                        )\n",
                "    \n",
                "    omega_m_pred = jax.jit(model.apply)(unreplicate(pstate).params, graph)\n",
                "\n",
                "    plt.scatter(omega_m[i * n_test_batch:(i + 1) * n_test_batch], omega_m_pred[:, 0], s=10, color='firebrick')\n",
                "    \n",
                "# Plot a diagonal (y=x) line\n",
                "plt.plot([0, 1], [0, 1], color = 'black', linewidth = 1)\n",
                "\n",
                "plt.xlabel(\"True\")\n",
                "plt.ylabel(\"Predicted\")"
            ]
        },
        {
            "cell_type": "code",
            "execution_count": 25,
            "metadata": {},
            "outputs": [
                {
                    "name": "stderr",
                    "output_type": "stream",
                    "text": [
                        "  0%|          | 0/20 [00:00<?, ?it/s]"
                    ]
                },
                {
                    "name": "stderr",
                    "output_type": "stream",
                    "text": [
                        "2024-04-05 12:51:20.954952: W external/xla/xla/service/gpu/triton_autotuner.cc:646] Compiling 12 configs for triton_gemm_dot on a single thread.\n"
                    ]
                },
                {
                    "name": "stdout",
                    "output_type": "stream",
                    "text": [
                        "(10, 100000, 1)\n"
                    ]
                },
                {
                    "name": "stderr",
                    "output_type": "stream",
                    "text": [
                        "2024-04-05 12:51:26.269223: W external/xla/xla/service/gpu/triton_autotuner.cc:650] Compiling 91 configs for 6 fusions on a single thread.\n",
                        "  5%|▌         | 1/20 [00:17<05:24, 17.09s/it]"
                    ]
                },
                {
                    "name": "stdout",
                    "output_type": "stream",
                    "text": [
                        "(10, 100000, 1)\n"
                    ]
                },
                {
                    "name": "stderr",
                    "output_type": "stream",
                    "text": [
                        " 10%|█         | 2/20 [00:18<02:24,  8.05s/it]"
                    ]
                },
                {
                    "name": "stdout",
                    "output_type": "stream",
                    "text": [
                        "(10, 100000, 1)\n"
                    ]
                },
                {
                    "name": "stderr",
                    "output_type": "stream",
                    "text": [
                        " 15%|█▌        | 3/20 [00:20<01:27,  5.14s/it]"
                    ]
                },
                {
                    "name": "stdout",
                    "output_type": "stream",
                    "text": [
                        "(10, 100000, 1)\n"
                    ]
                },
                {
                    "name": "stderr",
                    "output_type": "stream",
                    "text": [
                        " 20%|██        | 4/20 [00:22<01:01,  3.85s/it]"
                    ]
                },
                {
                    "name": "stdout",
                    "output_type": "stream",
                    "text": [
                        "(10, 100000, 1)\n"
                    ]
                },
                {
                    "name": "stderr",
                    "output_type": "stream",
                    "text": [
                        " 25%|██▌       | 5/20 [00:23<00:45,  3.02s/it]"
                    ]
                },
                {
                    "name": "stdout",
                    "output_type": "stream",
                    "text": [
                        "(10, 100000, 1)\n"
                    ]
                },
                {
                    "name": "stderr",
                    "output_type": "stream",
                    "text": [
                        " 30%|███       | 6/20 [00:25<00:36,  2.57s/it]"
                    ]
                },
                {
                    "name": "stdout",
                    "output_type": "stream",
                    "text": [
                        "(10, 100000, 1)\n"
                    ]
                },
                {
                    "name": "stderr",
                    "output_type": "stream",
                    "text": [
                        " 35%|███▌      | 7/20 [00:27<00:30,  2.31s/it]"
                    ]
                },
                {
                    "name": "stdout",
                    "output_type": "stream",
                    "text": [
                        "(10, 100000, 1)\n"
                    ]
                },
                {
                    "name": "stderr",
                    "output_type": "stream",
                    "text": [
                        " 40%|████      | 8/20 [00:29<00:26,  2.25s/it]"
                    ]
                },
                {
                    "name": "stdout",
                    "output_type": "stream",
                    "text": [
                        "(10, 100000, 1)\n"
                    ]
                },
                {
                    "name": "stderr",
                    "output_type": "stream",
                    "text": [
                        " 45%|████▌     | 9/20 [00:31<00:25,  2.30s/it]"
                    ]
                },
                {
                    "name": "stdout",
                    "output_type": "stream",
                    "text": [
                        "(10, 100000, 1)\n"
                    ]
                },
                {
                    "name": "stderr",
                    "output_type": "stream",
                    "text": [
                        " 50%|█████     | 10/20 [00:33<00:20,  2.08s/it]"
                    ]
                },
                {
                    "name": "stdout",
                    "output_type": "stream",
                    "text": [
                        "(10, 100000, 1)\n"
                    ]
                },
                {
                    "name": "stderr",
                    "output_type": "stream",
                    "text": [
                        " 55%|█████▌    | 11/20 [00:35<00:18,  2.01s/it]"
                    ]
                },
                {
                    "name": "stdout",
                    "output_type": "stream",
                    "text": [
                        "(10, 100000, 1)\n"
                    ]
                },
                {
                    "name": "stderr",
                    "output_type": "stream",
                    "text": [
                        " 60%|██████    | 12/20 [00:37<00:15,  1.92s/it]"
                    ]
                },
                {
                    "name": "stdout",
                    "output_type": "stream",
                    "text": [
                        "(10, 100000, 1)\n"
                    ]
                },
                {
                    "name": "stderr",
                    "output_type": "stream",
                    "text": [
                        " 65%|██████▌   | 13/20 [00:39<00:13,  1.96s/it]"
                    ]
                },
                {
                    "name": "stdout",
                    "output_type": "stream",
                    "text": [
                        "(10, 100000, 1)\n"
                    ]
                },
                {
                    "name": "stderr",
                    "output_type": "stream",
                    "text": [
                        " 70%|███████   | 14/20 [00:40<00:11,  1.84s/it]"
                    ]
                },
                {
                    "name": "stdout",
                    "output_type": "stream",
                    "text": [
                        "(10, 100000, 1)\n"
                    ]
                },
                {
                    "name": "stderr",
                    "output_type": "stream",
                    "text": [
                        " 75%|███████▌  | 15/20 [00:42<00:08,  1.76s/it]"
                    ]
                },
                {
                    "name": "stdout",
                    "output_type": "stream",
                    "text": [
                        "(10, 100000, 1)\n"
                    ]
                },
                {
                    "name": "stderr",
                    "output_type": "stream",
                    "text": [
                        " 80%|████████  | 16/20 [00:44<00:07,  1.77s/it]"
                    ]
                },
                {
                    "name": "stdout",
                    "output_type": "stream",
                    "text": [
                        "(10, 100000, 1)\n"
                    ]
                },
                {
                    "name": "stderr",
                    "output_type": "stream",
                    "text": [
                        " 85%|████████▌ | 17/20 [00:45<00:05,  1.71s/it]"
                    ]
                },
                {
                    "name": "stdout",
                    "output_type": "stream",
                    "text": [
                        "(10, 100000, 1)\n"
                    ]
                },
                {
                    "name": "stderr",
                    "output_type": "stream",
                    "text": [
                        " 90%|█████████ | 18/20 [00:47<00:03,  1.73s/it]"
                    ]
                },
                {
                    "name": "stdout",
                    "output_type": "stream",
                    "text": [
                        "(10, 100000, 1)\n"
                    ]
                },
                {
                    "name": "stderr",
                    "output_type": "stream",
                    "text": [
                        " 95%|█████████▌| 19/20 [00:48<00:01,  1.68s/it]"
                    ]
                },
                {
                    "name": "stdout",
                    "output_type": "stream",
                    "text": [
                        "(10, 100000, 1)\n"
                    ]
                },
                {
                    "name": "stderr",
                    "output_type": "stream",
                    "text": [
                        "100%|██████████| 20/20 [00:50<00:00,  2.53s/it]\n"
                    ]
                },
                {
                    "data": {
                        "text/plain": [
                            "Text(0, 0.5, 'Predicted')"
                        ]
                    },
                    "execution_count": 25,
                    "metadata": {},
                    "output_type": "execute_result"
                },
                {
                    "data": {
                        "image/png": "[encoded data removed]",
                        "text/plain": [
                            "<Figure size 640x480 with 1 Axes>"
                        ]
                    },
                    "metadata": {},
                    "output_type": "display_data"
                }
            ],
            "source": [
                "from tqdm import tqdm\n",
                "\n",
                "n_test_batch = 10\n",
                "n_test_batches = len(halo_pos_test) // n_test_batch\n",
                "\n",
                "for i in tqdm(range(n_test_batches)):\n",
                "\n",
                "    # TODO: jit/pmap\n",
                "    graph = build_graph(halo_pos_test[i * n_test_batch:(i + 1) * n_test_batch], \n",
                "                        None, \n",
                "                        k=20, \n",
                "                        use_edges=True, \n",
                "                        use_rbf=False, \n",
                "                        apply_pbc=apply_pbc,\n",
                "                        )\n",
                "    \n",
                "    omega_m_pred = jax.jit(model.apply)(unreplicate(pstate).params, graph)\n",
                "\n",
                "    plt.scatter(omega_m_test[i * n_test_batch:(i + 1) * n_test_batch], omega_m_pred[:, 0], s=10, color='firebrick')\n",
                "    \n",
                "plt.plot(omega_m_test[:n_test_batch], omega_m_test[:n_test_batch], color='gray')\n",
                "\n",
                "plt.xlabel(\"True\")\n",
                "plt.ylabel(\"Predicted\")"
            ]
        },
        {
            "cell_type": "markdown",
            "metadata": {},
            "source": []
        },
        {
            "cell_type": "markdown",
            "metadata": {},
            "source": []
        }
    ],
    "metadata": {
        "kernelspec": {
            "display_name": "Python 3 (ipykernel)",
            "language": "python",
            "name": "python3"
        },
        "language_info": {
            "codemirror_mode": {
                "name": "ipython",
                "version": 3
            },
            "file_extension": ".py",
            "mimetype": "text/x-python",
            "name": "python",
            "nbconvert_exporter": "python",
            "pygments_lexer": "ipython3",
            "version": "3.10.14"
        }
    },
    "nbformat": 4,
    "nbformat_minor": 4
}
