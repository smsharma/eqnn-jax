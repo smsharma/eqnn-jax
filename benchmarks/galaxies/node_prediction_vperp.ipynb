{
 "cells": [
  {
   "cell_type": "code",
   "execution_count": 1,
   "metadata": {},
   "outputs": [],
   "source": [
    "import sys\n",
    "sys.path.append('../../')"
   ]
  },
  {
   "cell_type": "code",
   "execution_count": 2,
   "metadata": {},
   "outputs": [],
   "source": [
    "from functools import partial\n",
    "\n",
    "import numpy as np\n",
    "import jax\n",
    "import jax.numpy as jnp\n",
    "import flax\n",
    "import flax.linen as nn\n",
    "from flax.training.train_state import TrainState\n",
    "import jraph\n",
    "\n",
    "from models.gnn import GNN\n",
    "from models.segnn import SEGNN\n",
    "from models.utils.graph_utils import build_graph\n",
    "\n",
    "import optax\n",
    "from tqdm import trange\n",
    "\n",
    "replicate = flax.jax_utils.replicate\n",
    "unreplicate = flax.jax_utils.unreplicate"
   ]
  },
  {
   "cell_type": "code",
   "execution_count": 3,
   "metadata": {},
   "outputs": [
    {
     "data": {
      "text/plain": [
       "(1800, 5000, 6)"
      ]
     },
     "execution_count": 3,
     "metadata": {},
     "output_type": "execute_result"
    }
   ],
   "source": [
    "n_nodes = 5000\n",
    "n_features = 6\n",
    "\n",
    "x_train = np.load(\"../../../hierarchical-encdec/data/set_diffuser_data/train_halos.npy\")[:, :n_nodes, :n_features]\n",
    "x_train = x_train / 1000.\n",
    "\n",
    "# Conver to jnp\n",
    "x_train = jnp.array(x_train)\n",
    "\n",
    "x_train.shape"
   ]
  },
  {
   "cell_type": "markdown",
   "metadata": {},
   "source": [
    "Node prediction task -- randomly knock out 10% of the velocities, and try to predict them."
   ]
  },
  {
   "cell_type": "code",
   "execution_count": 128,
   "metadata": {},
   "outputs": [],
   "source": [
    "import e3nn_jax as e3nn\n",
    "from models.utils.equivariant_graph_utils import get_equivariant_graph\n",
    "from models.utils.graph_utils import build_graph\n",
    "from models.utils.irreps_utils import weight_balanced_irreps\n",
    "from models.segnn import SEGNN\n",
    "from models.utils.graph_utils import get_apply_pbc\n",
    "\n",
    "# class GraphWrapper(nn.Module):\n",
    "#     @nn.compact\n",
    "#     def __call__(self, x):        \n",
    "#         return jax.vmap(GNN(task=\"node\", d_output=2))(x)\n",
    "    \n",
    "class GraphWrapper(nn.Module):\n",
    "\n",
    "    @nn.compact\n",
    "    def __call__(self, x):\n",
    "\n",
    "        positions = e3nn.IrrepsArray(\"1o\", x.nodes[..., :3])\n",
    "        nodes = e3nn.IrrepsArray(\"1o + 1x0e\", x.nodes[..., :4])\n",
    "        velocities = e3nn.IrrepsArray(\"1x0e\", x.nodes[..., 3:])\n",
    "        \n",
    "        st_graph = get_equivariant_graph(\n",
    "            node_features=nodes,\n",
    "            positions=positions,\n",
    "            velocities=velocities,\n",
    "            steerable_velocities=False,\n",
    "            senders=x.senders,\n",
    "            receivers=x.receivers,\n",
    "            n_node=x.n_node,\n",
    "            n_edge=x.n_edge,\n",
    "            globals=x.globals,\n",
    "            edges=None,\n",
    "            lmax_attributes=1,\n",
    "            apply_pbc=None\n",
    "        )\n",
    "        \n",
    "        return jax.vmap(SEGNN(task=\"node\", output_irreps=\"1x1o\", num_blocks=3, l_max_hidden=1))(st_graph)"
   ]
  },
  {
   "cell_type": "code",
   "execution_count": 129,
   "metadata": {},
   "outputs": [],
   "source": [
    "graph = build_graph(\n",
    "    halos=x_train[:2, :, :4],\n",
    "    tpcfs=None,\n",
    "    k=20,\n",
    "    use_edges=True,\n",
    ")"
   ]
  },
  {
   "cell_type": "code",
   "execution_count": 130,
   "metadata": {},
   "outputs": [
    {
     "data": {
      "text/plain": [
       "73300"
      ]
     },
     "execution_count": 130,
     "metadata": {},
     "output_type": "execute_result"
    }
   ],
   "source": [
    "model = GraphWrapper()\n",
    "\n",
    "out, params = model.init_with_output(jax.random.PRNGKey(0), graph)\n",
    "sum(x.size for x in jax.tree_util.tree_leaves(params))"
   ]
  },
  {
   "cell_type": "code",
   "execution_count": 131,
   "metadata": {},
   "outputs": [
    {
     "name": "stdout",
     "output_type": "stream",
     "text": [
      "(2, 5000, 3)\n"
     ]
    }
   ],
   "source": [
    "print(out.nodes.shape)"
   ]
  },
  {
   "cell_type": "code",
   "execution_count": 132,
   "metadata": {},
   "outputs": [
    {
     "name": "stdout",
     "output_type": "stream",
     "text": [
      "4 GPUs available\n"
     ]
    }
   ],
   "source": [
    "# Devices\n",
    "num_local_devices = jax.local_device_count()\n",
    "print(f\"{num_local_devices} GPUs available\")"
   ]
  },
  {
   "cell_type": "code",
   "execution_count": 133,
   "metadata": {},
   "outputs": [],
   "source": [
    "# Define train state and replicate across devices\n",
    "tx = optax.adamw(learning_rate=6e-4, weight_decay=1e-5)\n",
    "state = TrainState.create(apply_fn=model.apply, params=params, tx=tx)\n",
    "pstate = replicate(state)"
   ]
  },
  {
   "cell_type": "code",
   "execution_count": 134,
   "metadata": {},
   "outputs": [],
   "source": [
    "def loss_mse(pred_batch, halo_batch):\n",
    "    # Only compute MSE based on mask (values which are 1)\n",
    "    if isinstance(pred_batch, e3nn.IrrepsArray):\n",
    "        pred_batch = pred_batch.array[..., :2]  # Euclidean distance is preserved by MSE, so we are safe doing this\n",
    "\n",
    "    return jnp.sum((pred_batch - halo_batch[..., 4:6]) ** 2)\n",
    "\n",
    "@partial(jax.pmap, axis_name=\"batch\",)\n",
    "def train_step(state, halo_batch):\n",
    "\n",
    "    # Set those velocities in x_batch (only indices 3:6 of last dimension of x_batch) to 0\n",
    "    halo_graph = build_graph(halo_batch[..., :4], \n",
    "                None, \n",
    "                k=20, \n",
    "    )\n",
    "\n",
    "    def loss_fn(params):\n",
    "        outputs = state.apply_fn(params, halo_graph)\n",
    "        loss = loss_mse(outputs.nodes, halo_batch)\n",
    "        return loss\n",
    "\n",
    "    # Get loss, grads, and update state\n",
    "    loss, grads = jax.value_and_grad(loss_fn)(state.params)\n",
    "    grads = jax.lax.pmean(grads, \"batch\")\n",
    "    new_state = state.apply_gradients(grads=grads)\n",
    "    metrics = {\"loss\": jax.lax.pmean(loss, \"batch\")}\n",
    "    \n",
    "    return new_state, metrics"
   ]
  },
  {
   "cell_type": "code",
   "execution_count": 135,
   "metadata": {},
   "outputs": [
    {
     "name": "stderr",
     "output_type": "stream",
     "text": [
      "  0%|          | 0/2500 [00:00<?, ?it/s]"
     ]
    },
    {
     "name": "stderr",
     "output_type": "stream",
     "text": [
      "100%|██████████| 2500/2500 [07:06<00:00,  5.86it/s, loss=5940.892] \n"
     ]
    }
   ],
   "source": [
    "n_steps = 2500\n",
    "n_batch = 32\n",
    "n_train = 1800 \n",
    "\n",
    "key = jax.random.PRNGKey(0)\n",
    "\n",
    "train_loss_segnn = []\n",
    "\n",
    "with trange(n_steps) as steps:\n",
    "    for step in steps:\n",
    "        key, subkey = jax.random.split(key)\n",
    "        idx = jax.random.choice(key, x_train.shape[0], shape=(n_batch,))\n",
    "\n",
    "        x_batch = x_train[idx]\n",
    "\n",
    "        x_batch = jax.tree_map(lambda x: np.split(x, num_local_devices, axis=0), x_batch)\n",
    "        x_batch = jnp.array(x_batch)\n",
    "\n",
    "        pstate, metrics = train_step(pstate, x_batch)\n",
    "\n",
    "        loss = unreplicate(metrics[\"loss\"])\n",
    "        train_loss_segnn.append(loss)\n",
    "        \n",
    "        steps.set_postfix(loss=loss)"
   ]
  },
  {
   "cell_type": "code",
   "execution_count": 140,
   "metadata": {},
   "outputs": [
    {
     "data": {
      "text/plain": [
       "Text(0.5, 1.0, 'Predict $v_{\\\\perp}$')"
      ]
     },
     "execution_count": 140,
     "metadata": {},
     "output_type": "execute_result"
    },
    {
     "data": {
      "image/png": "[encoded data removed]",
      "text/plain": [
       "<Figure size 640x480 with 1 Axes>"
      ]
     },
     "metadata": {},
     "output_type": "display_data"
    }
   ],
   "source": [
    "import matplotlib.pyplot as plt\n",
    "\n",
    "# Smoothed versions\n",
    "ds = 100\n",
    "plt.plot(np.convolve(train_loss_gnn, np.ones(ds)/ds, mode='valid'), label=\"GNN\")\n",
    "plt.plot(np.convolve(train_loss_segnn, np.ones(ds)/ds, mode='valid'), label=\"SEGNN, lmax=1\")\n",
    "\n",
    "plt.legend()\n",
    "plt.xlabel(\"Steps\")\n",
    "plt.ylabel(\"SE of predicted velocities\")\n",
    "\n",
    "plt.title(\"Predict $v_{\\perp}$\")"
   ]
  },
  {
   "cell_type": "code",
   "execution_count": null,
   "metadata": {},
   "outputs": [],
   "source": []
  }
 ],
 "metadata": {
  "kernelspec": {
   "display_name": "equivariant",
   "language": "python",
   "name": "python3"
  },
  "language_info": {
   "codemirror_mode": {
    "name": "ipython",
    "version": 3
   },
   "file_extension": ".py",
   "mimetype": "text/x-python",
   "name": "python",
   "nbconvert_exporter": "python",
   "pygments_lexer": "ipython3",
   "version": "3.10.13"
  }
 },
 "nbformat": 4,
 "nbformat_minor": 2
}
