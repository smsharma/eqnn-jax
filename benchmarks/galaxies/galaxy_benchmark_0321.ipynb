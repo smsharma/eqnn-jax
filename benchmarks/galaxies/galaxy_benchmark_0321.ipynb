{
 "cells": [
  {
   "cell_type": "markdown",
   "id": "3c010fa0-3989-4aa5-90c0-323efcea0131",
   "metadata": {},
   "source": [
    "GNNs run with [8,2] readout widths, no normalization when concating 2PCF."
   ]
  },
  {
   "cell_type": "markdown",
   "id": "d4bb58c1-7527-4f64-ab7e-c98f90e6b4b3",
   "metadata": {},
   "source": [
    "# GNN"
   ]
  },
  {
   "cell_type": "code",
   "execution_count": 2,
   "id": "1b190a07-a112-4322-be03-d723e71cc754",
   "metadata": {},
   "outputs": [
    {
     "name": "stdout",
     "output_type": "stream",
     "text": [
      "2024-03-12 14:41:44.983938: W external/xla/xla/service/gpu/nvptx_compiler.cc:679] The NVIDIA driver's CUDA version is 12.2 which is older than the ptxas CUDA version (12.3.52). Because the driver is older than the ptxas version, XLA is disabling parallel compilation, which may slow down compilation. You should update your NVIDIA driver or use the NVIDIA-provided CUDA forward compatibility packages.\n",
      "Loading dataset...\n",
      "Training...\n",
      "100%|█| 5000/5000 [11:24<00:00,  7.30it/s, loss: 0.00410, val_loss: 0.00285, ckp_test_loss: 0.00278]\n",
      "Training done.\n",
      "Final test loss 0.002756 - Checkpoint test loss 0.002785.\n",
      "\n"
     ]
    }
   ],
   "source": [
    "! python3 train.py --model GNN --feats pos"
   ]
  },
  {
   "cell_type": "markdown",
   "id": "5df2e90e-b956-4709-9885-79997e5a646d",
   "metadata": {},
   "source": [
    "## With 2PCF"
   ]
  },
  {
   "cell_type": "code",
   "execution_count": 1,
   "id": "447f74a8-d41f-41d2-9cde-3b82059a91a4",
   "metadata": {},
   "outputs": [
    {
     "name": "stdout",
     "output_type": "stream",
     "text": [
      "2024-03-12 14:28:49.743014: W external/xla/xla/service/gpu/nvptx_compiler.cc:679] The NVIDIA driver's CUDA version is 12.2 which is older than the ptxas CUDA version (12.3.52). Because the driver is older than the ptxas version, XLA is disabling parallel compilation, which may slow down compilation. You should update your NVIDIA driver or use the NVIDIA-provided CUDA forward compatibility packages.\n",
      "Loading dataset...\n",
      "Training...\n",
      "100%|█| 5000/5000 [11:32<00:00,  7.22it/s, loss: 0.00300, val_loss: 0.00224, ckp_test_loss: 0.00222]\n",
      "Training done.\n",
      "Final test loss 0.002269 - Checkpoint test loss 0.002219.\n",
      "\n"
     ]
    }
   ],
   "source": [
    "! python3 train.py --model GNN --feats pos --use_tpcf 'all'"
   ]
  },
  {
   "cell_type": "code",
   "execution_count": 1,
   "id": "b391319d-a083-4115-994d-d6a63bafd275",
   "metadata": {},
   "outputs": [
    {
     "name": "stdout",
     "output_type": "stream",
     "text": [
      "2024-03-14 09:37:53.987366: W external/xla/xla/service/gpu/nvptx_compiler.cc:679] The NVIDIA driver's CUDA version is 12.2 which is older than the ptxas CUDA version (12.3.52). Because the driver is older than the ptxas version, XLA is disabling parallel compilation, which may slow down compilation. You should update your NVIDIA driver or use the NVIDIA-provided CUDA forward compatibility packages.\n",
      "Loading dataset...\n",
      "Training...\n",
      "100%|█| 5000/5000 [11:31<00:00,  7.23it/s, loss: 0.00310, val_loss: 0.00234, ckp_test_loss: 0.00230]\n",
      "Training done.\n",
      "Final test loss 0.002384 - Checkpoint test loss 0.002301.\n",
      "\n"
     ]
    }
   ],
   "source": [
    "! python3 train.py --model GNN --feats pos --use_tpcf 'small'"
   ]
  },
  {
   "cell_type": "code",
   "execution_count": 2,
   "id": "fa611684-489b-4889-a394-bae5415a75b9",
   "metadata": {},
   "outputs": [
    {
     "name": "stdout",
     "output_type": "stream",
     "text": [
      "2024-03-14 09:51:59.265201: W external/xla/xla/service/gpu/nvptx_compiler.cc:679] The NVIDIA driver's CUDA version is 12.2 which is older than the ptxas CUDA version (12.3.52). Because the driver is older than the ptxas version, XLA is disabling parallel compilation, which may slow down compilation. You should update your NVIDIA driver or use the NVIDIA-provided CUDA forward compatibility packages.\n",
      "Loading dataset...\n",
      "Training...\n",
      "100%|█| 5000/5000 [11:33<00:00,  7.21it/s, loss: 0.00381, val_loss: 0.00279, ckp_test_loss: 0.00272]\n",
      "Training done.\n",
      "Final test loss 0.002675 - Checkpoint test loss 0.002717.\n",
      "\n"
     ]
    }
   ],
   "source": [
    "! python3 train.py --model GNN --feats pos --use_tpcf 'large' "
   ]
  },
  {
   "cell_type": "markdown",
   "id": "0603287b-742c-4fcd-84e7-473f32806716",
   "metadata": {},
   "source": [
    "## With RBF"
   ]
  },
  {
   "cell_type": "code",
   "execution_count": 3,
   "id": "72070bab-58dc-4156-85bb-2c6574a06612",
   "metadata": {},
   "outputs": [
    {
     "name": "stdout",
     "output_type": "stream",
     "text": [
      "2024-03-14 09:10:48.224943: W external/xla/xla/service/gpu/nvptx_compiler.cc:679] The NVIDIA driver's CUDA version is 12.2 which is older than the ptxas CUDA version (12.3.52). Because the driver is older than the ptxas version, XLA is disabling parallel compilation, which may slow down compilation. You should update your NVIDIA driver or use the NVIDIA-provided CUDA forward compatibility packages.\n",
      "Loading dataset...\n",
      "1.554175e-08\n",
      "Training...\n",
      "  0%|                                                                      | 0/5000 [00:00<?, ?it/s]Traced<ShapedArray(float32[])>with<DynamicJaxprTrace(level=0/1)>\n",
      "Traced<ShapedArray(float32[])>with<DynamicJaxprTrace(level=0/1)>\n",
      "100%|█| 5000/5000 [11:04<00:00,  7.52it/s, loss: 0.00408, val_loss: 0.00284, ckp_test_loss: 0.00278]\n",
      "Training done.\n",
      "Final test loss 0.002756 - Checkpoint test loss 0.002784.\n",
      "\n"
     ]
    }
   ],
   "source": [
    "! python3 train.py --model GNN --feats pos --use_rbf True"
   ]
  },
  {
   "cell_type": "code",
   "execution_count": 2,
   "id": "e7375296-15ac-4d33-976f-d3d37aa5aecb",
   "metadata": {},
   "outputs": [
    {
     "name": "stdout",
     "output_type": "stream",
     "text": [
      "2024-03-19 14:20:23.737045: W external/xla/xla/service/gpu/nvptx_compiler.cc:679] The NVIDIA driver's CUDA version is 12.2 which is older than the ptxas CUDA version (12.3.52). Because the driver is older than the ptxas version, XLA is disabling parallel compilation, which may slow down compilation. You should update your NVIDIA driver or use the NVIDIA-provided CUDA forward compatibility packages.\n",
      "Loading dataset...\n",
      "Training...\n",
      "100%|█| 5000/5000 [11:03<00:00,  7.54it/s, loss: 0.00408, val_loss: 0.00284, ckp_test_loss: 0.00278]\n",
      "Training done.\n",
      "Final test loss 0.002756 - Checkpoint test loss 0.002784.\n",
      "\n"
     ]
    }
   ],
   "source": [
    "! python3 train.py --model GNN --feats pos --use_rbf True"
   ]
  },
  {
   "cell_type": "code",
   "execution_count": 2,
   "id": "39d08ba0-1a82-4e17-bd82-f515ebe6b50f",
   "metadata": {},
   "outputs": [
    {
     "name": "stdout",
     "output_type": "stream",
     "text": [
      "2024-03-14 10:14:39.974390: W external/xla/xla/service/gpu/nvptx_compiler.cc:679] The NVIDIA driver's CUDA version is 12.2 which is older than the ptxas CUDA version (12.3.52). Because the driver is older than the ptxas version, XLA is disabling parallel compilation, which may slow down compilation. You should update your NVIDIA driver or use the NVIDIA-provided CUDA forward compatibility packages.\n",
      "Loading dataset...\n",
      "Training...\n",
      "100%|█| 5000/5000 [11:38<00:00,  7.16it/s, loss: 0.00310, val_loss: 0.00234, ckp_test_loss: 0.00230]\n",
      "Training done.\n",
      "Final test loss 0.002384 - Checkpoint test loss 0.002300.\n",
      "\n"
     ]
    }
   ],
   "source": [
    "! python3 train.py --model GNN --feats pos --use_tpcf 'small' --use_rbf True"
   ]
  },
  {
   "cell_type": "markdown",
   "id": "65279497-f0f4-4114-a6f4-22b5cc0092ee",
   "metadata": {},
   "source": [
    "## Does this problem exist with different k?"
   ]
  },
  {
   "cell_type": "code",
   "execution_count": 5,
   "id": "17eb45c1-8413-4819-8bc4-6e2f6053bc72",
   "metadata": {},
   "outputs": [
    {
     "name": "stdout",
     "output_type": "stream",
     "text": [
      "2024-03-21 11:16:36.219405: W external/xla/xla/service/gpu/nvptx_compiler.cc:679] The NVIDIA driver's CUDA version is 12.2 which is older than the ptxas CUDA version (12.3.52). Because the driver is older than the ptxas version, XLA is disabling parallel compilation, which may slow down compilation. You should update your NVIDIA driver or use the NVIDIA-provided CUDA forward compatibility packages.\n",
      "Loading dataset...\n",
      "Training...\n",
      " 94%|▉| 4725/5000 [10:24<00:34,  7.98it/s, loss: 0.00255, val_loss: 0.00299, ckp_test_loss: 0.00274]^C\n",
      " 94%|▉| 4725/5000 [10:24<00:36,  7.56it/s, loss: 0.00255, val_loss: 0.00299, ckp_test_loss: 0.00274]\n",
      "Traceback (most recent call last):\n",
      "  File \"/n/holystore01/LABS/iaifi_lab/Users/jballa/eqnn-jax/benchmarks/galaxies/train.py\", line 406, in <module>\n",
      "    main(**vars(args))\n",
      "  File \"/n/holystore01/LABS/iaifi_lab/Users/jballa/eqnn-jax/benchmarks/galaxies/train.py\", line 380, in main\n",
      "    run_expt(model, \n",
      "    ^^^^^^^^^^^^^^^\n",
      "  File \"/n/holystore01/LABS/iaifi_lab/Users/jballa/eqnn-jax/benchmarks/galaxies/train.py\", line 335, in run_expt\n",
      "    steps.set_postfix_str('loss: {:.5f}, val_loss: {:.5f}, ckp_test_loss: {:.5F}'.format(train_loss,\n",
      "                          ^^^^^^^^^^^^^^^^^^^^^^^^^^^^^^^^^^^^^^^^^^^^^^^^^^^^^^^^^^^^^^^^^^^^^^^^^^\n",
      "  File \"/n/home07/jballa/.conda/envs/jupyter_py3.11/lib/python3.11/site-packages/jax/_src/array.py\", line 297, in __format__\n",
      "    return format(self._value[()], format_spec)\n",
      "                  ^^^^^^^^^^^\n",
      "  File \"/n/home07/jballa/.conda/envs/jupyter_py3.11/lib/python3.11/site-packages/jax/_src/profiler.py\", line 340, in wrapper\n",
      "    return func(*args, **kwargs)\n",
      "           ^^^^^^^^^^^^^^^^^^^^^\n",
      "  File \"/n/home07/jballa/.conda/envs/jupyter_py3.11/lib/python3.11/site-packages/jax/_src/array.py\", line 566, in _value\n",
      "    self._npy_value = self._single_device_array_to_np_array()  # type: ignore\n",
      "                      ^^^^^^^^^^^^^^^^^^^^^^^^^^^^^^^^^^^^^^^\n",
      "KeyboardInterrupt\n"
     ]
    }
   ],
   "source": [
    "! python3 train.py --model GNN --feats pos --k 10"
   ]
  },
  {
   "cell_type": "code",
   "execution_count": 6,
   "id": "ad02e46f-5462-423a-bba4-57f912c025a1",
   "metadata": {},
   "outputs": [
    {
     "name": "stdout",
     "output_type": "stream",
     "text": [
      "2024-03-21 11:28:41.413891: W external/xla/xla/service/gpu/nvptx_compiler.cc:679] The NVIDIA driver's CUDA version is 12.2 which is older than the ptxas CUDA version (12.3.52). Because the driver is older than the ptxas version, XLA is disabling parallel compilation, which may slow down compilation. You should update your NVIDIA driver or use the NVIDIA-provided CUDA forward compatibility packages.\n",
      "Loading dataset...\n",
      "Training...\n",
      "100%|█| 5000/5000 [11:08<00:00,  7.48it/s, loss: 0.00313, val_loss: 0.00236, ckp_test_loss: 0.00230]\n",
      "Training done.\n",
      "Final test loss 0.002413 - Checkpoint test loss 0.002302.\n",
      "\n"
     ]
    }
   ],
   "source": [
    "! python3 train.py --model GNN --feats pos --k 10 --use_tpcf 'small'"
   ]
  },
  {
   "cell_type": "code",
   "execution_count": 7,
   "id": "0fea88be-6e32-4758-bff5-4a7585856682",
   "metadata": {},
   "outputs": [
    {
     "name": "stdout",
     "output_type": "stream",
     "text": [
      "2024-03-21 11:46:16.172455: W external/xla/xla/service/gpu/nvptx_compiler.cc:679] The NVIDIA driver's CUDA version is 12.2 which is older than the ptxas CUDA version (12.3.52). Because the driver is older than the ptxas version, XLA is disabling parallel compilation, which may slow down compilation. You should update your NVIDIA driver or use the NVIDIA-provided CUDA forward compatibility packages.\n",
      "Loading dataset...\n",
      "Training...\n",
      "100%|█| 5000/5000 [12:34<00:00,  6.63it/s, loss: 0.00411, val_loss: 0.00308, ckp_test_loss: 0.00304]\n",
      "Training done.\n",
      "Final test loss 0.003074 - Checkpoint test loss 0.003036.\n",
      "\n"
     ]
    }
   ],
   "source": [
    "! python3 train.py --model GNN --feats pos --k 40"
   ]
  },
  {
   "cell_type": "code",
   "execution_count": 8,
   "id": "ce74a396-945d-4b9f-a9da-5f2d1b3eb54a",
   "metadata": {},
   "outputs": [
    {
     "name": "stdout",
     "output_type": "stream",
     "text": [
      "2024-03-21 12:06:05.360684: W external/xla/xla/service/gpu/nvptx_compiler.cc:679] The NVIDIA driver's CUDA version is 12.2 which is older than the ptxas CUDA version (12.3.52). Because the driver is older than the ptxas version, XLA is disabling parallel compilation, which may slow down compilation. You should update your NVIDIA driver or use the NVIDIA-provided CUDA forward compatibility packages.\n",
      "Loading dataset...\n",
      "Training...\n",
      "100%|█| 5000/5000 [12:44<00:00,  6.54it/s, loss: 0.00309, val_loss: 0.00234, ckp_test_loss: 0.00230]\n",
      "Training done.\n",
      "Final test loss 0.002383 - Checkpoint test loss 0.002303.\n",
      "\n"
     ]
    }
   ],
   "source": [
    "! python3 train.py --model GNN --feats pos --k 40 --use_tpcf 'small'"
   ]
  },
  {
   "cell_type": "markdown",
   "id": "a52a752f-1ff4-4c69-8c10-7879badda386",
   "metadata": {},
   "source": [
    "# DiffPool"
   ]
  },
  {
   "cell_type": "code",
   "execution_count": 12,
   "id": "771215f3-3b41-40b2-9d11-a1ebfa26e5d9",
   "metadata": {},
   "outputs": [
    {
     "name": "stdout",
     "output_type": "stream",
     "text": [
      "2024-03-19 15:37:01.883540: W external/xla/xla/service/gpu/nvptx_compiler.cc:679] The NVIDIA driver's CUDA version is 12.2 which is older than the ptxas CUDA version (12.3.52). Because the driver is older than the ptxas version, XLA is disabling parallel compilation, which may slow down compilation. You should update your NVIDIA driver or use the NVIDIA-provided CUDA forward compatibility packages.\n",
      "Loading dataset...\n",
      "/n/home07/jballa/.conda/envs/jupyter_py3.11/lib/python3.11/site-packages/jax/_src/numpy/lax_numpy.py:3835: UserWarning: 'kind' argument to argsort is ignored; only 'stable' sorts are supported.\n",
      "  warnings.warn(\"'kind' argument to argsort is ignored; only 'stable' sorts \"\n",
      "Training...\n",
      "  0%|                                                                      | 0/5000 [00:00<?, ?it/s](8, 1)\n",
      "100%|█| 5000/5000 [16:30<00:00,  5.05it/s, loss: 0.00496, val_loss: 0.00317, ckp_test_loss: 0.00281]\n",
      "Training done.\n",
      "Final test loss 0.002962 - Checkpoint test loss 0.002812.\n",
      "\n"
     ]
    }
   ],
   "source": [
    "! python3 train.py --model DiffPool --feats pos # \"d_downsampling_factor\": 5"
   ]
  },
  {
   "cell_type": "code",
   "execution_count": 4,
   "id": "cd89ab79-9558-4550-bc93-50f6523d322c",
   "metadata": {},
   "outputs": [
    {
     "name": "stdout",
     "output_type": "stream",
     "text": [
      "2024-03-19 15:23:53.744038: W external/xla/xla/service/gpu/nvptx_compiler.cc:679] The NVIDIA driver's CUDA version is 12.2 which is older than the ptxas CUDA version (12.3.52). Because the driver is older than the ptxas version, XLA is disabling parallel compilation, which may slow down compilation. You should update your NVIDIA driver or use the NVIDIA-provided CUDA forward compatibility packages.\n",
      "Loading dataset...\n",
      "/n/home07/jballa/.conda/envs/jupyter_py3.11/lib/python3.11/site-packages/jax/_src/numpy/lax_numpy.py:3835: UserWarning: 'kind' argument to argsort is ignored; only 'stable' sorts are supported.\n",
      "  warnings.warn(\"'kind' argument to argsort is ignored; only 'stable' sorts \"\n",
      "Training...\n",
      "  0%|                                                                      | 0/5000 [00:00<?, ?it/s](8, 16)\n",
      "  7%|▏ | 355/5000 [02:59<27:49,  2.78it/s, loss: 0.01115, val_loss: 0.01373, ckp_test_loss: 0.01373]^C\n",
      "  7%|▏ | 355/5000 [03:00<39:15,  1.97it/s, loss: 0.01115, val_loss: 0.01373, ckp_test_loss: 0.01373]\n",
      "Traceback (most recent call last):\n",
      "  File \"/n/holystore01/LABS/iaifi_lab/Users/jballa/eqnn-jax/benchmarks/galaxies/train.py\", line 403, in <module>\n",
      "    main(**vars(args))\n",
      "  File \"/n/holystore01/LABS/iaifi_lab/Users/jballa/eqnn-jax/benchmarks/galaxies/train.py\", line 380, in main\n",
      "    run_expt(model, \n",
      "    ^^^^^^^^^^^^^^^\n",
      "  File \"/n/holystore01/LABS/iaifi_lab/Users/jballa/eqnn-jax/benchmarks/galaxies/train.py\", line 335, in run_expt\n",
      "    steps.set_postfix_str('loss: {:.5f}, val_loss: {:.5f}, ckp_test_loss: {:.5F}'.format(train_loss,\n",
      "                          ^^^^^^^^^^^^^^^^^^^^^^^^^^^^^^^^^^^^^^^^^^^^^^^^^^^^^^^^^^^^^^^^^^^^^^^^^^\n",
      "  File \"/n/home07/jballa/.conda/envs/jupyter_py3.11/lib/python3.11/site-packages/jax/_src/array.py\", line 297, in __format__\n",
      "    return format(self._value[()], format_spec)\n",
      "                  ^^^^^^^^^^^\n",
      "  File \"/n/home07/jballa/.conda/envs/jupyter_py3.11/lib/python3.11/site-packages/jax/_src/profiler.py\", line 340, in wrapper\n",
      "    return func(*args, **kwargs)\n",
      "           ^^^^^^^^^^^^^^^^^^^^^\n",
      "  File \"/n/home07/jballa/.conda/envs/jupyter_py3.11/lib/python3.11/site-packages/jax/_src/array.py\", line 566, in _value\n",
      "    self._npy_value = self._single_device_array_to_np_array()  # type: ignore\n",
      "                      ^^^^^^^^^^^^^^^^^^^^^^^^^^^^^^^^^^^^^^^\n",
      "KeyboardInterrupt\n"
     ]
    }
   ],
   "source": [
    "! python3 train.py --model DiffPool --feats pos # \"d_downsampling_factor\": 2"
   ]
  },
  {
   "cell_type": "code",
   "execution_count": 6,
   "id": "ccb8d563-a79c-4656-8efd-7ad95947285e",
   "metadata": {},
   "outputs": [
    {
     "name": "stdout",
     "output_type": "stream",
     "text": [
      "2024-03-19 15:28:54.731756: W external/xla/xla/service/gpu/nvptx_compiler.cc:679] The NVIDIA driver's CUDA version is 12.2 which is older than the ptxas CUDA version (12.3.52). Because the driver is older than the ptxas version, XLA is disabling parallel compilation, which may slow down compilation. You should update your NVIDIA driver or use the NVIDIA-provided CUDA forward compatibility packages.\n",
      "Loading dataset...\n",
      "/n/home07/jballa/.conda/envs/jupyter_py3.11/lib/python3.11/site-packages/jax/_src/numpy/lax_numpy.py:3835: UserWarning: 'kind' argument to argsort is ignored; only 'stable' sorts are supported.\n",
      "  warnings.warn(\"'kind' argument to argsort is ignored; only 'stable' sorts \"\n",
      "Training...\n",
      "  0%|                                                                      | 0/5000 [00:00<?, ?it/s](8, 16)\n",
      " 14%|▎ | 701/5000 [02:37<11:31,  6.22it/s, loss: 0.01514, val_loss: 0.01580, ckp_test_loss: 0.01580]^C\n",
      " 14%|▎ | 701/5000 [02:37<16:05,  4.45it/s, loss: 0.01514, val_loss: 0.01580, ckp_test_loss: 0.01580]\n",
      "Traceback (most recent call last):\n",
      "  File \"/n/holystore01/LABS/iaifi_lab/Users/jballa/eqnn-jax/benchmarks/galaxies/train.py\", line 403, in <module>\n",
      "    \n",
      "    ^\n",
      "  File \"/n/holystore01/LABS/iaifi_lab/Users/jballa/eqnn-jax/benchmarks/galaxies/train.py\", line 380, in main\n",
      "    \n",
      "\n",
      "  File \"/n/holystore01/LABS/iaifi_lab/Users/jballa/eqnn-jax/benchmarks/galaxies/train.py\", line 335, in run_expt\n",
      "    \n",
      "\n",
      "  File \"/n/home07/jballa/.conda/envs/jupyter_py3.11/lib/python3.11/site-packages/jax/_src/array.py\", line 297, in __format__\n",
      "    return format(self._value[()], format_spec)\n",
      "                  ^^^^^^^^^^^\n",
      "  File \"/n/home07/jballa/.conda/envs/jupyter_py3.11/lib/python3.11/site-packages/jax/_src/profiler.py\", line 340, in wrapper\n",
      "    return func(*args, **kwargs)\n",
      "           ^^^^^^^^^^^^^^^^^^^^^\n",
      "  File \"/n/home07/jballa/.conda/envs/jupyter_py3.11/lib/python3.11/site-packages/jax/_src/array.py\", line 566, in _value\n",
      "    self._npy_value = self._single_device_array_to_np_array()  # type: ignore\n",
      "                      ^^^^^^^^^^^^^^^^^^^^^^^^^^^^^^^^^^^^^^^\n",
      "KeyboardInterrupt\n"
     ]
    }
   ],
   "source": [
    "! python3 train.py --model DiffPool --feats pos # \"d_downsampling_factor\": 10, num_downsamples: 2"
   ]
  },
  {
   "cell_type": "markdown",
   "id": "9e12e2b8-869a-4685-b90d-ea8c67c384c4",
   "metadata": {
    "jp-MarkdownHeadingCollapsed": true,
    "tags": []
   },
   "source": [
    "# SEGNN"
   ]
  },
  {
   "cell_type": "code",
   "execution_count": 2,
   "id": "5d049e98-de43-429b-bd71-298cd487a527",
   "metadata": {},
   "outputs": [
    {
     "name": "stdout",
     "output_type": "stream",
     "text": [
      "^C\n"
     ]
    }
   ],
   "source": [
    "! python3 train.py --model SEGNN --feats pos --steps 1000 "
   ]
  },
  {
   "cell_type": "code",
   "execution_count": null,
   "id": "ca7f0cda-c564-42c3-8697-834dd27a1d40",
   "metadata": {},
   "outputs": [],
   "source": []
  }
 ],
 "metadata": {
  "kernelspec": {
   "display_name": "Python [conda env:.conda-jupyter_py3.11]",
   "language": "python",
   "name": "conda-env-.conda-jupyter_py3.11-py"
  },
  "language_info": {
   "codemirror_mode": {
    "name": "ipython",
    "version": 3
   },
   "file_extension": ".py",
   "mimetype": "text/x-python",
   "name": "python",
   "nbconvert_exporter": "python",
   "pygments_lexer": "ipython3",
   "version": "3.11.6"
  }
 },
 "nbformat": 4,
 "nbformat_minor": 5
}
