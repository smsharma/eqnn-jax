{
 "cells": [
  {
   "cell_type": "code",
   "execution_count": 1,
   "metadata": {},
   "outputs": [
    {
     "name": "stderr",
     "output_type": "stream",
     "text": [
      "2024-05-17 18:26:09.265916: E external/local_xla/xla/stream_executor/cuda/cuda_dnn.cc:9261] Unable to register cuDNN factory: Attempting to register factory for plugin cuDNN when one has already been registered\n",
      "2024-05-17 18:26:09.267307: E external/local_xla/xla/stream_executor/cuda/cuda_fft.cc:607] Unable to register cuFFT factory: Attempting to register factory for plugin cuFFT when one has already been registered\n",
      "2024-05-17 18:26:09.626486: E external/local_xla/xla/stream_executor/cuda/cuda_blas.cc:1515] Unable to register cuBLAS factory: Attempting to register factory for plugin cuBLAS when one has already been registered\n"
     ]
    }
   ],
   "source": [
    "import sys\n",
    "sys.path.append(\"../../\")\n",
    "\n",
    "from dataset_large import get_halo_dataset\n",
    "from tqdm import tqdm\n",
    "import numpy as np\n",
    "\n",
    "# Make sure tf does not hog all the GPU memory\n",
    "import tensorflow as tf\n",
    "\n",
    "# Ensure TF does not see GPU and grab all GPU memory\n",
    "tf.config.experimental.set_visible_devices([], \"GPU\")\n",
    "\n",
    "%load_ext autoreload\n",
    "%autoreload 2"
   ]
  },
  {
   "cell_type": "code",
   "execution_count": 21,
   "metadata": {},
   "outputs": [
    {
     "name": "stdout",
     "output_type": "stream",
     "text": [
      "Number of samples: 2000\n"
     ]
    }
   ],
   "source": [
    "features = ['x', 'y', 'z']  # ['x', 'y', 'z', 'Jx', 'Jy', 'Jz', 'vx', 'vy', 'vz', 'M200c']\n",
    "params = ['Omega_m', 'sigma_8']  # ['Omega_m', 'Omega_b', 'h', 'n_s', 'sigma_8']\n",
    "batch_size = 64\n",
    "\n",
    "dataset, num_total, mean, std, mean_params, std_params = get_halo_dataset(batch_size=batch_size,  # Batch size\n",
    "                           num_samples=2000,  # If not None, will only take a subset of the dataset\n",
    "                           split='train',  # 'train', 'val'\n",
    "                           standardize=True,  # If True, will standardize the features\n",
    "                           return_mean_std=True,  # If True, will return (dataset, num_total, mean, std, mean_params, std_params), else (dataset, num_total)\n",
    "                           seed=42,  # Random seed\n",
    "                           features=features,  # Features to include\n",
    "                           params=params  # Parameters to include\n",
    "                        )\n",
    "\n",
    "std = np.array(std)\n",
    "\n",
    "# Print number of samples\n",
    "print(f\"Number of samples: {num_total}\")"
   ]
  },
  {
   "cell_type": "code",
   "execution_count": 22,
   "metadata": {},
   "outputs": [],
   "source": [
    "from models.gnn import GNN"
   ]
  },
  {
   "cell_type": "code",
   "execution_count": 37,
   "metadata": {},
   "outputs": [
    {
     "name": "stderr",
     "output_type": "stream",
     "text": [
      "100%|██████████| 31/31 [00:00<00:00, 33.65it/s]\n"
     ]
    }
   ],
   "source": [
    "iterator = iter(dataset)\n",
    "\n",
    "x_train, params_train = [], []\n",
    "for _ in tqdm(range(num_total // batch_size)):\n",
    "    x, params = next(iterator)\n",
    "    x_train.append(np.array(x))\n",
    "    params_train.append(np.array(params))\n",
    "\n",
    "x_train = np.concatenate(x_train, axis=0)\n",
    "params_train = np.concatenate(params_train, axis=0)"
   ]
  },
  {
   "cell_type": "code",
   "execution_count": 39,
   "metadata": {},
   "outputs": [],
   "source": [
    "# x_train = np.load(\"../../../BNN_SBI/data/set_diffuser_data/train_halos.npy\")[..., :3] / 1000.\n",
    "\n",
    "# import pandas as pd\n",
    "# params_train = pd.read_csv(\"../../../BNN_SBI/data/set_diffuser_data/train_cosmology.csv\",)\n",
    "# params_train = params_train[[\"Omega_m\", \"sigma_8\"]].values\n",
    "\n",
    "# # Normalize and get std\n",
    "\n",
    "# mean = np.mean(x_train, axis=(0, 1))\n",
    "# std = np.std(x_train, axis=(0, 1))\n",
    "\n",
    "# x_train = (x_train - mean) / std\n",
    "\n",
    "# # Normalize params\n",
    "# mean_params = np.mean(params_train, axis=0)\n",
    "# std_params = np.std(params_train, axis=0)\n",
    "\n",
    "# params_train = (params_train - mean_params) / std_params"
   ]
  },
  {
   "cell_type": "code",
   "execution_count": 40,
   "metadata": {},
   "outputs": [],
   "source": [
    "import flax\n",
    "from flax.training.train_state import TrainState\n",
    "from functools import partial\n",
    "import flax.linen as nn\n",
    "import optax\n",
    "from tqdm import trange\n",
    "\n",
    "replicate = flax.jax_utils.replicate\n",
    "unreplicate = flax.jax_utils.unreplicate"
   ]
  },
  {
   "cell_type": "code",
   "execution_count": 41,
   "metadata": {},
   "outputs": [],
   "source": [
    "from models.utils.equivariant_graph_utils import get_equivariant_graph\n",
    "from models.utils.graph_utils import build_graph, compute_distances, nearest_neighbors\n",
    "from models.utils.irreps_utils import weight_balanced_irreps\n",
    "from models.segnn import SEGNN\n",
    "from models.gnn import GNN\n",
    "from models.utils.graph_utils import get_apply_pbc"
   ]
  },
  {
   "cell_type": "code",
   "execution_count": 42,
   "metadata": {},
   "outputs": [
    {
     "data": {
      "text/plain": [
       "0.63358724"
      ]
     },
     "execution_count": 42,
     "metadata": {},
     "output_type": "execute_result"
    }
   ],
   "source": [
    "_, _, distances = nearest_neighbors(x_train[0], 20)\n",
    "np.sqrt(np.sum(distances ** 2, axis=-1)).max()"
   ]
  },
  {
   "cell_type": "code",
   "execution_count": 43,
   "metadata": {},
   "outputs": [
    {
     "data": {
      "text/plain": [
       "array([[-0.92335504, -2.6871266 , -2.0144491 ],\n",
       "       [-0.8934499 ,  2.331822  ,  1.599165  ],\n",
       "       [-1.1999317 , -1.4488437 , -1.7855363 ],\n",
       "       ...,\n",
       "       [ 2.556662  , -0.19423932,  0.3292595 ],\n",
       "       [ 1.1755044 ,  1.3496373 ,  0.19580448],\n",
       "       [ 1.6944009 , -3.0369658 ,  0.5718609 ]], dtype=float32)"
      ]
     },
     "execution_count": 43,
     "metadata": {},
     "output_type": "execute_result"
    }
   ],
   "source": [
    "x_train[0] - x_train[1]"
   ]
  },
  {
   "cell_type": "code",
   "execution_count": 44,
   "metadata": {},
   "outputs": [
    {
     "data": {
      "text/plain": [
       "Array([[-0.92335504,  0.775764  ,  1.4484415 ],\n",
       "       [-0.8934499 , -1.1310687 ,  1.599165  ],\n",
       "       [-1.1999317 , -1.4488437 ,  1.6773543 ],\n",
       "       ...,\n",
       "       [-0.90622854, -0.19423932,  0.3292595 ],\n",
       "       [ 1.1755044 ,  1.3496373 ,  0.19580448],\n",
       "       [ 1.6944009 ,  0.42592478,  0.5718609 ]], dtype=float32)"
      ]
     },
     "execution_count": 44,
     "metadata": {},
     "output_type": "execute_result"
    }
   ],
   "source": [
    "get_apply_pbc(std=std / 1000.,)(x_train[0] - x_train[1])"
   ]
  },
  {
   "cell_type": "code",
   "execution_count": 45,
   "metadata": {},
   "outputs": [
    {
     "data": {
      "text/plain": [
       "0.4266811"
      ]
     },
     "execution_count": 45,
     "metadata": {},
     "output_type": "execute_result"
    }
   ],
   "source": [
    "_, _, distances = nearest_neighbors(x_train[0], 20, apply_pbc=get_apply_pbc(std=std / 1000.,))\n",
    "np.sqrt(np.sum(distances ** 2, axis=-1)).max()"
   ]
  },
  {
   "cell_type": "code",
   "execution_count": 46,
   "metadata": {},
   "outputs": [
    {
     "data": {
      "text/plain": [
       "(array([ 61.,  30.,  41.,  82., 113., 174., 213., 189.,  85.,  12.]),\n",
       " array([1.73205081e-07, 4.11481671e-02, 8.22961554e-02, 1.23444147e-01,\n",
       "        1.64592147e-01, 2.05740139e-01, 2.46888131e-01, 2.88036108e-01,\n",
       "        3.29184115e-01, 3.70332092e-01, 4.11480099e-01]),\n",
       " [<matplotlib.patches.Polygon at 0x152551883880>])"
      ]
     },
     "execution_count": 46,
     "metadata": {},
     "output_type": "execute_result"
    },
    {
     "data": {
      "image/png": "[encoded data removed]",
      "text/plain": [
       "<Figure size 640x480 with 1 Axes>"
      ]
     },
     "metadata": {},
     "output_type": "display_data"
    }
   ],
   "source": [
    "import matplotlib.pyplot as plt\n",
    "\n",
    "plt.hist(build_graph(x_train[:1], None, 20, n_radial_basis=0, apply_pbc=None).edges.flatten()[:1000], histtype='step')\n",
    "plt.hist(build_graph(x_train[:1], None, 20, n_radial_basis=0, apply_pbc=get_apply_pbc(std=std / 1000.,)).edges.flatten()[:1000], histtype='step')"
   ]
  },
  {
   "cell_type": "code",
   "execution_count": 47,
   "metadata": {},
   "outputs": [
    {
     "data": {
      "text/plain": [
       "Array(0.42668107, dtype=float32)"
      ]
     },
     "execution_count": 47,
     "metadata": {},
     "output_type": "execute_result"
    }
   ],
   "source": [
    "build_graph(x_train[:1], None, 20, n_radial_basis=0, apply_pbc=get_apply_pbc(std=std / 1000.,)).edges.max()"
   ]
  },
  {
   "cell_type": "code",
   "execution_count": 48,
   "metadata": {},
   "outputs": [
    {
     "data": {
      "text/plain": [
       "Array(5.7125554, dtype=float32)"
      ]
     },
     "execution_count": 48,
     "metadata": {},
     "output_type": "execute_result"
    }
   ],
   "source": [
    "compute_distances(x_train[0],).max()"
   ]
  },
  {
   "cell_type": "code",
   "execution_count": 49,
   "metadata": {},
   "outputs": [],
   "source": [
    "import e3nn_jax as e3nn\n",
    "from typing import Dict\n",
    "import jax\n",
    "\n",
    "use_pbcs = True\n",
    "apply_pbc = get_apply_pbc(std=std / 1000.,) if use_pbcs else None\n",
    "k = 20\n",
    "n_radial = 32\n",
    "\n",
    "# SEGNN_PARAMS = {\n",
    "#     \"d_hidden\": 64,\n",
    "#     \"l_max_hidden\": 1,\n",
    "#     \"num_blocks\": 3,\n",
    "#     \"num_message_passing_steps\": 3,\n",
    "#     \"intermediate_hidden_irreps\": True,\n",
    "#     \"task\": \"graph\",\n",
    "#     \"output_irreps\": e3nn.Irreps(\"1x0e\"),\n",
    "#     \"hidden_irreps\": weight_balanced_irreps(lmax=1,\n",
    "#                                             scalar_units=64,\n",
    "#                                             irreps_right=e3nn.Irreps.spherical_harmonics(1),\n",
    "#                                             ),\n",
    "#     \"normalize_messages\": True,\n",
    "#     \"message_passing_agg\": \"sum\",\n",
    "#     \"readout_agg\": \"mean\",\n",
    "#     \"n_outputs\": 2,\n",
    "#     \"scalar_activation\": \"gelu\",\n",
    "# }\n",
    "\n",
    "# class GraphWrapper(nn.Module):\n",
    "#     param_dict: Dict\n",
    "\n",
    "#     @nn.compact\n",
    "#     def __call__(self, x):\n",
    "\n",
    "#         positions = e3nn.IrrepsArray(\"1o\", x.nodes[..., :3])\n",
    "        \n",
    "#         if x.nodes.shape[-1] == 3:\n",
    "#             nodes = e3nn.IrrepsArray(\"1o\", x.nodes[..., :])\n",
    "#             velocities = None\n",
    "#         else:\n",
    "#             nodes = e3nn.IrrepsArray(\"1o + 1o\", x.nodes[..., :])\n",
    "#             velocities = e3nn.IrrepsArray(\"1o\", x.nodes[..., 3:6])\n",
    "\n",
    "        \n",
    "#         st_graph = get_equivariant_graph(\n",
    "#             node_features=nodes,\n",
    "#             positions=positions,\n",
    "#             velocities=None,\n",
    "#             steerable_velocities=False,\n",
    "#             senders=x.senders,\n",
    "#             receivers=x.receivers,\n",
    "#             n_node=x.n_node,\n",
    "#             n_edge=x.n_edge,\n",
    "#             globals=x.globals,\n",
    "#             edges=None,\n",
    "#             lmax_attributes=1,\n",
    "#             apply_pbc=apply_pbc\n",
    "#         )\n",
    "        \n",
    "#         return jax.vmap(SEGNN(**self.param_dict))(st_graph)\n",
    "    \n",
    "class GraphWrapper(nn.Module):\n",
    "\n",
    "    @nn.compact\n",
    "    def __call__(self, x):\n",
    "        return jax.vmap(GNN(task=\"graph\", n_outputs=2, message_passing_agg=\"sum\", mlp_readout_widths=(4,2,2), d_hidden=128, message_passing_steps=3))(x)\n"
   ]
  },
  {
   "cell_type": "code",
   "execution_count": 50,
   "metadata": {},
   "outputs": [
    {
     "data": {
      "text/plain": [
       "Array([[-0.11189827, -0.15008491],\n",
       "       [-0.11215913, -0.15040782],\n",
       "       [-0.10643665, -0.10440976],\n",
       "       [-0.11264044, -0.14661622],\n",
       "       [-0.10957413, -0.13019675],\n",
       "       [-0.11302918, -0.13905524],\n",
       "       [-0.11342206, -0.14844051],\n",
       "       [-0.11374592, -0.14409804]], dtype=float32)"
      ]
     },
     "execution_count": 50,
     "metadata": {},
     "output_type": "execute_result"
    }
   ],
   "source": [
    "graph = build_graph(x_train[:8], \n",
    "                None, \n",
    "                k=k, \n",
    "                apply_pbc=apply_pbc,\n",
    "                use_edges=True, \n",
    "                n_radial_basis=n_radial,\n",
    ")\n",
    "\n",
    "# model = GraphWrapper(SEGNN_PARAMS, )\n",
    "model = GraphWrapper()\n",
    "\n",
    "out, params = model.init_with_output(jax.random.PRNGKey(0), graph)\n",
    "out"
   ]
  },
  {
   "cell_type": "code",
   "execution_count": 51,
   "metadata": {},
   "outputs": [
    {
     "name": "stdout",
     "output_type": "stream",
     "text": [
      "4 GPUs available\n"
     ]
    }
   ],
   "source": [
    "# Devices\n",
    "num_local_devices = jax.local_device_count()\n",
    "print(f\"{num_local_devices} GPUs available\")"
   ]
  },
  {
   "cell_type": "code",
   "execution_count": 52,
   "metadata": {},
   "outputs": [],
   "source": [
    "# Define train state and replicate across devices\n",
    "\n",
    "# Cosine learning rate schedule\n",
    "# lr = optax.cosine_decay_schedule(2e-4, 5000)\n",
    "lr = optax.linear_onecycle_schedule(5000, 3e-4)\n",
    "tx = optax.adamw(learning_rate=lr, weight_decay=1e-5)\n",
    "state = TrainState.create(apply_fn=model.apply, params=params, tx=tx)\n",
    "pstate = replicate(state)"
   ]
  },
  {
   "cell_type": "code",
   "execution_count": 53,
   "metadata": {},
   "outputs": [],
   "source": [
    "def loss_mse(pred_batch, cosmo_batch,):\n",
    "    return np.mean((pred_batch - cosmo_batch) ** 2)\n",
    "\n",
    "@partial(jax.pmap, axis_name=\"batch\",)\n",
    "def train_step(state, halo_batch, cosmo_batch,):\n",
    "\n",
    "    halo_graph = build_graph(halo_batch, \n",
    "                None, \n",
    "                k=k, \n",
    "                use_edges=True, \n",
    "                apply_pbc=apply_pbc,\n",
    "                n_radial_basis=n_radial,\n",
    "    )\n",
    "    \n",
    "    def loss_fn(params):\n",
    "        outputs = state.apply_fn(params, halo_graph)\n",
    "        loss = loss_mse(outputs, cosmo_batch)\n",
    "        return loss\n",
    "\n",
    "    # Get loss, grads, and update state\n",
    "    loss, grads = jax.value_and_grad(loss_fn)(state.params)\n",
    "    grads = jax.lax.pmean(grads, \"batch\")\n",
    "    new_state = state.apply_gradients(grads=grads)\n",
    "    metrics = {\"loss\": jax.lax.pmean(loss, \"batch\")}\n",
    "    \n",
    "    return new_state, metrics"
   ]
  },
  {
   "cell_type": "code",
   "execution_count": 54,
   "metadata": {},
   "outputs": [
    {
     "name": "stderr",
     "output_type": "stream",
     "text": [
      "  0%|          | 0/5000 [00:00<?, ?it/s]/tmp/ipykernel_2189479/1947668592.py:14: DeprecationWarning: jax.tree_map is deprecated: use jax.tree.map (jax v0.4.25 or newer) or jax.tree_util.tree_map (any JAX version).\n",
      "  halo_batch = jax.tree_map(lambda x: np.split(x, num_local_devices, axis=0), halo_batch)\n",
      "/tmp/ipykernel_2189479/1947668592.py:15: DeprecationWarning: jax.tree_map is deprecated: use jax.tree.map (jax v0.4.25 or newer) or jax.tree_util.tree_map (any JAX version).\n",
      "  cosmo_batch = jax.tree_map(lambda x: np.split(x, num_local_devices, axis=0), cosmo_batch)\n",
      "  0%|          | 1/5000 [00:15<22:09:02, 15.95s/it, loss=0.9617399]/tmp/ipykernel_2189479/1947668592.py:14: DeprecationWarning: jax.tree_map is deprecated: use jax.tree.map (jax v0.4.25 or newer) or jax.tree_util.tree_map (any JAX version).\n",
      "  halo_batch = jax.tree_map(lambda x: np.split(x, num_local_devices, axis=0), halo_batch)\n",
      "/tmp/ipykernel_2189479/1947668592.py:15: DeprecationWarning: jax.tree_map is deprecated: use jax.tree.map (jax v0.4.25 or newer) or jax.tree_util.tree_map (any JAX version).\n",
      "  cosmo_batch = jax.tree_map(lambda x: np.split(x, num_local_devices, axis=0), cosmo_batch)\n",
      "100%|██████████| 5000/5000 [10:45<00:00,  7.74it/s, loss=0.32089254]\n"
     ]
    }
   ],
   "source": [
    "n_steps = 5000\n",
    "n_batch = 32\n",
    "\n",
    "key = jax.random.PRNGKey(0)\n",
    "\n",
    "with trange(n_steps) as steps:\n",
    "    for step in steps:\n",
    "        key, subkey = jax.random.split(key)\n",
    "        idx = jax.random.choice(key, x_train.shape[0], shape=(n_batch,))\n",
    "        \n",
    "        halo_batch, cosmo_batch = x_train[idx], params_train[idx]\n",
    "\n",
    "        # Split batches across devices\n",
    "        halo_batch = jax.tree_map(lambda x: np.split(x, num_local_devices, axis=0), halo_batch)\n",
    "        cosmo_batch = jax.tree_map(lambda x: np.split(x, num_local_devices, axis=0), cosmo_batch)\n",
    "        halo_batch, cosmo_batch = np.array(halo_batch), np.array(cosmo_batch)\n",
    "\n",
    "        pstate, metrics = train_step(pstate, halo_batch, cosmo_batch)\n",
    "        \n",
    "        steps.set_postfix(loss=unreplicate(metrics[\"loss\"]))"
   ]
  },
  {
   "cell_type": "code",
   "execution_count": 59,
   "metadata": {},
   "outputs": [
    {
     "name": "stderr",
     "output_type": "stream",
     "text": [
      "100%|██████████| 3/3 [00:01<00:00,  1.50it/s]\n"
     ]
    },
    {
     "data": {
      "text/plain": [
       "Text(0, 0.5, 'Predicted')"
      ]
     },
     "execution_count": 59,
     "metadata": {},
     "output_type": "execute_result"
    },
    {
     "data": {
      "text/plain": [
       "<Figure size 1200x600 with 0 Axes>"
      ]
     },
     "metadata": {},
     "output_type": "display_data"
    },
    {
     "data": {
      "image/png": "[encoded data removed]",
      "text/plain": [
       "<Figure size 1200x600 with 2 Axes>"
      ]
     },
     "metadata": {},
     "output_type": "display_data"
    }
   ],
   "source": [
    "import matplotlib.pyplot as plt\n",
    "\n",
    "features = ['x', 'y', 'z']  # ['x', 'y', 'z', 'Jx', 'Jy', 'Jz', 'vx', 'vy', 'vz', 'M200c']\n",
    "params = ['Omega_m', 'sigma_8']  # ['Omega_m', 'Omega_b', 'h', 'n_s', 'sigma_8']\n",
    "\n",
    "dataset, num_total = get_halo_dataset(batch_size=50,  # Batch size\n",
    "                            num_samples=250,  # If not None, will only take a subset of the dataset\n",
    "                            split='val',  # 'train', 'val'\n",
    "                            standardize=True,  # If True, will standardize the features\n",
    "                            return_mean_std=False,  # If True, will return (dataset, num_total, mean, std, mean_params, std_params), else (dataset, num_total)\n",
    "                            seed=42,  # Random seed\n",
    "                            features=features,  # Features to include\n",
    "                            params=params  # Parameters to include\n",
    "                            )\n",
    "\n",
    "iterator = iter(dataset)\n",
    "\n",
    "plt.figure(figsize=(12, 6))\n",
    "\n",
    "fig, ax = plt.subplots(1, 2, figsize=(12, 6))\n",
    "\n",
    "x_val, params_val = [], []\n",
    "for _ in tqdm(range(num_total // batch_size)):\n",
    "    x, params = next(iterator)\n",
    "\n",
    "    # Convert to numpy\n",
    "    x, params = np.array(x), np.array(params)\n",
    "    \n",
    "    # x_val.append(np.array(x))\n",
    "    # params_val.append(np.array(params))\n",
    "\n",
    "    graph = build_graph(x, \n",
    "                        None, \n",
    "                        k=20, \n",
    "                        use_edges=True, \n",
    "                        apply_pbc=apply_pbc,\n",
    "                        n_radial_basis=n_radial,\n",
    "                        )\n",
    "\n",
    "    pred = jax.jit(model.apply)(unreplicate(pstate).params, graph)\n",
    "\n",
    "    ax[0].scatter(params[:, 0], pred[:, 0], s=10, color='firebrick')\n",
    "    ax[1].scatter(params[:, 1], pred[:, 1], s=10, color='firebrick')\n",
    "\n",
    "# Diagonal\n",
    "ax[0].plot([-1.5, 1.5], [-1.5, 1.5], color='black')\n",
    "ax[1].plot([-1.5, 1.5], [-1.5, 1.5], color='black')\n",
    "\n",
    "# # # Diagonal line\n",
    "# plt.plot([0, 0.5], [0, 0.5])\n",
    "\n",
    "plt.xlabel(\"True\")\n",
    "plt.ylabel(\"Predicted\")"
   ]
  },
  {
   "cell_type": "code",
   "execution_count": 76,
   "metadata": {},
   "outputs": [],
   "source": [
    "x_test = np.load(\"../../../BNN_SBI/data/set_diffuser_data/test_halos.npy\")[..., :3] / 1000.\n",
    "params_test = pd.read_csv(\"../../../BNN_SBI/data/set_diffuser_data/test_cosmology.csv\",)\n",
    "\n",
    "params_test = params_test[[\"Omega_m\", \"sigma_8\"]].values\n",
    "\n",
    "x_test = (x_test - mean) / std\n",
    "params_test = (params_test - mean_params) / std_params"
   ]
  },
  {
   "cell_type": "code",
   "execution_count": 77,
   "metadata": {},
   "outputs": [
    {
     "name": "stderr",
     "output_type": "stream",
     "text": [
      "100%|██████████| 4/4 [00:04<00:00,  1.04s/it]"
     ]
    },
    {
     "name": "stdout",
     "output_type": "stream",
     "text": [
      "Mean MSE: 0.1213223785161972\n"
     ]
    },
    {
     "name": "stderr",
     "output_type": "stream",
     "text": [
      "\n"
     ]
    },
    {
     "data": {
      "text/plain": [
       "Text(0, 0.5, 'Predicted')"
      ]
     },
     "execution_count": 77,
     "metadata": {},
     "output_type": "execute_result"
    },
    {
     "data": {
      "text/plain": [
       "<Figure size 1200x600 with 0 Axes>"
      ]
     },
     "metadata": {},
     "output_type": "display_data"
    },
    {
     "data": {
      "image/png": "[encoded data removed]",
      "text/plain": [
       "<Figure size 1200x600 with 2 Axes>"
      ]
     },
     "metadata": {},
     "output_type": "display_data"
    }
   ],
   "source": [
    "from tqdm import tqdm\n",
    "\n",
    "n_test_batch = 50\n",
    "n_test_batches = len(x_test) // n_test_batch\n",
    "\n",
    "# Make two plots side by side for 0 and 1 idx parameters\n",
    "\n",
    "plt.figure(figsize=(12, 6))\n",
    "\n",
    "fig, ax = plt.subplots(1, 2, figsize=(12, 6))\n",
    "\n",
    "mse_list = []\n",
    "\n",
    "for i in tqdm(range(n_test_batches)):\n",
    "\n",
    "    # TODO: jit/pmap\n",
    "    graph = build_graph(x_test[i * n_test_batch:(i + 1) * n_test_batch], \n",
    "                        None, \n",
    "                        k=k, \n",
    "                        use_edges=True, \n",
    "                        apply_pbc=apply_pbc,\n",
    "                        n_radial_basis=n_radial,\n",
    "                        )\n",
    "\n",
    "    \n",
    "    omega_m_pred = jax.jit(model.apply)(unreplicate(pstate).params, graph)\n",
    "\n",
    "    ax[0].scatter(params_test[i * n_test_batch:(i + 1) * n_test_batch, 0], omega_m_pred[:, 0], s=10, color='firebrick')\n",
    "    ax[1].scatter(params_test[i * n_test_batch:(i + 1) * n_test_batch, 1], omega_m_pred[:, 1], s=10, color='firebrick')\n",
    "\n",
    "    mse_list.append(loss_mse(omega_m_pred, params_test[i * n_test_batch:(i + 1) * n_test_batch]))\n",
    "\n",
    "print(f\"Mean MSE: {np.mean(mse_list)}\")\n",
    "    \n",
    "ax[0].plot(params_test[:n_test_batch, 0], params_test[:n_test_batch, 0], color='gray')\n",
    "ax[1].plot(params_test[:n_test_batch, 1], params_test[:n_test_batch, 1], color='gray')\n",
    "\n",
    "plt.xlabel(\"True\")\n",
    "plt.ylabel(\"Predicted\")"
   ]
  },
  {
   "cell_type": "code",
   "execution_count": null,
   "metadata": {},
   "outputs": [],
   "source": []
  }
 ],
 "metadata": {
  "kernelspec": {
   "display_name": "equivariant",
   "language": "python",
   "name": "python3"
  },
  "language_info": {
   "codemirror_mode": {
    "name": "ipython",
    "version": 3
   },
   "file_extension": ".py",
   "mimetype": "text/x-python",
   "name": "python",
   "nbconvert_exporter": "python",
   "pygments_lexer": "ipython3",
   "version": "3.10.13"
  }
 },
 "nbformat": 4,
 "nbformat_minor": 2
}
