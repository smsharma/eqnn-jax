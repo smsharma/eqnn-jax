{
 "cells": [
  {
   "cell_type": "code",
   "execution_count": 79,
   "metadata": {},
   "outputs": [
    {
     "name": "stdout",
     "output_type": "stream",
     "text": [
      "The autoreload extension is already loaded. To reload it, use:\n",
      "  %reload_ext autoreload\n"
     ]
    }
   ],
   "source": [
    "import sys\n",
    "sys.path.append(\"../../\")\n",
    "\n",
    "from dataset_large import get_halo_dataset\n",
    "from tqdm import tqdm\n",
    "import numpy as np\n",
    "\n",
    "# Make sure tf does not hog all the GPU memory\n",
    "import tensorflow as tf\n",
    "\n",
    "# Ensure TF does not see GPU and grab all GPU memory\n",
    "tf.config.experimental.set_visible_devices([], \"GPU\")\n",
    "\n",
    "%load_ext autoreload\n",
    "%autoreload 2"
   ]
  },
  {
   "cell_type": "code",
   "execution_count": 131,
   "metadata": {},
   "outputs": [
    {
     "name": "stdout",
     "output_type": "stream",
     "text": [
      "Number of samples: 2000\n"
     ]
    }
   ],
   "source": [
    "features = ['x', 'y', 'z']  # ['x', 'y', 'z', 'Jx', 'Jy', 'Jz', 'vx', 'vy', 'vz', 'M200c']\n",
    "params = ['Omega_m', 'sigma_8']  # ['Omega_m', 'Omega_b', 'h', 'n_s', 'sigma_8']\n",
    "batch_size = 64\n",
    "\n",
    "dataset, num_total, mean, std, mean_params, std_params = get_halo_dataset(batch_size=batch_size,  # Batch size\n",
    "                           num_samples=2000,  # If not None, will only take a subset of the dataset\n",
    "                           split='train',  # 'train', 'val'\n",
    "                           standardize=True,  # If True, will standardize the features\n",
    "                           return_mean_std=True,  # If True, will return (dataset, num_total, mean, std, mean_params, std_params), else (dataset, num_total)\n",
    "                           seed=42,  # Random seed\n",
    "                           features=features,  # Features to include\n",
    "                           params=params  # Parameters to include\n",
    "                        )\n",
    "\n",
    "std = np.array(std)\n",
    "\n",
    "# Print number of samples\n",
    "print(f\"Number of samples: {num_total}\")"
   ]
  },
  {
   "cell_type": "code",
   "execution_count": 132,
   "metadata": {},
   "outputs": [
    {
     "name": "stderr",
     "output_type": "stream",
     "text": [
      "  0%|          | 0/31 [00:00<?, ?it/s]"
     ]
    },
    {
     "name": "stderr",
     "output_type": "stream",
     "text": [
      "100%|██████████| 31/31 [00:01<00:00, 25.33it/s]\n"
     ]
    }
   ],
   "source": [
    "iterator = iter(dataset)\n",
    "\n",
    "x_train, params_train = [], []\n",
    "for _ in tqdm(range(num_total // batch_size)):\n",
    "    x, params = next(iterator)\n",
    "    x_train.append(np.array(x))\n",
    "    params_train.append(np.array(params))\n",
    "\n",
    "x_train = np.concatenate(x_train, axis=0)\n",
    "params_train = np.concatenate(params_train, axis=0)"
   ]
  },
  {
   "cell_type": "code",
   "execution_count": 133,
   "metadata": {},
   "outputs": [],
   "source": [
    "# x_train = np.load(\"../../../BNN_SBI/data/set_diffuser_data/train_halos.npy\")[..., :3] / 1000.\n",
    "\n",
    "# import pandas as pd\n",
    "# params_train = pd.read_csv(\"../../../BNN_SBI/data/set_diffuser_data/train_cosmology.csv\",)\n",
    "# params_train = params_train[[\"Omega_m\", \"sigma_8\"]].values\n",
    "\n",
    "# # Normalize and get std\n",
    "\n",
    "# mean = np.mean(x_train, axis=(0, 1))\n",
    "# std = np.std(x_train, axis=(0, 1))\n",
    "\n",
    "# x_train = (x_train - mean) / std\n",
    "\n",
    "# # Normalize params\n",
    "# mean_params = np.mean(params_train, axis=0)\n",
    "# std_params = np.std(params_train, axis=0)\n",
    "\n",
    "# params_train = (params_train - mean_params) / std_params"
   ]
  },
  {
   "cell_type": "code",
   "execution_count": 208,
   "metadata": {},
   "outputs": [],
   "source": [
    "import flax\n",
    "from flax.training.train_state import TrainState\n",
    "from functools import partial\n",
    "import flax.linen as nn\n",
    "import optax\n",
    "from tqdm import trange\n",
    "\n",
    "replicate = flax.jax_utils.replicate\n",
    "unreplicate = flax.jax_utils.unreplicate"
   ]
  },
  {
   "cell_type": "code",
   "execution_count": 209,
   "metadata": {},
   "outputs": [],
   "source": [
    "from models.utils.equivariant_graph_utils import get_equivariant_graph\n",
    "from models.utils.graph_utils import build_graph, compute_distances, nearest_neighbors\n",
    "from models.utils.irreps_utils import weight_balanced_irreps\n",
    "from models.segnn import SEGNN\n",
    "from models.gnn import GNN\n",
    "from models.utils.graph_utils import get_apply_pbc"
   ]
  },
  {
   "cell_type": "code",
   "execution_count": 210,
   "metadata": {},
   "outputs": [
    {
     "data": {
      "text/plain": [
       "0.7089705"
      ]
     },
     "execution_count": 210,
     "metadata": {},
     "output_type": "execute_result"
    }
   ],
   "source": [
    "_, _, distances = nearest_neighbors(x_train[0], 20)\n",
    "np.sqrt(np.sum(distances ** 2, axis=-1)).max()"
   ]
  },
  {
   "cell_type": "code",
   "execution_count": 211,
   "metadata": {},
   "outputs": [
    {
     "data": {
      "text/plain": [
       "0.5426299"
      ]
     },
     "execution_count": 211,
     "metadata": {},
     "output_type": "execute_result"
    }
   ],
   "source": [
    "_, _, distances = nearest_neighbors(x_train[0], 20, apply_pbc=get_apply_pbc(std=std / 1000.,))\n",
    "np.sqrt(np.sum(distances ** 2, axis=-1)).max()"
   ]
  },
  {
   "cell_type": "code",
   "execution_count": 138,
   "metadata": {},
   "outputs": [
    {
     "data": {
      "text/plain": [
       "(array([121., 122., 152., 172., 127., 127.,  87.,  57.,  24.,  11.]),\n",
       " array([1.73205081e-07, 4.33882885e-02, 8.67763981e-02, 1.30164519e-01,\n",
       "        1.73552632e-01, 2.16940746e-01, 2.60328859e-01, 3.03716958e-01,\n",
       "        3.47105086e-01, 3.90493184e-01, 4.33881313e-01]),\n",
       " [<matplotlib.patches.Polygon at 0x143357e3ca00>])"
      ]
     },
     "execution_count": 138,
     "metadata": {},
     "output_type": "execute_result"
    },
    {
     "data": {
      "image/png": "[encoded data removed]",
      "text/plain": [
       "<Figure size 640x480 with 1 Axes>"
      ]
     },
     "metadata": {},
     "output_type": "display_data"
    }
   ],
   "source": [
    "import matplotlib.pyplot as plt\n",
    "\n",
    "plt.hist(build_graph(x_train[:1], None, 20, n_radial_basis=0, apply_pbc=None).edges.flatten()[:1000], histtype='step')\n",
    "plt.hist(build_graph(x_train[:1], None, 20, n_radial_basis=0, apply_pbc=get_apply_pbc(std=std / 1000.,)).edges.flatten()[:1000], histtype='step')"
   ]
  },
  {
   "cell_type": "code",
   "execution_count": 139,
   "metadata": {},
   "outputs": [
    {
     "data": {
      "text/plain": [
       "Array(0.54262984, dtype=float32)"
      ]
     },
     "execution_count": 139,
     "metadata": {},
     "output_type": "execute_result"
    }
   ],
   "source": [
    "build_graph(x_train[:1], None, 20, n_radial_basis=0, apply_pbc=get_apply_pbc(std=std / 1000.,)).edges.max()"
   ]
  },
  {
   "cell_type": "code",
   "execution_count": 140,
   "metadata": {},
   "outputs": [
    {
     "data": {
      "text/plain": [
       "Array(5.527726, dtype=float32)"
      ]
     },
     "execution_count": 140,
     "metadata": {},
     "output_type": "execute_result"
    }
   ],
   "source": [
    "compute_distances(x_train[0],).max()"
   ]
  },
  {
   "cell_type": "code",
   "execution_count": 234,
   "metadata": {},
   "outputs": [],
   "source": [
    "import e3nn_jax as e3nn\n",
    "from typing import Dict\n",
    "import jax\n",
    "from models.gnn import GNN\n",
    "\n",
    "use_pbcs = True\n",
    "apply_pbc = get_apply_pbc(std=std / 1000.,) if use_pbcs else None\n",
    "k = 20\n",
    "n_radial = 32\n",
    "position_features = True\n",
    "\n",
    "# SEGNN_PARAMS = {\n",
    "#     \"d_hidden\": 64,\n",
    "#     \"l_max_hidden\": 1,\n",
    "#     \"num_blocks\": 3,\n",
    "#     \"num_message_passing_steps\": 3,\n",
    "#     \"intermediate_hidden_irreps\": True,\n",
    "#     \"task\": \"graph\",\n",
    "#     \"output_irreps\": e3nn.Irreps(\"1x0e\"),\n",
    "#     \"hidden_irreps\": weight_balanced_irreps(lmax=1,\n",
    "#                                             scalar_units=64,\n",
    "#                                             irreps_right=e3nn.Irreps.spherical_harmonics(1),\n",
    "#                                             ),\n",
    "#     \"normalize_messages\": True,\n",
    "#     \"message_passing_agg\": \"sum\",\n",
    "#     \"readout_agg\": \"mean\",\n",
    "#     \"n_outputs\": 2,\n",
    "#     \"scalar_activation\": \"gelu\",\n",
    "# }\n",
    "\n",
    "# class GraphWrapper(nn.Module):\n",
    "#     param_dict: Dict\n",
    "\n",
    "#     @nn.compact\n",
    "#     def __call__(self, x):\n",
    "\n",
    "#         positions = e3nn.IrrepsArray(\"1o\", x.nodes[..., :3])\n",
    "        \n",
    "#         if x.nodes.shape[-1] == 3:\n",
    "#             nodes = e3nn.IrrepsArray(\"1o\", x.nodes[..., :])\n",
    "#             velocities = None\n",
    "#         else:\n",
    "#             nodes = e3nn.IrrepsArray(\"1o + 1o\", x.nodes[..., :])\n",
    "#             velocities = e3nn.IrrepsArray(\"1o\", x.nodes[..., 3:6])\n",
    "\n",
    "        \n",
    "#         st_graph = get_equivariant_graph(\n",
    "#             node_features=nodes,\n",
    "#             positions=positions,\n",
    "#             velocities=None,\n",
    "#             steerable_velocities=False,\n",
    "#             senders=x.senders,\n",
    "#             receivers=x.receivers,\n",
    "#             n_node=x.n_node,\n",
    "#             n_edge=x.n_edge,\n",
    "#             globals=x.globals,\n",
    "#             edges=None,\n",
    "#             lmax_attributes=1,\n",
    "#             apply_pbc=apply_pbc\n",
    "#         )\n",
    "        \n",
    "#         return jax.vmap(SEGNN(**self.param_dict))(st_graph)\n",
    "    \n",
    "class GraphWrapper(nn.Module):\n",
    "\n",
    "    @nn.compact\n",
    "    def __call__(self, x):\n",
    "        return jax.vmap(GNN(task=\"graph\", n_outputs=2, message_passing_agg=\"sum\", mlp_readout_widths=(4,2,2), d_hidden=128, message_passing_steps=3, position_features=position_features, readout_agg='attn'))(x)"
   ]
  },
  {
   "cell_type": "code",
   "execution_count": 243,
   "metadata": {},
   "outputs": [
    {
     "data": {
      "text/plain": [
       "Array([[-0.10064033,  0.08648741],\n",
       "       [-0.09589215,  0.12236097]], dtype=float32)"
      ]
     },
     "execution_count": 243,
     "metadata": {},
     "output_type": "execute_result"
    }
   ],
   "source": [
    "graph = build_graph(x_train[:2], \n",
    "                None, \n",
    "                k=k, \n",
    "                apply_pbc=apply_pbc,\n",
    "                use_edges=True, \n",
    "                n_radial_basis=n_radial,\n",
    ")\n",
    "\n",
    "# model = GraphWrapper(SEGNN_PARAMS, )\n",
    "model = GraphWrapper()\n",
    "\n",
    "out, params = model.init_with_output(jax.random.PRNGKey(0), graph)\n",
    "out"
   ]
  },
  {
   "cell_type": "code",
   "execution_count": 244,
   "metadata": {},
   "outputs": [],
   "source": [
    "# from models.transformer import Transformer\n",
    "\n",
    "# model = Transformer(task=\"graph\", n_outputs=2, induced_attention=True, n_inducing_points=256, readout_agg=\"attn\")\n",
    "\n",
    "# rng = jax.random.PRNGKey(0)\n",
    "# out, params = model.init_with_output(rng, x_train[:2])\n",
    "\n",
    "# out"
   ]
  },
  {
   "cell_type": "code",
   "execution_count": 245,
   "metadata": {},
   "outputs": [
    {
     "name": "stdout",
     "output_type": "stream",
     "text": [
      "4 GPUs available\n"
     ]
    }
   ],
   "source": [
    "# Devices\n",
    "num_local_devices = jax.local_device_count()\n",
    "print(f\"{num_local_devices} GPUs available\")"
   ]
  },
  {
   "cell_type": "code",
   "execution_count": 246,
   "metadata": {},
   "outputs": [],
   "source": [
    "# Define train state and replicate across devices\n",
    "\n",
    "# Cosine learning rate schedule\n",
    "# lr = optax.cosine_decay_schedule(3e-4, 5000)\n",
    "lr = optax.warmup_cosine_decay_schedule(\n",
    "    init_value=0.0,\n",
    "    peak_value=3e-4,\n",
    "    warmup_steps=1000,\n",
    "    decay_steps=5000,\n",
    ")\n",
    "\n",
    "# lr = optax.linear_onecycle_schedule(5000, 3e-4)\n",
    "tx = optax.adamw(learning_rate=lr, weight_decay=1e-5)\n",
    "state = TrainState.create(apply_fn=model.apply, params=params, tx=tx)\n",
    "pstate = replicate(state)"
   ]
  },
  {
   "cell_type": "code",
   "execution_count": 247,
   "metadata": {},
   "outputs": [],
   "source": [
    "def loss_mse(pred_batch, cosmo_batch,):\n",
    "    return np.mean((pred_batch - cosmo_batch) ** 2)\n",
    "\n",
    "@partial(jax.pmap, axis_name=\"batch\",)\n",
    "def train_step(state, halo_batch, cosmo_batch,):\n",
    "\n",
    "    halo_graph = build_graph(halo_batch, \n",
    "                None, \n",
    "                k=k, \n",
    "                use_edges=True, \n",
    "                apply_pbc=apply_pbc,\n",
    "                n_radial_basis=n_radial,\n",
    "    )\n",
    "    \n",
    "    def loss_fn(params):\n",
    "        outputs = state.apply_fn(params, halo_graph)\n",
    "        loss = loss_mse(outputs, cosmo_batch)\n",
    "        return loss\n",
    "\n",
    "    # Get loss, grads, and update state\n",
    "    loss, grads = jax.value_and_grad(loss_fn)(state.params)\n",
    "    grads = jax.lax.pmean(grads, \"batch\")\n",
    "    new_state = state.apply_gradients(grads=grads)\n",
    "    metrics = {\"loss\": jax.lax.pmean(loss, \"batch\")}\n",
    "    \n",
    "    return new_state, metrics"
   ]
  },
  {
   "cell_type": "code",
   "execution_count": 248,
   "metadata": {},
   "outputs": [
    {
     "name": "stderr",
     "output_type": "stream",
     "text": [
      "  0%|          | 0/5000 [00:00<?, ?it/s]/tmp/ipykernel_4036016/1947668592.py:14: DeprecationWarning: jax.tree_map is deprecated: use jax.tree.map (jax v0.4.25 or newer) or jax.tree_util.tree_map (any JAX version).\n",
      "  halo_batch = jax.tree_map(lambda x: np.split(x, num_local_devices, axis=0), halo_batch)\n",
      "/tmp/ipykernel_4036016/1947668592.py:15: DeprecationWarning: jax.tree_map is deprecated: use jax.tree.map (jax v0.4.25 or newer) or jax.tree_util.tree_map (any JAX version).\n",
      "  cosmo_batch = jax.tree_map(lambda x: np.split(x, num_local_devices, axis=0), cosmo_batch)\n",
      "  0%|          | 1/5000 [00:14<20:23:54, 14.69s/it, loss=0.8478108]/tmp/ipykernel_4036016/1947668592.py:14: DeprecationWarning: jax.tree_map is deprecated: use jax.tree.map (jax v0.4.25 or newer) or jax.tree_util.tree_map (any JAX version).\n",
      "  halo_batch = jax.tree_map(lambda x: np.split(x, num_local_devices, axis=0), halo_batch)\n",
      "/tmp/ipykernel_4036016/1947668592.py:15: DeprecationWarning: jax.tree_map is deprecated: use jax.tree.map (jax v0.4.25 or newer) or jax.tree_util.tree_map (any JAX version).\n",
      "  cosmo_batch = jax.tree_map(lambda x: np.split(x, num_local_devices, axis=0), cosmo_batch)\n",
      "100%|██████████| 5000/5000 [11:33<00:00,  7.21it/s, loss=0.25459895]\n"
     ]
    }
   ],
   "source": [
    "n_steps = 5000\n",
    "n_batch = 32\n",
    "\n",
    "key = jax.random.PRNGKey(0)\n",
    "\n",
    "with trange(n_steps) as steps:\n",
    "    for step in steps:\n",
    "        key, subkey = jax.random.split(key)\n",
    "        idx = jax.random.choice(key, x_train.shape[0], shape=(n_batch,))\n",
    "        \n",
    "        halo_batch, cosmo_batch = x_train[idx], params_train[idx]\n",
    "\n",
    "        # Split batches across devices\n",
    "        halo_batch = jax.tree_map(lambda x: np.split(x, num_local_devices, axis=0), halo_batch)\n",
    "        cosmo_batch = jax.tree_map(lambda x: np.split(x, num_local_devices, axis=0), cosmo_batch)\n",
    "        halo_batch, cosmo_batch = np.array(halo_batch), np.array(cosmo_batch)\n",
    "\n",
    "        pstate, metrics = train_step(pstate, halo_batch, cosmo_batch)\n",
    "        \n",
    "        steps.set_postfix(loss=unreplicate(metrics[\"loss\"]))"
   ]
  },
  {
   "cell_type": "code",
   "execution_count": 249,
   "metadata": {},
   "outputs": [
    {
     "name": "stderr",
     "output_type": "stream",
     "text": [
      "100%|██████████| 3/3 [00:09<00:00,  3.17s/it]"
     ]
    },
    {
     "name": "stdout",
     "output_type": "stream",
     "text": [
      "Mean MSE: 0.26073548197746277\n"
     ]
    },
    {
     "name": "stderr",
     "output_type": "stream",
     "text": [
      "\n"
     ]
    },
    {
     "data": {
      "text/plain": [
       "Text(0, 0.5, 'Predicted')"
      ]
     },
     "execution_count": 249,
     "metadata": {},
     "output_type": "execute_result"
    },
    {
     "data": {
      "text/plain": [
       "<Figure size 1200x600 with 0 Axes>"
      ]
     },
     "metadata": {},
     "output_type": "display_data"
    },
    {
     "data": {
      "image/png": "[encoded data removed]",
      "text/plain": [
       "<Figure size 1200x600 with 2 Axes>"
      ]
     },
     "metadata": {},
     "output_type": "display_data"
    }
   ],
   "source": [
    "import matplotlib.pyplot as plt\n",
    "\n",
    "features = ['x', 'y', 'z']  # ['x', 'y', 'z', 'Jx', 'Jy', 'Jz', 'vx', 'vy', 'vz', 'M200c']\n",
    "params = ['Omega_m', 'sigma_8']  # ['Omega_m', 'Omega_b', 'h', 'n_s', 'sigma_8']\n",
    "\n",
    "dataset, num_total = get_halo_dataset(batch_size=50,  # Batch size\n",
    "                            num_samples=250,  # If not None, will only take a subset of the dataset\n",
    "                            split='val',  # 'train', 'val'\n",
    "                            standardize=True,  # If True, will standardize the features\n",
    "                            return_mean_std=False,  # If True, will return (dataset, num_total, mean, std, mean_params, std_params), else (dataset, num_total)\n",
    "                            seed=42,  # Random seed\n",
    "                            features=features,  # Features to include\n",
    "                            params=params  # Parameters to include\n",
    "                            )\n",
    "\n",
    "iterator = iter(dataset)\n",
    "\n",
    "plt.figure(figsize=(12, 6))\n",
    "\n",
    "fig, ax = plt.subplots(1, 2, figsize=(12, 6))\n",
    "\n",
    "mse_list = []\n",
    "\n",
    "x_val, params_val = [], []\n",
    "for _ in tqdm(range(num_total // batch_size)):\n",
    "    x, params = next(iterator)\n",
    "\n",
    "    # Convert to numpy\n",
    "    x, params = np.array(x), np.array(params)\n",
    "    \n",
    "    # x_val.append(np.array(x))\n",
    "    # params_val.append(np.array(params))\n",
    "\n",
    "    graph = build_graph(x, \n",
    "                None, \n",
    "                k=20, \n",
    "                use_edges=True, \n",
    "                apply_pbc=apply_pbc,\n",
    "                n_radial_basis=n_radial,\n",
    "                )\n",
    "\n",
    "    pred = jax.jit(model.apply)(unreplicate(pstate).params, graph)\n",
    "\n",
    "    ax[0].scatter(params[:, 0], pred[:, 0], s=10, color='firebrick')\n",
    "    ax[1].scatter(params[:, 1], pred[:, 1], s=10, color='firebrick')\n",
    "\n",
    "    mse = np.mean((pred - params) ** 2)\n",
    "    mse_list.append(mse)\n",
    "\n",
    "# Diagonal\n",
    "ax[0].plot([-1.5, 1.5], [-1.5, 1.5], color='black')\n",
    "ax[1].plot([-1.5, 1.5], [-1.5, 1.5], color='black')\n",
    "\n",
    "print(f\"Mean MSE: {np.mean(mse_list)}\")\n",
    "\n",
    "# # # Diagonal line\n",
    "# plt.plot([0, 0.5], [0, 0.5])\n",
    "\n",
    "plt.xlabel(\"True\")\n",
    "plt.ylabel(\"Predicted\")"
   ]
  },
  {
   "cell_type": "code",
   "execution_count": 76,
   "metadata": {},
   "outputs": [],
   "source": [
    "x_test = np.load(\"../../../BNN_SBI/data/set_diffuser_data/test_halos.npy\")[..., :3] / 1000.\n",
    "params_test = pd.read_csv(\"../../../BNN_SBI/data/set_diffuser_data/test_cosmology.csv\",)\n",
    "\n",
    "params_test = params_test[[\"Omega_m\", \"sigma_8\"]].values\n",
    "\n",
    "x_test = (x_test - mean) / std\n",
    "params_test = (params_test - mean_params) / std_params"
   ]
  },
  {
   "cell_type": "code",
   "execution_count": 77,
   "metadata": {},
   "outputs": [
    {
     "name": "stderr",
     "output_type": "stream",
     "text": [
      "100%|██████████| 4/4 [00:04<00:00,  1.04s/it]"
     ]
    },
    {
     "name": "stdout",
     "output_type": "stream",
     "text": [
      "Mean MSE: 0.1213223785161972\n"
     ]
    },
    {
     "name": "stderr",
     "output_type": "stream",
     "text": [
      "\n"
     ]
    },
    {
     "data": {
      "text/plain": [
       "Text(0, 0.5, 'Predicted')"
      ]
     },
     "execution_count": 77,
     "metadata": {},
     "output_type": "execute_result"
    },
    {
     "data": {
      "text/plain": [
       "<Figure size 1200x600 with 0 Axes>"
      ]
     },
     "metadata": {},
     "output_type": "display_data"
    },
    {
     "data": {
      "image/png": "[encoded data removed]",
      "text/plain": [
       "<Figure size 1200x600 with 2 Axes>"
      ]
     },
     "metadata": {},
     "output_type": "display_data"
    }
   ],
   "source": [
    "from tqdm import tqdm\n",
    "\n",
    "n_test_batch = 50\n",
    "n_test_batches = len(x_test) // n_test_batch\n",
    "\n",
    "# Make two plots side by side for 0 and 1 idx parameters\n",
    "\n",
    "plt.figure(figsize=(12, 6))\n",
    "\n",
    "fig, ax = plt.subplots(1, 2, figsize=(12, 6))\n",
    "\n",
    "mse_list = []\n",
    "\n",
    "for i in tqdm(range(n_test_batches)):\n",
    "\n",
    "    # TODO: jit/pmap\n",
    "    graph = build_graph(x_test[i * n_test_batch:(i + 1) * n_test_batch], \n",
    "                        None, \n",
    "                        k=k, \n",
    "                        use_edges=True, \n",
    "                        apply_pbc=apply_pbc,\n",
    "                        n_radial_basis=n_radial,\n",
    "                        )\n",
    "\n",
    "    \n",
    "    omega_m_pred = jax.jit(model.apply)(unreplicate(pstate).params, graph)\n",
    "\n",
    "    ax[0].scatter(params_test[i * n_test_batch:(i + 1) * n_test_batch, 0], omega_m_pred[:, 0], s=10, color='firebrick')\n",
    "    ax[1].scatter(params_test[i * n_test_batch:(i + 1) * n_test_batch, 1], omega_m_pred[:, 1], s=10, color='firebrick')\n",
    "\n",
    "    mse_list.append(loss_mse(omega_m_pred, params_test[i * n_test_batch:(i + 1) * n_test_batch]))\n",
    "\n",
    "print(f\"Mean MSE: {np.mean(mse_list)}\")\n",
    "    \n",
    "ax[0].plot(params_test[:n_test_batch, 0], params_test[:n_test_batch, 0], color='gray')\n",
    "ax[1].plot(params_test[:n_test_batch, 1], params_test[:n_test_batch, 1], color='gray')\n",
    "\n",
    "plt.xlabel(\"True\")\n",
    "plt.ylabel(\"Predicted\")"
   ]
  },
  {
   "cell_type": "code",
   "execution_count": null,
   "metadata": {},
   "outputs": [],
   "source": []
  }
 ],
 "metadata": {
  "kernelspec": {
   "display_name": "equivariant",
   "language": "python",
   "name": "python3"
  },
  "language_info": {
   "codemirror_mode": {
    "name": "ipython",
    "version": 3
   },
   "file_extension": ".py",
   "mimetype": "text/x-python",
   "name": "python",
   "nbconvert_exporter": "python",
   "pygments_lexer": "ipython3",
   "version": "3.10.13"
  }
 },
 "nbformat": 4,
 "nbformat_minor": 2
}
