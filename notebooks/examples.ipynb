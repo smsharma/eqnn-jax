{
 "cells": [
  {
   "cell_type": "code",
   "execution_count": 52,
   "metadata": {},
   "outputs": [],
   "source": [
    "import sys\n",
    "sys.path.append('../')\n",
    "\n",
    "from typing import Dict\n",
    "\n",
    "import jax\n",
    "import jax.numpy as jnp\n",
    "\n",
    "import flax.linen as nn\n",
    "import e3nn_jax as e3nn\n",
    "import jraph\n",
    "\n",
    "from models.utils.equivariant_graph_utils import get_equivariant_graph\n",
    "from models.utils.graph_utils import build_graph\n",
    "\n",
    "from models.segnn import SEGNN\n",
    "from models.gnn import GNN\n",
    "from models.segnn import SEGNN\n",
    "from models.egnn import EGNN\n",
    "from models.nequip import NequIP"
   ]
  },
  {
   "cell_type": "markdown",
   "metadata": {},
   "source": [
    "## Example graph and configuration"
   ]
  },
  {
   "cell_type": "code",
   "execution_count": 53,
   "metadata": {},
   "outputs": [],
   "source": [
    "# Make a (2, 1000, 3) point cloud of random points\n",
    "key = jax.random.PRNGKey(0)\n",
    "x_points = jax.random.uniform(key, (2, 1000, 3))"
   ]
  },
  {
   "cell_type": "code",
   "execution_count": 54,
   "metadata": {},
   "outputs": [],
   "source": [
    "k = 10\n",
    "n_radial = 64\n",
    "position_features = True\n",
    "r_max = 0.6\n",
    "use_3d_distances = False\n",
    "l_max = 1"
   ]
  },
  {
   "cell_type": "markdown",
   "metadata": {},
   "source": [
    "## GraphNetwork"
   ]
  },
  {
   "cell_type": "code",
   "execution_count": 55,
   "metadata": {},
   "outputs": [],
   "source": [
    "GNN_PARAMS = {\n",
    "    \"d_hidden\": 128,\n",
    "    \"message_passing_steps\": 3,\n",
    "    \"n_layers\": 3,\n",
    "    \"activation\": \"gelu\",\n",
    "    \"message_passing_agg\": \"mean\",\n",
    "    \"readout_agg\": \"mean\",\n",
    "    \"mlp_readout_widths\": (4, 2, 2),\n",
    "    \"task\": \"graph\",\n",
    "    \"n_outputs\": 2,\n",
    "    \"norm\": \"none\",\n",
    "    \"position_features\": True,\n",
    "    \"residual\": False,\n",
    "}\n",
    "\n",
    "class GraphWrapperGNN(nn.Module):\n",
    "    param_dict: Dict\n",
    "    @nn.compact\n",
    "    def __call__(self, x):\n",
    "        return jax.vmap(GNN(**self.param_dict))(x)"
   ]
  },
  {
   "cell_type": "code",
   "execution_count": 56,
   "metadata": {},
   "outputs": [
    {
     "name": "stdout",
     "output_type": "stream",
     "text": [
      "Number of parameters: 700674\n"
     ]
    },
    {
     "data": {
      "text/plain": [
       "Array([[ 0.12172805, -0.08840577],\n",
       "       [ 0.11992944, -0.09075886]], dtype=float32)"
      ]
     },
     "execution_count": 56,
     "metadata": {},
     "output_type": "execute_result"
    }
   ],
   "source": [
    "graph = build_graph(x_points, \n",
    "                None, \n",
    "                k=k, \n",
    "                use_edges=True, \n",
    "                n_radial_basis=n_radial,\n",
    "                r_max=r_max,\n",
    "                use_3d_distances=use_3d_distances,\n",
    ")\n",
    "\n",
    "model = GraphWrapperGNN(GNN_PARAMS)\n",
    "out, params = model.init_with_output(jax.random.PRNGKey(0), graph)\n",
    "\n",
    "# Number of parameters\n",
    "print(f\"Number of parameters: {sum([p.size for p in jax.tree.leaves(params)])}\")\n",
    "\n",
    "out"
   ]
  },
  {
   "cell_type": "markdown",
   "metadata": {},
   "source": [
    "## SEGNN"
   ]
  },
  {
   "cell_type": "code",
   "execution_count": 57,
   "metadata": {},
   "outputs": [],
   "source": [
    "SEGNN_PARAMS = {\n",
    "    \"d_hidden\": 128,\n",
    "    \"l_max_hidden\": l_max,\n",
    "    \"n_layers\": 3,\n",
    "    \"message_passing_steps\": 3,\n",
    "    \"task\": \"graph\",\n",
    "    \"output_irreps\": e3nn.Irreps(\"1x0e\"),\n",
    "    \"hidden_irreps\": None,\n",
    "    \"message_passing_agg\": \"mean\",\n",
    "    \"readout_agg\": \"mean\",\n",
    "    \"n_outputs\": 2,\n",
    "    \"scalar_activation\": \"gelu\",\n",
    "    \"gate_activation\": \"sigmoid\",\n",
    "    \"mlp_readout_widths\": (4, 2, 2),\n",
    "    \"residual\": False,\n",
    "}\n",
    "\n",
    "class GraphWrapperSEGNN(nn.Module):\n",
    "    param_dict: Dict\n",
    "\n",
    "    @nn.compact\n",
    "    def __call__(self, x):\n",
    "\n",
    "        positions = e3nn.IrrepsArray(\"1o\", x.nodes[..., :3])\n",
    "        \n",
    "        if x.nodes.shape[-1] == 3:\n",
    "            nodes = e3nn.IrrepsArray(\"1o\", x.nodes[..., :])\n",
    "            velocities = None\n",
    "        else:\n",
    "            nodes = e3nn.IrrepsArray(\"1o + 1o\", x.nodes[..., :])\n",
    "            velocities = e3nn.IrrepsArray(\"1o\", x.nodes[..., 3:6])\n",
    "\n",
    "        \n",
    "        st_graph = get_equivariant_graph(\n",
    "            node_features=nodes,\n",
    "            positions=positions,\n",
    "            velocities=None,\n",
    "            steerable_velocities=False,\n",
    "            senders=x.senders,\n",
    "            receivers=x.receivers,\n",
    "            n_node=x.n_node,\n",
    "            n_edge=x.n_edge,\n",
    "            globals=x.globals,\n",
    "            edges=None,\n",
    "            lmax_attributes=l_max,\n",
    "            n_radial_basis=n_radial,\n",
    "            r_max=r_max,\n",
    "        )\n",
    "        \n",
    "        return jax.vmap(SEGNN(**self.param_dict))(st_graph)\n"
   ]
  },
  {
   "cell_type": "code",
   "execution_count": 58,
   "metadata": {},
   "outputs": [
    {
     "name": "stdout",
     "output_type": "stream",
     "text": [
      "Number of parameters: 573253\n"
     ]
    },
    {
     "data": {
      "text/plain": [
       "Array([[-0.00476563, -0.00017594],\n",
       "       [-0.00483601, -0.00015454]], dtype=float32)"
      ]
     },
     "execution_count": 58,
     "metadata": {},
     "output_type": "execute_result"
    }
   ],
   "source": [
    "model = GraphWrapperSEGNN(SEGNN_PARAMS, )\n",
    "out, params = model.init_with_output(jax.random.PRNGKey(0), graph)\n",
    "\n",
    "# Number of parameters\n",
    "print(f\"Number of parameters: {sum([p.size for p in jax.tree.leaves(params)])}\")\n",
    "\n",
    "out"
   ]
  },
  {
   "cell_type": "markdown",
   "metadata": {},
   "source": [
    "## NequIP"
   ]
  },
  {
   "cell_type": "code",
   "execution_count": 61,
   "metadata": {},
   "outputs": [],
   "source": [
    "NEQUIP_PARAMS = {\n",
    "    \"n_outputs\": 2,\n",
    "    \"n_radial_basis\": n_radial,\n",
    "    \"r_cutoff\": r_max,\n",
    "    \"sphharm_norm\": \"component\",\n",
    "}\n",
    "\n",
    "class GraphWrapperNequIP(nn.Module):\n",
    "    param_dict: Dict\n",
    "    @nn.compact\n",
    "    def __call__(self, x):\n",
    "        \n",
    "        nodes = e3nn.IrrepsArray(\"1o\", x.nodes)  # Assuming positions\n",
    "        \n",
    "        graph = jraph.GraphsTuple(\n",
    "            n_node=x.n_node,\n",
    "            n_edge=x.n_edge,\n",
    "            edges=None,\n",
    "            globals=x.globals,\n",
    "            nodes=nodes, \n",
    "            senders=x.senders,\n",
    "            receivers=x.receivers)\n",
    "        \n",
    "        return jax.vmap(NequIP(**self.param_dict))(graph)"
   ]
  },
  {
   "cell_type": "code",
   "execution_count": 62,
   "metadata": {},
   "outputs": [
    {
     "name": "stdout",
     "output_type": "stream",
     "text": [
      "Number of parameters: 391622\n"
     ]
    },
    {
     "data": {
      "text/plain": [
       "Array([[ -6.085656 , -11.367395 ],\n",
       "       [ -5.1505995,  -9.6540985]], dtype=float32)"
      ]
     },
     "execution_count": 62,
     "metadata": {},
     "output_type": "execute_result"
    }
   ],
   "source": [
    "model = GraphWrapperNequIP(NEQUIP_PARAMS)\n",
    "out, params = model.init_with_output(jax.random.PRNGKey(0), graph)\n",
    "\n",
    "# Number of parameters\n",
    "print(f\"Number of parameters: {sum([p.size for p in jax.tree.leaves(params)])}\")\n",
    "\n",
    "out"
   ]
  },
  {
   "cell_type": "markdown",
   "metadata": {},
   "source": [
    "## EGNN"
   ]
  },
  {
   "cell_type": "code",
   "execution_count": 63,
   "metadata": {},
   "outputs": [],
   "source": [
    "class GraphWrapperEGNN(nn.Module):\n",
    "    param_dict: Dict\n",
    "    @nn.compact\n",
    "    def __call__(self, x):\n",
    "        return jax.vmap(EGNN(positions_only=True, n_outputs=2, n_layers=4, n_radial_basis=n_radial, r_max=r_max, tanh_out=True))(x)"
   ]
  },
  {
   "cell_type": "code",
   "execution_count": 64,
   "metadata": {},
   "outputs": [
    {
     "name": "stdout",
     "output_type": "stream",
     "text": [
      "Number of parameters: 441778\n"
     ]
    },
    {
     "data": {
      "text/plain": [
       "Array([[-0.00890504, -0.09374903],\n",
       "       [-0.0085367 , -0.09540764]], dtype=float32)"
      ]
     },
     "execution_count": 64,
     "metadata": {},
     "output_type": "execute_result"
    }
   ],
   "source": [
    "model = GraphWrapperEGNN({})\n",
    "out, params = model.init_with_output(jax.random.PRNGKey(0), graph)\n",
    "\n",
    "# Number of parameters\n",
    "print(f\"Number of parameters: {sum([p.size for p in jax.tree.leaves(params)])}\")\n",
    "\n",
    "out"
   ]
  },
  {
   "cell_type": "code",
   "execution_count": null,
   "metadata": {},
   "outputs": [],
   "source": []
  }
 ],
 "metadata": {
  "kernelspec": {
   "display_name": "jax-test",
   "language": "python",
   "name": "python3"
  },
  "language_info": {
   "codemirror_mode": {
    "name": "ipython",
    "version": 3
   },
   "file_extension": ".py",
   "mimetype": "text/x-python",
   "name": "python",
   "nbconvert_exporter": "python",
   "pygments_lexer": "ipython3",
   "version": "3.10.9"
  }
 },
 "nbformat": 4,
 "nbformat_minor": 2
}
