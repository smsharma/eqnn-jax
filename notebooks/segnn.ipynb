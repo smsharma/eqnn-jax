{
 "cells": [
  {
   "cell_type": "code",
   "execution_count": 146,
   "metadata": {},
   "outputs": [
    {
     "name": "stdout",
     "output_type": "stream",
     "text": [
      "The autoreload extension is already loaded. To reload it, use:\n",
      "  %reload_ext autoreload\n"
     ]
    }
   ],
   "source": [
    "import sys\n",
    "sys.path.append(\"../\")\n",
    "\n",
    "import jax\n",
    "import jax.numpy as jnp\n",
    "import jraph\n",
    "from e3nn_jax import Irreps\n",
    "from e3nn_jax import IrrepsArray\n",
    "\n",
    "from models.segnn import SEGNN\n",
    "\n",
    "from utils.irreps_utils import balanced_irreps\n",
    "\n",
    "%load_ext autoreload\n",
    "%autoreload 2"
   ]
  },
  {
   "cell_type": "code",
   "execution_count": 147,
   "metadata": {},
   "outputs": [],
   "source": [
    "import numpy as np\n",
    "\n",
    "n_batch = 2\n",
    "n_nodes = 1000\n",
    "k = 20\n",
    "\n",
    "x = np.load(\"../data/halos_small.npy\")[:n_batch, :n_nodes, :]\n",
    "\n",
    "# Normalize\n",
    "x_mean = x.mean((0, 1))\n",
    "x_std = x.std((0, 1))\n",
    "x[:, :, 3:] = (x[:, :, 3:] - x_mean[3:]) / x_std[3:]\n",
    "x[:, :, :3] = x[:, :, :3] / 1000.  # Divide by box size"
   ]
  },
  {
   "cell_type": "code",
   "execution_count": 148,
   "metadata": {},
   "outputs": [],
   "source": [
    "from utils.graph_utils import nearest_neighbors, rotate_representation\n",
    "\n",
    "# Get nearest neighbors graph\n",
    "sources, targets = jax.vmap(nearest_neighbors, in_axes=(0, None))(x, k)"
   ]
  },
  {
   "cell_type": "code",
   "execution_count": 149,
   "metadata": {},
   "outputs": [
    {
     "data": {
      "text/plain": [
       "44x0e+7x1o+4x2e"
      ]
     },
     "execution_count": 149,
     "metadata": {},
     "output_type": "execute_result"
    }
   ],
   "source": [
    "l_attr = 2\n",
    "hidden_feats = 64\n",
    "\n",
    "irreps_sh = Irreps.spherical_harmonics(l_attr)\n",
    "irreps_hidden = balanced_irreps(lmax=l_attr, feature_size=hidden_feats, use_sh=True)\n",
    "\n",
    "irreps_hidden"
   ]
  },
  {
   "cell_type": "code",
   "execution_count": 150,
   "metadata": {},
   "outputs": [
    {
     "data": {
      "text/plain": [
       "GraphsTuple(nodes=1x1o+1x1o+1x0e\n",
       "[[ 1.11022113e-04  2.57469917e-04 -2.40940208e-04 ... -5.41947957e-04\n",
       "   5.02493407e-04 -5.45198418e-05]\n",
       " [-5.12439350e-04  2.13048814e-04  6.80897618e-04 ... -4.60215349e-04\n",
       "  -1.53686467e-03 -1.35711789e-05]\n",
       " [-7.06139908e-05 -3.56277778e-05  2.05050295e-04 ...  1.49596555e-04\n",
       "  -4.54601948e-04 -1.53323901e-06]\n",
       " ...\n",
       " [ 2.01664254e-04  4.63115139e-05 -7.53444419e-06 ... -1.14582304e-04\n",
       "  -4.63076367e-06  2.92741470e-06]\n",
       " [ 3.99559431e-05  3.58298304e-04  1.02381084e-04 ... -7.74350367e-04\n",
       "  -2.32465769e-04 -5.20189042e-06]\n",
       " [ 1.60769938e-04  1.22273152e-04 -5.33271414e-05 ... -2.70873774e-04\n",
       "   1.42000819e-04  2.39907899e-06]], edges=(44x0e+7x1o+4x2e\n",
       "[[ 1.38167024e-06  3.06219335e-05  5.28177698e-05 ...  0.00000000e+00\n",
       "   0.00000000e+00  0.00000000e+00]\n",
       " [-1.19771124e-04 -4.54308814e-04  1.16038439e-03 ... -7.70996383e-04\n",
       "  -4.27940860e-04  8.70001444e-04]\n",
       " [-3.59936082e-03 -3.70895374e-03  2.44372664e-03 ... -2.72686221e-03\n",
       "  -7.01097830e-04  7.54288749e-06]\n",
       " ...\n",
       " [-3.27619964e-05  6.53442112e-05  6.14664808e-04 ... -9.54606629e-04\n",
       "   3.34220851e-04 -1.06818310e-03]\n",
       " [-4.69891995e-04 -1.04957653e-04  1.29100878e-03 ...  2.05470802e-04\n",
       "  -4.05918923e-04 -4.43967554e-04]\n",
       " [ 1.95074652e-04 -3.15989106e-04 -1.18379481e-03 ... -2.27897501e-04\n",
       "   6.19292841e-04  1.82071708e-05]], 1x0e+1x1o+1x2e+1x0e+1x1o+1x2e\n",
       "[[ 1.00000000e+00  0.00000000e+00  0.00000000e+00 ...  0.00000000e+00\n",
       "   0.00000000e+00  0.00000000e+00]\n",
       " [ 1.00000000e+00 -1.59256649e-03 -1.93567725e-03 ... -7.20916808e-01\n",
       "   1.19304633e+00  1.39681911e+00]\n",
       " [ 1.00000000e+00 -1.91805582e-03 -1.64644066e-02 ...  2.18170381e+00\n",
       "   2.05313638e-01 -2.03235839e-02]\n",
       " ...\n",
       " [ 1.00000000e+00  5.35420375e-03 -3.69900954e-03 ... -8.53931308e-02\n",
       "  -4.66274410e-01 -1.15796351e+00]\n",
       " [ 1.00000000e+00  2.75437371e-03  3.36948899e-03 ... -3.99843782e-01\n",
       "  -1.43685853e+00  9.67695475e-01]\n",
       " [ 1.00000000e+00  2.45256699e-03  6.76392531e-03 ...  1.17327526e-01\n",
       "  -1.79509103e+00  1.03570938e+00]]), receivers=Array([  0,  81, 620, ..., 433, 121, 230], dtype=int32), senders=Array([  0,   0,   0, ..., 999, 999, 999], dtype=int32), globals=None, n_node=1000, n_edge=20)"
      ]
     },
     "execution_count": 150,
     "metadata": {},
     "output_type": "execute_result"
    }
   ],
   "source": [
    "x_irreps = IrrepsArray(\"1o + 1o + 1x0e\", x)\n",
    "\n",
    "graph = jraph.GraphsTuple(\n",
    "          n_node=n_nodes,\n",
    "          n_edge=k,\n",
    "          edges=None,\n",
    "          globals=None,\n",
    "          nodes=x_irreps[0], \n",
    "          senders=sources[0],\n",
    "          receivers=targets[0])\n",
    "\n",
    "segnn = SEGNN(irreps_hidden=irreps_hidden, irreps_sh=irreps_sh, num_message_passing_steps=3)\n",
    "\n",
    "key = jax.random.PRNGKey(0)\n",
    "out, params = segnn.init_with_output(key, graph)\n",
    "\n",
    "out"
   ]
  },
  {
   "cell_type": "markdown",
   "metadata": {},
   "source": []
  },
  {
   "cell_type": "code",
   "execution_count": 151,
   "metadata": {},
   "outputs": [
    {
     "data": {
      "text/plain": [
       "27699"
      ]
     },
     "execution_count": 151,
     "metadata": {},
     "output_type": "execute_result"
    }
   ],
   "source": [
    "sum(x.size for x in jax.tree_util.tree_leaves(params))"
   ]
  },
  {
   "cell_type": "code",
   "execution_count": 152,
   "metadata": {},
   "outputs": [
    {
     "data": {
      "text/plain": [
       "GraphsTuple(nodes=1x1o+1x1o+1x0e\n",
       "[[ 3.2771073e-04  1.2896882e-04 -1.1243893e-04 ... -2.5075427e-04\n",
       "   2.1129930e-04 -5.4519907e-05]\n",
       " [-5.9627375e-04  5.3778343e-04  3.5616304e-04 ... -1.1657906e-03\n",
       "  -8.3128968e-04 -1.3571217e-05]\n",
       " [-1.7027091e-04  3.4925837e-05  1.3449664e-04 ... -3.5836962e-05\n",
       "  -2.6916852e-04 -1.5332276e-06]\n",
       " ...\n",
       " [ 1.6952104e-04 -6.2406143e-05  1.0118313e-04 ...  1.2702261e-04\n",
       "  -2.4623549e-04  2.9274129e-06]\n",
       " [ 1.5621171e-04  3.0084187e-04  1.5983715e-04 ... -6.4916286e-04\n",
       "  -3.5765234e-04 -5.2018672e-06]\n",
       " [ 2.0148158e-04  1.6172067e-05  5.2773801e-05 ... -3.7201142e-05\n",
       "  -9.1671558e-05  2.3990774e-06]], edges=(44x0e+7x1o+4x2e\n",
       "[[ 1.3816696e-06  3.0622148e-05  5.2818115e-05 ...  0.0000000e+00\n",
       "   0.0000000e+00  0.0000000e+00]\n",
       " [-1.1977117e-04 -4.5430945e-04  1.1603845e-03 ... -5.1295408e-04\n",
       "  -2.9983526e-04  4.6480077e-04]\n",
       " [-3.5993634e-03 -3.7089558e-03  2.4437287e-03 ... -1.3093831e-03\n",
       "  -1.2986651e-03  3.8429967e-04]\n",
       " ...\n",
       " [-3.2761764e-05  6.5344619e-05  6.1466417e-04 ... -1.6660533e-04\n",
       "  -4.0872322e-04 -3.7245947e-05]\n",
       " [-4.6989115e-04 -1.0495703e-04  1.2910076e-03 ... -2.5537380e-04\n",
       "   1.0367411e-05 -1.0104714e-03]\n",
       " [ 1.9507499e-04 -3.1598870e-04 -1.1837945e-03 ...  4.0022255e-04\n",
       "  -7.0453127e-05  1.0350527e-03]], 1x0e+1x1o+1x2e+1x0e+1x1o+1x2e\n",
       "[[ 1.0000000e+00  0.0000000e+00  0.0000000e+00 ...  0.0000000e+00\n",
       "   0.0000000e+00  0.0000000e+00]\n",
       " [ 1.0000000e+00  4.2414316e-04 -1.5934496e-03 ... -8.4892344e-01\n",
       "   1.0488549e+00  1.7591041e+00]\n",
       " [ 1.0000000e+00 -9.1448864e-03 -1.3224155e-02 ...  1.0107070e+00\n",
       "   7.6719224e-01 -4.6801165e-01]\n",
       " ...\n",
       " [ 1.0000000e+00  1.2132529e-03 -5.6225709e-03 ...  1.2678473e+00\n",
       "  -1.6512649e+00  4.3072450e-01]\n",
       " [ 1.0000000e+00  6.5514147e-03  6.4388622e-04 ... -1.0918080e+00\n",
       "  -1.4638434e-01 -1.2137456e+00]\n",
       " [ 1.0000000e+00  9.3720909e-03  3.3005599e-03 ... -8.2388169e-01\n",
       "  -5.1953059e-01 -9.7200328e-01]]), receivers=Array([  0,  81, 620, ..., 433, 121, 230], dtype=int32), senders=Array([  0,   0,   0, ..., 999, 999, 999], dtype=int32), globals=None, n_node=1000, n_edge=20)"
      ]
     },
     "execution_count": 152,
     "metadata": {},
     "output_type": "execute_result"
    }
   ],
   "source": [
    "axis = np.array([0, 1 / np.sqrt(2), 1 / np.sqrt(2)])\n",
    "x_irreps = IrrepsArray(\"1o + 1o + 1x0e\", rotate_representation(x[0], 45., axis))\n",
    "\n",
    "graph = jraph.GraphsTuple(\n",
    "          n_node=n_nodes,\n",
    "          n_edge=k,\n",
    "          edges=None,\n",
    "          globals=None,\n",
    "          nodes=x_irreps, \n",
    "          senders=sources[0],\n",
    "          receivers=targets[0])\n",
    "\n",
    "out_rot, params = segnn.init_with_output(key, graph)\n",
    "\n",
    "out_rot"
   ]
  },
  {
   "cell_type": "code",
   "execution_count": 153,
   "metadata": {},
   "outputs": [
    {
     "data": {
      "text/plain": [
       "Array([[1.0000036 , 1.0000037 , 1.0000026 , ..., 1.0000037 , 1.0000024 ,\n",
       "        1.0000012 ],\n",
       "       [1.        , 1.0000001 , 1.0000001 , ..., 1.        , 1.0000005 ,\n",
       "        1.0000029 ],\n",
       "       [1.0000013 , 1.0000033 , 0.9999989 , ..., 1.0000086 , 0.9999992 ,\n",
       "        0.9999926 ],\n",
       "       ...,\n",
       "       [0.9999994 , 0.9999993 , 0.9999987 , ..., 0.9999993 , 0.9999989 ,\n",
       "        0.9999994 ],\n",
       "       [0.9999998 , 0.99999934, 0.9999993 , ..., 0.9999991 , 0.99999917,\n",
       "        0.9999955 ],\n",
       "       [0.9999996 , 0.99999845, 0.99999785, ..., 0.9999994 , 0.9999976 ,\n",
       "        0.99999934]], dtype=float32)"
      ]
     },
     "execution_count": 153,
     "metadata": {},
     "output_type": "execute_result"
    }
   ],
   "source": [
    "out_rot.nodes.array / rotate_representation(out.nodes.array, 45, axis)"
   ]
  },
  {
   "cell_type": "code",
   "execution_count": 154,
   "metadata": {},
   "outputs": [],
   "source": [
    "import flax.linen as nn\n",
    "import e3nn_jax as e3nn\n",
    "\n",
    "class GraphWrapper(nn.Module):\n",
    "    @nn.compact\n",
    "    def __call__(self, x):\n",
    "        model = jax.vmap(SEGNN(irreps_hidden=irreps_hidden, irreps_sh=irreps_sh, num_message_passing_steps=3))\n",
    "        return model(x)\n",
    "\n",
    "model = GraphWrapper()\n",
    "rng = jax.random.PRNGKey(42)"
   ]
  },
  {
   "cell_type": "code",
   "execution_count": 156,
   "metadata": {},
   "outputs": [],
   "source": [
    "x_irreps = IrrepsArray(\"1o + 1o + 1x0e\", x)\n",
    "\n",
    "graph = jraph.GraphsTuple(\n",
    "          n_node=jnp.array(n_batch * [[n_nodes]]), \n",
    "          n_edge=jnp.array(n_batch * [[k]]),\n",
    "          nodes=x_irreps, \n",
    "          edges=None,\n",
    "          globals=jnp.ones((n_batch, 7)),\n",
    "          senders=sources,\n",
    "          receivers=targets)\n",
    "\n",
    "graph_out, _ = model.init_with_output(rng, graph)\n",
    "x_out = graph_out  # Output features"
   ]
  },
  {
   "cell_type": "code",
   "execution_count": null,
   "metadata": {},
   "outputs": [],
   "source": []
  }
 ],
 "metadata": {
  "kernelspec": {
   "display_name": "torch-mps",
   "language": "python",
   "name": "python3"
  },
  "language_info": {
   "codemirror_mode": {
    "name": "ipython",
    "version": 3
   },
   "file_extension": ".py",
   "mimetype": "text/x-python",
   "name": "python",
   "nbconvert_exporter": "python",
   "pygments_lexer": "ipython3",
   "version": "3.10.13"
  }
 },
 "nbformat": 4,
 "nbformat_minor": 2
}
