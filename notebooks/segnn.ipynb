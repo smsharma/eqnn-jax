{
 "cells": [
  {
   "cell_type": "code",
   "execution_count": 892,
   "metadata": {},
   "outputs": [
    {
     "name": "stdout",
     "output_type": "stream",
     "text": [
      "The autoreload extension is already loaded. To reload it, use:\n",
      "  %reload_ext autoreload\n"
     ]
    }
   ],
   "source": [
    "import sys\n",
    "sys.path.append(\"../\")\n",
    "\n",
    "import jax\n",
    "import jax.numpy as jnp\n",
    "import jraph\n",
    "from e3nn_jax import Irreps\n",
    "from e3nn_jax import IrrepsArray\n",
    "\n",
    "from models.segnn import SEGNN\n",
    "\n",
    "from models.utils.irreps_utils import balanced_irreps\n",
    "\n",
    "%load_ext autoreload\n",
    "%autoreload 2"
   ]
  },
  {
   "cell_type": "code",
   "execution_count": 893,
   "metadata": {},
   "outputs": [],
   "source": [
    "import numpy as np\n",
    "\n",
    "n_batch = 4\n",
    "n_nodes = 1000\n",
    "k = 20\n",
    "\n",
    "x = np.load(\"../data/halos_small.npy\")[:, :n_nodes, :]\n",
    "\n",
    "# Normalize\n",
    "x_mean = x.mean((0, 1))\n",
    "x_std = x.std((0, 1))\n",
    "x[:, :, 3:] = (x[:, :, 3:] - x_mean[3:]) / x_std[3:]\n",
    "x[:, :, :3] = x[:, :, :3] / 1000.  # Divide by box size\n",
    "\n",
    "x = x[:n_batch]"
   ]
  },
  {
   "cell_type": "code",
   "execution_count": 894,
   "metadata": {},
   "outputs": [],
   "source": [
    "from models.utils.graph_utils import nearest_neighbors, rotate_representation\n",
    "\n",
    "# Get nearest neighbors graph\n",
    "sources, targets = jax.vmap(nearest_neighbors, in_axes=(0, None))(x, k)"
   ]
  },
  {
   "cell_type": "code",
   "execution_count": 895,
   "metadata": {},
   "outputs": [
    {
     "data": {
      "text/plain": [
       "34x0e+10x1o"
      ]
     },
     "execution_count": 895,
     "metadata": {},
     "output_type": "execute_result"
    }
   ],
   "source": [
    "l_attr = 1\n",
    "hidden_feats = 64\n",
    "\n",
    "irreps_sh = Irreps.spherical_harmonics(l_attr)\n",
    "irreps_hidden = balanced_irreps(lmax=l_attr, feature_size=hidden_feats, use_sh=True)\n",
    "\n",
    "irreps_hidden"
   ]
  },
  {
   "cell_type": "code",
   "execution_count": 906,
   "metadata": {},
   "outputs": [
    {
     "data": {
      "text/plain": [
       "Array([-0.0112217], dtype=float32)"
      ]
     },
     "execution_count": 906,
     "metadata": {},
     "output_type": "execute_result"
    }
   ],
   "source": [
    "x_irreps = IrrepsArray(\"1o + 1o + 1x0e\", x)\n",
    "\n",
    "graph = jraph.GraphsTuple(\n",
    "          n_node=n_nodes,\n",
    "          n_edge=k,\n",
    "          edges=None,\n",
    "          globals=None,\n",
    "          nodes=x_irreps[0], \n",
    "          senders=sources[0],\n",
    "          receivers=targets[0])\n",
    "\n",
    "segnn = SEGNN(num_message_passing_steps=3, intermediate_hidden_irreps=False, task=\"graph\")\n",
    "\n",
    "key = jax.random.PRNGKey(0)\n",
    "out, params = segnn.init_with_output(key, graph)\n",
    "\n",
    "out"
   ]
  },
  {
   "cell_type": "code",
   "execution_count": 907,
   "metadata": {},
   "outputs": [
    {
     "data": {
      "text/plain": [
       "66694"
      ]
     },
     "execution_count": 907,
     "metadata": {},
     "output_type": "execute_result"
    }
   ],
   "source": [
    "sum(x.size for x in jax.tree_util.tree_leaves(params))"
   ]
  },
  {
   "cell_type": "code",
   "execution_count": 908,
   "metadata": {},
   "outputs": [
    {
     "data": {
      "text/plain": [
       "Array([-0.0112217], dtype=float32)"
      ]
     },
     "execution_count": 908,
     "metadata": {},
     "output_type": "execute_result"
    }
   ],
   "source": [
    "axis = np.array([0, 1 / np.sqrt(2), 1 / np.sqrt(2)])\n",
    "\n",
    "graph = jraph.GraphsTuple(\n",
    "          n_node=n_nodes,\n",
    "          n_edge=k,\n",
    "          edges=None,\n",
    "          globals=None,\n",
    "          nodes=IrrepsArray(\"1o + 1o + 1x0e\", rotate_representation(x[0], 45., axis)), \n",
    "          senders=sources[0],\n",
    "          receivers=targets[0])\n",
    "\n",
    "out_rot, params = segnn.init_with_output(key, graph)\n",
    "\n",
    "out_rot"
   ]
  },
  {
   "cell_type": "code",
   "execution_count": 909,
   "metadata": {},
   "outputs": [],
   "source": [
    "# out_rot.nodes.array / rotate_representation(out.nodes.array, 45, axis)"
   ]
  },
  {
   "cell_type": "code",
   "execution_count": 910,
   "metadata": {},
   "outputs": [],
   "source": [
    "import flax.linen as nn\n",
    "import e3nn_jax as e3nn\n",
    "\n",
    "class GraphWrapper(nn.Module):\n",
    "    @nn.compact\n",
    "    def __call__(self, x):\n",
    "        model = jax.vmap(SEGNN(num_message_passing_steps=3, intermediate_hidden_irreps=False, task=\"graph\"))\n",
    "        return model(x)\n",
    "\n",
    "model = GraphWrapper()\n",
    "rng = jax.random.PRNGKey(0)"
   ]
  },
  {
   "cell_type": "code",
   "execution_count": 911,
   "metadata": {},
   "outputs": [],
   "source": [
    "graph = jraph.GraphsTuple(\n",
    "          n_node=jnp.array(n_batch * [[n_nodes]]), \n",
    "          n_edge=jnp.array(n_batch * [[k]]),\n",
    "          nodes=x_irreps, \n",
    "          edges=None,\n",
    "          globals=None,\n",
    "          senders=sources,\n",
    "          receivers=targets)\n",
    "\n",
    "graph_out, params1 = model.init_with_output(rng, graph)\n",
    "x_out = graph_out  # Output features\n",
    "\n",
    "x_out"
   ]
  },
  {
   "cell_type": "code",
   "execution_count": null,
   "metadata": {},
   "outputs": [
    {
     "data": {
      "text/plain": [
       "66694"
      ]
     },
     "execution_count": 905,
     "metadata": {},
     "output_type": "execute_result"
    }
   ],
   "source": [
    "sum(x.size for x in jax.tree_util.tree_leaves(params1))"
   ]
  },
  {
   "cell_type": "code",
   "execution_count": null,
   "metadata": {},
   "outputs": [],
   "source": []
  },
  {
   "cell_type": "code",
   "execution_count": null,
   "metadata": {},
   "outputs": [],
   "source": []
  }
 ],
 "metadata": {
  "kernelspec": {
   "display_name": "torch-mps",
   "language": "python",
   "name": "python3"
  },
  "language_info": {
   "codemirror_mode": {
    "name": "ipython",
    "version": 3
   },
   "file_extension": ".py",
   "mimetype": "text/x-python",
   "name": "python",
   "nbconvert_exporter": "python",
   "pygments_lexer": "ipython3",
   "version": "3.10.13"
  }
 },
 "nbformat": 4,
 "nbformat_minor": 2
}
