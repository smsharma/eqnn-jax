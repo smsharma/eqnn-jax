{
 "cells": [
  {
   "cell_type": "code",
   "execution_count": 426,
   "metadata": {},
   "outputs": [],
   "source": [
    "from typing import Optional, Tuple, Union\n",
    "import warnings\n",
    "\n",
    "import jax\n",
    "import jax.numpy as jnp\n",
    "import flax.linen as nn\n",
    "\n",
    "import e3nn_jax as e3nn\n",
    "from e3nn_jax import Irreps\n",
    "from e3nn_jax import IrrepsArray\n",
    "from e3nn_jax import FunctionalLinear\n",
    "\n",
    "from e3nn_jax import tensor_product\n",
    "from e3nn_jax.flax import Linear\n"
   ]
  },
  {
   "cell_type": "code",
   "execution_count": 427,
   "metadata": {},
   "outputs": [],
   "source": [
    "class TensorProductLinearGate(nn.Module):\n",
    "\n",
    "    output_irreps: Irreps = None\n",
    "    bias: bool = True\n",
    "    gradient_normalization: Optional[Union[str, float]] = \"element\"\n",
    "    path_normalization: Optional[Union[str, float]] = None\n",
    "\n",
    "    @nn.compact\n",
    "    def __call__(self, x: IrrepsArray, y: IrrepsArray) -> IrrepsArray:\n",
    "\n",
    "        output_irreps = self.output_irreps\n",
    "        if not isinstance(output_irreps, Irreps):\n",
    "            output_irreps = Irreps(output_irreps)\n",
    "\n",
    "        # Predict extra scalars for gating \\ell > 0 irreps\n",
    "        gate_irreps = Irreps(f\"{output_irreps.num_irreps - output_irreps.count('0e')}x0e\")\n",
    "        output_irreps = (gate_irreps + output_irreps).regroup()\n",
    "        linear = Linear(output_irreps, biases=self.bias, gradient_normalization=self.gradient_normalization, path_normalization=self.path_normalization)\n",
    "        out = linear(tensor_product(x, y))\n",
    "        out = e3nn.gate(out)  # Default activations\n",
    "        return out"
   ]
  },
  {
   "cell_type": "code",
   "execution_count": 428,
   "metadata": {},
   "outputs": [],
   "source": [
    "import numpy as np\n",
    "\n",
    "n_batch = 2\n",
    "n_nodes = 400\n",
    "k = 20\n",
    "\n",
    "\n",
    "x = np.load(\"../data/halos_small.npy\")[:n_batch, :n_nodes, :]\n",
    "\n",
    "# Normalize\n",
    "x_mean = x.mean((0, 1))\n",
    "x_std = x.std((0, 1))\n",
    "x[:, :, 3:] = (x[:, :, 3:] - x_mean[3:]) / x_std[3:]\n",
    "x[:, :, :3] = x[:, :, :3] / 1000.  # Divide by box size"
   ]
  },
  {
   "cell_type": "code",
   "execution_count": 429,
   "metadata": {},
   "outputs": [],
   "source": [
    "pos = IrrepsArray(\"1o\", x[0, :2, :3])  # Positions\n",
    "feat = IrrepsArray(\"1o + 1x0e\", x[0, :2, 3:])  # Features\n",
    "\n",
    "irreps_out = Irreps(\"3x0o + 1x1e + 2x1o\")"
   ]
  },
  {
   "cell_type": "code",
   "execution_count": 430,
   "metadata": {},
   "outputs": [
    {
     "data": {
      "text/plain": [
       "(3x0e+2x1o+1x1e\n",
       " [[-0.04109664  0.1015624  -0.07117075 -0.11383748 -0.7112009  -0.6585651\n",
       "   -0.03152191 -0.1969335  -0.18235849 -0.32363778  0.24062441 -0.20391332]\n",
       "  [-0.05772255  0.15109392 -0.09818695 -0.13843763 -0.56202585 -0.7538356\n",
       "   -0.04004519 -0.16257456 -0.21805845  0.20437935 -0.28139314  0.17226094]],\n",
       " {'params': {'Linear_0': {'w[0,0] 1x0e,6x0e': Array([[ 0.21604401, -0.4652762 ,  0.3886473 ,  0.08119641, -0.7921135 ,\n",
       "             0.45960167]], dtype=float32),\n",
       "    'w[1,1] 1x1o,2x1o': Array([[1.073293  , 0.26672718]], dtype=float32),\n",
       "    'w[2,2] 1x1e,1x1e': Array([[-0.35275576]], dtype=float32),\n",
       "    'b[0] 6x0e': Array([ 0.,  0., -0., -0., -0., -0.], dtype=float32)}}})"
      ]
     },
     "execution_count": 430,
     "metadata": {},
     "output_type": "execute_result"
    }
   ],
   "source": [
    "tp = TensorProductLinearGate(irreps_out)\n",
    "key = jax.random.PRNGKey(0)\n",
    "\n",
    "tp.init_with_output(key, pos, feat)"
   ]
  },
  {
   "cell_type": "code",
   "execution_count": 431,
   "metadata": {},
   "outputs": [],
   "source": [
    "def balanced_irreps(lmax: int, feature_size: int, use_sh: bool = True) -> Irreps:\n",
    "    \"\"\"Allocates irreps uniformely up until level lmax with budget feature_size.\"\"\"\n",
    "    irreps = [\"0e\"]\n",
    "    n_irreps = 1 + (lmax if use_sh else lmax * 2)\n",
    "    total_dim = 0\n",
    "    for level in range(1, lmax + 1):\n",
    "        dim = 2 * level + 1\n",
    "        multi = int(feature_size / dim / n_irreps)\n",
    "        if multi == 0:\n",
    "            break\n",
    "        if use_sh:\n",
    "            irreps.append(f\"{multi}x{level}{'e' if (level % 2) == 0 else 'o'}\")\n",
    "            total_dim = multi * dim\n",
    "        else:\n",
    "            irreps.append(f\"{multi}x{level}e+{multi}x{level}o\")\n",
    "            total_dim = multi * dim * 2\n",
    "\n",
    "    # add scalars to fill missing dimensions\n",
    "    irreps[0] = f\"{feature_size - total_dim}x{irreps[0]}\"\n",
    "\n",
    "    return Irreps(\"+\".join(irreps))\n"
   ]
  },
  {
   "cell_type": "code",
   "execution_count": 433,
   "metadata": {},
   "outputs": [
    {
     "data": {
      "text/plain": [
       "34x0e+10x1o"
      ]
     },
     "execution_count": 433,
     "metadata": {},
     "output_type": "execute_result"
    }
   ],
   "source": [
    "l_attr = 1\n",
    "hidden_feats = 64\n",
    "\n",
    "irreps_sh = Irreps.spherical_harmonics(l_attr)\n",
    "irreps_hidden = balanced_irreps(lmax=l_attr, feature_size=hidden_feats, use_sh=True)\n",
    "\n",
    "irreps_hidden"
   ]
  },
  {
   "cell_type": "code",
   "execution_count": 435,
   "metadata": {},
   "outputs": [],
   "source": [
    "import jraph\n",
    "from jraph._src import utils\n",
    "\n",
    "def get_edge_mlp_updates(irreps_out: Irreps = None, n_layers: int = 2, irreps_sh: Irreps = None):\n",
    "    def update_fn(\n",
    "        edges: jnp.array,\n",
    "        senders: jnp.array,\n",
    "        receivers: jnp.array,\n",
    "        globals: jnp.array,\n",
    "    ) -> jnp.array:\n",
    "        \n",
    "        x_i = senders.array[..., :3]\n",
    "        x_j = receivers.array[..., :3]\n",
    "\n",
    "        m_ij = e3nn.concatenate([senders, receivers], axis=-1)\n",
    "        a_ij = e3nn.spherical_harmonics(irreps_out=irreps_sh, input=x_i - x_j, normalize=False)\n",
    "\n",
    "        for _ in range(n_layers):\n",
    "            m_ij = TensorProductLinearGate(irreps_out)(m_ij, a_ij)\n",
    "\n",
    "        return m_ij, a_ij\n",
    "\n",
    "    return update_fn\n",
    "\n",
    "def get_node_mlp_updates(irreps_out: Irreps = None, n_layers: int = 2):\n",
    "    def update_fn(\n",
    "        nodes: jnp.array,\n",
    "        senders: jnp.array,\n",
    "        receivers: jnp.array,\n",
    "        globals: jnp.array,\n",
    "    ) -> jnp.array:\n",
    "        \n",
    "        m_i, a_i = receivers\n",
    "\n",
    "        m_i = e3nn.concatenate([m_i, a_i], axis=-1)\n",
    "\n",
    "        for _ in range(n_layers):\n",
    "            nodes = TensorProductLinearGate(irreps_out)(nodes, m_i)\n",
    "\n",
    "        return nodes\n",
    "\n",
    "    return update_fn\n",
    "\n",
    "class SEGNN(nn.Module):\n",
    "    num_message_passing_steps: int = 3\n",
    "    message_passing_agg: str = \"mean\"\n",
    "\n",
    "    @nn.compact\n",
    "    def __call__(self, graphs: jraph.GraphsTuple) -> jraph.GraphsTuple:\n",
    "\n",
    "        aggregate_edges_for_nodes_fn = getattr(utils, f\"segment_{self.message_passing_agg}\")\n",
    "\n",
    "        irreps_in = graphs.nodes.irreps\n",
    "        for _ in range(self.num_message_passing_steps):\n",
    "\n",
    "            update_edge_fn = get_edge_mlp_updates(irreps_out=irreps_hidden, n_layers=2, irreps_sh=irreps_sh)\n",
    "            update_node_fn = get_node_mlp_updates(irreps_out=irreps_in, n_layers=2)\n",
    "\n",
    "            graph_net = jraph.GraphNetwork(update_node_fn=update_node_fn, update_edge_fn=update_edge_fn, aggregate_edges_for_nodes_fn=aggregate_edges_for_nodes_fn)\n",
    "            graphs = graph_net(graphs)\n",
    "\n",
    "            graphs = graphs._replace(nodes=e3nn.flax.Linear(irreps_in)(graphs.nodes))\n",
    "\n",
    "        return graphs"
   ]
  },
  {
   "cell_type": "code",
   "execution_count": 436,
   "metadata": {},
   "outputs": [],
   "source": [
    "import sys\n",
    "sys.path.append(\"../\")\n",
    "from utils.graph_utils import nearest_neighbors, rotate_representation\n",
    "\n",
    "# Get nearest neighbors graph\n",
    "sources, targets = jax.vmap(nearest_neighbors, in_axes=(0, None))(x, k)"
   ]
  },
  {
   "cell_type": "code",
   "execution_count": 449,
   "metadata": {},
   "outputs": [
    {
     "data": {
      "text/plain": [
       "1x1o+1x1o+1x0e\n",
       "[[-7.6288194e-07  1.7018822e-07  1.0956992e-06 ... -1.5330832e-07\n",
       "  -5.2964089e-07  9.3473750e-07]\n",
       " [ 3.0357103e-07  4.7801899e-07  4.4065919e-07 ... -2.5360916e-07\n",
       "  -2.8834089e-07  8.8322116e-07]\n",
       " [ 8.9096574e-08  3.8601397e-07  1.2021733e-06 ... -1.8044206e-07\n",
       "  -6.0714831e-07  1.5226134e-07]\n",
       " ...\n",
       " [ 8.7897450e-07  6.3043950e-07 -6.8528550e-07 ... -2.9397842e-07\n",
       "   3.0832001e-07  1.4800338e-07]\n",
       " [ 7.9245484e-07  1.3323471e-06  1.7097606e-06 ... -6.2310596e-07\n",
       "  -8.1323913e-07  1.9142585e-07]\n",
       " [ 7.8191596e-07  2.4820852e-07  1.1782128e-06 ... -1.1576098e-07\n",
       "  -5.9680838e-07  1.8308998e-07]]"
      ]
     },
     "execution_count": 449,
     "metadata": {},
     "output_type": "execute_result"
    }
   ],
   "source": [
    "x_irreps = IrrepsArray(\"1o + 1o + 1x0e\", x)\n",
    "\n",
    "graph = jraph.GraphsTuple(\n",
    "          n_node=n_nodes,\n",
    "          n_edge=k,\n",
    "          edges=None,\n",
    "          globals=None,\n",
    "          nodes=x_irreps[0], \n",
    "          senders=sources[0],\n",
    "          receivers=targets[0])\n",
    "\n",
    "segnn = SEGNN()\n",
    "\n",
    "out, params = segnn.init_with_output(key, graph)\n",
    "\n",
    "out.nodes"
   ]
  },
  {
   "cell_type": "code",
   "execution_count": 450,
   "metadata": {},
   "outputs": [
    {
     "data": {
      "text/plain": [
       "10395"
      ]
     },
     "execution_count": 450,
     "metadata": {},
     "output_type": "execute_result"
    }
   ],
   "source": [
    "sum(x.size for x in jax.tree_util.tree_leaves(params))"
   ]
  },
  {
   "cell_type": "code",
   "execution_count": 451,
   "metadata": {},
   "outputs": [
    {
     "data": {
      "text/plain": [
       "1x1o+1x1o+1x0e\n",
       "[[-1.0021924e-06  6.8716861e-07  5.7871983e-07 ... -3.7197483e-07\n",
       "  -3.1097488e-07  9.3473750e-07]\n",
       " [ 2.3333621e-07  3.2076218e-07  5.9791682e-07 ... -2.0016006e-07\n",
       "  -3.4179030e-07  8.8322082e-07]\n",
       " [-3.4507957e-07  4.6098992e-07  1.1271973e-06 ... -2.2670181e-07\n",
       "  -5.6088874e-07  1.5226135e-07]\n",
       " ...\n",
       " [ 1.2793918e-06 -1.7314945e-09 -5.3114281e-08 ...  9.2481800e-09\n",
       "   5.0933995e-09  1.4800337e-07]\n",
       " [ 3.7164335e-07  9.9138992e-07  2.0507177e-06 ... -4.6889585e-07\n",
       "  -9.6744884e-07  1.9142576e-07]\n",
       " [ 8.7895764e-08 -6.5537367e-09  1.4329753e-06 ...  1.7068778e-08\n",
       "  -7.2963837e-07  1.8308971e-07]]"
      ]
     },
     "execution_count": 451,
     "metadata": {},
     "output_type": "execute_result"
    }
   ],
   "source": [
    "axis = np.array([0, 1 / np.sqrt(2), 1 / np.sqrt(2)])\n",
    "x_irreps = IrrepsArray(\"1o + 1o + 1x0e\", rotate_representation(x[0], 45., axis))\n",
    "\n",
    "graph = jraph.GraphsTuple(\n",
    "          n_node=n_nodes,\n",
    "          n_edge=k,\n",
    "          edges=None,\n",
    "          globals=None,\n",
    "          nodes=x_irreps, \n",
    "          senders=sources[0],\n",
    "          receivers=targets[0])\n",
    "\n",
    "segnn = SEGNN()\n",
    "\n",
    "out_rot, params = segnn.init_with_output(key, graph)\n",
    "\n",
    "out_rot.nodes"
   ]
  },
  {
   "cell_type": "code",
   "execution_count": 456,
   "metadata": {},
   "outputs": [
    {
     "data": {
      "text/plain": [
       "Array([[0.999998  , 1.000002  , 0.9999995 , ..., 1.000002  , 0.9999993 ,\n",
       "        1.        ],\n",
       "       [0.99999654, 0.99999994, 1.0000015 , ..., 0.9999997 , 1.0000012 ,\n",
       "        0.99999964],\n",
       "       [1.0000018 , 1.0000011 , 0.9999996 , ..., 1.0000014 , 0.9999998 ,\n",
       "        1.0000001 ],\n",
       "       ...,\n",
       "       [1.0000004 , 1.0000811 , 0.99999297, ..., 1.0000149 , 0.9999702 ,\n",
       "        0.9999999 ],\n",
       "       [1.        , 0.9999994 , 1.0000004 , ..., 0.9999991 , 1.0000001 ,\n",
       "        0.99999946],\n",
       "       [0.9999986 , 1.0000318 , 1.0000004 , ..., 1.0000045 , 1.0000005 ,\n",
       "        0.9999985 ]], dtype=float32)"
      ]
     },
     "execution_count": 456,
     "metadata": {},
     "output_type": "execute_result"
    }
   ],
   "source": [
    "out_rot.nodes.array / rotate_representation(out.nodes.array, 45., axis)"
   ]
  },
  {
   "cell_type": "code",
   "execution_count": null,
   "metadata": {},
   "outputs": [],
   "source": []
  }
 ],
 "metadata": {
  "kernelspec": {
   "display_name": "torch-mps",
   "language": "python",
   "name": "python3"
  },
  "language_info": {
   "codemirror_mode": {
    "name": "ipython",
    "version": 3
   },
   "file_extension": ".py",
   "mimetype": "text/x-python",
   "name": "python",
   "nbconvert_exporter": "python",
   "pygments_lexer": "ipython3",
   "version": "3.10.13"
  }
 },
 "nbformat": 4,
 "nbformat_minor": 2
}
