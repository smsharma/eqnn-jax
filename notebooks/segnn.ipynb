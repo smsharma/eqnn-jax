{
 "cells": [
  {
   "cell_type": "code",
   "execution_count": 2,
   "metadata": {},
   "outputs": [],
   "source": [
    "import sys\n",
    "sys.path.append(\"../\")\n",
    "\n",
    "import jax\n",
    "import jax.numpy as jnp\n",
    "import jraph\n",
    "from e3nn_jax import Irreps\n",
    "from e3nn_jax import IrrepsArray\n",
    "\n",
    "from models.segnn import SEGNN\n",
    "\n",
    "from models.utils.irreps_utils import balanced_irreps\n",
    "\n",
    "%load_ext autoreload\n",
    "%autoreload 2"
   ]
  },
  {
   "cell_type": "code",
   "execution_count": 3,
   "metadata": {},
   "outputs": [],
   "source": [
    "import numpy as np\n",
    "\n",
    "n_batch = 2\n",
    "n_nodes = 1000\n",
    "k = 20\n",
    "\n",
    "x = np.load(\"../data/halos_small.npy\")[:n_batch, :n_nodes, :]\n",
    "\n",
    "# Normalize\n",
    "x_mean = x.mean((0, 1))\n",
    "x_std = x.std((0, 1))\n",
    "x[:, :, 3:] = (x[:, :, 3:] - x_mean[3:]) / x_std[3:]\n",
    "x[:, :, :3] = x[:, :, :3] / 1000.  # Divide by box size"
   ]
  },
  {
   "cell_type": "code",
   "execution_count": 5,
   "metadata": {},
   "outputs": [],
   "source": [
    "from models.utils.graph_utils import nearest_neighbors, rotate_representation\n",
    "\n",
    "# Get nearest neighbors graph\n",
    "sources, targets = jax.vmap(nearest_neighbors, in_axes=(0, None))(x, k)"
   ]
  },
  {
   "cell_type": "code",
   "execution_count": 6,
   "metadata": {},
   "outputs": [
    {
     "data": {
      "text/plain": [
       "44x0e+7x1o+4x2e"
      ]
     },
     "execution_count": 6,
     "metadata": {},
     "output_type": "execute_result"
    }
   ],
   "source": [
    "l_attr = 2\n",
    "hidden_feats = 64\n",
    "\n",
    "irreps_sh = Irreps.spherical_harmonics(l_attr)\n",
    "irreps_hidden = balanced_irreps(lmax=l_attr, feature_size=hidden_feats, use_sh=True)\n",
    "\n",
    "irreps_hidden"
   ]
  },
  {
   "cell_type": "code",
   "execution_count": 8,
   "metadata": {},
   "outputs": [
    {
     "data": {
      "text/plain": [
       "GraphsTuple(nodes=1x1o+1x1o+1x0e\n",
       "[[ 0.1127352   0.7019572   0.64938754 ... -1.2253296   0.9189348\n",
       "  -1.0862536 ]\n",
       " [ 0.13718818  0.5570412   0.74716806 ...  0.30911353 -1.330875\n",
       "  -1.0863101 ]\n",
       " [ 0.09951164  0.24814542  0.93283325 ...  0.77555734  0.21970801\n",
       "  -1.0862983 ]\n",
       " ...\n",
       " [ 0.47534055  0.7629518   0.62139857 ...  0.18325417  0.20174643\n",
       "  -0.8891841 ]\n",
       " [ 0.47973168  0.9436957   0.3180124  ... -1.0878631  -0.59072036\n",
       "  -0.88918823]\n",
       " [ 0.58530563  0.48572883  0.13688986 ... -0.47685483  0.06073122\n",
       "  -0.8891901 ]], edges=(34x0e+10x1o\n",
       "[[-7.0330918e-01 -3.2343227e-01  3.6037989e-02 ... -2.4040036e-01\n",
       "  -1.8852744e-01  1.3454834e-01]\n",
       " [-6.2264746e-01  4.5916218e-01  2.7856091e-01 ...  5.4117595e-04\n",
       "  -2.5518769e-01  2.7464986e-01]\n",
       " [-1.4202735e+00  6.7755282e-01  4.8944324e-01 ... -4.2370981e-01\n",
       "  -2.1518993e-01  1.4726941e-01]\n",
       " ...\n",
       " [-9.1243070e-01 -4.2818181e-02 -3.5486576e-01 ... -5.3200221e-01\n",
       "   3.2040301e-01  2.5485125e-01]\n",
       " [-1.0641135e+00 -3.3805856e-01 -5.4417920e-01 ... -6.5064263e-01\n",
       "   2.0874827e-01  7.5331056e-01]\n",
       " [-1.1288532e+00 -5.9809649e-01 -1.0674241e+00 ... -5.8720428e-01\n",
       "  -7.4180847e-01  8.8789976e-01]], 1x0e+1x1o\n",
       "[[ 1.          0.          0.          0.        ]\n",
       " [ 1.         -1.4947569   0.46344584 -0.74223965]\n",
       " [ 1.         -1.6411461  -0.542056   -0.11320207]\n",
       " ...\n",
       " [ 1.          1.2159114  -1.0739232  -0.6068348 ]\n",
       " [ 1.          0.9828695  -0.47904304 -1.3433113 ]\n",
       " [ 1.          0.69452894  0.9495454  -1.2712172 ]]), receivers=Array([  0,  81, 620, ..., 433, 121, 230], dtype=int32), senders=Array([  0,   0,   0, ..., 999, 999, 999], dtype=int32), globals=None, n_node=1000, n_edge=20)"
      ]
     },
     "execution_count": 8,
     "metadata": {},
     "output_type": "execute_result"
    }
   ],
   "source": [
    "x_irreps = IrrepsArray(\"1o + 1o + 1x0e\", x)\n",
    "\n",
    "graph = jraph.GraphsTuple(\n",
    "          n_node=n_nodes,\n",
    "          n_edge=k,\n",
    "          edges=None,\n",
    "          globals=None,\n",
    "          nodes=x_irreps[0], \n",
    "          senders=sources[0],\n",
    "          receivers=targets[0])\n",
    "\n",
    "segnn = SEGNN(num_message_passing_steps=3)\n",
    "\n",
    "key = jax.random.PRNGKey(0)\n",
    "out, params = segnn.init_with_output(key, graph)\n",
    "\n",
    "out"
   ]
  },
  {
   "cell_type": "code",
   "execution_count": 9,
   "metadata": {},
   "outputs": [
    {
     "data": {
      "text/plain": [
       "16965"
      ]
     },
     "execution_count": 9,
     "metadata": {},
     "output_type": "execute_result"
    }
   ],
   "source": [
    "sum(x.size for x in jax.tree_util.tree_leaves(params))"
   ]
  },
  {
   "cell_type": "code",
   "execution_count": 10,
   "metadata": {},
   "outputs": [
    {
     "data": {
      "text/plain": [
       "GraphsTuple(nodes=1x1o+1x1o+1x0e\n",
       "[[ 0.10600067  0.63789093  0.71345377 ... -0.11498036 -0.19141458\n",
       "  -1.0862536 ]\n",
       " [ 0.00194322  0.5162905   0.78791875 ... -0.6867165  -0.335045\n",
       "  -1.0863101 ]\n",
       " [-0.27197862  0.29865986  0.88231885 ...  0.36774498  0.6275203\n",
       "  -1.0862983 ]\n",
       " ...\n",
       " [ 0.40689313  0.5045514   0.8797988  ...  0.8751244  -0.4901238\n",
       "  -0.8891841 ]\n",
       " [ 0.6520632   0.6122006   0.64950746 ... -1.0223409  -0.65624255\n",
       "  -0.88918823]\n",
       " [ 0.5882931   0.14198966  0.480629   ... -0.12055017 -0.2955734\n",
       "  -0.8891901 ]], edges=(34x0e+10x1o\n",
       "[[-0.7033092  -0.32343227  0.03603799 ... -0.33152667 -0.02101387\n",
       "  -0.03296524]\n",
       " [-0.6226473   0.4591622   0.27856097 ... -0.26453626 -0.17786507\n",
       "   0.1973272 ]\n",
       " [-1.4202739   0.6775529   0.48944354 ... -0.48083752  0.0497459\n",
       "  -0.11766642]\n",
       " ...\n",
       " [-0.9124307  -0.04281837 -0.35486618 ... -0.34340668  0.57680464\n",
       "  -0.00155008]\n",
       " [-1.0641137  -0.3380588  -0.5441793  ... -0.7323551   0.6138189\n",
       "   0.34823993]\n",
       " [-1.1288533  -0.5980963  -1.0674239  ... -1.2300696  -0.20954093\n",
       "   0.35563233]], 1x0e+1x1o\n",
       "[[ 1.          0.          0.          0.        ]\n",
       " [ 1.         -0.45410994  1.0342556  -1.3130497 ]\n",
       " [ 1.         -1.3748924   0.34132102 -0.9965796 ]\n",
       " ...\n",
       " [ 1.          0.6262352  -1.6134753  -0.06728259]\n",
       " [ 1.          1.1271281  -1.0970467  -0.7253073 ]\n",
       " [ 1.          1.6014873   0.27705762 -0.59872967]]), receivers=Array([  0,  81, 620, ..., 433, 121, 230], dtype=int32), senders=Array([  0,   0,   0, ..., 999, 999, 999], dtype=int32), globals=None, n_node=1000, n_edge=20)"
      ]
     },
     "execution_count": 10,
     "metadata": {},
     "output_type": "execute_result"
    }
   ],
   "source": [
    "axis = np.array([0, 1 / np.sqrt(2), 1 / np.sqrt(2)])\n",
    "x_irreps = IrrepsArray(\"1o + 1o + 1x0e\", rotate_representation(x[0], 45., axis))\n",
    "\n",
    "graph = jraph.GraphsTuple(\n",
    "          n_node=n_nodes,\n",
    "          n_edge=k,\n",
    "          edges=None,\n",
    "          globals=None,\n",
    "          nodes=x_irreps, \n",
    "          senders=sources[0],\n",
    "          receivers=targets[0])\n",
    "\n",
    "out_rot, params = segnn.init_with_output(key, graph)\n",
    "\n",
    "out_rot"
   ]
  },
  {
   "cell_type": "code",
   "execution_count": 11,
   "metadata": {},
   "outputs": [
    {
     "data": {
      "text/plain": [
       "Array([[1.0000001 , 1.        , 1.        , ..., 1.0000008 , 1.0000004 ,\n",
       "        1.        ],\n",
       "       [0.9999862 , 0.9999999 , 1.0000001 , ..., 0.99999994, 1.0000004 ,\n",
       "        1.        ],\n",
       "       [1.        , 1.0000001 , 1.0000001 , ..., 0.99999994, 1.        ,\n",
       "        1.        ],\n",
       "       ...,\n",
       "       [1.0000001 , 0.9999999 , 1.        , ..., 1.0000001 , 1.        ,\n",
       "        1.        ],\n",
       "       [1.0000001 , 1.0000001 , 1.        , ..., 1.0000001 , 1.        ,\n",
       "        1.        ],\n",
       "       [1.0000001 , 1.0000001 , 1.0000001 , ..., 0.99999994, 1.        ,\n",
       "        1.        ]], dtype=float32)"
      ]
     },
     "execution_count": 11,
     "metadata": {},
     "output_type": "execute_result"
    }
   ],
   "source": [
    "out_rot.nodes.array / rotate_representation(out.nodes.array, 45, axis)"
   ]
  },
  {
   "cell_type": "code",
   "execution_count": 14,
   "metadata": {},
   "outputs": [],
   "source": [
    "import flax.linen as nn\n",
    "import e3nn_jax as e3nn\n",
    "\n",
    "class GraphWrapper(nn.Module):\n",
    "    @nn.compact\n",
    "    def __call__(self, x):\n",
    "        model = jax.vmap(SEGNN(num_message_passing_steps=3))\n",
    "        return model(x)\n",
    "\n",
    "model = GraphWrapper()\n",
    "rng = jax.random.PRNGKey(42)"
   ]
  },
  {
   "cell_type": "code",
   "execution_count": 15,
   "metadata": {},
   "outputs": [],
   "source": [
    "x_irreps = IrrepsArray(\"1o + 1o + 1x0e\", x)\n",
    "\n",
    "graph = jraph.GraphsTuple(\n",
    "          n_node=jnp.array(n_batch * [[n_nodes]]), \n",
    "          n_edge=jnp.array(n_batch * [[k]]),\n",
    "          nodes=x_irreps, \n",
    "          edges=None,\n",
    "          globals=jnp.ones((n_batch, 7)),\n",
    "          senders=sources,\n",
    "          receivers=targets)\n",
    "\n",
    "graph_out, _ = model.init_with_output(rng, graph)\n",
    "x_out = graph_out  # Output features"
   ]
  },
  {
   "cell_type": "code",
   "execution_count": null,
   "metadata": {},
   "outputs": [],
   "source": []
  }
 ],
 "metadata": {
  "kernelspec": {
   "display_name": "torch-mps",
   "language": "python",
   "name": "python3"
  },
  "language_info": {
   "codemirror_mode": {
    "name": "ipython",
    "version": 3
   },
   "file_extension": ".py",
   "mimetype": "text/x-python",
   "name": "python",
   "nbconvert_exporter": "python",
   "pygments_lexer": "ipython3",
   "version": "3.10.13"
  }
 },
 "nbformat": 4,
 "nbformat_minor": 2
}
