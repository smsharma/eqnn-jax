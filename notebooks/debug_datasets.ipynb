{
 "cells": [
  {
   "cell_type": "code",
   "execution_count": 1,
   "metadata": {},
   "outputs": [
    {
     "name": "stderr",
     "output_type": "stream",
     "text": [
      "2024-05-15 15:20:24.112989: E external/local_xla/xla/stream_executor/cuda/cuda_dnn.cc:9261] Unable to register cuDNN factory: Attempting to register factory for plugin cuDNN when one has already been registered\n",
      "2024-05-15 15:20:24.113024: E external/local_xla/xla/stream_executor/cuda/cuda_fft.cc:607] Unable to register cuFFT factory: Attempting to register factory for plugin cuFFT when one has already been registered\n",
      "2024-05-15 15:20:24.114266: E external/local_xla/xla/stream_executor/cuda/cuda_blas.cc:1515] Unable to register cuBLAS factory: Attempting to register factory for plugin cuBLAS when one has already been registered\n"
     ]
    }
   ],
   "source": [
    "import sys\n",
    "sys.path.append(\"../\")\n",
    "\n",
    "from benchmarks.galaxies.dataset_large import get_halo_dataset\n",
    "from tqdm import tqdm\n",
    "import numpy as np\n",
    "\n",
    "# Make sure tf does not hog all the GPU memory\n",
    "import tensorflow as tf\n",
    "\n",
    "# Ensure TF does not see GPU and grab all GPU memory\n",
    "tf.config.experimental.set_visible_devices([], \"GPU\")"
   ]
  },
  {
   "cell_type": "code",
   "execution_count": 2,
   "metadata": {},
   "outputs": [
    {
     "name": "stdout",
     "output_type": "stream",
     "text": [
      "Number of samples: 2000\n"
     ]
    }
   ],
   "source": [
    "features = ['x', 'y', 'z']  # ['x', 'y', 'z', 'Jx', 'Jy', 'Jz', 'vx', 'vy', 'vz', 'M200c']\n",
    "params = ['Omega_m', 'sigma_8']  # ['Omega_m', 'Omega_b', 'h', 'n_s', 'sigma_8']\n",
    "batch_size = 64\n",
    "\n",
    "dataset, num_total = get_halo_dataset(batch_size=batch_size,  # Batch size\n",
    "                           num_samples=2000,  # If not None, will only take a subset of the dataset\n",
    "                           split='train',  # 'train', 'val'\n",
    "                           standardize=False,  # If True, will standardize the features\n",
    "                           return_mean_std=False,  # If True, will return (dataset, num_total, mean, std, mean_params, std_params), else (dataset, num_total)\n",
    "                           seed=42,  # Random seed\n",
    "                           features=features,  # Features to include\n",
    "                           params=params  # Parameters to include\n",
    "                        )\n",
    "\n",
    "# Print number of samples\n",
    "print(f\"Number of samples: {num_total}\")"
   ]
  },
  {
   "cell_type": "code",
   "execution_count": 3,
   "metadata": {},
   "outputs": [
    {
     "name": "stderr",
     "output_type": "stream",
     "text": [
      "  0%|          | 0/31 [00:00<?, ?it/s]"
     ]
    },
    {
     "name": "stderr",
     "output_type": "stream",
     "text": [
      "100%|██████████| 31/31 [00:01<00:00, 24.35it/s]\n"
     ]
    }
   ],
   "source": [
    "iterator = iter(dataset)\n",
    "\n",
    "x_train, params_train = [], []\n",
    "for _ in tqdm(range(num_total // batch_size)):\n",
    "    x, params = next(iterator)\n",
    "    x_train.append(np.array(x))\n",
    "    params_train.append(np.array(params))\n",
    "\n",
    "x_train = np.concatenate(x_train, axis=0)\n",
    "params_train = np.concatenate(params_train, axis=0)"
   ]
  },
  {
   "cell_type": "code",
   "execution_count": 4,
   "metadata": {},
   "outputs": [],
   "source": [
    "x_train = np.load(\"../../BNN_SBI/data/set_diffuser_data/train_halos.npy\")[..., :3]\n",
    "\n",
    "import pandas as pd\n",
    "params_train = pd.read_csv(\"../../BNN_SBI/data/set_diffuser_data/train_cosmology.csv\",)\n",
    "params_train = params_train[[\"Omega_m\", \"sigma_8\"]].values"
   ]
  },
  {
   "cell_type": "code",
   "execution_count": 5,
   "metadata": {},
   "outputs": [],
   "source": [
    "# ! python -m pip install git+https://github.com/cosmodesi/pycorr#egg=pycorr[corrfunc]"
   ]
  },
  {
   "cell_type": "code",
   "execution_count": 6,
   "metadata": {},
   "outputs": [],
   "source": [
    "# Install as above, to compute 2-point correlation function summaries\n",
    "from pycorr import TwoPointCorrelationFunction"
   ]
  },
  {
   "cell_type": "code",
   "execution_count": 10,
   "metadata": {},
   "outputs": [
    {
     "name": "stderr",
     "output_type": "stream",
     "text": [
      "  0%|          | 0/1800 [00:00<?, ?it/s]/n/holystore01/LABS/iaifi_lab/Users/smsharma/envs/equivariant/lib/python3.10/site-packages/pycorr/corrfunc.py:148: UserWarning: These arguments are not read: {'n_threads': 2}\n",
      "  warnings.warn('These arguments are not read: {}'.format(attrs))\n",
      "100%|██████████| 1800/1800 [01:53<00:00, 15.92it/s]\n"
     ]
    }
   ],
   "source": [
    "r_bins = np.linspace(0.5, 150.0, 25)  # Distance in Mpc/h\n",
    "r_c = 0.5 * (r_bins[1:] + r_bins[:-1])\n",
    "mu_bins = np.linspace(-1, 1, 201)\n",
    "box_size = 1000.\n",
    "\n",
    "tpcf_train = []\n",
    "for halo in tqdm(x_train):\n",
    "\n",
    "    tpcf = TwoPointCorrelationFunction(\n",
    "                \"smu\",\n",
    "                edges=(np.array(r_bins), np.array(mu_bins)),\n",
    "                data_positions1=np.array(halo[:, :3]).T,\n",
    "                engine=\"corrfunc\",\n",
    "                n_threads=2,\n",
    "                boxsize=box_size,\n",
    "                los=\"z\",\n",
    "            )(ells=[0])[0]\n",
    "    \n",
    "    tpcf_train.append(tpcf)\n",
    "\n",
    "tpcf_train = np.array(tpcf_train)\n"
   ]
  },
  {
   "cell_type": "code",
   "execution_count": 7,
   "metadata": {},
   "outputs": [],
   "source": [
    "from models.mlp import MLP\n",
    "from models.transformer import Transformer\n",
    "import jax\n",
    "import jax.numpy as jnp"
   ]
  },
  {
   "cell_type": "code",
   "execution_count": 11,
   "metadata": {},
   "outputs": [
    {
     "data": {
      "text/plain": [
       "(2, 5000, 3)"
      ]
     },
     "execution_count": 11,
     "metadata": {},
     "output_type": "execute_result"
    }
   ],
   "source": [
    "model = Transformer(task=\"node\", n_outputs=3)\n",
    "n_batch = 2\n",
    "\n",
    "rng = jax.random.PRNGKey(0)\n",
    "out, params = model.init_with_output(rng, x_train[:n_batch])\n",
    "\n",
    "out.shape"
   ]
  },
  {
   "cell_type": "code",
   "execution_count": 30,
   "metadata": {},
   "outputs": [
    {
     "data": {
      "text/plain": [
       "Array(-0.81445813, dtype=float32)"
      ]
     },
     "execution_count": 30,
     "metadata": {},
     "output_type": "execute_result"
    }
   ],
   "source": [
    "model = MLP(feature_sizes=[128, 128, 128, 2])\n",
    "n_batch = 128\n",
    "\n",
    "rng = jax.random.PRNGKey(0)\n",
    "out, params = model.init_with_output(rng, tpcf_train[:n_batch])\n",
    "\n",
    "out.mean()"
   ]
  },
  {
   "cell_type": "code",
   "execution_count": 31,
   "metadata": {},
   "outputs": [],
   "source": [
    "import optax\n",
    "import flax\n",
    "from flax.training.train_state import TrainState\n",
    "from functools import partial\n",
    "from tqdm import trange\n",
    "\n",
    "replicate = flax.jax_utils.replicate\n",
    "unreplicate = flax.jax_utils.unreplicate\n",
    "\n",
    "# Define train state and replicate across devices\n",
    "tx = optax.adamw(learning_rate=6e-4, weight_decay=1e-5)\n",
    "state = TrainState.create(apply_fn=model.apply, params=params, tx=tx)\n",
    "pstate = replicate(state)"
   ]
  },
  {
   "cell_type": "code",
   "execution_count": 32,
   "metadata": {},
   "outputs": [],
   "source": [
    "@partial(jax.pmap, axis_name=\"batch\",)\n",
    "def train_step(state, x, theta,):\n",
    "        \n",
    "    def loss_fn(params):\n",
    "        out = state.apply_fn(params, x)\n",
    "        return jnp.mean((out - theta) ** 2)\n",
    "\n",
    "    # Get loss, grads, and update state\n",
    "    loss, grads = jax.value_and_grad(loss_fn)(state.params)\n",
    "    grads = jax.lax.pmean(grads, \"batch\")\n",
    "    new_state = state.apply_gradients(grads=grads)\n",
    "    metrics = {\"loss\": jax.lax.pmean(loss, \"batch\")}\n",
    "    \n",
    "    return new_state, metrics"
   ]
  },
  {
   "cell_type": "code",
   "execution_count": 33,
   "metadata": {},
   "outputs": [
    {
     "name": "stdout",
     "output_type": "stream",
     "text": [
      "Number of devices: 1\n"
     ]
    }
   ],
   "source": [
    "num_local_devices = jax.local_device_count()\n",
    "print(f\"Number of devices: {num_local_devices}\")"
   ]
  },
  {
   "cell_type": "code",
   "execution_count": 34,
   "metadata": {},
   "outputs": [
    {
     "name": "stderr",
     "output_type": "stream",
     "text": [
      "  0%|          | 0/5000 [00:00<?, ?it/s]"
     ]
    },
    {
     "name": "stderr",
     "output_type": "stream",
     "text": [
      "100%|██████████| 5000/5000 [00:13<00:00, 368.84it/s, loss=0.003126772] \n"
     ]
    }
   ],
   "source": [
    "n_steps = 5000\n",
    "n_batch = 64\n",
    "\n",
    "key = jax.random.PRNGKey(0)\n",
    "\n",
    "train_loss_list = []\n",
    "val_loss_list = []\n",
    "\n",
    "with trange(n_steps) as steps:\n",
    "    for step in steps:\n",
    "        key, subkey = jax.random.split(key)\n",
    "        idx = jax.random.choice(key, tpcf_train.shape[0], shape=(n_batch,))\n",
    "        \n",
    "        tpcf_batch, theta_batch = tpcf_train[idx], params_train[idx]\n",
    "\n",
    "        # Split batches across devices\n",
    "        tpcf_batch = jax.tree_map(lambda x: np.split(x, num_local_devices, axis=0), tpcf_batch)\n",
    "        theta_batch = jax.tree_map(lambda x: np.split(x, num_local_devices, axis=0), theta_batch)\n",
    "\n",
    "        tpcf_batch, theta_batch = map(jnp.array, [tpcf_batch, theta_batch])\n",
    "\n",
    "        pstate, metrics = train_step(pstate, tpcf_batch, theta_batch)\n",
    "\n",
    "        train_loss = unreplicate(metrics[\"loss\"])\n",
    "        steps.set_postfix(loss=train_loss)\n",
    "\n",
    "        # Append to list along with current step\n",
    "        train_loss_list.append((step, train_loss))"
   ]
  },
  {
   "cell_type": "code",
   "execution_count": 35,
   "metadata": {},
   "outputs": [],
   "source": [
    "# # Evaluate on training data\n",
    "# out = model.apply(unreplicate(pstate).params, tpcf_train[:50])\n",
    "\n",
    "# # Plot true vs predicted\n",
    "# import matplotlib.pyplot as plt\n",
    "\n",
    "# plt.scatter(params_train[:50, 0], out[:, 0])"
   ]
  },
  {
   "cell_type": "code",
   "execution_count": 36,
   "metadata": {},
   "outputs": [
    {
     "name": "stderr",
     "output_type": "stream",
     "text": [
      "100%|██████████| 3/3 [00:00<00:00, 73.19it/s]\n",
      " 28%|██▊       | 42/150 [00:03<00:06, 15.50it/s]"
     ]
    },
    {
     "name": "stderr",
     "output_type": "stream",
     "text": [
      "100%|██████████| 150/150 [00:09<00:00, 15.06it/s]\n"
     ]
    }
   ],
   "source": [
    "# Get tpcf on validation set\n",
    "\n",
    "features = ['x', 'y', 'z']  # ['x', 'y', 'z', 'Jx', 'Jy', 'Jz', 'vx', 'vy', 'vz', 'M200c']\n",
    "params = ['Omega_m', 'sigma_8']  # ['Omega_m', 'Omega_b', 'h', 'n_s', 'sigma_8']\n",
    "\n",
    "dataset, num_total = get_halo_dataset(batch_size=50,  # Batch size\n",
    "                            num_samples=250,  # If not None, will only take a subset of the dataset\n",
    "                            split='val',  # 'train', 'val'\n",
    "                            standardize=False,  # If True, will standardize the features\n",
    "                            return_mean_std=False,  # If True, will return (dataset, num_total, mean, std, mean_params, std_params), else (dataset, num_total)\n",
    "                            seed=42,  # Random seed\n",
    "                            features=features,  # Features to include\n",
    "                            params=params  # Parameters to include\n",
    "                            )\n",
    "\n",
    "iterator = iter(dataset)\n",
    "\n",
    "x_val, params_val = [], []\n",
    "for _ in tqdm(range(num_total // batch_size)):\n",
    "    x, params = next(iterator)\n",
    "    x_val.append(np.array(x))\n",
    "    params_val.append(np.array(params))\n",
    "\n",
    "x_val = np.concatenate(x_val, axis=0)\n",
    "params_val = np.concatenate(params_val, axis=0)\n",
    "\n",
    "# x_val = np.load(\"../../BNN_SBI/data/set_diffuser_data/test_halos.npy\") \n",
    "\n",
    "# import pandas as pd\n",
    "# params_val = pd.read_csv(\"../../BNN_SBI/data/set_diffuser_data/test_cosmology.csv\",)\n",
    "# params_val = params_val[[\"Omega_m\", \"sigma_8\"]].values\n",
    "\n",
    "tpcf_val = []\n",
    "\n",
    "for halo in tqdm(x_val):\n",
    "    \n",
    "        tpcf = TwoPointCorrelationFunction(\n",
    "                    \"smu\",\n",
    "                    edges=(np.array(r_bins), np.array(mu_bins)),\n",
    "                    data_positions1=np.array(halo[:, :3]).T,\n",
    "                    engine=\"corrfunc\",\n",
    "                    n_threads=2,\n",
    "                    boxsize=box_size,\n",
    "                    los=\"z\",\n",
    "                )(ells=[0])[0]\n",
    "        \n",
    "        tpcf_val.append(tpcf)\n",
    "\n",
    "tpcf_val = np.array(tpcf_val)"
   ]
  },
  {
   "cell_type": "code",
   "execution_count": 49,
   "metadata": {},
   "outputs": [
    {
     "data": {
      "text/plain": [
       "Text(0.5, 1.0, 'sigma_8')"
      ]
     },
     "execution_count": 49,
     "metadata": {},
     "output_type": "execute_result"
    },
    {
     "data": {
      "image/png": "[encoded data removed]",
      "text/plain": [
       "<Figure size 1500x500 with 2 Axes>"
      ]
     },
     "metadata": {},
     "output_type": "display_data"
    }
   ],
   "source": [
    "# Plot for the two parameters side by side\n",
    "\n",
    "import matplotlib.pyplot as plt\n",
    "\n",
    "fig, axs = plt.subplots(1, 2, figsize=(15, 5))\n",
    "\n",
    "out = model.apply(unreplicate(pstate).params, tpcf_val)\n",
    "\n",
    "\n",
    "axs[0].scatter(params_val[:, 0], out[:, 0])\n",
    "axs[0].plot(params_val[:, 0], params_val[:, 0], color='black')\n",
    "axs[0].set_title(\"Omega_m\")\n",
    "\n",
    "axs[1].scatter(params_val[:, 1], out[:, 1])\n",
    "axs[1].plot(params_val[:, 1], params_val[:, 1], color='black')\n",
    "axs[1].set_title(\"sigma_8\")"
   ]
  },
  {
   "cell_type": "code",
   "execution_count": null,
   "metadata": {},
   "outputs": [],
   "source": []
  }
 ],
 "metadata": {
  "kernelspec": {
   "display_name": "equivariant",
   "language": "python",
   "name": "python3"
  },
  "language_info": {
   "codemirror_mode": {
    "name": "ipython",
    "version": 3
   },
   "file_extension": ".py",
   "mimetype": "text/x-python",
   "name": "python",
   "nbconvert_exporter": "python",
   "pygments_lexer": "ipython3",
   "version": "3.10.13"
  }
 },
 "nbformat": 4,
 "nbformat_minor": 2
}
