{
 "cells": [
  {
   "cell_type": "code",
   "execution_count": 302,
   "metadata": {},
   "outputs": [
    {
     "name": "stdout",
     "output_type": "stream",
     "text": [
      "The autoreload extension is already loaded. To reload it, use:\n",
      "  %reload_ext autoreload\n"
     ]
    }
   ],
   "source": [
    "import sys\n",
    "sys.path.append(\"../\")\n",
    "\n",
    "import jax\n",
    "import jax.numpy as jnp\n",
    "import jraph\n",
    "from e3nn_jax import Irreps\n",
    "from e3nn_jax import IrrepsArray\n",
    "\n",
    "from models.nequip import NequIP\n",
    "\n",
    "from models.utils.irreps_utils import balanced_irreps\n",
    "\n",
    "%load_ext autoreload\n",
    "%autoreload 2"
   ]
  },
  {
   "cell_type": "code",
   "execution_count": 303,
   "metadata": {},
   "outputs": [],
   "source": [
    "import numpy as np\n",
    "\n",
    "n_batch = 2\n",
    "n_nodes = 1000\n",
    "k = 20\n",
    "\n",
    "x = np.load(\"../data/halos_small.npy\")[:n_batch, :n_nodes, :]\n",
    "\n",
    "# Normalize\n",
    "x_mean = x.mean((0, 1))\n",
    "x_std = x.std((0, 1))\n",
    "x[:, :, 3:] = (x[:, :, 3:] - x_mean[3:]) / x_std[3:]\n",
    "x[:, :, :3] = x[:, :, :3] / 1000.  # Divide by box size"
   ]
  },
  {
   "cell_type": "code",
   "execution_count": 304,
   "metadata": {},
   "outputs": [],
   "source": [
    "from models.utils.graph_utils import nearest_neighbors, rotate_representation\n",
    "\n",
    "# Get nearest neighbors graph\n",
    "sources, targets = jax.vmap(nearest_neighbors, in_axes=(0, None))(x, k)"
   ]
  },
  {
   "cell_type": "code",
   "execution_count": 305,
   "metadata": {},
   "outputs": [
    {
     "data": {
      "text/plain": [
       "GraphsTuple(nodes=1x1o+1x1o+1x0e\n",
       "[[-3.477482   -1.0110798   2.6792042  ... -1.6124381   4.2727103\n",
       "   0.        ]\n",
       " [ 0.93758565  0.08349349 -1.1802998  ...  0.13315277 -1.8823047\n",
       "   0.        ]\n",
       " [-2.2603192  -1.0508989   1.2991517  ... -1.67594     2.0718458\n",
       "   0.        ]\n",
       " ...\n",
       " [ 1.4059191   4.6133456  -1.1233319  ...  7.3572173  -1.7914541\n",
       "   0.        ]\n",
       " [-3.3451757   2.4346807   1.5755376  ...  3.8827515   2.5126173\n",
       "   0.        ]\n",
       " [ 4.9496922   0.2703495  -4.059554   ...  0.4311448  -6.4740477\n",
       "   0.        ]], edges=5x0e+5x1o+3x1e+3x2e\n",
       "[[ 2.0264182  -4.0492897   0.         ...  0.          0.\n",
       "   0.        ]\n",
       " [ 1.9892232  -3.9975798   0.14114611 ...  5.053578   -0.43218103\n",
       "   7.5584116 ]\n",
       " [ 2.0021927  -4.015755    0.14781636 ...  4.2048016   2.8392394\n",
       "   1.5501559 ]\n",
       " ...\n",
       " [ 1.4863317  -3.597436   -0.48142502 ...  4.064386    1.6350402\n",
       "   1.6727726 ]\n",
       " [ 1.458281   -3.545297   -0.49156418 ...  4.382875    0.3291561\n",
       "  -0.6398    ]\n",
       " [ 1.491209   -3.6063929  -0.48974892 ...  3.5069554   2.7206333\n",
       "   0.56105137]], receivers=Array([  0,  81, 620, ..., 433, 121, 230], dtype=int32), senders=Array([  0,   0,   0, ..., 999, 999, 999], dtype=int32), globals=None, n_node=1000, n_edge=20)"
      ]
     },
     "execution_count": 305,
     "metadata": {},
     "output_type": "execute_result"
    }
   ],
   "source": [
    "x_irreps = IrrepsArray(\"1o + 1o + 1x0e\", x)\n",
    "\n",
    "graph = jraph.GraphsTuple(\n",
    "          n_node=n_nodes,\n",
    "          n_edge=k,\n",
    "          edges=None,\n",
    "          globals=None,\n",
    "          nodes=x_irreps[0], \n",
    "          senders=sources[0],\n",
    "          receivers=targets[0])\n",
    "\n",
    "segnn = NequIP(num_message_passing_steps=3)\n",
    "\n",
    "key = jax.random.PRNGKey(0)\n",
    "out, params = segnn.init_with_output(key, graph)\n",
    "\n",
    "out"
   ]
  },
  {
   "cell_type": "code",
   "execution_count": 306,
   "metadata": {},
   "outputs": [
    {
     "data": {
      "text/plain": [
       "28542"
      ]
     },
     "execution_count": 306,
     "metadata": {},
     "output_type": "execute_result"
    }
   ],
   "source": [
    "sum(x.size for x in jax.tree_util.tree_leaves(params))"
   ]
  },
  {
   "cell_type": "code",
   "execution_count": 307,
   "metadata": {},
   "outputs": [
    {
     "data": {
      "text/plain": [
       "GraphsTuple(nodes=1x1o+1x1o+1x0e\n",
       "[[-4.3040915   1.2680945   0.40003055 ...  2.022317    0.6379561\n",
       "   0.        ]\n",
       " [ 1.2948667  -0.5703817  -0.526434   ... -0.90962666 -0.83954024\n",
       "   0.        ]\n",
       " [-2.7733119   0.4234165  -0.17516556 ...  0.6752512  -0.2793485\n",
       "   0.        ]\n",
       " ...\n",
       " [ 3.862483    3.0702646   0.41974172 ...  4.8963604   0.6693908\n",
       "   0.        ]\n",
       " [-1.935802    3.9814637   0.02875094 ...  6.3495116   0.04585109\n",
       "   0.        ]\n",
       " [ 5.6649175  -2.8385983  -0.95061153 ... -4.5269065  -1.516005\n",
       "   0.        ]], edges=5x0e+5x1o+3x1e+3x2e\n",
       "[[ 2.026419   -4.0492897   0.         ...  0.          0.\n",
       "   0.        ]\n",
       " [ 1.9892237  -3.9975789   0.14114594 ... -0.30965698  2.4842327\n",
       "   4.822027  ]\n",
       " [ 2.002193   -4.015756    0.14781645 ...  4.273547   -0.5245591\n",
       "   8.238031  ]\n",
       " ...\n",
       " [ 1.4863294  -3.5974314  -0.48142612 ...  3.0217714  -0.57612306\n",
       "   6.697022  ]\n",
       " [ 1.4582795  -3.5452893  -0.4915653  ...  2.0587928  -1.8301649\n",
       "   5.0206404 ]\n",
       " [ 1.4912047  -3.6063921  -0.4897497  ...  3.8224385  -0.56451315\n",
       "   6.9491634 ]], receivers=Array([  0,  81, 620, ..., 433, 121, 230], dtype=int32), senders=Array([  0,   0,   0, ..., 999, 999, 999], dtype=int32), globals=None, n_node=1000, n_edge=20)"
      ]
     },
     "execution_count": 307,
     "metadata": {},
     "output_type": "execute_result"
    }
   ],
   "source": [
    "axis = np.array([0, 1 / np.sqrt(2), 1 / np.sqrt(2)])\n",
    "x_irreps = IrrepsArray(\"1o + 1o + 1x0e\", rotate_representation(x[0], 45., axis))\n",
    "\n",
    "graph = jraph.GraphsTuple(\n",
    "          n_node=n_nodes,\n",
    "          n_edge=k,\n",
    "          edges=None,\n",
    "          globals=None,\n",
    "          nodes=x_irreps, \n",
    "          senders=sources[0],\n",
    "          receivers=targets[0])\n",
    "\n",
    "out_rot, params = segnn.init_with_output(key, graph)\n",
    "\n",
    "out_rot"
   ]
  },
  {
   "cell_type": "code",
   "execution_count": 308,
   "metadata": {},
   "outputs": [
    {
     "data": {
      "text/plain": [
       "Array([[0.9999996 , 1.0000025 , 0.99999374, ..., 1.0000027 , 0.9999929 ,\n",
       "               nan],\n",
       "       [0.9999976 , 1.000007  , 1.0000104 , ..., 1.0000072 , 1.0000103 ,\n",
       "               nan],\n",
       "       [0.9999998 , 0.9999966 , 1.0000023 , ..., 0.99999636, 1.0000024 ,\n",
       "               nan],\n",
       "       ...,\n",
       "       [1.0000024 , 0.9999987 , 0.9999925 , ..., 0.9999986 , 0.99999225,\n",
       "               nan],\n",
       "       [0.9999883 , 1.0000035 , 0.9994077 , ..., 1.0000035 , 0.99940497,\n",
       "               nan],\n",
       "       [1.0000008 , 1.0000005 , 1.0000042 , ..., 1.0000006 , 1.000004  ,\n",
       "               nan]], dtype=float32)"
      ]
     },
     "execution_count": 308,
     "metadata": {},
     "output_type": "execute_result"
    }
   ],
   "source": [
    "out_rot.nodes.array / rotate_representation(out.nodes.array, 45, axis)"
   ]
  },
  {
   "cell_type": "code",
   "execution_count": 280,
   "metadata": {},
   "outputs": [],
   "source": [
    "import flax.linen as nn\n",
    "import e3nn_jax as e3nn\n",
    "\n",
    "class GraphWrapper(nn.Module):\n",
    "    @nn.compact\n",
    "    def __call__(self, x):\n",
    "        model = jax.vmap(SEGNN(num_message_passing_steps=3))\n",
    "        return model(x)\n",
    "\n",
    "model = GraphWrapper()\n",
    "rng = jax.random.PRNGKey(42)"
   ]
  },
  {
   "cell_type": "code",
   "execution_count": 281,
   "metadata": {},
   "outputs": [],
   "source": [
    "x_irreps = IrrepsArray(\"1o + 1o + 1x0e\", x)\n",
    "\n",
    "graph = jraph.GraphsTuple(\n",
    "          n_node=jnp.array(n_batch * [[n_nodes]]), \n",
    "          n_edge=jnp.array(n_batch * [[k]]),\n",
    "          nodes=x_irreps, \n",
    "          edges=None,\n",
    "          globals=jnp.ones((n_batch, 7)),\n",
    "          senders=sources,\n",
    "          receivers=targets)\n",
    "\n",
    "graph_out, _ = model.init_with_output(rng, graph)\n",
    "x_out = graph_out  # Output features"
   ]
  },
  {
   "cell_type": "code",
   "execution_count": null,
   "metadata": {},
   "outputs": [],
   "source": []
  },
  {
   "cell_type": "code",
   "execution_count": null,
   "metadata": {},
   "outputs": [],
   "source": []
  }
 ],
 "metadata": {
  "kernelspec": {
   "display_name": "torch-mps",
   "language": "python",
   "name": "python3"
  },
  "language_info": {
   "codemirror_mode": {
    "name": "ipython",
    "version": 3
   },
   "file_extension": ".py",
   "mimetype": "text/x-python",
   "name": "python",
   "nbconvert_exporter": "python",
   "pygments_lexer": "ipython3",
   "version": "3.10.13"
  }
 },
 "nbformat": 4,
 "nbformat_minor": 2
}
