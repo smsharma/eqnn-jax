{
 "cells": [
  {
   "cell_type": "code",
   "execution_count": 53,
   "metadata": {},
   "outputs": [
    {
     "name": "stdout",
     "output_type": "stream",
     "text": [
      "The autoreload extension is already loaded. To reload it, use:\n",
      "  %reload_ext autoreload\n"
     ]
    }
   ],
   "source": [
    "import sys\n",
    "sys.path.append(\"../\")\n",
    "\n",
    "import jax\n",
    "import jax.numpy as jnp\n",
    "import jraph\n",
    "from e3nn_jax import Irreps\n",
    "from e3nn_jax import IrrepsArray\n",
    "\n",
    "from models.nequip import NequIP\n",
    "\n",
    "from models.utils.irreps_utils import balanced_irreps\n",
    "\n",
    "%load_ext autoreload\n",
    "%autoreload 2"
   ]
  },
  {
   "cell_type": "code",
   "execution_count": 54,
   "metadata": {},
   "outputs": [],
   "source": [
    "import numpy as np\n",
    "\n",
    "n_batch = 2\n",
    "n_nodes = 1000\n",
    "k = 20\n",
    "\n",
    "x = np.load(\"../data/halos_small.npy\")[:n_batch, :n_nodes, :]\n",
    "\n",
    "# Normalize\n",
    "x_mean = x.mean((0, 1))\n",
    "x_std = x.std((0, 1))\n",
    "x[:, :, 3:] = (x[:, :, 3:] - x_mean[3:]) / x_std[3:]\n",
    "x[:, :, :3] = x[:, :, :3] / 1000.  # Divide by box size"
   ]
  },
  {
   "cell_type": "code",
   "execution_count": 55,
   "metadata": {},
   "outputs": [],
   "source": [
    "from models.utils.graph_utils import nearest_neighbors, rotate_representation\n",
    "\n",
    "# Get nearest neighbors graph\n",
    "sources, targets = jax.vmap(nearest_neighbors, in_axes=(0, None))(x, k)"
   ]
  },
  {
   "cell_type": "code",
   "execution_count": 61,
   "metadata": {},
   "outputs": [
    {
     "data": {
      "text/plain": [
       "Array([13845.224], dtype=float32)"
      ]
     },
     "execution_count": 61,
     "metadata": {},
     "output_type": "execute_result"
    }
   ],
   "source": [
    "x_irreps = IrrepsArray(\"1o + 1o + 1x0e\", x)\n",
    "\n",
    "graph = jraph.GraphsTuple(\n",
    "          n_node=n_nodes,\n",
    "          n_edge=k,\n",
    "          edges=None,\n",
    "          globals=None,\n",
    "          nodes=x_irreps[0], \n",
    "          senders=sources[0],\n",
    "          receivers=targets[0])\n",
    "\n",
    "segnn = NequIP(num_message_passing_steps=11, task=\"graph\")\n",
    "\n",
    "key = jax.random.PRNGKey(0)\n",
    "out, params = segnn.init_with_output(key, graph)\n",
    "\n",
    "out"
   ]
  },
  {
   "cell_type": "code",
   "execution_count": 62,
   "metadata": {},
   "outputs": [
    {
     "data": {
      "text/plain": [
       "168712"
      ]
     },
     "execution_count": 62,
     "metadata": {},
     "output_type": "execute_result"
    }
   ],
   "source": [
    "sum(x.size for x in jax.tree_util.tree_leaves(params))\n"
   ]
  },
  {
   "cell_type": "code",
   "execution_count": 63,
   "metadata": {},
   "outputs": [
    {
     "data": {
      "text/plain": [
       "168712"
      ]
     },
     "execution_count": 63,
     "metadata": {},
     "output_type": "execute_result"
    }
   ],
   "source": [
    "sum(x.size for x in jax.tree_util.tree_leaves(params))"
   ]
  },
  {
   "cell_type": "code",
   "execution_count": 64,
   "metadata": {},
   "outputs": [
    {
     "data": {
      "text/plain": [
       "Array([13845.237], dtype=float32)"
      ]
     },
     "execution_count": 64,
     "metadata": {},
     "output_type": "execute_result"
    }
   ],
   "source": [
    "axis = np.array([0, 1 / np.sqrt(2), 1 / np.sqrt(2)])\n",
    "x_irreps = IrrepsArray(\"1o + 1o + 1x0e\", rotate_representation(x[0], 45., axis))\n",
    "\n",
    "graph = jraph.GraphsTuple(\n",
    "          n_node=n_nodes,\n",
    "          n_edge=k,\n",
    "          edges=None,\n",
    "          globals=None,\n",
    "          nodes=x_irreps, \n",
    "          senders=sources[0],\n",
    "          receivers=targets[0])\n",
    "\n",
    "out_rot, params = segnn.init_with_output(key, graph)\n",
    "\n",
    "out_rot"
   ]
  },
  {
   "cell_type": "code",
   "execution_count": 52,
   "metadata": {},
   "outputs": [],
   "source": [
    "# out_rot.nodes.array / rotate_representation(out.nodes.array, 45, axis)"
   ]
  },
  {
   "cell_type": "code",
   "execution_count": 45,
   "metadata": {},
   "outputs": [],
   "source": [
    "import flax.linen as nn\n",
    "import e3nn_jax as e3nn\n",
    "\n",
    "class GraphWrapper(nn.Module):\n",
    "    @nn.compact\n",
    "    def __call__(self, x):\n",
    "        model = jax.vmap(NequIP(num_message_passing_steps=3))\n",
    "        return model(x)\n",
    "\n",
    "model = GraphWrapper()\n",
    "rng = jax.random.PRNGKey(42)"
   ]
  },
  {
   "cell_type": "code",
   "execution_count": 46,
   "metadata": {},
   "outputs": [
    {
     "data": {
      "text/plain": [
       "GraphsTuple(nodes=1x1o+1x1o+1x0e\n",
       "[[[-2.5133986e+00  3.2979611e-01 -8.6644256e-01 ...  2.5471106e-01\n",
       "   -6.6917866e-01  1.7413012e+01]\n",
       "  [-8.3343214e-01 -8.5485518e-01  4.6340966e-01 ... -6.6022938e-01\n",
       "    3.5790467e-01  7.8666644e+00]\n",
       "  [-4.5500264e+00 -5.9013815e+00  1.1662164e+00 ... -4.5578074e+00\n",
       "    9.0070260e-01 -0.0000000e+00]\n",
       "  ...\n",
       "  [ 2.6453974e+00  1.3448736e-01 -4.6251394e-02 ...  1.0386847e-01\n",
       "   -3.5721287e-02  1.7531221e+01]\n",
       "  [ 8.6989157e-02  7.8718656e-01  1.1298593e+00 ...  6.0796690e-01\n",
       "    8.7262303e-01  9.1318512e+00]\n",
       "  [ 1.0827856e+00  1.0906880e+00 -1.0774341e+00 ...  8.4236991e-01\n",
       "   -8.3213353e-01  3.1309504e+01]]\n",
       "\n",
       " [[ 4.6635823e+00 -3.7457795e+00 -6.2306490e+00 ... -2.8929739e+00\n",
       "   -4.8121099e+00  1.9082710e+01]\n",
       "  [-1.4896696e+01 -8.0221760e-01 -9.5045252e+00 ... -6.1957580e-01\n",
       "   -7.3406196e+00 -0.0000000e+00]\n",
       "  [-1.8548755e-01  3.7974778e-01  9.6922672e-01 ...  2.9329017e-01\n",
       "    7.4856180e-01 -0.0000000e+00]\n",
       "  ...\n",
       "  [-4.8790962e-01 -7.0162886e-01 -1.3959970e+00 ... -5.4188824e-01\n",
       "   -1.0781689e+00  3.4376941e+00]\n",
       "  [-7.3009628e-01  3.1495690e-01 -9.6944064e-01 ...  2.4325033e-01\n",
       "   -7.4872702e-01 -0.0000000e+00]\n",
       "  [-8.2041967e-01 -6.6162896e+00 -4.6339564e+00 ... -5.1099515e+00\n",
       "   -3.5789382e+00  4.7069763e+01]]], edges=6x0e+9x1o+4x1e+7x2e+4x2o+4x3o+1x3e+1x4e\n",
       "[[[-1.08856445e+02  5.94766140e+00  0.00000000e+00 ...  0.00000000e+00\n",
       "    0.00000000e+00  0.00000000e+00]\n",
       "  [ 3.25969849e+01 -3.90744901e+00 -5.23435950e-01 ...  5.38732827e-01\n",
       "    1.69371021e+00 -5.91484189e-01]\n",
       "  [-2.17002735e+01 -1.28080380e+00  1.88979015e+01 ...  2.50966311e+00\n",
       "   -1.83881795e+00  9.24806118e+00]\n",
       "  ...\n",
       "  [ 4.62926178e+01 -8.74115109e-01  8.15379340e-03 ... -1.12046850e+00\n",
       "   -1.97285247e+00 -2.48717397e-01]\n",
       "  [ 8.74120178e+01 -3.05777383e+00 -2.96499729e-02 ... -3.25441211e-01\n",
       "   -7.33215630e-01 -2.30972290e+00]\n",
       "  [ 5.07232170e+01 -1.86152709e+00 -2.57255742e-03 ...  1.23146200e+00\n",
       "   -2.50268489e-01 -7.95387864e-01]]\n",
       "\n",
       " [[-1.79131866e+02  5.94766140e+00  0.00000000e+00 ...  0.00000000e+00\n",
       "    0.00000000e+00  0.00000000e+00]\n",
       "  [-9.95834808e+01  1.44356453e+00 -1.37169628e+01 ...  4.73510885e+00\n",
       "    2.44298935e+00 -7.94950485e-01]\n",
       "  [ 5.52021523e+01 -3.78025770e+00 -6.46854639e+00 ... -2.71239839e-02\n",
       "   -1.31334174e+00 -2.05516076e+00]\n",
       "  ...\n",
       "  [ 1.41430473e+01 -9.51707214e-02  1.29590500e-02 ...  1.98405612e+00\n",
       "   -1.80444777e+00  4.44751203e-01]\n",
       "  [ 8.26107216e+00 -3.67940474e+00  3.23777504e+01 ...  1.30126095e+00\n",
       "   -2.77545363e-01  2.57126689e-02]\n",
       "  [ 1.45957050e+01  3.17428470e+00  1.47555304e+01 ... -2.61589915e-01\n",
       "    9.16763246e-01 -3.16200829e+00]]], receivers=Array([[  0,  81, 620, ..., 433, 121, 230],\n",
       "       [  0, 832, 319, ..., 844, 309, 186]], dtype=int32), senders=Array([[  0,   0,   0, ..., 999, 999, 999],\n",
       "       [  0,   0,   0, ..., 999, 999, 999]], dtype=int32), globals=Array([[1., 1., 1., 1., 1., 1., 1.],\n",
       "       [1., 1., 1., 1., 1., 1., 1.]], dtype=float32), n_node=Array([[1000],\n",
       "       [1000]], dtype=int32), n_edge=Array([[20],\n",
       "       [20]], dtype=int32))"
      ]
     },
     "execution_count": 46,
     "metadata": {},
     "output_type": "execute_result"
    }
   ],
   "source": [
    "x_irreps = IrrepsArray(\"1o + 1o + 1x0e\", x)\n",
    "\n",
    "graph = jraph.GraphsTuple(\n",
    "          n_node=jnp.array(n_batch * [[n_nodes]]), \n",
    "          n_edge=jnp.array(n_batch * [[k]]),\n",
    "          nodes=x_irreps, \n",
    "          edges=None,\n",
    "          globals=jnp.ones((n_batch, 7)),\n",
    "          senders=sources,\n",
    "          receivers=targets)\n",
    "\n",
    "graph_out, _ = model.init_with_output(rng, graph)\n",
    "x_out = graph_out  # Output features\n",
    "\n",
    "x_out"
   ]
  },
  {
   "cell_type": "code",
   "execution_count": null,
   "metadata": {},
   "outputs": [],
   "source": []
  },
  {
   "cell_type": "code",
   "execution_count": null,
   "metadata": {},
   "outputs": [],
   "source": []
  }
 ],
 "metadata": {
  "kernelspec": {
   "display_name": "torch-mps",
   "language": "python",
   "name": "python3"
  },
  "language_info": {
   "codemirror_mode": {
    "name": "ipython",
    "version": 3
   },
   "file_extension": ".py",
   "mimetype": "text/x-python",
   "name": "python",
   "nbconvert_exporter": "python",
   "pygments_lexer": "ipython3",
   "version": "3.10.13"
  }
 },
 "nbformat": 4,
 "nbformat_minor": 2
}
