{
 "cells": [
  {
   "cell_type": "code",
   "execution_count": 86,
   "metadata": {},
   "outputs": [
    {
     "name": "stdout",
     "output_type": "stream",
     "text": [
      "The autoreload extension is already loaded. To reload it, use:\n",
      "  %reload_ext autoreload\n"
     ]
    }
   ],
   "source": [
    "import sys\n",
    "sys.path.append(\"../\")\n",
    "\n",
    "import jax\n",
    "import jax.numpy as jnp\n",
    "import jraph\n",
    "from e3nn_jax import Irreps\n",
    "from e3nn_jax import IrrepsArray\n",
    "\n",
    "from models.nequip import NequIP\n",
    "\n",
    "from models.utils.irreps_utils import balanced_irreps\n",
    "\n",
    "%load_ext autoreload\n",
    "%autoreload 2"
   ]
  },
  {
   "cell_type": "code",
   "execution_count": 87,
   "metadata": {},
   "outputs": [],
   "source": [
    "import numpy as np\n",
    "\n",
    "n_batch = 2\n",
    "n_nodes = 1000\n",
    "k = 20\n",
    "\n",
    "x = np.load(\"../data/halos_small.npy\")[:n_batch, :n_nodes, :]\n",
    "\n",
    "# Normalize\n",
    "x_mean = x.mean((0, 1))\n",
    "x_std = x.std((0, 1))\n",
    "x[:, :, 3:] = (x[:, :, 3:] - x_mean[3:]) / x_std[3:]\n",
    "x[:, :, :3] = x[:, :, :3] / 1000.  # Divide by box size"
   ]
  },
  {
   "cell_type": "code",
   "execution_count": 88,
   "metadata": {},
   "outputs": [],
   "source": [
    "from models.utils.graph_utils import nearest_neighbors, rotate_representation\n",
    "\n",
    "# Get nearest neighbors graph\n",
    "sources, targets = jax.vmap(nearest_neighbors, in_axes=(0, None))(x, k)"
   ]
  },
  {
   "cell_type": "code",
   "execution_count": 89,
   "metadata": {},
   "outputs": [
    {
     "data": {
      "text/plain": [
       "GraphsTuple(nodes=1x1o+1x1o+1x0e\n",
       "[[-6.16390839e+01 -3.87518692e+01  1.45572405e+01 ...  1.98271313e+01\n",
       "  -7.44811344e+00 -3.97852441e+03]\n",
       " [-3.48966255e+01 -8.00071144e+00  1.72874584e+01 ...  4.09350967e+00\n",
       "  -8.84501076e+00 -5.22493164e+03]\n",
       " [ 4.96933044e+02  7.60859528e+01 -1.29368866e+02 ... -3.89288559e+01\n",
       "   6.61907043e+01 -4.39523584e+03]\n",
       " ...\n",
       " [-3.80794792e+01 -4.61656427e+00  3.28418770e+01 ...  2.36203384e+00\n",
       "  -1.68033237e+01 -6.13700195e+03]\n",
       " [ 2.63453430e+02  3.03911648e+01 -4.44013275e+02 ... -1.55494328e+01\n",
       "   2.27176376e+02 -4.38056934e+03]\n",
       " [-5.24121208e+01 -1.02180119e+01  7.14080477e+00 ...  5.22797585e+00\n",
       "  -3.65354395e+00 -7.23831348e+03]], edges=6x0e+9x1o+4x1e+7x2e+4x2o+4x3o+1x3e+1x4e\n",
       "[[ 1.6039459e+03 -3.2757256e+00 -0.0000000e+00 ...  0.0000000e+00\n",
       "   0.0000000e+00  0.0000000e+00]\n",
       " [ 1.6039459e+03 -3.2757256e+00  7.9584933e-22 ...  2.5352295e+01\n",
       "   6.8216076e+00 -3.1906335e+00]\n",
       " [ 1.6039459e+03 -3.2757256e+00 -0.0000000e+00 ...  0.0000000e+00\n",
       "   0.0000000e+00  0.0000000e+00]\n",
       " ...\n",
       " [ 1.7253119e+03 -3.2757256e+00 -0.0000000e+00 ...  0.0000000e+00\n",
       "   0.0000000e+00  0.0000000e+00]\n",
       " [ 1.7253119e+03 -3.2757256e+00 -0.0000000e+00 ...  0.0000000e+00\n",
       "   0.0000000e+00  0.0000000e+00]\n",
       " [ 1.7253119e+03 -3.2757256e+00 -0.0000000e+00 ...  0.0000000e+00\n",
       "   0.0000000e+00  0.0000000e+00]], receivers=Array([  0,  81, 620, ..., 433, 121, 230], dtype=int32), senders=Array([  0,   0,   0, ..., 999, 999, 999], dtype=int32), globals=None, n_node=1000, n_edge=20)"
      ]
     },
     "execution_count": 89,
     "metadata": {},
     "output_type": "execute_result"
    }
   ],
   "source": [
    "x_irreps = IrrepsArray(\"1o + 1o + 1x0e\", x)\n",
    "\n",
    "graph = jraph.GraphsTuple(\n",
    "          n_node=n_nodes,\n",
    "          n_edge=k,\n",
    "          edges=None,\n",
    "          globals=None,\n",
    "          nodes=x_irreps[0], \n",
    "          senders=sources[0],\n",
    "          receivers=targets[0])\n",
    "\n",
    "segnn = NequIP(num_message_passing_steps=5)\n",
    "\n",
    "key = jax.random.PRNGKey(0)\n",
    "out, params = segnn.init_with_output(key, graph)\n",
    "\n",
    "out"
   ]
  },
  {
   "cell_type": "code",
   "execution_count": 90,
   "metadata": {},
   "outputs": [
    {
     "name": "stderr",
     "output_type": "stream",
     "text": [
      "/var/folders/nx/bx2847k56j3dddp761x637pc0000gn/T/ipykernel_2702/762413478.py:1: DeprecationWarning: jax.tree_leaves is deprecated: use jax.tree_util.tree_leaves.\n",
      "  sum(x.size for x in jax.tree_leaves(params))\n"
     ]
    },
    {
     "data": {
      "text/plain": [
       "54025"
      ]
     },
     "execution_count": 90,
     "metadata": {},
     "output_type": "execute_result"
    }
   ],
   "source": [
    "sum(x.size for x in jax.tree_leaves(params))\n"
   ]
  },
  {
   "cell_type": "code",
   "execution_count": 91,
   "metadata": {},
   "outputs": [
    {
     "data": {
      "text/plain": [
       "54025"
      ]
     },
     "execution_count": 91,
     "metadata": {},
     "output_type": "execute_result"
    }
   ],
   "source": [
    "sum(x.size for x in jax.tree_util.tree_leaves(params))"
   ]
  },
  {
   "cell_type": "code",
   "execution_count": 92,
   "metadata": {},
   "outputs": [
    {
     "data": {
      "text/plain": [
       "GraphsTuple(nodes=1x1o+1x1o+1x0e\n",
       "[[-7.1265549e+01 -2.9520565e-01 -2.3866104e+01 ...  1.5103996e-01\n",
       "   1.2210931e+01 -3.9784980e+03]\n",
       " [-3.5641479e+01  1.2272608e+01 -3.9331954e+00 ... -6.2791958e+00\n",
       "   2.0123928e+00 -5.2250049e+03]\n",
       " [ 4.5408710e+02 -2.0246201e+02  1.4918707e+02 ...  1.0358830e+02\n",
       "  -7.6330551e+01 -4.3952393e+03]\n",
       " ...\n",
       " [-4.5870655e+01  1.9482538e+01  8.3496656e+00 ... -9.9681082e+00\n",
       "  -4.2720494e+00 -6.1370068e+03]\n",
       " [ 4.2349399e+02 -1.7081511e+02 -2.4279933e+02 ...  8.7396385e+01\n",
       "   1.2422664e+02 -4.3805679e+03]\n",
       " [-4.5740585e+01  1.8530035e+01 -2.1607677e+01 ... -9.4807663e+00\n",
       "   1.1055422e+01 -7.2383208e+03]], edges=6x0e+9x1o+4x1e+7x2e+4x2o+4x3o+1x3e+1x4e\n",
       "[[ 1.6039447e+03 -3.2757256e+00 -0.0000000e+00 ...  0.0000000e+00\n",
       "   0.0000000e+00  0.0000000e+00]\n",
       " [ 1.6039440e+03 -3.2757311e+00  7.9601710e-22 ...  2.0544931e-01\n",
       "   2.3520678e+01  1.3702793e+01]\n",
       " [ 1.6039447e+03 -3.2757256e+00 -0.0000000e+00 ...  0.0000000e+00\n",
       "   0.0000000e+00  0.0000000e+00]\n",
       " ...\n",
       " [ 1.7252953e+03 -3.2757256e+00 -0.0000000e+00 ...  0.0000000e+00\n",
       "   0.0000000e+00  0.0000000e+00]\n",
       " [ 1.7252953e+03 -3.2757256e+00 -0.0000000e+00 ...  0.0000000e+00\n",
       "   0.0000000e+00  0.0000000e+00]\n",
       " [ 1.7252953e+03 -3.2757256e+00 -0.0000000e+00 ...  0.0000000e+00\n",
       "   0.0000000e+00  0.0000000e+00]], receivers=Array([  0,  81, 620, ..., 433, 121, 230], dtype=int32), senders=Array([  0,   0,   0, ..., 999, 999, 999], dtype=int32), globals=None, n_node=1000, n_edge=20)"
      ]
     },
     "execution_count": 92,
     "metadata": {},
     "output_type": "execute_result"
    }
   ],
   "source": [
    "axis = np.array([0, 1 / np.sqrt(2), 1 / np.sqrt(2)])\n",
    "x_irreps = IrrepsArray(\"1o + 1o + 1x0e\", rotate_representation(x[0], 45., axis))\n",
    "\n",
    "graph = jraph.GraphsTuple(\n",
    "          n_node=n_nodes,\n",
    "          n_edge=k,\n",
    "          edges=None,\n",
    "          globals=None,\n",
    "          nodes=x_irreps, \n",
    "          senders=sources[0],\n",
    "          receivers=targets[0])\n",
    "\n",
    "out_rot, params = segnn.init_with_output(key, graph)\n",
    "\n",
    "out_rot"
   ]
  },
  {
   "cell_type": "code",
   "execution_count": 93,
   "metadata": {},
   "outputs": [
    {
     "data": {
      "text/plain": [
       "Array([[1.0146011 , 2.3544729 , 0.99156016, ..., 2.3544097 , 0.99156034,\n",
       "        0.9999934 ],\n",
       "       [0.9550306 , 0.93320924, 1.0178486 , ..., 0.93320924, 1.017849  ,\n",
       "        1.0000141 ],\n",
       "       [0.99994487, 0.9999666 , 1.000008  , ..., 0.99996644, 1.0000081 ,\n",
       "        1.0000008 ],\n",
       "       ...,\n",
       "       [1.004713  , 0.9785873 , 1.0039915 , ..., 0.97858727, 1.0039914 ,\n",
       "        1.0000008 ],\n",
       "       [1.0000049 , 1.000027  , 0.9999495 , ..., 1.000027  , 0.9999496 ,\n",
       "        0.99999964],\n",
       "       [1.0000046 , 0.99999136, 1.0000128 , ..., 0.99999124, 1.0000128 ,\n",
       "        1.000001  ]], dtype=float32)"
      ]
     },
     "execution_count": 93,
     "metadata": {},
     "output_type": "execute_result"
    }
   ],
   "source": [
    "out_rot.nodes.array / rotate_representation(out.nodes.array, 45, axis)"
   ]
  },
  {
   "cell_type": "code",
   "execution_count": 94,
   "metadata": {},
   "outputs": [],
   "source": [
    "import flax.linen as nn\n",
    "import e3nn_jax as e3nn\n",
    "\n",
    "class GraphWrapper(nn.Module):\n",
    "    @nn.compact\n",
    "    def __call__(self, x):\n",
    "        model = jax.vmap(NequIP(num_message_passing_steps=3))\n",
    "        return model(x)\n",
    "\n",
    "model = GraphWrapper()\n",
    "rng = jax.random.PRNGKey(42)"
   ]
  },
  {
   "cell_type": "code",
   "execution_count": 95,
   "metadata": {},
   "outputs": [],
   "source": [
    "x_irreps = IrrepsArray(\"1o + 1o + 1x0e\", x)\n",
    "\n",
    "graph = jraph.GraphsTuple(\n",
    "          n_node=jnp.array(n_batch * [[n_nodes]]), \n",
    "          n_edge=jnp.array(n_batch * [[k]]),\n",
    "          nodes=x_irreps, \n",
    "          edges=None,\n",
    "          globals=jnp.ones((n_batch, 7)),\n",
    "          senders=sources,\n",
    "          receivers=targets)\n",
    "\n",
    "graph_out, _ = model.init_with_output(rng, graph)\n",
    "x_out = graph_out  # Output features\n",
    "\n",
    "x_out"
   ]
  },
  {
   "cell_type": "code",
   "execution_count": null,
   "metadata": {},
   "outputs": [],
   "source": []
  },
  {
   "cell_type": "code",
   "execution_count": null,
   "metadata": {},
   "outputs": [],
   "source": []
  }
 ],
 "metadata": {
  "kernelspec": {
   "display_name": "torch-mps",
   "language": "python",
   "name": "python3"
  },
  "language_info": {
   "codemirror_mode": {
    "name": "ipython",
    "version": 3
   },
   "file_extension": ".py",
   "mimetype": "text/x-python",
   "name": "python",
   "nbconvert_exporter": "python",
   "pygments_lexer": "ipython3",
   "version": "3.10.13"
  }
 },
 "nbformat": 4,
 "nbformat_minor": 2
}
