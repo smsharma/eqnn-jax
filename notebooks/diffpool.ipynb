{
 "cells": [
  {
   "cell_type": "code",
   "execution_count": 62,
   "metadata": {},
   "outputs": [],
   "source": [
    "from functools import partial\n",
    "\n",
    "import numpy as np\n",
    "import jax\n",
    "import jax.numpy as jnp\n",
    "import flax.linen as nn\n",
    "import jraph\n",
    "\n",
    "import sys\n",
    "sys.path.append('../')\n",
    "\n",
    "from models.gnn import GNN"
   ]
  },
  {
   "cell_type": "code",
   "execution_count": 63,
   "metadata": {},
   "outputs": [
    {
     "data": {
      "text/plain": [
       "(1800, 5000, 3)"
      ]
     },
     "execution_count": 63,
     "metadata": {},
     "output_type": "execute_result"
    }
   ],
   "source": [
    "n_nodes = 5000\n",
    "n_features = 3\n",
    "\n",
    "x_train = np.load(\"../../hierarchical-encdec/data/set_diffuser_data/train_halos.npy\")[:, :n_nodes, :n_features]\n",
    "x_train = x_train / 1000.\n",
    "\n",
    "x_train.shape"
   ]
  },
  {
   "cell_type": "code",
   "execution_count": 64,
   "metadata": {},
   "outputs": [],
   "source": [
    "@partial(jax.jit, static_argnums=(1,))\n",
    "def nearest_neighbors(\n",
    "    x: jnp.array,\n",
    "    k: int,\n",
    "    mask: jnp.array = None,\n",
    "):\n",
    "    \"\"\"Returns the nearest neighbors of each node in x.\n",
    "\n",
    "    Args:\n",
    "        x (jnp.array): positions of nodes\n",
    "        k (int): number of nearest neighbors to find\n",
    "        boxsize (float, optional): size of box if perdioc boundary conditions. Defaults to None.\n",
    "        unit_cell (jnp.array, optional): unit cell for applying periodic boundary conditions. Defaults to None.\n",
    "        mask (jnp.array, optional): node mask. Defaults to None.\n",
    "\n",
    "    Returns:\n",
    "        sources, targets: pairs of neighbors\n",
    "    \"\"\"\n",
    "    if mask is None:\n",
    "        mask = jnp.ones((x.shape[0],), dtype=np.int32)\n",
    "\n",
    "    n_nodes = x.shape[0]\n",
    "\n",
    "    # Compute the vector difference between positions\n",
    "    dr = x[:, None, :] - x[None, :, :]\n",
    "\n",
    "    # Calculate the distance matrix\n",
    "    distance_matrix = jnp.linalg.norm(dr, axis=-1)\n",
    "\n",
    "    distance_matrix = jnp.where(mask[:, None], distance_matrix, jnp.inf)\n",
    "    distance_matrix = jnp.where(mask[None, :], distance_matrix, jnp.inf)\n",
    "\n",
    "    indices = jnp.argsort(distance_matrix, axis=-1)[:, :k]\n",
    "\n",
    "    sources = indices[:, 0].repeat(k)\n",
    "    targets = indices.reshape(n_nodes * (k))\n",
    "\n",
    "    return sources, targets, dr[sources, targets]"
   ]
  },
  {
   "cell_type": "code",
   "execution_count": 65,
   "metadata": {},
   "outputs": [],
   "source": [
    "from jax.experimental.sparse import BCOO\n",
    "import dataclasses\n",
    "\n",
    "class DiffPool(nn.Module):\n",
    "    n_downsamples: int = 2  # Number of downsample layers\n",
    "    d_downsampling_factor: int = 4  # Downsampling factor at each layer\n",
    "    k: int = 10  # Number of nearest neighbors to consider after downsampling\n",
    "    gnn_kwargs: dict = dataclasses.field(default_factory=lambda: {\"d_hidden\":64, \"n_layers\":3})\n",
    "    symmetric: bool = True  # Symmetrize the adjacency matrix\n",
    "    task: str = \"node\"  # Node or graph task\n",
    "    combine_hierarchies_method: str = \"mean\"  # How to aggregate hierarchical embeddings; TODO: impl attention\n",
    "\n",
    "    @nn.compact\n",
    "    def __call__(self, x):\n",
    "        \n",
    "        # If graph prediction task, collect pooled embeddings at each hierarchy level\n",
    "        if self.task == \"graph\":\n",
    "            x_pool = jnp.zeros((self.n_downsamples, self.gnn_kwargs['d_hidden']))\n",
    "\n",
    "        for i in range(self.n_downsamples):\n",
    "            \n",
    "            # Original and downsampled number of nodes\n",
    "            n_nodes = x.nodes.shape[0]\n",
    "            n_nodes_downsampled = n_nodes // self.d_downsampling_factor\n",
    "\n",
    "             # Eq. (5), graph embedding layer\n",
    "            z = GNN(task='node', **self.gnn_kwargs)(x) \n",
    "\n",
    "            # Eq. (6), generate assignment matrix\n",
    "            # Remove d_hidden from gnn_kwargs and replace it with n_nodes_downsampled\n",
    "            gnn_kwargs = dict(self.gnn_kwargs.copy())\n",
    "            gnn_kwargs['d_hidden'] = n_nodes_downsampled\n",
    "\n",
    "            s = GNN(task='node', **gnn_kwargs,)(x).nodes  \n",
    "            s = jax.nn.softmax(s, axis=1)  # Row-wise softmax\n",
    "            \n",
    "            # Sparse adjacency matrix\n",
    "            edge_index = jnp.array([x.senders, x.receivers])\n",
    "            edge_weight = nn.Dense(1)(x.edges)[..., 0]  # Edges might have more than one feature; project down\n",
    "            a = BCOO((edge_weight, edge_index.T), shape=(n_nodes, n_nodes))\n",
    "            \n",
    "            # Eq. (3), coarsened node features\n",
    "            x = s.T @ z.nodes  \n",
    "            \n",
    "            # Eq. (4), coarsened adjacency matrix)\n",
    "            # Sparse matmul S^T @ A @ S\n",
    "            a = s.T @ a @ s  \n",
    "\n",
    "            # Make adj symmetric\n",
    "            if self.symmetric:\n",
    "                a = (a + a.T) / 2\n",
    "\n",
    "            # Take the coarsened adjacency matrix and make a KNN graph of it\n",
    "            indices = np.argsort(a, axis=-1)[:, :self.k]\n",
    "\n",
    "            sources = indices[:, 0].repeat(self.k)\n",
    "            targets = indices.reshape(n_nodes_downsampled * (self.k))\n",
    "\n",
    "            # Create new graph\n",
    "            x = jraph.GraphsTuple(\n",
    "                nodes=x,\n",
    "                edges=a[sources, targets][..., None],\n",
    "                senders=sources,\n",
    "                receivers=targets,\n",
    "                globals=None,\n",
    "                n_node=n_nodes_downsampled,\n",
    "                n_edge=self.k,\n",
    "            )\n",
    "\n",
    "            # If graph prediction task, get hierarchical embeddings\n",
    "            if self.task == \"graph\":\n",
    "                x_pool = x_pool.at[i].set(jnp.mean(x.nodes, axis=0))\n",
    "\n",
    "            \n",
    "        if self.task == \"graph\":\n",
    "            if self.combine_hierarchies_method == \"mean\":  # Mean over hierarchy levels\n",
    "                x_pool = jnp.mean(x_pool, axis=0)\n",
    "            else:\n",
    "                raise ValueError(f\"Unknown combine_hierarchies_method: {self.combine_hierarchies_method}\")\n",
    "\n",
    "            return (x, x_pool)\n",
    "        \n",
    "        return x"
   ]
  },
  {
   "cell_type": "code",
   "execution_count": 66,
   "metadata": {},
   "outputs": [],
   "source": [
    "# Original graph\n",
    "\n",
    "n_batch = 2\n",
    "k = 5\n",
    "\n",
    "sources, targets, distances = jax.vmap(nearest_neighbors, in_axes=(0, None))(x_train[:n_batch], k)\n",
    "\n",
    "graph = jraph.GraphsTuple(\n",
    "          n_node=np.array(n_batch * [[n_nodes]]), \n",
    "          n_edge=np.array(n_batch * [[k]]),\n",
    "          nodes=x_train[:n_batch, :, :], \n",
    "          edges=np.linalg.norm(distances, axis=-1)[..., None],\n",
    "          globals=None,\n",
    "          senders=sources,\n",
    "          receivers=targets)\n",
    "\n",
    "gnn_kwargs = {\"d_hidden\": 64, \"n_layers\": 2}\n",
    "\n",
    "model = DiffPool(n_downsamples=4, \n",
    "                 d_downsampling_factor=4, \n",
    "                 k=k,\n",
    "                 gnn_kwargs=gnn_kwargs,\n",
    "                 task='graph')\n",
    "                 \n",
    "rng = jax.random.PRNGKey(0)\n",
    "(graph, x_pooled), params = jax.vmap(partial(model.init_with_output, rng))(graph)"
   ]
  },
  {
   "cell_type": "code",
   "execution_count": 67,
   "metadata": {},
   "outputs": [
    {
     "name": "stdout",
     "output_type": "stream",
     "text": [
      "We started with 5000 nodes and downsampled by a factor of 4 4 times, so we should have 19 nodes now.\n"
     ]
    }
   ],
   "source": [
    "print(f\"We started with {n_nodes} nodes and downsampled by a factor of {model.d_downsampling_factor} {model.n_downsamples} times, so we should have {n_nodes // model.d_downsampling_factor**model.n_downsamples} nodes now.\")"
   ]
  },
  {
   "cell_type": "code",
   "execution_count": 68,
   "metadata": {},
   "outputs": [
    {
     "data": {
      "text/plain": [
       "(2, 19, 64)"
      ]
     },
     "execution_count": 68,
     "metadata": {},
     "output_type": "execute_result"
    }
   ],
   "source": [
    "graph.nodes.shape"
   ]
  },
  {
   "cell_type": "code",
   "execution_count": 69,
   "metadata": {},
   "outputs": [
    {
     "data": {
      "text/plain": [
       "Array([[ 2.3126063e+00,  6.0097855e-01, -8.3003330e-01, -1.3438299e+00,\n",
       "        -5.9717625e-01, -2.6232004e+00,  2.1615510e+00,  1.2977438e+00,\n",
       "         1.8909461e+00, -9.0659708e-01,  1.4976323e+00, -2.2710532e-01,\n",
       "         2.4870656e+00,  2.5145395e+00, -1.6600730e+00, -5.7521610e+00,\n",
       "         4.2467108e+00, -3.0446291e-02, -1.8443350e+00,  1.4404652e+00,\n",
       "         2.0891124e-01,  3.3474275e-01, -1.2885721e+00, -4.3888364e+00,\n",
       "         4.5117813e-01, -9.2256844e-01,  4.4997811e-01, -6.6166180e-01,\n",
       "         5.8963954e-02,  4.9036391e-02, -2.7343947e-01, -3.3534861e+00,\n",
       "        -3.7793014e+00, -1.2334642e+00, -2.1004906e+00, -2.0364056e+00,\n",
       "         2.0122769e+00,  2.4513415e-01,  1.0823867e+00,  1.0439234e+00,\n",
       "        -1.9070659e+00, -9.9705017e-01, -1.2214556e-01,  1.0405350e+00,\n",
       "         4.2422029e-01, -3.3038819e+00,  2.4662580e+00,  8.9633840e-01,\n",
       "         5.0737739e-02, -2.7267976e+00,  1.3584387e-01,  3.0525452e-01,\n",
       "        -2.0459366e-01,  2.0887737e+00,  2.6622095e+00,  6.3523650e-02,\n",
       "         3.5408435e+00, -6.2713218e-01, -1.9011064e+00,  3.4546518e+00,\n",
       "         2.6782081e+00,  2.6599723e-01, -5.7138240e-01,  1.7541466e+00],\n",
       "       [ 2.3445668e+00,  5.4283744e-01, -8.5127294e-01, -1.3468610e+00,\n",
       "        -5.9065843e-01, -2.5940161e+00,  2.1476893e+00,  1.3436103e+00,\n",
       "         1.8815565e+00, -8.9390051e-01,  1.4843903e+00, -2.4165469e-01,\n",
       "         2.5407362e+00,  2.5451651e+00, -1.6137868e+00, -5.7795000e+00,\n",
       "         4.2321663e+00, -7.7921331e-02, -1.8664951e+00,  1.4185295e+00,\n",
       "         2.0098138e-01,  3.5520661e-01, -1.3099450e+00, -4.3677282e+00,\n",
       "         3.9854103e-01, -1.0222145e+00,  4.4168758e-01, -6.3092405e-01,\n",
       "         6.8942308e-02,  4.6051532e-02, -1.9722396e-01, -3.3444138e+00,\n",
       "        -3.8133898e+00, -1.2604048e+00, -2.1030457e+00, -2.0129137e+00,\n",
       "         2.0823879e+00,  2.0112759e-01,  1.1235043e+00,  1.0266316e+00,\n",
       "        -1.9849000e+00, -9.6724033e-01, -1.3352802e-01,  1.0541759e+00,\n",
       "         3.7160671e-01, -3.2859058e+00,  2.5029438e+00,  8.6987698e-01,\n",
       "        -5.7339072e-03, -2.6494939e+00,  1.6700295e-01,  3.2651532e-01,\n",
       "        -1.6069967e-01,  2.0732555e+00,  2.6023116e+00,  1.1639506e-02,\n",
       "         3.5277433e+00, -6.1405945e-01, -1.9116950e+00,  3.5351205e+00,\n",
       "         2.7077622e+00,  2.8415531e-01, -5.6696296e-01,  1.7381277e+00]],      dtype=float32)"
      ]
     },
     "execution_count": 69,
     "metadata": {},
     "output_type": "execute_result"
    }
   ],
   "source": [
    "x_pooled"
   ]
  },
  {
   "cell_type": "code",
   "execution_count": null,
   "metadata": {},
   "outputs": [],
   "source": []
  }
 ],
 "metadata": {
  "kernelspec": {
   "display_name": "equivariant",
   "language": "python",
   "name": "python3"
  },
  "language_info": {
   "codemirror_mode": {
    "name": "ipython",
    "version": 3
   },
   "file_extension": ".py",
   "mimetype": "text/x-python",
   "name": "python",
   "nbconvert_exporter": "python",
   "pygments_lexer": "ipython3",
   "version": "3.10.13"
  }
 },
 "nbformat": 4,
 "nbformat_minor": 2
}
