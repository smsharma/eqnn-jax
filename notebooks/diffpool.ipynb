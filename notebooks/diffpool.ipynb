{
 "cells": [
  {
   "cell_type": "code",
   "execution_count": 1,
   "metadata": {},
   "outputs": [],
   "source": [
    "from functools import partial\n",
    "\n",
    "import numpy as np\n",
    "import jax\n",
    "import jax.numpy as jnp\n",
    "import flax.linen as nn\n",
    "import jraph\n",
    "\n",
    "import sys\n",
    "sys.path.append('../')\n",
    "\n",
    "from models.gnn import GNN"
   ]
  },
  {
   "cell_type": "code",
   "execution_count": 2,
   "metadata": {},
   "outputs": [
    {
     "data": {
      "text/plain": [
       "(1800, 5000, 3)"
      ]
     },
     "execution_count": 2,
     "metadata": {},
     "output_type": "execute_result"
    }
   ],
   "source": [
    "n_nodes = 5000\n",
    "n_features = 3\n",
    "\n",
    "x_train = np.load(\"../../hierarchical-encdec/data/set_diffuser_data/train_halos.npy\")[:, :n_nodes, :n_features]\n",
    "x_train = x_train / 1000.\n",
    "\n",
    "x_train.shape"
   ]
  },
  {
   "cell_type": "code",
   "execution_count": 3,
   "metadata": {},
   "outputs": [],
   "source": [
    "@partial(jax.jit, static_argnums=(1,))\n",
    "def nearest_neighbors(\n",
    "    x: jnp.array,\n",
    "    k: int,\n",
    "    mask: jnp.array = None,\n",
    "):\n",
    "    \"\"\"Returns the nearest neighbors of each node in x.\n",
    "\n",
    "    Args:\n",
    "        x (jnp.array): positions of nodes\n",
    "        k (int): number of nearest neighbors to find\n",
    "        boxsize (float, optional): size of box if perdioc boundary conditions. Defaults to None.\n",
    "        unit_cell (jnp.array, optional): unit cell for applying periodic boundary conditions. Defaults to None.\n",
    "        mask (jnp.array, optional): node mask. Defaults to None.\n",
    "\n",
    "    Returns:\n",
    "        sources, targets: pairs of neighbors\n",
    "    \"\"\"\n",
    "    if mask is None:\n",
    "        mask = jnp.ones((x.shape[0],), dtype=np.int32)\n",
    "\n",
    "    n_nodes = x.shape[0]\n",
    "\n",
    "    # Compute the vector difference between positions\n",
    "    dr = x[:, None, :] - x[None, :, :]\n",
    "\n",
    "    # Calculate the distance matrix\n",
    "    distance_matrix = jnp.linalg.norm(dr, axis=-1)\n",
    "\n",
    "    distance_matrix = jnp.where(mask[:, None], distance_matrix, jnp.inf)\n",
    "    distance_matrix = jnp.where(mask[None, :], distance_matrix, jnp.inf)\n",
    "\n",
    "    indices = jnp.argsort(distance_matrix, axis=-1)[:, :k]\n",
    "\n",
    "    sources = indices[:, 0].repeat(k)\n",
    "    targets = indices.reshape(n_nodes * (k))\n",
    "\n",
    "    return sources, targets, dr[sources, targets]"
   ]
  },
  {
   "cell_type": "code",
   "execution_count": 4,
   "metadata": {},
   "outputs": [],
   "source": [
    "from jax.experimental.sparse import BCOO\n",
    "import dataclasses\n",
    "\n",
    "class DiffPool(nn.Module):\n",
    "    n_downsamples: int = 2  # Number of downsample layers\n",
    "    d_downsampling_factor: int = 4  # Downsampling factor at each layer\n",
    "    k: int = 10  # Number of nearest neighbors to consider after downsampling\n",
    "    gnn_kwargs: dict = dataclasses.field(default_factory=lambda: {\"d_hidden\":64, \"n_layers\":3})\n",
    "    symmetric: bool = True  # Symmetrize the adjacency matrix\n",
    "    task: str = \"node\"  # Node or graph task\n",
    "    combine_hierarchies_method: str = \"mean\"  # How to aggregate hierarchical embeddings; TODO: impl attention\n",
    "\n",
    "    @nn.compact\n",
    "    def __call__(self, x):\n",
    "        \n",
    "        # If graph prediction task, collect pooled embeddings at each hierarchy level\n",
    "        if self.task == \"graph\":\n",
    "            x_pool = jnp.zeros((self.n_downsamples, self.gnn_kwargs['d_hidden']))\n",
    "\n",
    "        for i in range(self.n_downsamples):\n",
    "            \n",
    "            # Original and downsampled number of nodes\n",
    "            n_nodes = x.nodes.shape[0]\n",
    "            n_nodes_downsampled = n_nodes // self.d_downsampling_factor\n",
    "\n",
    "             # Eq. (5), graph embedding layer\n",
    "            z = GNN(task='node', **self.gnn_kwargs)(x) \n",
    "\n",
    "            # Eq. (6), generate assignment matrix\n",
    "            # Remove d_hidden from gnn_kwargs and replace it with n_nodes_downsampled\n",
    "            gnn_kwargs = dict(self.gnn_kwargs.copy())\n",
    "            gnn_kwargs['d_hidden'] = n_nodes_downsampled\n",
    "\n",
    "            s = GNN(task='node', **gnn_kwargs,)(x).nodes  \n",
    "            s = jax.nn.softmax(s, axis=1)  # Row-wise softmax\n",
    "            \n",
    "            # Sparse adjacency matrix\n",
    "            edge_index = jnp.array([x.senders, x.receivers])\n",
    "            edge_weight = nn.Dense(1)(x.edges)[..., 0]  # Edges might have more than one feature; project down\n",
    "            a = BCOO((edge_weight, edge_index.T), shape=(n_nodes, n_nodes))\n",
    "            \n",
    "            # Eq. (3), coarsened node features\n",
    "            x = s.T @ z.nodes  \n",
    "            \n",
    "            # Eq. (4), coarsened adjacency matrix)\n",
    "            # Sparse matmul S^T @ A @ S\n",
    "            a = s.T @ a @ s  \n",
    "\n",
    "            # Make adj symmetric\n",
    "            if self.symmetric:\n",
    "                a = (a + a.T) / 2\n",
    "\n",
    "            # Take the coarsened adjacency matrix and make a KNN graph of it\n",
    "            indices = np.argsort(a, axis=-1)[:, :self.k]\n",
    "\n",
    "            sources = indices[:, 0].repeat(self.k)\n",
    "            targets = indices.reshape(n_nodes_downsampled * (self.k))\n",
    "\n",
    "            # Create new graph\n",
    "            x = jraph.GraphsTuple(\n",
    "                nodes=x,\n",
    "                edges=a[sources, targets][..., None],\n",
    "                senders=sources,\n",
    "                receivers=targets,\n",
    "                globals=None,\n",
    "                n_node=n_nodes_downsampled,\n",
    "                n_edge=self.k,\n",
    "            )\n",
    "\n",
    "            # If graph prediction task, get hierarchical embeddings\n",
    "            if self.task == \"graph\":\n",
    "                x_pool = x_pool.at[i].set(jnp.mean(x.nodes, axis=0))\n",
    "\n",
    "            \n",
    "        if self.task == \"graph\":\n",
    "            if self.combine_hierarchies_method == \"mean\":  # Mean over hierarchy levels\n",
    "                x_pool = jnp.mean(x_pool, axis=0)\n",
    "            else:\n",
    "                raise ValueError(f\"Unknown combine_hierarchies_method: {self.combine_hierarchies_method}\")\n",
    "\n",
    "            return (x, x_pool)\n",
    "        \n",
    "        return x"
   ]
  },
  {
   "cell_type": "code",
   "execution_count": 5,
   "metadata": {},
   "outputs": [
    {
     "name": "stderr",
     "output_type": "stream",
     "text": [
      "/n/holystore01/LABS/iaifi_lab/Users/smsharma/envs/equivariant/lib/python3.10/site-packages/jax/_src/numpy/lax_numpy.py:3961: UserWarning: 'kind' argument to argsort is ignored; only 'stable' sorts are supported.\n",
      "  warnings.warn(\"'kind' argument to argsort is ignored; only 'stable' sorts \"\n"
     ]
    }
   ],
   "source": [
    "# Original graph\n",
    "\n",
    "n_batch = 2\n",
    "k = 5\n",
    "\n",
    "sources, targets, distances = jax.vmap(nearest_neighbors, in_axes=(0, None))(x_train[:n_batch], k)\n",
    "\n",
    "graph = jraph.GraphsTuple(\n",
    "          n_node=np.array(n_batch * [[n_nodes]]), \n",
    "          n_edge=np.array(n_batch * [[k]]),\n",
    "          nodes=x_train[:n_batch, :, :], \n",
    "          edges=np.linalg.norm(distances, axis=-1)[..., None],\n",
    "          globals=None,\n",
    "          senders=sources,\n",
    "          receivers=targets)\n",
    "\n",
    "gnn_kwargs = {\"d_hidden\": 64, \"n_layers\": 2}\n",
    "\n",
    "model = DiffPool(n_downsamples=4, \n",
    "                 d_downsampling_factor=4, \n",
    "                 k=k,\n",
    "                 gnn_kwargs=gnn_kwargs,\n",
    "                 task='graph')\n",
    "                 \n",
    "rng = jax.random.PRNGKey(0)\n",
    "(graph, x_pooled), params = jax.vmap(partial(model.init_with_output, rng))(graph)"
   ]
  },
  {
   "cell_type": "code",
   "execution_count": 6,
   "metadata": {},
   "outputs": [
    {
     "name": "stdout",
     "output_type": "stream",
     "text": [
      "We started with 5000 nodes and downsampled by a factor of 4 4 times, so we should have 19 nodes now.\n"
     ]
    }
   ],
   "source": [
    "print(f\"We started with {n_nodes} nodes and downsampled by a factor of {model.d_downsampling_factor} {model.n_downsamples} times, so we should have {n_nodes // model.d_downsampling_factor**model.n_downsamples} nodes now.\")"
   ]
  },
  {
   "cell_type": "code",
   "execution_count": 7,
   "metadata": {},
   "outputs": [
    {
     "data": {
      "text/plain": [
       "(2, 19, 64)"
      ]
     },
     "execution_count": 7,
     "metadata": {},
     "output_type": "execute_result"
    }
   ],
   "source": [
    "graph.nodes.shape"
   ]
  },
  {
   "cell_type": "code",
   "execution_count": 8,
   "metadata": {},
   "outputs": [
    {
     "data": {
      "text/plain": [
       "Array([[ 2.3131170e+00,  5.9959066e-01, -8.2782376e-01, -1.3430538e+00,\n",
       "        -5.9773880e-01, -2.6204677e+00,  2.1586642e+00,  1.2976978e+00,\n",
       "         1.8912312e+00, -9.0804523e-01,  1.4964399e+00, -2.2673976e-01,\n",
       "         2.4867387e+00,  2.5094144e+00, -1.6578006e+00, -5.7519598e+00,\n",
       "         4.2466869e+00, -3.0880690e-02, -1.8448907e+00,  1.4376051e+00,\n",
       "         2.1066837e-01,  3.3694351e-01, -1.2878375e+00, -4.3846827e+00,\n",
       "         4.5278823e-01, -9.2205226e-01,  4.5015043e-01, -6.6028333e-01,\n",
       "         6.0408354e-02,  5.2189142e-02, -2.7403590e-01, -3.3584299e+00,\n",
       "        -3.7789006e+00, -1.2336316e+00, -2.1005521e+00, -2.0387125e+00,\n",
       "         2.0132084e+00,  2.4599993e-01,  1.0808258e+00,  1.0420587e+00,\n",
       "        -1.9011109e+00, -1.0029547e+00, -1.1978803e-01,  1.0380412e+00,\n",
       "         4.2466733e-01, -3.2987196e+00,  2.4638064e+00,  8.9791083e-01,\n",
       "         4.9437940e-02, -2.7256694e+00,  1.3670267e-01,  3.0473718e-01,\n",
       "        -2.0539993e-01,  2.0859385e+00,  2.6627638e+00,  6.6355288e-02,\n",
       "         3.5397348e+00, -6.2933409e-01, -1.9034104e+00,  3.4546707e+00,\n",
       "         2.6771846e+00,  2.6793218e-01, -5.7168889e-01,  1.7541158e+00],\n",
       "       [ 2.3445599e+00,  5.4289442e-01, -8.5128117e-01, -1.3468331e+00,\n",
       "        -5.9073013e-01, -2.5940673e+00,  2.1475344e+00,  1.3435311e+00,\n",
       "         1.8815389e+00, -8.9393848e-01,  1.4843763e+00, -2.4167192e-01,\n",
       "         2.5408516e+00,  2.5451496e+00, -1.6138271e+00, -5.7793908e+00,\n",
       "         4.2321939e+00, -7.7876568e-02, -1.8665394e+00,  1.4185727e+00,\n",
       "         2.0089793e-01,  3.5518700e-01, -1.3099017e+00, -4.3678617e+00,\n",
       "         3.9842910e-01, -1.0221522e+00,  4.4153267e-01, -6.3092798e-01,\n",
       "         6.8990588e-02,  4.5924719e-02, -1.9712803e-01, -3.3443880e+00,\n",
       "        -3.8134041e+00, -1.2605141e+00, -2.1030147e+00, -2.0127997e+00,\n",
       "         2.0823419e+00,  2.0105714e-01,  1.1234782e+00,  1.0266404e+00,\n",
       "        -1.9848449e+00, -9.6719515e-01, -1.3352342e-01,  1.0541980e+00,\n",
       "         3.7162322e-01, -3.2859106e+00,  2.5030277e+00,  8.6981738e-01,\n",
       "        -5.7334304e-03, -2.6495411e+00,  1.6711533e-01,  3.2655007e-01,\n",
       "        -1.6058463e-01,  2.0732319e+00,  2.6024077e+00,  1.1641115e-02,\n",
       "         3.5276604e+00, -6.1409974e-01, -1.9116588e+00,  3.5350482e+00,\n",
       "         2.7078891e+00,  2.8424823e-01, -5.6704473e-01,  1.7381527e+00]],      dtype=float32)"
      ]
     },
     "execution_count": 8,
     "metadata": {},
     "output_type": "execute_result"
    }
   ],
   "source": [
    "x_pooled"
   ]
  },
  {
   "cell_type": "code",
   "execution_count": null,
   "metadata": {},
   "outputs": [],
   "source": []
  }
 ],
 "metadata": {
  "kernelspec": {
   "display_name": "equivariant",
   "language": "python",
   "name": "python3"
  },
  "language_info": {
   "codemirror_mode": {
    "name": "ipython",
    "version": 3
   },
   "file_extension": ".py",
   "mimetype": "text/x-python",
   "name": "python",
   "nbconvert_exporter": "python",
   "pygments_lexer": "ipython3",
   "version": "3.10.13"
  }
 },
 "nbformat": 4,
 "nbformat_minor": 2
}
